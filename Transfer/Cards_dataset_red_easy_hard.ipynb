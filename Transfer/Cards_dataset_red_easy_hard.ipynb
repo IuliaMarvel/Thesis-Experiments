{
 "cells": [
  {
   "cell_type": "markdown",
   "metadata": {
    "id": "c1JeiDtJO_ec"
   },
   "source": [
    "1)взять претрейн resnet18 и поменять последний слой\n",
    "\n",
    "2)тренить на обычном TIN\n",
    "\n",
    "3)по резам из 2) найти легкие и сложные классы\n",
    "\n",
    "4)уменьшить трейн\n",
    "\n",
    "5)ещё раз тренить\n",
    "\n",
    "6)сравнить резы 2) и 5)"
   ]
  },
  {
   "cell_type": "markdown",
   "metadata": {
    "id": "-dYEZkdePfD2"
   },
   "source": [
    "# Download data"
   ]
  },
  {
   "cell_type": "code",
   "execution_count": 306,
   "metadata": {
    "execution": {
     "iopub.execute_input": "2023-06-21T13:16:40.152408Z",
     "iopub.status.busy": "2023-06-21T13:16:40.151316Z",
     "iopub.status.idle": "2023-06-21T13:16:40.156315Z",
     "shell.execute_reply": "2023-06-21T13:16:40.155393Z",
     "shell.execute_reply.started": "2023-06-21T13:16:40.152351Z"
    }
   },
   "outputs": [],
   "source": [
    "# !pip install kaggle"
   ]
  },
  {
   "cell_type": "code",
   "execution_count": 307,
   "metadata": {
    "colab": {
     "base_uri": "https://localhost:8080/"
    },
    "execution": {
     "iopub.execute_input": "2023-06-21T13:16:40.158532Z",
     "iopub.status.busy": "2023-06-21T13:16:40.158187Z",
     "iopub.status.idle": "2023-06-21T13:16:40.167192Z",
     "shell.execute_reply": "2023-06-21T13:16:40.166181Z",
     "shell.execute_reply.started": "2023-06-21T13:16:40.158506Z"
    },
    "id": "gumCgzw_ukVO",
    "outputId": "8dcc19ba-9f9e-44c0-c7f6-fbfee1c7f076"
   },
   "outputs": [],
   "source": [
    "from pathlib import Path\n",
    "import json\n",
    "import os\n",
    "import torch\n",
    "from torchvision import datasets, transforms\n",
    "import random\n",
    "import numpy as np\n",
    "import torch\n",
    "from tqdm import tqdm\n",
    "\n",
    "# # your api key\n",
    "# api_key = {\"username\":\"spacehitchhiker\",\"key\":\"c698b877d42f3f853d0a599e6263d8a8\"}\n",
    "\n",
    "# # uses pathlib Path\n",
    "# kaggle_path = Path('/root/.kaggle')\n",
    "# os.makedirs(kaggle_path, exist_ok=True)\n",
    "\n",
    "# # opens file and dumps python dict to json object\n",
    "# with open (kaggle_path/'kaggle.json', 'w') as handl:\n",
    "#     json.dump(api_key,handl)\n",
    "\n",
    "# os.chmod(kaggle_path/'kaggle.json', 600)\n",
    "\n",
    "# !kaggle datasets download -d gpiosenka/cards-image-datasetclassification\n",
    "# # !unzip -qq imagenet1000.zip"
   ]
  },
  {
   "cell_type": "code",
   "execution_count": 308,
   "metadata": {
    "execution": {
     "iopub.execute_input": "2023-06-21T13:16:40.168974Z",
     "iopub.status.busy": "2023-06-21T13:16:40.168692Z",
     "iopub.status.idle": "2023-06-21T13:16:40.174546Z",
     "shell.execute_reply": "2023-06-21T13:16:40.173447Z",
     "shell.execute_reply.started": "2023-06-21T13:16:40.168949Z"
    }
   },
   "outputs": [],
   "source": [
    "def set_seed(seed):\n",
    "    random.seed(seed)\n",
    "    np.random.seed(seed)\n",
    "\n",
    "    torch.manual_seed(seed)\n",
    "    torch.cuda.manual_seed_all(seed)\n",
    "\n",
    "set_seed(42)"
   ]
  },
  {
   "cell_type": "code",
   "execution_count": 309,
   "metadata": {
    "execution": {
     "iopub.execute_input": "2023-06-21T13:16:40.176484Z",
     "iopub.status.busy": "2023-06-21T13:16:40.176152Z",
     "iopub.status.idle": "2023-06-21T13:16:40.180028Z",
     "shell.execute_reply": "2023-06-21T13:16:40.179170Z",
     "shell.execute_reply.started": "2023-06-21T13:16:40.176458Z"
    }
   },
   "outputs": [],
   "source": [
    "# !unzip -qq cards-image-datasetclassification.zip"
   ]
  },
  {
   "cell_type": "code",
   "execution_count": 310,
   "metadata": {
    "execution": {
     "iopub.execute_input": "2023-06-21T13:16:40.182876Z",
     "iopub.status.busy": "2023-06-21T13:16:40.182540Z",
     "iopub.status.idle": "2023-06-21T13:16:40.213187Z",
     "shell.execute_reply": "2023-06-21T13:16:40.212401Z",
     "shell.execute_reply.started": "2023-06-21T13:16:40.182780Z"
    },
    "id": "E7SXy_dNvh5j"
   },
   "outputs": [],
   "source": [
    "data_mean = (0.5071, 0.4865, 0.4409)\n",
    "data_std = (0.2673, 0.2564, 0.2762)\n",
    "transformation = transforms.Compose([\n",
    "    # transforms.RandomHorizontalFlip(0.5),\n",
    "    # transforms.RandomVerticalFlip(0.3),\n",
    "    transforms.Resize((64,64)),\n",
    "    transforms.ToTensor(),\n",
    "    transforms.Normalize(mean=[0.5, 0.5, 0.5], std=[0.25, .25, 0.25])\n",
    "])\n",
    "\n",
    "full_dataset = datasets.ImageFolder(\n",
    "    root='/notebooks/train',\n",
    "    transform=transformation\n",
    ")"
   ]
  },
  {
   "cell_type": "code",
   "execution_count": 311,
   "metadata": {
    "execution": {
     "iopub.execute_input": "2023-06-21T13:16:40.214702Z",
     "iopub.status.busy": "2023-06-21T13:16:40.214452Z",
     "iopub.status.idle": "2023-06-21T13:16:40.221993Z",
     "shell.execute_reply": "2023-06-21T13:16:40.221125Z",
     "shell.execute_reply.started": "2023-06-21T13:16:40.214680Z"
    },
    "id": "qS1UTh7GyeBR"
   },
   "outputs": [
    {
     "data": {
      "text/plain": [
       "6099"
      ]
     },
     "execution_count": 311,
     "metadata": {},
     "output_type": "execute_result"
    }
   ],
   "source": [
    "train_len = int(len(full_dataset)*0.8)\n",
    "test_len = len(full_dataset) - train_len\n",
    "train_dataset, test_dataset = torch.utils.data.random_split(full_dataset,[train_len,test_len])\n",
    "len(train_dataset)"
   ]
  },
  {
   "cell_type": "code",
   "execution_count": 312,
   "metadata": {
    "execution": {
     "iopub.execute_input": "2023-06-21T13:16:40.223198Z",
     "iopub.status.busy": "2023-06-21T13:16:40.222975Z",
     "iopub.status.idle": "2023-06-21T13:16:40.228814Z",
     "shell.execute_reply": "2023-06-21T13:16:40.228055Z",
     "shell.execute_reply.started": "2023-06-21T13:16:40.223178Z"
    },
    "id": "06zB-73PGquB"
   },
   "outputs": [],
   "source": [
    "train_loader = torch.utils.data.DataLoader(\n",
    "    train_dataset,\n",
    "    batch_size=32,\n",
    "    num_workers=0,\n",
    "    shuffle=True\n",
    ")\n",
    "test_loader = torch.utils.data.DataLoader(\n",
    "    test_dataset,\n",
    "    batch_size=32,\n",
    "    num_workers=0,\n",
    "    shuffle=True\n",
    ")"
   ]
  },
  {
   "cell_type": "code",
   "execution_count": 313,
   "metadata": {
    "execution": {
     "iopub.execute_input": "2023-06-21T13:16:40.230381Z",
     "iopub.status.busy": "2023-06-21T13:16:40.230112Z",
     "iopub.status.idle": "2023-06-21T13:16:40.236608Z",
     "shell.execute_reply": "2023-06-21T13:16:40.235809Z",
     "shell.execute_reply.started": "2023-06-21T13:16:40.230358Z"
    },
    "id": "46K1d3oHIj27"
   },
   "outputs": [
    {
     "data": {
      "text/plain": [
       "'cuda'"
      ]
     },
     "execution_count": 313,
     "metadata": {},
     "output_type": "execute_result"
    }
   ],
   "source": [
    "device = 'cuda' if torch.cuda.is_available() else 'cpu'\n",
    "n_epochs = 10\n",
    "device"
   ]
  },
  {
   "cell_type": "code",
   "execution_count": 314,
   "metadata": {
    "execution": {
     "iopub.execute_input": "2023-06-21T13:16:40.237889Z",
     "iopub.status.busy": "2023-06-21T13:16:40.237656Z",
     "iopub.status.idle": "2023-06-21T13:16:40.478943Z",
     "shell.execute_reply": "2023-06-21T13:16:40.478244Z",
     "shell.execute_reply.started": "2023-06-21T13:16:40.237869Z"
    }
   },
   "outputs": [],
   "source": [
    "import torchvision\n",
    "import torch.nn as nn\n",
    "\n",
    "num_classes = 53\n",
    "model = torchvision.models.resnet18(weights='IMAGENET1K_V1')\n",
    "model.fc = nn.Linear(512,num_classes)\n",
    "model = model.to(device)\n",
    "optimizer = torch.optim.Adam(model.parameters(),lr=5e-4)\n",
    "scheduler = torch.optim.lr_scheduler.ExponentialLR(optimizer, gamma=0.9)\n",
    "\n",
    "\n",
    "loss_function = nn.CrossEntropyLoss()\n",
    "# def count_parameters(model):\n",
    "#     return sum(p.numel() for p in model.parameters() if p.requires_grad)\n",
    "\n",
    "# for p in model.parameters():\n",
    "#     p.requires_grad = False\n",
    "    \n",
    "# for p in model.fc.parameters():\n",
    "#     p.requires_grad = True\n",
    "\n",
    "# count_parameters(model)"
   ]
  },
  {
   "cell_type": "code",
   "execution_count": 315,
   "metadata": {
    "execution": {
     "iopub.execute_input": "2023-06-21T13:16:40.483627Z",
     "iopub.status.busy": "2023-06-21T13:16:40.482751Z",
     "iopub.status.idle": "2023-06-21T13:16:40.491881Z",
     "shell.execute_reply": "2023-06-21T13:16:40.490853Z",
     "shell.execute_reply.started": "2023-06-21T13:16:40.483609Z"
    },
    "id": "0O0xnhru_vK5"
   },
   "outputs": [],
   "source": [
    "def train_test_cycle(model,train_loader,test_loader,optimizer,scheduler,loss_function,device,n_epochs=10,print_losses=False):\n",
    "  losses_history = { 'train': [], 'test': [] }\n",
    "  val_acc_history = []\n",
    "  train_len = len(train_loader)\n",
    "  val_len = len(test_loader)\n",
    "  for i in range(n_epochs):\n",
    "    model.train()\n",
    "    train_loss = 0\n",
    "    for x,y in tqdm(train_loader):\n",
    "      optimizer.zero_grad()\n",
    "      x, y = x.to(device), y.to(device)\n",
    "      preds = model(x)\n",
    "      loss = loss_function(preds,y)\n",
    "      train_loss += loss\n",
    "      loss.backward()\n",
    "      optimizer.step()\n",
    "    scheduler.step()\n",
    "\n",
    "    model.eval()\n",
    "    val_loss = 0\n",
    "    val_acc = 0\n",
    "    with torch.no_grad():\n",
    "      for x,y in  tqdm(test_loader):\n",
    "         x, y = x.to(device), y.to(device)\n",
    "         logits = model(x)\n",
    "         preds = logits.max(dim=1)[1]\n",
    "         val_acc += torch.mean((preds == y).float())\n",
    "         loss = loss_function(logits,y)\n",
    "         val_loss += loss\n",
    "\n",
    "    train_loss = train_loss / train_len\n",
    "    val_loss = val_loss / val_len\n",
    "    val_acc = val_acc / val_len\n",
    "    losses_history['train'].append(train_loss)\n",
    "    losses_history['test'].append(val_loss)\n",
    "    val_acc_history.append(val_acc) # 32 - batch size\n",
    "\n",
    "    if print_losses:\n",
    "      print(f'epoch {i}: train loss:{train_loss} val loss:{val_loss} val acc:{val_acc}')\n",
    "\n",
    "  return model,losses_history,val_acc_history"
   ]
  },
  {
   "cell_type": "code",
   "execution_count": 316,
   "metadata": {
    "execution": {
     "iopub.execute_input": "2023-06-21T13:16:40.493738Z",
     "iopub.status.busy": "2023-06-21T13:16:40.493214Z",
     "iopub.status.idle": "2023-06-21T13:17:38.738943Z",
     "shell.execute_reply": "2023-06-21T13:17:38.738180Z",
     "shell.execute_reply.started": "2023-06-21T13:16:40.493722Z"
    },
    "id": "uSQSizhaOx28"
   },
   "outputs": [
    {
     "name": "stderr",
     "output_type": "stream",
     "text": [
      "100%|██████████| 191/191 [00:16<00:00, 11.66it/s]\n",
      "100%|██████████| 48/48 [00:03<00:00, 13.86it/s]\n"
     ]
    },
    {
     "name": "stdout",
     "output_type": "stream",
     "text": [
      "epoch 0: train loss:2.1047985553741455 val loss:1.3541216850280762 val acc:0.620938777923584\n"
     ]
    },
    {
     "name": "stderr",
     "output_type": "stream",
     "text": [
      "100%|██████████| 191/191 [00:15<00:00, 12.23it/s]\n",
      "100%|██████████| 48/48 [00:03<00:00, 14.38it/s]\n"
     ]
    },
    {
     "name": "stdout",
     "output_type": "stream",
     "text": [
      "epoch 1: train loss:1.088544249534607 val loss:1.1199318170547485 val acc:0.6867560148239136\n"
     ]
    },
    {
     "name": "stderr",
     "output_type": "stream",
     "text": [
      "100%|██████████| 191/191 [00:16<00:00, 11.82it/s]\n",
      "100%|██████████| 48/48 [00:03<00:00, 14.98it/s]"
     ]
    },
    {
     "name": "stdout",
     "output_type": "stream",
     "text": [
      "epoch 2: train loss:0.6812321543693542 val loss:1.1519403457641602 val acc:0.695529580116272\n"
     ]
    },
    {
     "name": "stderr",
     "output_type": "stream",
     "text": [
      "\n"
     ]
    }
   ],
   "source": [
    "model_for_classes,_,_ =train_test_cycle(model,train_loader,test_loader,optimizer,scheduler,loss_function,device,n_epochs=3,print_losses=True)"
   ]
  },
  {
   "cell_type": "markdown",
   "metadata": {
    "id": "KWq2nRyyWcwz"
   },
   "source": [
    "#Find easy classes"
   ]
  },
  {
   "cell_type": "code",
   "execution_count": 317,
   "metadata": {
    "execution": {
     "iopub.execute_input": "2023-06-21T13:17:38.747834Z",
     "iopub.status.busy": "2023-06-21T13:17:38.747508Z",
     "iopub.status.idle": "2023-06-21T13:17:41.567680Z",
     "shell.execute_reply": "2023-06-21T13:17:41.566980Z",
     "shell.execute_reply.started": "2023-06-21T13:17:38.747808Z"
    },
    "id": "HiigcQIkUHkU"
   },
   "outputs": [
    {
     "name": "stderr",
     "output_type": "stream",
     "text": [
      "100%|██████████| 1525/1525 [00:02<00:00, 542.96it/s]\n"
     ]
    }
   ],
   "source": [
    "class_count = dict(zip(range(num_classes),[0]*(num_classes)))\n",
    "for _,y in tqdm(test_dataset):\n",
    "  class_count[y] += 1\n",
    "\n",
    "# class_count"
   ]
  },
  {
   "cell_type": "code",
   "execution_count": 318,
   "metadata": {
    "execution": {
     "iopub.execute_input": "2023-06-21T13:17:41.569257Z",
     "iopub.status.busy": "2023-06-21T13:17:41.568635Z",
     "iopub.status.idle": "2023-06-21T13:17:41.572824Z",
     "shell.execute_reply": "2023-06-21T13:17:41.572170Z",
     "shell.execute_reply.started": "2023-06-21T13:17:41.569236Z"
    },
    "id": "nUmhK_4VUeEK"
   },
   "outputs": [],
   "source": [
    "class_acc = dict(zip(range((num_classes)),[0]*(num_classes)))"
   ]
  },
  {
   "cell_type": "code",
   "execution_count": 319,
   "metadata": {
    "execution": {
     "iopub.execute_input": "2023-06-21T13:17:41.573778Z",
     "iopub.status.busy": "2023-06-21T13:17:41.573576Z",
     "iopub.status.idle": "2023-06-21T13:17:44.876103Z",
     "shell.execute_reply": "2023-06-21T13:17:44.874922Z",
     "shell.execute_reply.started": "2023-06-21T13:17:41.573768Z"
    },
    "id": "pbOWyEhjUGvK"
   },
   "outputs": [
    {
     "name": "stderr",
     "output_type": "stream",
     "text": [
      "100%|██████████| 48/48 [00:03<00:00, 14.57it/s]\n"
     ]
    }
   ],
   "source": [
    "for x,y in tqdm(test_loader):\n",
    "    x,y = x.to(device), y.to(device)\n",
    "    logits = model_for_classes(x)\n",
    "    preds = logits.max(1)[1]\n",
    "    for (predicted,target) in zip(preds,y):\n",
    "      if predicted == target:\n",
    "        class_acc[target.item()] += 1\n",
    "\n",
    "for key in class_acc.keys():\n",
    "  class_acc[key] /= class_count[key]"
   ]
  },
  {
   "cell_type": "code",
   "execution_count": 320,
   "metadata": {
    "execution": {
     "iopub.execute_input": "2023-06-21T13:17:44.878061Z",
     "iopub.status.busy": "2023-06-21T13:17:44.877757Z",
     "iopub.status.idle": "2023-06-21T13:17:44.882941Z",
     "shell.execute_reply": "2023-06-21T13:17:44.881779Z",
     "shell.execute_reply.started": "2023-06-21T13:17:44.878037Z"
    },
    "id": "1a_J1PG9VlkD"
   },
   "outputs": [
    {
     "name": "stdout",
     "output_type": "stream",
     "text": [
      "[(32, 0.3870967741935484), (19, 0.3888888888888889), (22, 0.4), (26, 0.4666666666666667), (24, 0.5), (23, 0.52), (30, 0.5454545454545454), (13, 0.5769230769230769), (2, 0.5813953488372093), (18, 0.5909090909090909), (27, 0.5909090909090909), (38, 0.59375), (12, 0.6153846153846154), (42, 0.6176470588235294), (40, 0.6190476190476191), (48, 0.6333333333333333), (15, 0.6451612903225806), (39, 0.6451612903225806), (5, 0.6666666666666666), (46, 0.6666666666666666), (10, 0.6842105263157895), (17, 0.6875), (44, 0.6944444444444444), (28, 0.696969696969697), (4, 0.7), (34, 0.7058823529411765), (25, 0.7083333333333334), (14, 0.7142857142857143), (3, 0.7317073170731707), (16, 0.7317073170731707), (8, 0.7352941176470589), (52, 0.7419354838709677), (1, 0.75), (41, 0.75), (31, 0.7575757575757576), (7, 0.76), (29, 0.76), (45, 0.7619047619047619), (35, 0.7777777777777778), (0, 0.8064516129032258), (11, 0.8214285714285714), (6, 0.8333333333333334), (36, 0.8378378378378378), (37, 0.8378378378378378), (43, 0.8387096774193549), (9, 0.8461538461538461), (33, 0.85), (51, 0.8529411764705882), (21, 0.875), (50, 0.8888888888888888), (47, 0.8947368421052632), (20, 0.92), (49, 0.9545454545454546)]\n"
     ]
    }
   ],
   "source": [
    "sorted_by_acc = sorted(class_acc.items(),key=lambda x:x[1])\n",
    "print(sorted_by_acc)"
   ]
  },
  {
   "cell_type": "code",
   "execution_count": 321,
   "metadata": {
    "execution": {
     "iopub.execute_input": "2023-06-21T13:17:44.884902Z",
     "iopub.status.busy": "2023-06-21T13:17:44.884252Z",
     "iopub.status.idle": "2023-06-21T13:17:44.888837Z",
     "shell.execute_reply": "2023-06-21T13:17:44.888178Z",
     "shell.execute_reply.started": "2023-06-21T13:17:44.884873Z"
    }
   },
   "outputs": [],
   "source": [
    "easy_classes = [item[0] for item in sorted_by_acc[-5:]]\n",
    "hard_classes = [item[0] for item in sorted_by_acc[:5]]\n",
    "# easy_classes"
   ]
  },
  {
   "cell_type": "markdown",
   "metadata": {
    "id": "goWoWSK5Wgyp"
   },
   "source": [
    "# Construct smaller dataset"
   ]
  },
  {
   "cell_type": "code",
   "execution_count": 322,
   "metadata": {
    "execution": {
     "iopub.execute_input": "2023-06-21T13:17:44.890133Z",
     "iopub.status.busy": "2023-06-21T13:17:44.889894Z",
     "iopub.status.idle": "2023-06-21T13:21:35.390059Z",
     "shell.execute_reply": "2023-06-21T13:21:35.389281Z",
     "shell.execute_reply.started": "2023-06-21T13:17:44.890111Z"
    }
   },
   "outputs": [
    {
     "name": "stderr",
     "output_type": "stream",
     "text": [
      "100%|██████████| 6099/6099 [00:12<00:00, 499.12it/s]\n"
     ]
    },
    {
     "name": "stdout",
     "output_type": "stream",
     "text": [
      "reduce  default 6099\n"
     ]
    },
    {
     "name": "stderr",
     "output_type": "stream",
     "text": [
      "100%|██████████| 191/191 [00:03<00:00, 48.62it/s]\n",
      "100%|██████████| 48/48 [00:03<00:00, 15.00it/s]\n"
     ]
    },
    {
     "name": "stdout",
     "output_type": "stream",
     "text": [
      "epoch 0: train loss:2.0513782501220703 val loss:1.240842580795288 val acc:0.6564670205116272\n"
     ]
    },
    {
     "name": "stderr",
     "output_type": "stream",
     "text": [
      "100%|██████████| 191/191 [00:03<00:00, 50.23it/s]\n",
      "100%|██████████| 48/48 [00:03<00:00, 14.89it/s]\n"
     ]
    },
    {
     "name": "stdout",
     "output_type": "stream",
     "text": [
      "epoch 1: train loss:1.038991093635559 val loss:1.206756830215454 val acc:0.681857705116272\n"
     ]
    },
    {
     "name": "stderr",
     "output_type": "stream",
     "text": [
      "100%|██████████| 191/191 [00:03<00:00, 51.04it/s]\n",
      "100%|██████████| 48/48 [00:03<00:00, 15.47it/s]\n"
     ]
    },
    {
     "name": "stdout",
     "output_type": "stream",
     "text": [
      "epoch 2: train loss:0.7124910354614258 val loss:1.0475990772247314 val acc:0.7241753935813904\n"
     ]
    },
    {
     "name": "stderr",
     "output_type": "stream",
     "text": [
      "100%|██████████| 191/191 [00:03<00:00, 52.16it/s]\n",
      "100%|██████████| 48/48 [00:02<00:00, 16.12it/s]\n"
     ]
    },
    {
     "name": "stdout",
     "output_type": "stream",
     "text": [
      "epoch 3: train loss:0.44026127457618713 val loss:0.9818791747093201 val acc:0.75127112865448\n"
     ]
    },
    {
     "name": "stderr",
     "output_type": "stream",
     "text": [
      "100%|██████████| 191/191 [00:03<00:00, 52.51it/s]\n",
      "100%|██████████| 48/48 [00:03<00:00, 15.95it/s]\n"
     ]
    },
    {
     "name": "stdout",
     "output_type": "stream",
     "text": [
      "epoch 4: train loss:0.2537318766117096 val loss:0.9834520816802979 val acc:0.7557973861694336\n"
     ]
    },
    {
     "name": "stderr",
     "output_type": "stream",
     "text": [
      "100%|██████████| 191/191 [00:03<00:00, 53.91it/s]\n",
      "100%|██████████| 48/48 [00:03<00:00, 15.15it/s]\n"
     ]
    },
    {
     "name": "stdout",
     "output_type": "stream",
     "text": [
      "epoch 5: train loss:0.16745910048484802 val loss:0.9488178491592407 val acc:0.779854953289032\n"
     ]
    },
    {
     "name": "stderr",
     "output_type": "stream",
     "text": [
      "100%|██████████| 191/191 [00:03<00:00, 51.37it/s]\n",
      "100%|██████████| 48/48 [00:02<00:00, 16.08it/s]\n"
     ]
    },
    {
     "name": "stdout",
     "output_type": "stream",
     "text": [
      "epoch 6: train loss:0.08898010849952698 val loss:1.0452395677566528 val acc:0.7713913917541504\n"
     ]
    },
    {
     "name": "stderr",
     "output_type": "stream",
     "text": [
      "100%|██████████| 191/191 [00:03<00:00, 50.57it/s]\n",
      "100%|██████████| 48/48 [00:03<00:00, 15.16it/s]\n"
     ]
    },
    {
     "name": "stdout",
     "output_type": "stream",
     "text": [
      "epoch 7: train loss:0.06201242655515671 val loss:0.9334715604782104 val acc:0.7896515727043152\n"
     ]
    },
    {
     "name": "stderr",
     "output_type": "stream",
     "text": [
      "100%|██████████| 191/191 [00:03<00:00, 51.21it/s]\n",
      "100%|██████████| 48/48 [00:03<00:00, 15.66it/s]\n"
     ]
    },
    {
     "name": "stdout",
     "output_type": "stream",
     "text": [
      "epoch 8: train loss:0.04057743400335312 val loss:0.9896532297134399 val acc:0.7844432592391968\n"
     ]
    },
    {
     "name": "stderr",
     "output_type": "stream",
     "text": [
      "100%|██████████| 191/191 [00:03<00:00, 50.65it/s]\n",
      "100%|██████████| 48/48 [00:03<00:00, 14.89it/s]\n"
     ]
    },
    {
     "name": "stdout",
     "output_type": "stream",
     "text": [
      "epoch 9: train loss:0.029239347204566002 val loss:0.9712278246879578 val acc:0.7893105745315552\n"
     ]
    },
    {
     "name": "stderr",
     "output_type": "stream",
     "text": [
      "100%|██████████| 6099/6099 [00:10<00:00, 587.71it/s]\n"
     ]
    },
    {
     "name": "stdout",
     "output_type": "stream",
     "text": [
      "reduce  easy 5676\n"
     ]
    },
    {
     "name": "stderr",
     "output_type": "stream",
     "text": [
      "100%|██████████| 178/178 [00:03<00:00, 50.47it/s]\n",
      "100%|██████████| 48/48 [00:03<00:00, 15.29it/s]\n"
     ]
    },
    {
     "name": "stdout",
     "output_type": "stream",
     "text": [
      "epoch 0: train loss:2.0771563053131104 val loss:1.5915077924728394 val acc:0.5704675316810608\n"
     ]
    },
    {
     "name": "stderr",
     "output_type": "stream",
     "text": [
      "100%|██████████| 178/178 [00:03<00:00, 51.69it/s]\n",
      "100%|██████████| 48/48 [00:03<00:00, 15.21it/s]\n"
     ]
    },
    {
     "name": "stdout",
     "output_type": "stream",
     "text": [
      "epoch 1: train loss:1.0445077419281006 val loss:1.1695494651794434 val acc:0.6753162741661072\n"
     ]
    },
    {
     "name": "stderr",
     "output_type": "stream",
     "text": [
      "100%|██████████| 178/178 [00:03<00:00, 50.23it/s]\n",
      "100%|██████████| 48/48 [00:03<00:00, 15.57it/s]\n"
     ]
    },
    {
     "name": "stdout",
     "output_type": "stream",
     "text": [
      "epoch 2: train loss:0.6541944146156311 val loss:1.0915286540985107 val acc:0.705977201461792\n"
     ]
    },
    {
     "name": "stderr",
     "output_type": "stream",
     "text": [
      "100%|██████████| 178/178 [00:03<00:00, 49.46it/s]\n",
      "100%|██████████| 48/48 [00:03<00:00, 15.08it/s]\n"
     ]
    },
    {
     "name": "stdout",
     "output_type": "stream",
     "text": [
      "epoch 3: train loss:0.39979541301727295 val loss:1.1854455471038818 val acc:0.715060830116272\n"
     ]
    },
    {
     "name": "stderr",
     "output_type": "stream",
     "text": [
      "100%|██████████| 178/178 [00:03<00:00, 52.13it/s]\n",
      "100%|██████████| 48/48 [00:03<00:00, 15.22it/s]\n"
     ]
    },
    {
     "name": "stdout",
     "output_type": "stream",
     "text": [
      "epoch 4: train loss:0.23929694294929504 val loss:1.1891841888427734 val acc:0.7245163917541504\n"
     ]
    },
    {
     "name": "stderr",
     "output_type": "stream",
     "text": [
      "100%|██████████| 178/178 [00:03<00:00, 49.65it/s]\n",
      "100%|██████████| 48/48 [00:03<00:00, 14.28it/s]\n"
     ]
    },
    {
     "name": "stdout",
     "output_type": "stream",
     "text": [
      "epoch 5: train loss:0.19104033708572388 val loss:1.113058090209961 val acc:0.7479538917541504\n"
     ]
    },
    {
     "name": "stderr",
     "output_type": "stream",
     "text": [
      "100%|██████████| 178/178 [00:03<00:00, 49.12it/s]\n",
      "100%|██████████| 48/48 [00:03<00:00, 14.40it/s]\n"
     ]
    },
    {
     "name": "stdout",
     "output_type": "stream",
     "text": [
      "epoch 6: train loss:0.09127359837293625 val loss:1.0730793476104736 val acc:0.7730345129966736\n"
     ]
    },
    {
     "name": "stderr",
     "output_type": "stream",
     "text": [
      "100%|██████████| 178/178 [00:03<00:00, 49.51it/s]\n",
      "100%|██████████| 48/48 [00:03<00:00, 13.94it/s]\n"
     ]
    },
    {
     "name": "stdout",
     "output_type": "stream",
     "text": [
      "epoch 7: train loss:0.07152386754751205 val loss:1.0772254467010498 val acc:0.7714223861694336\n"
     ]
    },
    {
     "name": "stderr",
     "output_type": "stream",
     "text": [
      "100%|██████████| 178/178 [00:03<00:00, 49.94it/s]\n",
      "100%|██████████| 48/48 [00:03<00:00, 14.37it/s]\n"
     ]
    },
    {
     "name": "stdout",
     "output_type": "stream",
     "text": [
      "epoch 8: train loss:0.04090648144483566 val loss:1.0793523788452148 val acc:0.7772817611694336\n"
     ]
    },
    {
     "name": "stderr",
     "output_type": "stream",
     "text": [
      "100%|██████████| 178/178 [00:03<00:00, 50.90it/s]\n",
      "100%|██████████| 48/48 [00:03<00:00, 15.13it/s]\n"
     ]
    },
    {
     "name": "stdout",
     "output_type": "stream",
     "text": [
      "epoch 9: train loss:0.04014408960938454 val loss:1.0579791069030762 val acc:0.780195951461792\n"
     ]
    },
    {
     "name": "stderr",
     "output_type": "stream",
     "text": [
      "100%|██████████| 6099/6099 [00:09<00:00, 628.25it/s]\n"
     ]
    },
    {
     "name": "stdout",
     "output_type": "stream",
     "text": [
      "reduce  hard 5603\n"
     ]
    },
    {
     "name": "stderr",
     "output_type": "stream",
     "text": [
      "100%|██████████| 176/176 [00:03<00:00, 49.76it/s]\n",
      "100%|██████████| 48/48 [00:02<00:00, 17.45it/s]\n"
     ]
    },
    {
     "name": "stdout",
     "output_type": "stream",
     "text": [
      "epoch 0: train loss:2.104891538619995 val loss:1.6004481315612793 val acc:0.562686026096344\n"
     ]
    },
    {
     "name": "stderr",
     "output_type": "stream",
     "text": [
      "100%|██████████| 176/176 [00:03<00:00, 51.23it/s]\n",
      "100%|██████████| 48/48 [00:02<00:00, 16.48it/s]\n"
     ]
    },
    {
     "name": "stdout",
     "output_type": "stream",
     "text": [
      "epoch 1: train loss:1.0860286951065063 val loss:1.4561957120895386 val acc:0.6183655858039856\n"
     ]
    },
    {
     "name": "stderr",
     "output_type": "stream",
     "text": [
      "100%|██████████| 176/176 [00:03<00:00, 50.44it/s]\n",
      "100%|██████████| 48/48 [00:02<00:00, 18.94it/s]\n"
     ]
    },
    {
     "name": "stdout",
     "output_type": "stream",
     "text": [
      "epoch 2: train loss:0.7243770360946655 val loss:1.2595206499099731 val acc:0.674727201461792\n"
     ]
    },
    {
     "name": "stderr",
     "output_type": "stream",
     "text": [
      "100%|██████████| 176/176 [00:03<00:00, 52.02it/s]\n",
      "100%|██████████| 48/48 [00:02<00:00, 18.32it/s]\n"
     ]
    },
    {
     "name": "stdout",
     "output_type": "stream",
     "text": [
      "epoch 3: train loss:0.45836275815963745 val loss:1.1850472688674927 val acc:0.7066282629966736\n"
     ]
    },
    {
     "name": "stderr",
     "output_type": "stream",
     "text": [
      "100%|██████████| 176/176 [00:03<00:00, 50.69it/s]\n",
      "100%|██████████| 48/48 [00:02<00:00, 18.44it/s]\n"
     ]
    },
    {
     "name": "stdout",
     "output_type": "stream",
     "text": [
      "epoch 4: train loss:0.28736138343811035 val loss:1.2449426651000977 val acc:0.7027220129966736\n"
     ]
    },
    {
     "name": "stderr",
     "output_type": "stream",
     "text": [
      "100%|██████████| 176/176 [00:03<00:00, 49.14it/s]\n",
      "100%|██████████| 48/48 [00:02<00:00, 18.03it/s]\n"
     ]
    },
    {
     "name": "stdout",
     "output_type": "stream",
     "text": [
      "epoch 5: train loss:0.1775052696466446 val loss:1.2137477397918701 val acc:0.7355531454086304\n"
     ]
    },
    {
     "name": "stderr",
     "output_type": "stream",
     "text": [
      "100%|██████████| 176/176 [00:03<00:00, 53.70it/s]\n",
      "100%|██████████| 48/48 [00:02<00:00, 18.64it/s]\n"
     ]
    },
    {
     "name": "stdout",
     "output_type": "stream",
     "text": [
      "epoch 6: train loss:0.10456441342830658 val loss:1.137608289718628 val acc:0.7486359477043152\n"
     ]
    },
    {
     "name": "stderr",
     "output_type": "stream",
     "text": [
      "100%|██████████| 176/176 [00:03<00:00, 51.24it/s]\n",
      "100%|██████████| 48/48 [00:02<00:00, 18.17it/s]\n"
     ]
    },
    {
     "name": "stdout",
     "output_type": "stream",
     "text": [
      "epoch 7: train loss:0.0619567334651947 val loss:1.2082061767578125 val acc:0.752511203289032\n"
     ]
    },
    {
     "name": "stderr",
     "output_type": "stream",
     "text": [
      "100%|██████████| 176/176 [00:03<00:00, 52.90it/s]\n",
      "100%|██████████| 48/48 [00:02<00:00, 18.93it/s]\n"
     ]
    },
    {
     "name": "stdout",
     "output_type": "stream",
     "text": [
      "epoch 8: train loss:0.06292333453893661 val loss:1.169731855392456 val acc:0.7534722685813904\n"
     ]
    },
    {
     "name": "stderr",
     "output_type": "stream",
     "text": [
      "100%|██████████| 176/176 [00:03<00:00, 53.84it/s]\n",
      "100%|██████████| 48/48 [00:02<00:00, 18.24it/s]"
     ]
    },
    {
     "name": "stdout",
     "output_type": "stream",
     "text": [
      "epoch 9: train loss:0.05001431331038475 val loss:1.1979469060897827 val acc:0.7502790689468384\n"
     ]
    },
    {
     "name": "stderr",
     "output_type": "stream",
     "text": [
      "\n"
     ]
    }
   ],
   "source": [
    "classes_for_reduce = dict()\n",
    "classes_for_reduce['default'] = []\n",
    "classes_for_reduce['easy'] = easy_classes\n",
    "classes_for_reduce['hard'] = hard_classes\n",
    "reduced_dataset = dict()\n",
    "history_loss = dict()\n",
    "history_acc = dict()\n",
    "\n",
    "for mode,reduced_classes in classes_for_reduce.items():\n",
    "    for reduced_class in reduced_classes:\n",
    "      class_count[reduced_class]  = int(class_count[reduced_class] *  0.7)\n",
    "    reduced_dataset = []\n",
    "    for sample in tqdm(train_dataset):\n",
    "      if sample[1] in reduced_classes:\n",
    "        if class_count[sample[1]]:\n",
    "          class_count[sample[1]] -= 1\n",
    "          reduced_dataset.append(sample)\n",
    "      else:\n",
    "        reduced_dataset.append(sample)\n",
    "    for reduced_class in reduced_classes:\n",
    "      class_count[reduced_class]  = int(class_count[reduced_class] / 0.7)\n",
    "    \n",
    "    reduced_train_loader = torch.utils.data.DataLoader(reduced_dataset,batch_size=32,num_workers=0,shuffle=True) \n",
    "\n",
    "    print('reduce ',mode,f'{len(reduced_dataset)}') \n",
    "    model = torchvision.models.resnet18(weights='IMAGENET1K_V1')\n",
    "    model.fc = nn.Linear(512,num_classes)\n",
    "    model = model.to(device)\n",
    "    optimizer = torch.optim.Adam(model.parameters(),lr=5e-4)\n",
    "    scheduler = torch.optim.lr_scheduler.ExponentialLR(optimizer, gamma=0.9)\n",
    "    _,losses_history,val_acc_history =train_test_cycle(model,reduced_train_loader,test_loader,optimizer,scheduler,\n",
    "                                                                      loss_function,device,n_epochs=n_epochs,print_losses=True)\n",
    "    history_loss[mode] = losses_history\n",
    "    history_acc[mode] = val_acc_history"
   ]
  },
  {
   "cell_type": "code",
   "execution_count": 323,
   "metadata": {
    "execution": {
     "iopub.execute_input": "2023-06-21T13:21:35.391558Z",
     "iopub.status.busy": "2023-06-21T13:21:35.391285Z",
     "iopub.status.idle": "2023-06-21T13:21:35.396086Z",
     "shell.execute_reply": "2023-06-21T13:21:35.395026Z",
     "shell.execute_reply.started": "2023-06-21T13:21:35.391527Z"
    }
   },
   "outputs": [],
   "source": [
    "def tensor_to_list(t):\n",
    "    return [el.item() for el in t]"
   ]
  },
  {
   "cell_type": "code",
   "execution_count": 324,
   "metadata": {
    "execution": {
     "iopub.execute_input": "2023-06-21T13:21:35.397891Z",
     "iopub.status.busy": "2023-06-21T13:21:35.397598Z",
     "iopub.status.idle": "2023-06-21T13:21:36.609825Z",
     "shell.execute_reply": "2023-06-21T13:21:36.608809Z",
     "shell.execute_reply.started": "2023-06-21T13:21:35.397832Z"
    },
    "id": "qCa5gIe7Z33w"
   },
   "outputs": [
    {
     "data": {
      "image/png": "[encoded data removed]",
      "text/plain": [
       "<Figure size 1400x400 with 3 Axes>"
      ]
     },
     "metadata": {},
     "output_type": "display_data"
    }
   ],
   "source": [
    "import matplotlib.pyplot as plt\n",
    "fig,axes = plt.subplots(1,3,figsize=(14,4),constrained_layout=True)\n",
    "\n",
    "for mode in history_loss.keys():\n",
    "    axes[2].plot(range(n_epochs), tensor_to_list(history_acc[mode]),label=mode)\n",
    "    axes[2].legend()\n",
    "    axes[2].set_xticks(range(n_epochs))\n",
    "\n",
    "axes[2].set_title('Test Accuracy')\n",
    "\n",
    "for index,ax in enumerate(axes[:2]):\n",
    "  ax.set_xlabel('epoch')\n",
    "  ax.set_ylabel('loss')\n",
    "  subkey = 'test' if index else 'train'\n",
    "  ax.set_title(subkey + ' loss')\n",
    "  for mode,history in history_loss.items():\n",
    "    ax.plot(range(n_epochs), tensor_to_list(history[subkey]),label=mode)\n",
    "  ax.legend()\n",
    "  ax.set_xticks(range(n_epochs))\n",
    "\n",
    "plt.savefig('cards_metrics.png')\n"
   ]
  }
 ],
 "metadata": {
  "accelerator": "GPU",
  "colab": {
   "gpuType": "T4",
   "provenance": []
  },
  "kernelspec": {
   "display_name": "Python 3 (ipykernel)",
   "language": "python",
   "name": "python3"
  },
  "language_info": {
   "codemirror_mode": {
    "name": "ipython",
    "version": 3
   },
   "file_extension": ".py",
   "mimetype": "text/x-python",
   "name": "python",
   "nbconvert_exporter": "python",
   "pygments_lexer": "ipython3",
   "version": "3.9.16"
  }
 },
 "nbformat": 4,
 "nbformat_minor": 4
}
