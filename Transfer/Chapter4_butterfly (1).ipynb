{
 "cells": [
  {
   "cell_type": "code",
   "execution_count": 6,
   "metadata": {
    "colab": {
     "base_uri": "https://localhost:8080/"
    },
    "execution": {
     "iopub.execute_input": "2023-06-22T20:27:07.849016Z",
     "iopub.status.busy": "2023-06-22T20:27:07.848228Z",
     "iopub.status.idle": "2023-06-22T20:27:07.852946Z",
     "shell.execute_reply": "2023-06-22T20:27:07.852296Z",
     "shell.execute_reply.started": "2023-06-22T20:27:07.848982Z"
    },
    "id": "sZMvRXTxsnTz",
    "outputId": "e4a564fc-073e-47ac-e2c3-5f2da2f0971a"
   },
   "outputs": [],
   "source": [
    "# !pip install kaggle\n",
    "# # your api key\n",
    "# api_key = {\"username\":\"spacehitchhiker\",\"key\":\"c698b877d42f3f853d0a599e6263d8a8\"}\n",
    "# from pathlib import Path\n",
    "# import os\n",
    "# import json\n",
    "\n",
    "# # uses pathlib Path\n",
    "# kaggle_path = Path('/root/.kaggle')\n",
    "# os.makedirs(kaggle_path, exist_ok=True)\n",
    "\n",
    "# # opens file and dumps python dict to json object\n",
    "# with open (kaggle_path/'kaggle.json', 'w') as handl:\n",
    "#     json.dump(api_key,handl)\n",
    "\n",
    "# os.chmod(kaggle_path/'kaggle.json', 600)\n",
    "# !kaggle datasets download -d gpiosenka/butterfly-images40-species"
   ]
  },
  {
   "cell_type": "code",
   "execution_count": 7,
   "metadata": {
    "execution": {
     "iopub.execute_input": "2023-06-22T20:27:07.854864Z",
     "iopub.status.busy": "2023-06-22T20:27:07.854580Z",
     "iopub.status.idle": "2023-06-22T20:27:07.858406Z",
     "shell.execute_reply": "2023-06-22T20:27:07.857610Z",
     "shell.execute_reply.started": "2023-06-22T20:27:07.854840Z"
    },
    "id": "5TgoaRi6tJ9t"
   },
   "outputs": [],
   "source": [
    "# !unzip -qq butterfly-images40-species.zip -d images40"
   ]
  },
  {
   "cell_type": "code",
   "execution_count": 8,
   "metadata": {
    "execution": {
     "iopub.execute_input": "2023-06-22T20:27:07.859840Z",
     "iopub.status.busy": "2023-06-22T20:27:07.859547Z",
     "iopub.status.idle": "2023-06-22T20:27:08.019368Z",
     "shell.execute_reply": "2023-06-22T20:27:08.018284Z",
     "shell.execute_reply.started": "2023-06-22T20:27:07.859817Z"
    },
    "id": "v3FqMOaKsazN"
   },
   "outputs": [],
   "source": [
    "import torch\n",
    "import random\n",
    "import numpy as np\n",
    "\n",
    "import torch.nn as nn\n",
    "from torchvision import transforms,datasets\n",
    "from torchvision.models import resnet18\n",
    "def set_seed(seed):\n",
    "    random.seed(seed)\n",
    "    np.random.seed(seed)\n",
    "\n",
    "    torch.manual_seed(seed)\n",
    "    torch.cuda.manual_seed_all(seed)\n",
    "\n",
    "set_seed(42)\n",
    "\n",
    "num_classes = 100\n",
    "model_for_weights = resnet18(weights='DEFAULT')\n",
    "model_for_weights.fc = nn.Linear(512,num_classes)"
   ]
  },
  {
   "cell_type": "code",
   "execution_count": 9,
   "metadata": {
    "colab": {
     "base_uri": "https://localhost:8080/",
     "height": 55
    },
    "execution": {
     "iopub.execute_input": "2023-06-22T20:27:08.022624Z",
     "iopub.status.busy": "2023-06-22T20:27:08.022021Z",
     "iopub.status.idle": "2023-06-22T20:27:08.062394Z",
     "shell.execute_reply": "2023-06-22T20:27:08.061706Z",
     "shell.execute_reply.started": "2023-06-22T20:27:08.022593Z"
    },
    "id": "tMhqoG30sazP",
    "outputId": "0188da8d-7745-41b5-b2d1-b5550e4bf1c4"
   },
   "outputs": [
    {
     "name": "stdout",
     "output_type": "stream",
     "text": [
      "10075\n"
     ]
    },
    {
     "data": {
      "text/plain": [
       "'cuda'"
      ]
     },
     "execution_count": 9,
     "metadata": {},
     "output_type": "execute_result"
    }
   ],
   "source": [
    "data_mean = (0.5071, 0.4865, 0.4409)\n",
    "data_std = (0.2673, 0.2564, 0.2762)\n",
    "transformation = transforms.Compose([\n",
    "    # transforms.RandomHorizontalFlip(0.5),\n",
    "    # transforms.RandomVerticalFlip(0.3),\n",
    "    transforms.Resize((64,64)),\n",
    "    transforms.ToTensor(),\n",
    "    transforms.Normalize(mean=[0.5, 0.5, 0.5], std=[0.25, .25, 0.25])\n",
    "])\n",
    "\n",
    "full_dataset = datasets.ImageFolder(\n",
    "    root='/notebooks/images40/train',\n",
    "    transform=transformation\n",
    ")\n",
    "train_len = int(len(full_dataset)*0.8)\n",
    "test_len = len(full_dataset) - train_len\n",
    "train_dataset, test_dataset = torch.utils.data.random_split(full_dataset,[train_len,test_len])\n",
    "\n",
    "print(len(train_dataset))\n",
    "\n",
    "train_loader = torch.utils.data.DataLoader(\n",
    "    train_dataset,\n",
    "    batch_size=32,\n",
    "    num_workers=0,\n",
    "    shuffle=True\n",
    ")\n",
    "test_loader = torch.utils.data.DataLoader(\n",
    "    test_dataset,\n",
    "    batch_size=32,\n",
    "    num_workers=0,\n",
    "    shuffle=True\n",
    ")\n",
    "\n",
    "device = 'cuda' if torch.cuda.is_available() else 'cpu'\n",
    "n_epochs = 10\n",
    "device"
   ]
  },
  {
   "cell_type": "code",
   "execution_count": 10,
   "metadata": {
    "colab": {
     "base_uri": "https://localhost:8080/"
    },
    "execution": {
     "iopub.execute_input": "2023-06-22T20:27:08.064188Z",
     "iopub.status.busy": "2023-06-22T20:27:08.063413Z",
     "iopub.status.idle": "2023-06-22T20:30:03.825858Z",
     "shell.execute_reply": "2023-06-22T20:30:03.825023Z",
     "shell.execute_reply.started": "2023-06-22T20:27:08.064129Z"
    },
    "id": "Hme-RV2TsazR",
    "outputId": "a99aaa60-48b5-446b-ee18-c8c745ee3c32"
   },
   "outputs": [
    {
     "name": "stderr",
     "output_type": "stream",
     "text": [
      "100%|██████████| 315/315 [00:14<00:00, 21.44it/s]\n",
      "100%|██████████| 79/79 [00:02<00:00, 26.41it/s]\n"
     ]
    },
    {
     "name": "stdout",
     "output_type": "stream",
     "text": [
      "epoch 0: train loss:3.1988823413848877 val loss:1.742053508758545 val acc:0.651279628276825\n"
     ]
    },
    {
     "name": "stderr",
     "output_type": "stream",
     "text": [
      "100%|██████████| 315/315 [00:14<00:00, 21.93it/s]\n",
      "100%|██████████| 79/79 [00:02<00:00, 26.91it/s]\n"
     ]
    },
    {
     "name": "stdout",
     "output_type": "stream",
     "text": [
      "epoch 1: train loss:1.1860002279281616 val loss:0.9506832361221313 val acc:0.7761420011520386\n"
     ]
    },
    {
     "name": "stderr",
     "output_type": "stream",
     "text": [
      "100%|██████████| 315/315 [00:15<00:00, 20.92it/s]\n",
      "100%|██████████| 79/79 [00:02<00:00, 29.25it/s]\n"
     ]
    },
    {
     "name": "stdout",
     "output_type": "stream",
     "text": [
      "epoch 2: train loss:0.5926527380943298 val loss:0.7427224516868591 val acc:0.8136351704597473\n"
     ]
    },
    {
     "name": "stderr",
     "output_type": "stream",
     "text": [
      "100%|██████████| 315/315 [00:14<00:00, 21.19it/s]\n",
      "100%|██████████| 79/79 [00:02<00:00, 29.63it/s]\n"
     ]
    },
    {
     "name": "stdout",
     "output_type": "stream",
     "text": [
      "epoch 3: train loss:0.3157566785812378 val loss:0.6592416167259216 val acc:0.8255022764205933\n"
     ]
    },
    {
     "name": "stderr",
     "output_type": "stream",
     "text": [
      "100%|██████████| 315/315 [00:14<00:00, 21.03it/s]\n",
      "100%|██████████| 79/79 [00:02<00:00, 28.61it/s]\n"
     ]
    },
    {
     "name": "stdout",
     "output_type": "stream",
     "text": [
      "epoch 4: train loss:0.16815869510173798 val loss:0.6223557591438293 val acc:0.8397255539894104\n"
     ]
    },
    {
     "name": "stderr",
     "output_type": "stream",
     "text": [
      "100%|██████████| 315/315 [00:14<00:00, 21.18it/s]\n",
      "100%|██████████| 79/79 [00:02<00:00, 28.51it/s]\n"
     ]
    },
    {
     "name": "stdout",
     "output_type": "stream",
     "text": [
      "epoch 5: train loss:0.09566470235586166 val loss:0.5933123826980591 val acc:0.8446270823478699\n"
     ]
    },
    {
     "name": "stderr",
     "output_type": "stream",
     "text": [
      "100%|██████████| 315/315 [00:14<00:00, 21.18it/s]\n",
      "100%|██████████| 79/79 [00:02<00:00, 29.44it/s]\n"
     ]
    },
    {
     "name": "stdout",
     "output_type": "stream",
     "text": [
      "epoch 6: train loss:0.056936562061309814 val loss:0.5847678780555725 val acc:0.8452635407447815\n"
     ]
    },
    {
     "name": "stderr",
     "output_type": "stream",
     "text": [
      "100%|██████████| 315/315 [00:14<00:00, 21.69it/s]\n",
      "100%|██████████| 79/79 [00:02<00:00, 27.47it/s]\n"
     ]
    },
    {
     "name": "stdout",
     "output_type": "stream",
     "text": [
      "epoch 7: train loss:0.04191776365041733 val loss:0.5785407423973083 val acc:0.8522289991378784\n"
     ]
    },
    {
     "name": "stderr",
     "output_type": "stream",
     "text": [
      "100%|██████████| 315/315 [00:14<00:00, 21.11it/s]\n",
      "100%|██████████| 79/79 [00:02<00:00, 28.53it/s]\n"
     ]
    },
    {
     "name": "stdout",
     "output_type": "stream",
     "text": [
      "epoch 8: train loss:0.02728572115302086 val loss:0.581709086894989 val acc:0.8485828042030334\n"
     ]
    },
    {
     "name": "stderr",
     "output_type": "stream",
     "text": [
      "100%|██████████| 315/315 [00:14<00:00, 21.89it/s]\n",
      "100%|██████████| 79/79 [00:02<00:00, 29.64it/s]"
     ]
    },
    {
     "name": "stdout",
     "output_type": "stream",
     "text": [
      "epoch 9: train loss:0.0194966159760952 val loss:0.5737411975860596 val acc:0.8510422706604004\n"
     ]
    },
    {
     "name": "stderr",
     "output_type": "stream",
     "text": [
      "\n"
     ]
    }
   ],
   "source": [
    "from tqdm import tqdm\n",
    "optimizer = torch.optim.Adam(model_for_weights.parameters(),lr=.5e-4)\n",
    "model_for_weights = model_for_weights.to(device)\n",
    "loss_function = nn.CrossEntropyLoss()\n",
    "\n",
    "for i in range(n_epochs):\n",
    "  model_for_weights.train()\n",
    "  train_loss = 0\n",
    "  for x,y in tqdm(train_loader):\n",
    "    optimizer.zero_grad()\n",
    "    x, y = x.to(device), y.to(device)\n",
    "    preds = model_for_weights(x)\n",
    "    loss = loss_function(preds,y)\n",
    "    train_loss += loss\n",
    "    loss.backward()\n",
    "    optimizer.step()\n",
    "\n",
    "  model_for_weights.eval()\n",
    "  val_loss = 0\n",
    "  val_acc = 0\n",
    "  with torch.no_grad():\n",
    "    for x,y in  tqdm(test_loader):\n",
    "      x, y = x.to(device), y.to(device)\n",
    "      logits = model_for_weights(x)\n",
    "      preds = logits.max(dim=1)[1]\n",
    "      val_acc += torch.mean((preds == y).float())\n",
    "      loss = loss_function(logits,y)\n",
    "      val_loss += loss\n",
    "\n",
    "\n",
    "  train_len = len(train_loader)\n",
    "  val_len = len(test_loader)\n",
    "\n",
    "  print(f'epoch {i}: train loss:{train_loss / train_len } val loss:{val_loss / val_len } val acc:{val_acc / val_len }')"
   ]
  },
  {
   "cell_type": "code",
   "execution_count": 11,
   "metadata": {
    "execution": {
     "iopub.execute_input": "2023-06-22T20:30:03.827219Z",
     "iopub.status.busy": "2023-06-22T20:30:03.826959Z",
     "iopub.status.idle": "2023-06-22T20:30:04.555509Z",
     "shell.execute_reply": "2023-06-22T20:30:04.554515Z",
     "shell.execute_reply.started": "2023-06-22T20:30:03.827195Z"
    },
    "id": "he72z2pNMx6M"
   },
   "outputs": [],
   "source": [
    "import random\n",
    "import numpy as np\n",
    "import torch\n",
    "import torch.nn as nn\n",
    "import torch.nn.functional as F\n",
    "import os\n",
    "import pickle\n",
    "from torchvision import datasets, transforms\n",
    "from tqdm import tqdm\n",
    "from copy import deepcopy\n",
    "from collections import OrderedDict\n",
    "import matplotlib.pyplot as plt\n",
    "\n",
    "from tqdm import tqdm"
   ]
  },
  {
   "cell_type": "code",
   "execution_count": 12,
   "metadata": {
    "execution": {
     "iopub.execute_input": "2023-06-22T20:30:04.557462Z",
     "iopub.status.busy": "2023-06-22T20:30:04.556958Z",
     "iopub.status.idle": "2023-06-22T20:30:04.562846Z",
     "shell.execute_reply": "2023-06-22T20:30:04.562276Z",
     "shell.execute_reply.started": "2023-06-22T20:30:04.557432Z"
    },
    "id": "7aRGX3ssN6dT"
   },
   "outputs": [],
   "source": [
    "def get_loaders(batch_size=32, augments=[True, False], shuffles=[True, False]):\n",
    "    full_dataset = datasets.ImageFolder(\n",
    "        root='/notebooks/images40/train',\n",
    "        transform=transformation\n",
    "    )\n",
    "    train_len = int(len(full_dataset)*0.8)\n",
    "    test_len = len(full_dataset) - train_len\n",
    "    train_dataset, test_dataset = torch.utils.data.random_split(full_dataset,[train_len,test_len])\n",
    "\n",
    "    return train_dataset, test_dataset"
   ]
  },
  {
   "cell_type": "code",
   "execution_count": 13,
   "metadata": {
    "execution": {
     "iopub.execute_input": "2023-06-22T20:30:04.565288Z",
     "iopub.status.busy": "2023-06-22T20:30:04.565064Z",
     "iopub.status.idle": "2023-06-22T20:30:04.569329Z",
     "shell.execute_reply": "2023-06-22T20:30:04.568719Z",
     "shell.execute_reply.started": "2023-06-22T20:30:04.565270Z"
    },
    "id": "03GK7Vs-QuE0"
   },
   "outputs": [
    {
     "name": "stdout",
     "output_type": "stream",
     "text": [
      "cuda\n"
     ]
    }
   ],
   "source": [
    "device = 'cuda' if torch.cuda.is_available() else 'cpu'\n",
    "print(device)"
   ]
  },
  {
   "cell_type": "code",
   "execution_count": 14,
   "metadata": {
    "execution": {
     "iopub.execute_input": "2023-06-22T20:30:04.570287Z",
     "iopub.status.busy": "2023-06-22T20:30:04.570097Z",
     "iopub.status.idle": "2023-06-22T20:30:04.604330Z",
     "shell.execute_reply": "2023-06-22T20:30:04.603686Z",
     "shell.execute_reply.started": "2023-06-22T20:30:04.570271Z"
    },
    "id": "KowtYcd_gW4S"
   },
   "outputs": [],
   "source": [
    "train_dataset,test_dataset = get_loaders()\n",
    "batch_size = 32"
   ]
  },
  {
   "cell_type": "code",
   "execution_count": 15,
   "metadata": {
    "execution": {
     "iopub.execute_input": "2023-06-22T20:30:04.605628Z",
     "iopub.status.busy": "2023-06-22T20:30:04.605422Z",
     "iopub.status.idle": "2023-06-22T20:30:04.609827Z",
     "shell.execute_reply": "2023-06-22T20:30:04.609256Z",
     "shell.execute_reply.started": "2023-06-22T20:30:04.605609Z"
    },
    "id": "NbsWfZQSsazW"
   },
   "outputs": [],
   "source": [
    "train_loader = torch.utils.data.DataLoader(\n",
    "    dataset=train_dataset,\n",
    "    batch_size=batch_size, shuffle=False,\n",
    "    pin_memory=True, num_workers=2)\n",
    "test_loader = torch.utils.data.DataLoader(\n",
    "    dataset=test_dataset,\n",
    "    batch_size=batch_size, shuffle=True,\n",
    "    pin_memory=True, num_workers=2)"
   ]
  },
  {
   "cell_type": "code",
   "execution_count": 16,
   "metadata": {
    "execution": {
     "iopub.execute_input": "2023-06-22T20:30:04.610776Z",
     "iopub.status.busy": "2023-06-22T20:30:04.610602Z",
     "iopub.status.idle": "2023-06-22T20:30:04.615883Z",
     "shell.execute_reply": "2023-06-22T20:30:04.615358Z",
     "shell.execute_reply.started": "2023-06-22T20:30:04.610760Z"
    },
    "id": "V2LF4YNgsazW"
   },
   "outputs": [],
   "source": [
    "model_for_weights = model_for_weights.to(device)"
   ]
  },
  {
   "cell_type": "code",
   "execution_count": 17,
   "metadata": {
    "execution": {
     "iopub.execute_input": "2023-06-22T20:30:04.616812Z",
     "iopub.status.busy": "2023-06-22T20:30:04.616634Z",
     "iopub.status.idle": "2023-06-22T20:30:07.946437Z",
     "shell.execute_reply": "2023-06-22T20:30:07.945915Z",
     "shell.execute_reply.started": "2023-06-22T20:30:04.616795Z"
    },
    "id": "aRALpEd5sazX"
   },
   "outputs": [
    {
     "name": "stderr",
     "output_type": "stream",
     "text": [
      "100%|██████████| 79/79 [00:01<00:00, 44.93it/s]\n",
      "100%|██████████| 79/79 [00:01<00:00, 50.62it/s]"
     ]
    },
    {
     "name": "stdout",
     "output_type": "stream",
     "text": [
      "[(75, 0.7727272727272727), (36, 0.8), (37, 0.8823529411764706), (93, 0.8823529411764706), (9, 0.9), (98, 0.9), (57, 0.9090909090909091), (62, 0.9090909090909091), (56, 0.9130434782608695), (29, 0.9166666666666666), (33, 0.92), (77, 0.92), (40, 0.9230769230769231), (1, 0.9285714285714286), (81, 0.9310344827586207), (52, 0.9333333333333333), (2, 0.9411764705882353), (43, 0.9411764705882353), (79, 0.9411764705882353), (24, 0.95), (4, 0.9523809523809523), (97, 0.9523809523809523), (28, 0.9545454545454546), (45, 0.9545454545454546), (49, 0.9545454545454546), (50, 0.9545454545454546), (61, 0.9545454545454546), (69, 0.9565217391304348), (73, 0.9565217391304348), (92, 0.9565217391304348), (88, 0.9583333333333334), (42, 0.96), (53, 0.96), (54, 0.96), (11, 0.9615384615384616), (80, 0.9615384615384616), (30, 0.9629629629629629), (68, 0.9629629629629629), (60, 0.9642857142857143), (89, 0.9642857142857143), (63, 0.9655172413793104), (18, 0.9666666666666667), (67, 0.9666666666666667), (71, 0.967741935483871), (10, 0.96875), (32, 0.96875), (64, 0.96875), (51, 0.972972972972973), (0, 1.0), (3, 1.0), (5, 1.0), (6, 1.0), (7, 1.0), (8, 1.0), (12, 1.0), (13, 1.0), (14, 1.0), (15, 1.0), (16, 1.0), (17, 1.0), (19, 1.0), (20, 1.0), (21, 1.0), (22, 1.0), (23, 1.0), (25, 1.0), (26, 1.0), (27, 1.0), (31, 1.0), (34, 1.0), (35, 1.0), (38, 1.0), (39, 1.0), (41, 1.0), (44, 1.0), (46, 1.0), (47, 1.0), (48, 1.0), (55, 1.0), (58, 1.0), (59, 1.0), (65, 1.0), (66, 1.0), (70, 1.0), (72, 1.0), (74, 1.0), (76, 1.0), (78, 1.0), (82, 1.0), (83, 1.0), (84, 1.0), (85, 1.0), (86, 1.0), (87, 1.0), (90, 1.0), (91, 1.0), (94, 1.0), (95, 1.0), (96, 1.0), (99, 1.0)]\n"
     ]
    },
    {
     "name": "stderr",
     "output_type": "stream",
     "text": [
      "\n"
     ]
    }
   ],
   "source": [
    "# num_classes = 100\n",
    "\n",
    "class_count = dict(zip(range(num_classes),[0]*(num_classes)))\n",
    "for _,y in tqdm(test_loader):\n",
    "    for label in y:\n",
    "        class_count[label.item()] += 1\n",
    "\n",
    "# class_count\n",
    "\n",
    "class_acc = dict(zip(range((num_classes)),[0]*(num_classes)))\n",
    "\n",
    "for x,y in tqdm(test_loader):\n",
    "    x,y = x.to(device), y.to(device)\n",
    "    logits = model_for_weights(x)\n",
    "    preds = logits.max(1)[1]\n",
    "    for (predicted,target) in zip(preds,y):\n",
    "      if predicted == target:\n",
    "        class_acc[target.item()] += 1\n",
    "\n",
    "for key in class_acc.keys():\n",
    "  class_acc[key] /= class_count[key]\n",
    "\n",
    "sorted_by_acc = sorted(class_acc.items(),key=lambda x:x[1])\n",
    "print(sorted_by_acc)"
   ]
  },
  {
   "cell_type": "code",
   "execution_count": null,
   "metadata": {
    "id": "Wfmyr5SSsazY"
   },
   "outputs": [],
   "source": []
  },
  {
   "cell_type": "code",
   "execution_count": 18,
   "metadata": {
    "execution": {
     "iopub.execute_input": "2023-06-22T20:30:07.948086Z",
     "iopub.status.busy": "2023-06-22T20:30:07.947275Z",
     "iopub.status.idle": "2023-06-22T20:30:13.991402Z",
     "shell.execute_reply": "2023-06-22T20:30:13.990811Z",
     "shell.execute_reply.started": "2023-06-22T20:30:07.948058Z"
    },
    "id": "eLoLFcNAsazY"
   },
   "outputs": [
    {
     "name": "stderr",
     "output_type": "stream",
     "text": [
      "100%|██████████| 315/315 [00:06<00:00, 52.18it/s]\n"
     ]
    }
   ],
   "source": [
    "acc_on_sample_class = []\n",
    "with torch.no_grad():\n",
    "  for x,y in  tqdm(train_loader):\n",
    "      for label in y:\n",
    "            acc_on_sample_class.append(class_acc[label.item()])\n",
    "\n",
    "# np.unique(acc_on_sample_class,return_counts=True)\n",
    "acc_on_sample_class = np.array(acc_on_sample_class)"
   ]
  },
  {
   "cell_type": "markdown",
   "metadata": {
    "id": "9SSRhuffsazZ"
   },
   "source": [
    "Make dict to save loss history on test_data for different curriclum modes"
   ]
  },
  {
   "cell_type": "code",
   "execution_count": 19,
   "metadata": {
    "execution": {
     "iopub.execute_input": "2023-06-22T20:30:13.993685Z",
     "iopub.status.busy": "2023-06-22T20:30:13.992680Z",
     "iopub.status.idle": "2023-06-22T20:30:13.998206Z",
     "shell.execute_reply": "2023-06-22T20:30:13.997524Z",
     "shell.execute_reply.started": "2023-06-22T20:30:13.993664Z"
    },
    "id": "_yadGxTR5aUK"
   },
   "outputs": [],
   "source": [
    "losses_train_history = {'random':[],'hard first':[],'easy first':[],'mixed':[]}\n",
    "losses_val_history = {'random':[],'hard first':[],'easy first':[],'mixed':[]}\n",
    "acc_val_history = {'random':[],'hard first':[],'easy first':[],'mixed':[]}"
   ]
  },
  {
   "cell_type": "markdown",
   "metadata": {
    "id": "wTzd-6xp55KN"
   },
   "source": [
    "1)Random"
   ]
  },
  {
   "cell_type": "code",
   "execution_count": 20,
   "metadata": {
    "execution": {
     "iopub.execute_input": "2023-06-22T20:30:13.999939Z",
     "iopub.status.busy": "2023-06-22T20:30:13.999245Z",
     "iopub.status.idle": "2023-06-22T20:30:14.235710Z",
     "shell.execute_reply": "2023-06-22T20:30:14.235057Z",
     "shell.execute_reply.started": "2023-06-22T20:30:13.999840Z"
    },
    "id": "IYZlLhGDR3Yo"
   },
   "outputs": [],
   "source": [
    "from torchvision.models import resnet18\n",
    "\n",
    "model = resnet18(weights='DEFAULT')\n",
    "model.fc = nn.Linear(512,num_classes)"
   ]
  },
  {
   "cell_type": "code",
   "execution_count": 21,
   "metadata": {
    "execution": {
     "iopub.execute_input": "2023-06-22T20:30:14.236742Z",
     "iopub.status.busy": "2023-06-22T20:30:14.236547Z",
     "iopub.status.idle": "2023-06-22T20:30:14.251049Z",
     "shell.execute_reply": "2023-06-22T20:30:14.250258Z",
     "shell.execute_reply.started": "2023-06-22T20:30:14.236725Z"
    },
    "id": "OsQdljiNUR8K"
   },
   "outputs": [
    {
     "name": "stdout",
     "output_type": "stream",
     "text": [
      "Model is on device: cuda\n"
     ]
    }
   ],
   "source": [
    "optimizer = torch.optim.Adam(model.parameters(),lr=.5e-4)\n",
    "loss_function = nn.CrossEntropyLoss()\n",
    "model.to(device)\n",
    "print(f'Model is on device: {device}')"
   ]
  },
  {
   "cell_type": "code",
   "execution_count": 22,
   "metadata": {
    "execution": {
     "iopub.execute_input": "2023-06-22T20:30:14.252227Z",
     "iopub.status.busy": "2023-06-22T20:30:14.252024Z",
     "iopub.status.idle": "2023-06-22T20:30:14.580044Z",
     "shell.execute_reply": "2023-06-22T20:30:14.579090Z",
     "shell.execute_reply.started": "2023-06-22T20:30:14.252209Z"
    },
    "id": "4HyKRmYWVpTA"
   },
   "outputs": [
    {
     "name": "stdout",
     "output_type": "stream",
     "text": [
      "torch.Size([32, 3, 64, 64]) torch.Size([32])\n",
      "torch.Size([32, 100])\n"
     ]
    },
    {
     "data": {
      "text/plain": [
       "tensor(5.0515, device='cuda:0', grad_fn=<NllLossBackward0>)"
      ]
     },
     "execution_count": 22,
     "metadata": {},
     "output_type": "execute_result"
    }
   ],
   "source": [
    "for x,y in train_loader:\n",
    "  print(x.shape,y.shape)\n",
    "  break\n",
    "\n",
    "x = x.to(device)\n",
    "output = model(x)\n",
    "print(output.shape)\n",
    "\n",
    "y = y.to(device)\n",
    "loss = loss_function(output,y)\n",
    "loss"
   ]
  },
  {
   "cell_type": "code",
   "execution_count": 23,
   "metadata": {
    "execution": {
     "iopub.execute_input": "2023-06-22T20:30:14.582165Z",
     "iopub.status.busy": "2023-06-22T20:30:14.581476Z",
     "iopub.status.idle": "2023-06-22T20:31:32.506922Z",
     "shell.execute_reply": "2023-06-22T20:31:32.506420Z",
     "shell.execute_reply.started": "2023-06-22T20:30:14.582136Z"
    },
    "id": "61FsZFjXT-k-"
   },
   "outputs": [
    {
     "name": "stderr",
     "output_type": "stream",
     "text": [
      "100%|██████████| 315/315 [00:05<00:00, 53.34it/s]\n",
      "100%|██████████| 79/79 [00:01<00:00, 44.48it/s]\n"
     ]
    },
    {
     "name": "stdout",
     "output_type": "stream",
     "text": [
      "epoch 0: train loss:3.1751177310943604 val loss:1.7151706218719482 val acc:0.6586577892303467\n"
     ]
    },
    {
     "name": "stderr",
     "output_type": "stream",
     "text": [
      "100%|██████████| 315/315 [00:06<00:00, 49.94it/s]\n",
      "100%|██████████| 79/79 [00:01<00:00, 44.37it/s]\n"
     ]
    },
    {
     "name": "stdout",
     "output_type": "stream",
     "text": [
      "epoch 1: train loss:1.1093416213989258 val loss:0.990593671798706 val acc:0.7908297181129456\n"
     ]
    },
    {
     "name": "stderr",
     "output_type": "stream",
     "text": [
      "100%|██████████| 315/315 [00:05<00:00, 54.62it/s]\n",
      "100%|██████████| 79/79 [00:01<00:00, 48.66it/s]\n"
     ]
    },
    {
     "name": "stdout",
     "output_type": "stream",
     "text": [
      "epoch 2: train loss:0.42140474915504456 val loss:0.8246850371360779 val acc:0.8094386458396912\n"
     ]
    },
    {
     "name": "stderr",
     "output_type": "stream",
     "text": [
      "100%|██████████| 315/315 [00:06<00:00, 51.23it/s]\n",
      "100%|██████████| 79/79 [00:01<00:00, 43.40it/s]\n"
     ]
    },
    {
     "name": "stdout",
     "output_type": "stream",
     "text": [
      "epoch 3: train loss:0.15387913584709167 val loss:0.7609840035438538 val acc:0.816782534122467\n"
     ]
    },
    {
     "name": "stderr",
     "output_type": "stream",
     "text": [
      "100%|██████████| 315/315 [00:05<00:00, 52.65it/s]\n",
      "100%|██████████| 79/79 [00:01<00:00, 43.99it/s]\n"
     ]
    },
    {
     "name": "stdout",
     "output_type": "stream",
     "text": [
      "epoch 4: train loss:0.06377318501472473 val loss:0.7310757637023926 val acc:0.818295955657959\n"
     ]
    },
    {
     "name": "stderr",
     "output_type": "stream",
     "text": [
      "100%|██████████| 315/315 [00:06<00:00, 51.46it/s]\n",
      "100%|██████████| 79/79 [00:01<00:00, 50.05it/s]\n"
     ]
    },
    {
     "name": "stdout",
     "output_type": "stream",
     "text": [
      "epoch 5: train loss:0.03425438702106476 val loss:0.7142542600631714 val acc:0.8212197422981262\n"
     ]
    },
    {
     "name": "stderr",
     "output_type": "stream",
     "text": [
      "100%|██████████| 315/315 [00:06<00:00, 49.02it/s]\n",
      "100%|██████████| 79/79 [00:01<00:00, 49.33it/s]\n"
     ]
    },
    {
     "name": "stdout",
     "output_type": "stream",
     "text": [
      "epoch 6: train loss:0.02177557535469532 val loss:0.7023827433586121 val acc:0.8228020071983337\n"
     ]
    },
    {
     "name": "stderr",
     "output_type": "stream",
     "text": [
      "100%|██████████| 315/315 [00:06<00:00, 50.00it/s]\n",
      "100%|██████████| 79/79 [00:01<00:00, 47.01it/s]\n"
     ]
    },
    {
     "name": "stdout",
     "output_type": "stream",
     "text": [
      "epoch 7: train loss:0.015066392719745636 val loss:0.6938941478729248 val acc:0.8253302574157715\n"
     ]
    },
    {
     "name": "stderr",
     "output_type": "stream",
     "text": [
      "100%|██████████| 315/315 [00:05<00:00, 52.90it/s]\n",
      "100%|██████████| 79/79 [00:01<00:00, 49.27it/s]\n"
     ]
    },
    {
     "name": "stdout",
     "output_type": "stream",
     "text": [
      "epoch 8: train loss:0.010981000028550625 val loss:0.6898192763328552 val acc:0.825725793838501\n"
     ]
    },
    {
     "name": "stderr",
     "output_type": "stream",
     "text": [
      "100%|██████████| 315/315 [00:05<00:00, 53.19it/s]\n",
      "100%|██████████| 79/79 [00:01<00:00, 45.86it/s]"
     ]
    },
    {
     "name": "stdout",
     "output_type": "stream",
     "text": [
      "epoch 9: train loss:0.00827779434621334 val loss:0.6840303540229797 val acc:0.8301458358764648\n"
     ]
    },
    {
     "name": "stderr",
     "output_type": "stream",
     "text": [
      "\n"
     ]
    }
   ],
   "source": [
    "# n_epochs = N_EPOCHS\n",
    "\n",
    "for i in range(n_epochs):\n",
    "  model.train()\n",
    "  train_loss = 0\n",
    "  for x,y in tqdm(train_loader):\n",
    "    optimizer.zero_grad()\n",
    "    x, y = x.to(device), y.to(device)\n",
    "    preds = model(x)\n",
    "    loss = loss_function(preds,y)\n",
    "    train_loss += loss\n",
    "    loss.backward()\n",
    "    optimizer.step()\n",
    "\n",
    "  model.eval()\n",
    "  val_loss = 0\n",
    "  val_acc = 0\n",
    "  with torch.no_grad():\n",
    "    for x,y in  tqdm(test_loader):\n",
    "      x, y = x.to(device), y.to(device)\n",
    "      logits = model(x)\n",
    "      preds = logits.max(dim=1)[1]\n",
    "      val_acc += torch.mean((preds == y).float())\n",
    "      loss = loss_function(logits,y)\n",
    "      val_loss += loss\n",
    "\n",
    "\n",
    "  train_len = len(train_loader)\n",
    "  val_len = len(test_loader)\n",
    "\n",
    "  print(f'epoch {i}: train loss:{train_loss / train_len } val loss:{val_loss / val_len } val acc:{val_acc / val_len }')\n",
    "\n",
    "  losses_train_history['random'].append(train_loss / train_len)\n",
    "  losses_val_history['random'].append(val_loss / val_len)\n",
    "  acc_val_history['random'].append(val_acc / val_len)"
   ]
  },
  {
   "cell_type": "code",
   "execution_count": 24,
   "metadata": {
    "execution": {
     "iopub.execute_input": "2023-06-22T20:31:32.508039Z",
     "iopub.status.busy": "2023-06-22T20:31:32.507740Z",
     "iopub.status.idle": "2023-06-22T20:31:32.512971Z",
     "shell.execute_reply": "2023-06-22T20:31:32.512251Z",
     "shell.execute_reply.started": "2023-06-22T20:31:32.508018Z"
    },
    "id": "ZOqoilk1oAXz"
   },
   "outputs": [],
   "source": [
    "def get_loaders_weighted(train_dataset,test_dataset,weights,data_dir='cifar-100', batch_size=32, augments=[True, False], shuffles=[False, False]):\n",
    "    sampler = torch.utils.data.sampler.WeightedRandomSampler(weights, len(weights),replacement=False)\n",
    "    train_loader = torch.utils.data.DataLoader(\n",
    "        dataset=train_dataset,\n",
    "        batch_size=batch_size, sampler = sampler,\n",
    "        pin_memory=True, num_workers=2)\n",
    "    test_loader = torch.utils.data.DataLoader(\n",
    "        dataset=test_dataset,\n",
    "        batch_size=batch_size, shuffle=shuffles[1],\n",
    "        pin_memory=True, num_workers=2)\n",
    "\n",
    "    return train_loader, test_loader"
   ]
  },
  {
   "cell_type": "markdown",
   "metadata": {
    "id": "_akJAueX6pW7"
   },
   "source": [
    "2)hard first"
   ]
  },
  {
   "cell_type": "code",
   "execution_count": 25,
   "metadata": {
    "execution": {
     "iopub.execute_input": "2023-06-22T20:31:32.517709Z",
     "iopub.status.busy": "2023-06-22T20:31:32.517181Z",
     "iopub.status.idle": "2023-06-22T20:31:32.716593Z",
     "shell.execute_reply": "2023-06-22T20:31:32.714514Z",
     "shell.execute_reply.started": "2023-06-22T20:31:32.517676Z"
    },
    "id": "OX8zfZppows8"
   },
   "outputs": [
    {
     "name": "stdout",
     "output_type": "stream",
     "text": [
      "Model is on device: cuda\n"
     ]
    }
   ],
   "source": [
    "model_transfer = resnet18(weights='DEFAULT')\n",
    "model_transfer.fc = nn.Linear(512,num_classes)\n",
    "optimizer = torch.optim.Adam(model_transfer.parameters(),lr=.5e-4)\n",
    "loss_function = nn.CrossEntropyLoss()\n",
    "model_transfer.to(device)\n",
    "print(f'Model is on device: {device}')"
   ]
  },
  {
   "cell_type": "code",
   "execution_count": 26,
   "metadata": {
    "execution": {
     "iopub.execute_input": "2023-06-22T20:31:32.717848Z",
     "iopub.status.busy": "2023-06-22T20:31:32.717590Z",
     "iopub.status.idle": "2023-06-22T20:32:51.402397Z",
     "shell.execute_reply": "2023-06-22T20:32:51.400043Z",
     "shell.execute_reply.started": "2023-06-22T20:31:32.717829Z"
    },
    "id": "zh1Sj-vEo8y5"
   },
   "outputs": [
    {
     "name": "stderr",
     "output_type": "stream",
     "text": [
      "100%|██████████| 315/315 [00:06<00:00, 49.81it/s]\n",
      "100%|██████████| 79/79 [00:01<00:00, 46.67it/s]\n"
     ]
    },
    {
     "name": "stdout",
     "output_type": "stream",
     "text": [
      "epoch 0: train loss:3.2252566814422607 val loss:1.7314281463623047  val acc:0.6521739363670349\n"
     ]
    },
    {
     "name": "stderr",
     "output_type": "stream",
     "text": [
      "100%|██████████| 315/315 [00:06<00:00, 51.11it/s]\n",
      "100%|██████████| 79/79 [00:01<00:00, 46.74it/s]\n"
     ]
    },
    {
     "name": "stdout",
     "output_type": "stream",
     "text": [
      "epoch 1: train loss:1.20842707157135 val loss:0.9298898577690125  val acc:0.7951981425285339\n"
     ]
    },
    {
     "name": "stderr",
     "output_type": "stream",
     "text": [
      "100%|██████████| 315/315 [00:06<00:00, 50.58it/s]\n",
      "100%|██████████| 79/79 [00:01<00:00, 43.42it/s]\n"
     ]
    },
    {
     "name": "stdout",
     "output_type": "stream",
     "text": [
      "epoch 2: train loss:0.5868143439292908 val loss:0.7181520462036133  val acc:0.8284947872161865\n"
     ]
    },
    {
     "name": "stderr",
     "output_type": "stream",
     "text": [
      "100%|██████████| 315/315 [00:06<00:00, 49.14it/s]\n",
      "100%|██████████| 79/79 [00:01<00:00, 45.77it/s]\n"
     ]
    },
    {
     "name": "stdout",
     "output_type": "stream",
     "text": [
      "epoch 3: train loss:0.315545916557312 val loss:0.6243151426315308  val acc:0.8404478430747986\n"
     ]
    },
    {
     "name": "stderr",
     "output_type": "stream",
     "text": [
      "100%|██████████| 315/315 [00:06<00:00, 50.07it/s]\n",
      "100%|██████████| 79/79 [00:01<00:00, 48.74it/s]\n"
     ]
    },
    {
     "name": "stdout",
     "output_type": "stream",
     "text": [
      "epoch 4: train loss:0.17158979177474976 val loss:0.5825029611587524  val acc:0.8518334031105042\n"
     ]
    },
    {
     "name": "stderr",
     "output_type": "stream",
     "text": [
      "100%|██████████| 315/315 [00:06<00:00, 50.34it/s]\n",
      "100%|██████████| 79/79 [00:01<00:00, 47.60it/s]\n"
     ]
    },
    {
     "name": "stdout",
     "output_type": "stream",
     "text": [
      "epoch 5: train loss:0.09290450811386108 val loss:0.5743951797485352  val acc:0.8500103950500488\n"
     ]
    },
    {
     "name": "stderr",
     "output_type": "stream",
     "text": [
      "100%|██████████| 315/315 [00:05<00:00, 52.52it/s]\n",
      "100%|██████████| 79/79 [00:01<00:00, 49.99it/s]\n"
     ]
    },
    {
     "name": "stdout",
     "output_type": "stream",
     "text": [
      "epoch 6: train loss:0.05743588134646416 val loss:0.5654063820838928  val acc:0.8528653383255005\n"
     ]
    },
    {
     "name": "stderr",
     "output_type": "stream",
     "text": [
      "100%|██████████| 315/315 [00:06<00:00, 51.12it/s]\n",
      "100%|██████████| 79/79 [00:01<00:00, 50.69it/s]\n"
     ]
    },
    {
     "name": "stdout",
     "output_type": "stream",
     "text": [
      "epoch 7: train loss:0.038466472178697586 val loss:0.5683885812759399  val acc:0.8577669858932495\n"
     ]
    },
    {
     "name": "stderr",
     "output_type": "stream",
     "text": [
      "100%|██████████| 315/315 [00:05<00:00, 52.98it/s]\n",
      "100%|██████████| 79/79 [00:01<00:00, 46.89it/s]\n"
     ]
    },
    {
     "name": "stdout",
     "output_type": "stream",
     "text": [
      "epoch 8: train loss:0.027635084465146065 val loss:0.563559353351593  val acc:0.856975793838501\n"
     ]
    },
    {
     "name": "stderr",
     "output_type": "stream",
     "text": [
      "100%|██████████| 315/315 [00:06<00:00, 50.91it/s]\n",
      "100%|██████████| 79/79 [00:01<00:00, 49.76it/s]"
     ]
    },
    {
     "name": "stdout",
     "output_type": "stream",
     "text": [
      "epoch 9: train loss:0.02121761627495289 val loss:0.5681321024894714  val acc:0.8585581183433533\n"
     ]
    },
    {
     "name": "stderr",
     "output_type": "stream",
     "text": [
      "\n"
     ]
    }
   ],
   "source": [
    "\n",
    "for i in range(n_epochs):\n",
    "  if i < n_epochs//2:\n",
    "    weights =  (1+acc_on_sample_class) ** (-2)\n",
    "  else:\n",
    "    weigths = np.array([1]*len(acc_on_sample_class))\n",
    "  train_loader,test_loader = get_loaders_weighted(train_dataset,test_dataset,weights)\n",
    "  model_transfer.train()\n",
    "  train_loss = 0\n",
    "  for x,y in tqdm(train_loader):\n",
    "    optimizer.zero_grad()\n",
    "    x, y = x.to(device), y.to(device)\n",
    "    preds = model_transfer(x)\n",
    "    loss = loss_function(preds,y)\n",
    "    train_loss += loss\n",
    "    loss.backward()\n",
    "    optimizer.step()\n",
    "\n",
    "  model_transfer.eval()\n",
    "  val_loss = 0\n",
    "  val_acc = 0\n",
    "  with torch.no_grad():\n",
    "    for x,y in  tqdm(test_loader):\n",
    "      x, y = x.to(device), y.to(device)\n",
    "      logits = model_transfer(x)\n",
    "      preds = logits.max(dim=1)[1]\n",
    "      val_acc += torch.mean((preds == y).float())\n",
    "      loss = loss_function(logits,y)\n",
    "      val_loss += loss\n",
    "\n",
    "\n",
    "  train_len = len(train_loader)\n",
    "  val_len = len(test_loader)\n",
    "  print(f'epoch {i}: train loss:{train_loss / train_len } val loss:{val_loss / val_len }  val acc:{val_acc / val_len }')\n",
    "\n",
    "  losses_train_history['hard first'].append(train_loss / train_len)\n",
    "  losses_val_history['hard first'].append(val_loss / val_len)\n",
    "  acc_val_history['hard first'].append(val_acc / val_len)"
   ]
  },
  {
   "cell_type": "markdown",
   "metadata": {
    "id": "hLy_OUfgEeEV"
   },
   "source": [
    "3)easy first"
   ]
  },
  {
   "cell_type": "code",
   "execution_count": 27,
   "metadata": {
    "execution": {
     "iopub.execute_input": "2023-06-22T20:32:51.403722Z",
     "iopub.status.busy": "2023-06-22T20:32:51.403486Z",
     "iopub.status.idle": "2023-06-22T20:32:51.723690Z",
     "shell.execute_reply": "2023-06-22T20:32:51.723190Z",
     "shell.execute_reply.started": "2023-06-22T20:32:51.403701Z"
    },
    "id": "1hVkZZzF68YO"
   },
   "outputs": [
    {
     "name": "stdout",
     "output_type": "stream",
     "text": [
      "Model is on device: cuda\n"
     ]
    }
   ],
   "source": [
    "model_transfer = resnet18(weights='DEFAULT')\n",
    "model_transfer.fc = nn.Linear(512,num_classes)\n",
    "optimizer = torch.optim.Adam(model_transfer.parameters(),lr=.5e-4)\n",
    "loss_function = nn.CrossEntropyLoss()\n",
    "model_transfer.to(device)\n",
    "print(f'Model is on device: {device}')"
   ]
  },
  {
   "cell_type": "code",
   "execution_count": 28,
   "metadata": {
    "execution": {
     "iopub.execute_input": "2023-06-22T20:32:51.725226Z",
     "iopub.status.busy": "2023-06-22T20:32:51.724616Z",
     "iopub.status.idle": "2023-06-22T20:34:09.760750Z",
     "shell.execute_reply": "2023-06-22T20:34:09.759970Z",
     "shell.execute_reply.started": "2023-06-22T20:32:51.725174Z"
    },
    "id": "UzhN0fg87FjX"
   },
   "outputs": [
    {
     "name": "stderr",
     "output_type": "stream",
     "text": [
      "100%|██████████| 315/315 [00:06<00:00, 52.02it/s]\n",
      "100%|██████████| 79/79 [00:01<00:00, 42.26it/s]\n"
     ]
    },
    {
     "name": "stdout",
     "output_type": "stream",
     "text": [
      "epoch 0: train loss:3.2369229793548584 val loss:1.7909111976623535  val acc:0.6232973337173462\n"
     ]
    },
    {
     "name": "stderr",
     "output_type": "stream",
     "text": [
      "100%|██████████| 315/315 [00:06<00:00, 51.21it/s]\n",
      "100%|██████████| 79/79 [00:01<00:00, 47.42it/s]\n"
     ]
    },
    {
     "name": "stdout",
     "output_type": "stream",
     "text": [
      "epoch 1: train loss:1.2306267023086548 val loss:0.930098831653595  val acc:0.7895053625106812\n"
     ]
    },
    {
     "name": "stderr",
     "output_type": "stream",
     "text": [
      "100%|██████████| 315/315 [00:05<00:00, 52.73it/s]\n",
      "100%|██████████| 79/79 [00:01<00:00, 49.22it/s]\n"
     ]
    },
    {
     "name": "stdout",
     "output_type": "stream",
     "text": [
      "epoch 2: train loss:0.596340000629425 val loss:0.7106826901435852  val acc:0.8246250748634338\n"
     ]
    },
    {
     "name": "stderr",
     "output_type": "stream",
     "text": [
      "100%|██████████| 315/315 [00:06<00:00, 48.62it/s]\n",
      "100%|██████████| 79/79 [00:01<00:00, 48.07it/s]\n"
     ]
    },
    {
     "name": "stdout",
     "output_type": "stream",
     "text": [
      "epoch 3: train loss:0.3144489824771881 val loss:0.6244058012962341  val acc:0.8395019769668579\n"
     ]
    },
    {
     "name": "stderr",
     "output_type": "stream",
     "text": [
      "100%|██████████| 315/315 [00:06<00:00, 52.22it/s]\n",
      "100%|██████████| 79/79 [00:01<00:00, 50.63it/s]\n"
     ]
    },
    {
     "name": "stdout",
     "output_type": "stream",
     "text": [
      "epoch 4: train loss:0.1687803417444229 val loss:0.5929400324821472  val acc:0.8471725583076477\n"
     ]
    },
    {
     "name": "stderr",
     "output_type": "stream",
     "text": [
      "100%|██████████| 315/315 [00:06<00:00, 49.03it/s]\n",
      "100%|██████████| 79/79 [00:01<00:00, 47.81it/s]\n"
     ]
    },
    {
     "name": "stdout",
     "output_type": "stream",
     "text": [
      "epoch 5: train loss:0.09622643887996674 val loss:0.5670260787010193  val acc:0.8584032654762268\n"
     ]
    },
    {
     "name": "stderr",
     "output_type": "stream",
     "text": [
      "100%|██████████| 315/315 [00:06<00:00, 50.87it/s]\n",
      "100%|██████████| 79/79 [00:01<00:00, 46.89it/s]\n"
     ]
    },
    {
     "name": "stdout",
     "output_type": "stream",
     "text": [
      "epoch 6: train loss:0.05526585876941681 val loss:0.5652989149093628  val acc:0.8560298681259155\n"
     ]
    },
    {
     "name": "stderr",
     "output_type": "stream",
     "text": [
      "100%|██████████| 315/315 [00:06<00:00, 51.58it/s]\n",
      "100%|██████████| 79/79 [00:01<00:00, 47.25it/s]\n"
     ]
    },
    {
     "name": "stdout",
     "output_type": "stream",
     "text": [
      "epoch 7: train loss:0.03833692520856857 val loss:0.5569219589233398  val acc:0.8590396046638489\n"
     ]
    },
    {
     "name": "stderr",
     "output_type": "stream",
     "text": [
      "100%|██████████| 315/315 [00:05<00:00, 52.91it/s]\n",
      "100%|██████████| 79/79 [00:01<00:00, 47.84it/s]\n"
     ]
    },
    {
     "name": "stdout",
     "output_type": "stream",
     "text": [
      "epoch 8: train loss:0.027560967952013016 val loss:0.5497032403945923  val acc:0.8651279807090759\n"
     ]
    },
    {
     "name": "stderr",
     "output_type": "stream",
     "text": [
      "100%|██████████| 315/315 [00:05<00:00, 54.13it/s]\n",
      "100%|██████████| 79/79 [00:01<00:00, 45.05it/s]"
     ]
    },
    {
     "name": "stdout",
     "output_type": "stream",
     "text": [
      "epoch 9: train loss:0.021267985925078392 val loss:0.5611828565597534  val acc:0.857612133026123\n"
     ]
    },
    {
     "name": "stderr",
     "output_type": "stream",
     "text": [
      "\n"
     ]
    }
   ],
   "source": [
    "for i in range(n_epochs):\n",
    "  if i < n_epochs//2:\n",
    "    weights =  (1+acc_on_sample_class) ** (2)\n",
    "  else:\n",
    "    weigths = np.array([1]*len(acc_on_sample_class))\n",
    "  train_loader,test_loader = get_loaders_weighted(train_dataset,test_dataset,weights)\n",
    "  model_transfer.train()\n",
    "  train_loss = 0\n",
    "  for x,y in tqdm(train_loader):\n",
    "    optimizer.zero_grad()\n",
    "    x, y = x.to(device), y.to(device)\n",
    "    preds = model_transfer(x)\n",
    "    loss = loss_function(preds,y)\n",
    "    train_loss += loss\n",
    "    loss.backward()\n",
    "    optimizer.step()\n",
    "\n",
    "  model_transfer.eval()\n",
    "  val_loss = 0\n",
    "  val_acc = 0\n",
    "  with torch.no_grad():\n",
    "    for x,y in  tqdm(test_loader):\n",
    "      x, y = x.to(device), y.to(device)\n",
    "      logits = model_transfer(x)\n",
    "      preds = logits.max(dim=1)[1]\n",
    "      val_acc += torch.mean((preds == y).float())\n",
    "      loss = loss_function(logits,y)\n",
    "      val_loss += loss\n",
    "\n",
    "\n",
    "  train_len = len(train_loader)\n",
    "  val_len = len(test_loader)\n",
    "  print(f'epoch {i}: train loss:{train_loss / train_len } val loss:{val_loss / val_len }  val acc:{val_acc / val_len }')\n",
    "\n",
    "  losses_train_history['easy first'].append(train_loss / train_len)\n",
    "  losses_val_history['easy first'].append(val_loss / val_len)\n",
    "  acc_val_history['easy first'].append(val_acc / val_len)"
   ]
  },
  {
   "cell_type": "code",
   "execution_count": 29,
   "metadata": {
    "execution": {
     "iopub.execute_input": "2023-06-22T20:34:09.762031Z",
     "iopub.status.busy": "2023-06-22T20:34:09.761798Z",
     "iopub.status.idle": "2023-06-22T20:34:09.766391Z",
     "shell.execute_reply": "2023-06-22T20:34:09.765621Z",
     "shell.execute_reply.started": "2023-06-22T20:34:09.762009Z"
    },
    "id": "PwJO4Kg_DWBc"
   },
   "outputs": [],
   "source": [
    "def tensor_list_to_list(list_of_tensors):\n",
    "  return [t.item() for t in list_of_tensors]"
   ]
  },
  {
   "cell_type": "markdown",
   "metadata": {
    "id": "eI2jLXxQsazi"
   },
   "source": [
    "4)mixed"
   ]
  },
  {
   "cell_type": "code",
   "execution_count": 30,
   "metadata": {
    "execution": {
     "iopub.execute_input": "2023-06-22T20:34:09.767473Z",
     "iopub.status.busy": "2023-06-22T20:34:09.767290Z",
     "iopub.status.idle": "2023-06-22T20:34:10.085377Z",
     "shell.execute_reply": "2023-06-22T20:34:10.084624Z",
     "shell.execute_reply.started": "2023-06-22T20:34:09.767457Z"
    },
    "id": "gqsv1MPd13Gt"
   },
   "outputs": [
    {
     "name": "stdout",
     "output_type": "stream",
     "text": [
      "Model is on device: cuda\n"
     ]
    }
   ],
   "source": [
    "model_transfer = resnet18(weights='DEFAULT')\n",
    "model_transfer.fc = nn.Linear(512,num_classes)\n",
    "optimizer = torch.optim.Adam(model_transfer.parameters(),lr=.5e-4)\n",
    "loss_function = nn.CrossEntropyLoss()\n",
    "model_transfer.to(device)\n",
    "print(f'Model is on device: {device}')"
   ]
  },
  {
   "cell_type": "code",
   "execution_count": 31,
   "metadata": {
    "execution": {
     "iopub.execute_input": "2023-06-22T20:34:10.086790Z",
     "iopub.status.busy": "2023-06-22T20:34:10.086373Z",
     "iopub.status.idle": "2023-06-22T20:35:23.675390Z",
     "shell.execute_reply": "2023-06-22T20:35:23.674592Z",
     "shell.execute_reply.started": "2023-06-22T20:34:10.086767Z"
    },
    "id": "VA6wzQWD2aa6"
   },
   "outputs": [
    {
     "name": "stderr",
     "output_type": "stream",
     "text": [
      "100%|██████████| 315/315 [00:06<00:00, 51.64it/s]\n",
      "100%|██████████| 79/79 [00:01<00:00, 46.93it/s]\n"
     ]
    },
    {
     "name": "stdout",
     "output_type": "stream",
     "text": [
      "epoch 0: train loss:3.1691184043884277 val loss:1.689974308013916  val acc:0.6604809165000916\n"
     ]
    },
    {
     "name": "stderr",
     "output_type": "stream",
     "text": [
      "100%|██████████| 315/315 [00:05<00:00, 55.43it/s]\n",
      "100%|██████████| 79/79 [00:01<00:00, 50.80it/s]\n"
     ]
    },
    {
     "name": "stdout",
     "output_type": "stream",
     "text": [
      "epoch 1: train loss:1.1778614521026611 val loss:0.9300628304481506  val acc:0.7842770218849182\n"
     ]
    },
    {
     "name": "stderr",
     "output_type": "stream",
     "text": [
      "100%|██████████| 315/315 [00:05<00:00, 56.49it/s]\n",
      "100%|██████████| 79/79 [00:01<00:00, 47.66it/s]\n"
     ]
    },
    {
     "name": "stdout",
     "output_type": "stream",
     "text": [
      "epoch 2: train loss:0.5744212865829468 val loss:0.6986722946166992  val acc:0.8313497304916382\n"
     ]
    },
    {
     "name": "stderr",
     "output_type": "stream",
     "text": [
      "100%|██████████| 315/315 [00:05<00:00, 56.07it/s]\n",
      "100%|██████████| 79/79 [00:01<00:00, 48.99it/s]\n"
     ]
    },
    {
     "name": "stdout",
     "output_type": "stream",
     "text": [
      "epoch 3: train loss:0.31487154960632324 val loss:0.611339271068573  val acc:0.8466910123825073\n"
     ]
    },
    {
     "name": "stderr",
     "output_type": "stream",
     "text": [
      "100%|██████████| 315/315 [00:06<00:00, 52.47it/s]\n",
      "100%|██████████| 79/79 [00:01<00:00, 48.12it/s]\n"
     ]
    },
    {
     "name": "stdout",
     "output_type": "stream",
     "text": [
      "epoch 4: train loss:0.1657567173242569 val loss:0.5790117383003235  val acc:0.8571306467056274\n"
     ]
    },
    {
     "name": "stderr",
     "output_type": "stream",
     "text": [
      "100%|██████████| 315/315 [00:05<00:00, 54.03it/s]\n",
      "100%|██████████| 79/79 [00:01<00:00, 53.17it/s]\n"
     ]
    },
    {
     "name": "stdout",
     "output_type": "stream",
     "text": [
      "epoch 5: train loss:0.0964846983551979 val loss:0.565852701663971  val acc:0.8602951765060425\n"
     ]
    },
    {
     "name": "stderr",
     "output_type": "stream",
     "text": [
      "100%|██████████| 315/315 [00:05<00:00, 55.47it/s]\n",
      "100%|██████████| 79/79 [00:01<00:00, 52.68it/s]\n"
     ]
    },
    {
     "name": "stdout",
     "output_type": "stream",
     "text": [
      "epoch 6: train loss:0.05746462941169739 val loss:0.5453941226005554  val acc:0.8646464347839355\n"
     ]
    },
    {
     "name": "stderr",
     "output_type": "stream",
     "text": [
      "100%|██████████| 315/315 [00:05<00:00, 56.75it/s]\n",
      "100%|██████████| 79/79 [00:01<00:00, 50.03it/s]\n"
     ]
    },
    {
     "name": "stdout",
     "output_type": "stream",
     "text": [
      "epoch 7: train loss:0.03847644850611687 val loss:0.5539934039115906  val acc:0.8634597659111023\n"
     ]
    },
    {
     "name": "stderr",
     "output_type": "stream",
     "text": [
      "100%|██████████| 315/315 [00:05<00:00, 55.29it/s]\n",
      "100%|██████████| 79/79 [00:01<00:00, 46.90it/s]\n"
     ]
    },
    {
     "name": "stdout",
     "output_type": "stream",
     "text": [
      "epoch 8: train loss:0.026982152834534645 val loss:0.5441076159477234  val acc:0.86638343334198\n"
     ]
    },
    {
     "name": "stderr",
     "output_type": "stream",
     "text": [
      "100%|██████████| 315/315 [00:05<00:00, 53.66it/s]\n",
      "100%|██████████| 79/79 [00:01<00:00, 53.68it/s]"
     ]
    },
    {
     "name": "stdout",
     "output_type": "stream",
     "text": [
      "epoch 9: train loss:0.020068101584911346 val loss:0.5397237539291382  val acc:0.8655923008918762\n"
     ]
    },
    {
     "name": "stderr",
     "output_type": "stream",
     "text": [
      "\n"
     ]
    }
   ],
   "source": [
    "\n",
    "for i in range(n_epochs):\n",
    "  weights = 1. / ( acc_on_sample_class + 1.0)**((n_epochs//2 - i) / 10)\n",
    "  train_loader,test_loader = get_loaders_weighted(train_dataset,test_dataset,weights)\n",
    "  model_transfer.train()\n",
    "  train_loss = 0\n",
    "  for x,y in tqdm(train_loader):\n",
    "    optimizer.zero_grad()\n",
    "    x, y = x.to(device), y.to(device)\n",
    "    preds = model_transfer(x)\n",
    "    loss = loss_function(preds,y)\n",
    "    train_loss += loss\n",
    "    loss.backward()\n",
    "    optimizer.step()\n",
    "\n",
    "  model_transfer.eval()\n",
    "  val_loss = 0\n",
    "  val_acc = 0\n",
    "  with torch.no_grad():\n",
    "    for x,y in  tqdm(test_loader):\n",
    "      x, y = x.to(device), y.to(device)\n",
    "      logits = model_transfer(x)\n",
    "      preds = logits.max(dim=1)[1]\n",
    "      val_acc += torch.mean((preds == y).float())\n",
    "      loss = loss_function(logits,y)\n",
    "      val_loss += loss\n",
    "\n",
    "\n",
    "  train_len = len(train_loader)\n",
    "  val_len = len(test_loader)\n",
    "  print(f'epoch {i}: train loss:{train_loss / train_len } val loss:{val_loss / val_len }  val acc:{val_acc / val_len }')\n",
    "\n",
    "  losses_train_history['mixed'].append(train_loss / train_len)\n",
    "  losses_val_history['mixed'].append(val_loss / val_len)\n",
    "  acc_val_history['mixed'].append(val_acc / val_len)"
   ]
  },
  {
   "cell_type": "code",
   "execution_count": 35,
   "metadata": {
    "execution": {
     "iopub.execute_input": "2023-06-22T20:43:51.138569Z",
     "iopub.status.busy": "2023-06-22T20:43:51.137674Z",
     "iopub.status.idle": "2023-06-22T20:43:51.987820Z",
     "shell.execute_reply": "2023-06-22T20:43:51.987407Z",
     "shell.execute_reply.started": "2023-06-22T20:43:51.138542Z"
    },
    "id": "kxRW5uTBsazj"
   },
   "outputs": [
    {
     "data": {
      "image/png": "[encoded data removed]",
      "text/plain": [
       "<Figure size 1400x400 with 3 Axes>"
      ]
     },
     "metadata": {},
     "output_type": "display_data"
    }
   ],
   "source": [
    "def tensor_to_list(t):\n",
    "    return [el.item() for el in t][:12]\n",
    "\n",
    "fig,axes = plt.subplots(1,3,figsize=(14,4),constrained_layout=True)\n",
    "\n",
    "for mode in acc_val_history.keys():\n",
    "    axes[2].plot(range(n_epochs), tensor_to_list(acc_val_history[mode]),label=mode)\n",
    "    axes[2].legend()\n",
    "    axes[2].set_xticks(range(n_epochs))\n",
    "\n",
    "axes[2].set_title('Test Accuracy')\n",
    "\n",
    "\n",
    "for mode in losses_val_history.keys():\n",
    "    axes[1].plot(range(n_epochs), tensor_to_list(losses_val_history[mode]),label=mode)\n",
    "\n",
    "axes[1].set_title('Test Loss')\n",
    "axes[1].legend()\n",
    "axes[1].set_xticks(range(n_epochs))\n",
    "\n",
    "for index,ax in enumerate(axes):\n",
    "    ax.set_xlabel('epoch')\n",
    "    ax.set_ylabel('loss' if index < 2 else 'accuracy')\n",
    "\n",
    "for mode in losses_train_history.keys():\n",
    "    axes[0].plot(range(n_epochs), tensor_to_list(losses_train_history[mode]),label=mode)\n",
    "\n",
    "axes[0].set_title('Train Loss')\n",
    "axes[0].legend()\n",
    "axes[0].set_xticks(range(n_epochs))\n",
    "\n",
    "plt.savefig('butterfly_tr_cl_metrics.png')\n"
   ]
  },
  {
   "cell_type": "code",
   "execution_count": 34,
   "metadata": {
    "execution": {
     "iopub.execute_input": "2023-06-22T20:37:10.013869Z",
     "iopub.status.busy": "2023-06-22T20:37:10.013168Z",
     "iopub.status.idle": "2023-06-22T20:37:10.269921Z",
     "shell.execute_reply": "2023-06-22T20:37:10.269434Z",
     "shell.execute_reply.started": "2023-06-22T20:37:10.013845Z"
    },
    "id": "h8sH5tfWsazk"
   },
   "outputs": [
    {
     "data": {
      "image/png": "[encoded data removed]",
      "text/plain": [
       "<Figure size 640x480 with 1 Axes>"
      ]
     },
     "metadata": {},
     "output_type": "display_data"
    }
   ],
   "source": [
    "num_samples = len(acc_on_sample_class)\n",
    "on_curr_weights = 1. / (acc_on_sample_class + 1.0)**(2)\n",
    "anti_curr_weights = 1. / (acc_on_sample_class + 1.0)**(-2)\n",
    "plt.plot(range(num_samples),on_curr_weights,label='on-curriculum',c='green')\n",
    "plt.plot(range(num_samples),anti_curr_weights,label='anti-curriculum')\n",
    "plt.xlabel('sample index')\n",
    "plt.ylabel('weight')\n",
    "plt.legend()\n",
    "plt.savefig('sample weights.png')"
   ]
  },
  {
   "cell_type": "code",
   "execution_count": null,
   "metadata": {
    "execution": {
     "iopub.status.busy": "2023-06-22T20:35:25.219625Z",
     "iopub.status.idle": "2023-06-22T20:35:25.219868Z",
     "shell.execute_reply": "2023-06-22T20:35:25.219753Z",
     "shell.execute_reply.started": "2023-06-22T20:35:25.219742Z"
    },
    "id": "CNEQm3rJTvr1"
   },
   "outputs": [],
   "source": [
    "model.eval()\n",
    "true_test_dataset = datasets.ImageFolder(\n",
    "    root='/content/test',\n",
    "    transform=transformation\n",
    ")\n",
    "\n",
    "true_test_loader = torch.utils.data.DataLoader(\n",
    "    dataset=true_test_dataset,\n",
    "    batch_size=2, shuffle=True,\n",
    "    pin_memory=True, num_workers=2)\n",
    "\n",
    "acc = 0\n",
    "\n",
    "for x,y in test_loader:\n",
    "    x,y  = x.to(device),y.to(device)\n",
    "    preds = model(x).max(1)[1]\n",
    "    acc += torch.mean((preds == y).float())\n",
    "\n",
    "acc / len(test_loader)"
   ]
  }
 ],
 "metadata": {
  "accelerator": "GPU",
  "colab": {
   "gpuType": "T4",
   "provenance": []
  },
  "kernelspec": {
   "display_name": "Python 3 (ipykernel)",
   "language": "python",
   "name": "python3"
  },
  "language_info": {
   "codemirror_mode": {
    "name": "ipython",
    "version": 3
   },
   "file_extension": ".py",
   "mimetype": "text/x-python",
   "name": "python",
   "nbconvert_exporter": "python",
   "pygments_lexer": "ipython3",
   "version": "3.9.16"
  }
 },
 "nbformat": 4,
 "nbformat_minor": 4
}
