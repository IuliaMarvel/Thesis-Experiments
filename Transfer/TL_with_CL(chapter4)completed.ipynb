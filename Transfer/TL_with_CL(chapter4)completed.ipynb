{
 "cells": [
  {
   "cell_type": "markdown",
   "metadata": {
    "id": "U4N4ZWC9M6Zr"
   },
   "source": [
    "Взять CIFAR100 и обучить resnet18 с нуля на нем\n",
    "\n",
    "Определить легкие и тяжелые объекты по лоссам итоговой модели\n",
    "\n",
    "Взять другую модель и обучить её для CIFAR100  двумя способами:\n",
    "\n",
    "1)объекты в рандомном порядке n эпох\n",
    "\n",
    "2)чем больше номер эпохи чем больше вероятность выбрать сложный объект \n",
    "\n",
    "(да,распределение на индексах:вероятность выбрать объект сначала тем меньше,тем он сложнее,по ходу обучения распределение выходит на равномерное)"
   ]
  },
  {
   "cell_type": "markdown",
   "metadata": {},
   "source": [
    "#1\n",
    "Load vgg16_bn model pretrained on CIFAR100 and get losses for train_data with it"
   ]
  },
  {
   "cell_type": "code",
   "execution_count": 1,
   "metadata": {
    "execution": {
     "iopub.execute_input": "2023-06-18T13:54:25.970475Z",
     "iopub.status.busy": "2023-06-18T13:54:25.969779Z",
     "iopub.status.idle": "2023-06-18T13:54:27.846302Z",
     "shell.execute_reply": "2023-06-18T13:54:27.845498Z",
     "shell.execute_reply.started": "2023-06-18T13:54:25.970410Z"
    }
   },
   "outputs": [
    {
     "name": "stderr",
     "output_type": "stream",
     "text": [
      "/usr/local/lib/python3.9/dist-packages/torch/hub.py:266: UserWarning: You are about to download and run code from an untrusted repository. In a future release, this won't be allowed. To add the repository to your trusted list, change the command to {calling_fn}(..., trust_repo=False) and a command prompt will appear asking for an explicit confirmation of trust, or load(..., trust_repo=True), which will assume that the prompt is to be answered with 'yes'. You can also use load(..., trust_repo='check') which will only prompt for confirmation if the repo is not already trusted. This will eventually be the default behaviour\n",
      "  warnings.warn(\n",
      "Downloading: \"https://github.com/chenyaofo/pytorch-cifar-models/zipball/master\" to /root/.cache/torch/hub/master.zip\n",
      "Downloading: \"https://github.com/chenyaofo/pytorch-cifar-models/releases/download/vgg/cifar100_vgg16_bn-7d8c4031.pt\" to /root/.cache/torch/hub/checkpoints/cifar100_vgg16_bn-7d8c4031.pt\n"
     ]
    },
    {
     "data": {
      "application/vnd.jupyter.widget-view+json": {
       "model_id": "05d7a59007ba448fb4a9e1ac6c677258",
       "version_major": 2,
       "version_minor": 0
      },
      "text/plain": [
       "  0%|          | 0.00/58.4M [00:00<?, ?B/s]"
      ]
     },
     "metadata": {},
     "output_type": "display_data"
    }
   ],
   "source": [
    "import torch\n",
    "model_for_weights = torch.hub.load(\"chenyaofo/pytorch-cifar-models\", \"cifar100_vgg16_bn\", pretrained=True)"
   ]
  },
  {
   "cell_type": "code",
   "execution_count": 2,
   "metadata": {
    "execution": {
     "iopub.execute_input": "2023-06-18T13:54:27.848568Z",
     "iopub.status.busy": "2023-06-18T13:54:27.847865Z",
     "iopub.status.idle": "2023-06-18T13:54:27.852748Z",
     "shell.execute_reply": "2023-06-18T13:54:27.851739Z",
     "shell.execute_reply.started": "2023-06-18T13:54:27.848544Z"
    }
   },
   "outputs": [
    {
     "name": "stdout",
     "output_type": "stream",
     "text": [
      "\n"
     ]
    }
   ],
   "source": [
    "model_for_weights.eval()\n",
    "print()"
   ]
  },
  {
   "cell_type": "code",
   "execution_count": 3,
   "metadata": {
    "execution": {
     "iopub.execute_input": "2023-06-18T13:54:27.856451Z",
     "iopub.status.busy": "2023-06-18T13:54:27.855884Z",
     "iopub.status.idle": "2023-06-18T13:54:28.444846Z",
     "shell.execute_reply": "2023-06-18T13:54:28.444002Z",
     "shell.execute_reply.started": "2023-06-18T13:54:27.856427Z"
    },
    "id": "he72z2pNMx6M"
   },
   "outputs": [],
   "source": [
    "import random\n",
    "import numpy as np\n",
    "import torch\n",
    "import torch.nn as nn\n",
    "import torch.nn.functional as F\n",
    "import os\n",
    "import pickle\n",
    "from torchvision import datasets, transforms\n",
    "from tqdm import tqdm\n",
    "from copy import deepcopy\n",
    "from collections import OrderedDict\n",
    "import matplotlib.pyplot as plt\n",
    "\n",
    "def set_seed(seed):\n",
    "    random.seed(seed)\n",
    "    np.random.seed(seed)\n",
    "\n",
    "    torch.manual_seed(seed)\n",
    "    torch.cuda.manual_seed_all(seed)\n",
    "\n",
    "from tqdm import tqdm"
   ]
  },
  {
   "cell_type": "code",
   "execution_count": 4,
   "metadata": {
    "execution": {
     "iopub.execute_input": "2023-06-18T13:54:28.449092Z",
     "iopub.status.busy": "2023-06-18T13:54:28.448893Z",
     "iopub.status.idle": "2023-06-18T13:54:28.456013Z",
     "shell.execute_reply": "2023-06-18T13:54:28.455166Z",
     "shell.execute_reply.started": "2023-06-18T13:54:28.449092Z"
    },
    "id": "WvIYiUJ5N4Yl"
   },
   "outputs": [],
   "source": [
    "set_seed(42)"
   ]
  },
  {
   "cell_type": "code",
   "execution_count": 5,
   "metadata": {
    "execution": {
     "iopub.execute_input": "2023-06-18T13:54:28.459835Z",
     "iopub.status.busy": "2023-06-18T13:54:28.459663Z",
     "iopub.status.idle": "2023-06-18T13:54:28.464871Z",
     "shell.execute_reply": "2023-06-18T13:54:28.464160Z",
     "shell.execute_reply.started": "2023-06-18T13:54:28.459813Z"
    },
    "id": "F_3OQNVqRM3e"
   },
   "outputs": [],
   "source": [
    "def prepare_transforms(augments=[True, False]):\n",
    "    data_mean = (0.5071, 0.4865, 0.4409)\n",
    "    data_std = (0.2673, 0.2564, 0.2762)\n",
    "    # types of transform: with augmentation and without\n",
    "    transform_augmented = transforms.Compose([\n",
    "        #transforms.RandomCrop(32, padding=4),\n",
    "        transforms.RandomHorizontalFlip(),\n",
    "        transforms.ToTensor(),\n",
    "        transforms.Normalize(data_mean, data_std)])\n",
    "    transform_clean = transforms.Compose([\n",
    "        transforms.ToTensor(),\n",
    "        transforms.Normalize(data_mean, data_std)])\n",
    "    # choose transform according func params\n",
    "    train_transform = transform_augmented if augments[0] else transform_clean\n",
    "    test_transform = transform_augmented if augments[1] else transform_clean\n",
    "\n",
    "    return train_transform, test_transform"
   ]
  },
  {
   "cell_type": "code",
   "execution_count": 6,
   "metadata": {
    "execution": {
     "iopub.execute_input": "2023-06-18T13:54:28.467171Z",
     "iopub.status.busy": "2023-06-18T13:54:28.467044Z",
     "iopub.status.idle": "2023-06-18T13:54:28.472230Z",
     "shell.execute_reply": "2023-06-18T13:54:28.471582Z",
     "shell.execute_reply.started": "2023-06-18T13:54:28.467171Z"
    },
    "id": "7aRGX3ssN6dT"
   },
   "outputs": [],
   "source": [
    "def get_loaders(data_dir='cifar-100', batch_size=32, augments=[True, False], shuffles=[True, False]):\n",
    "    train_transform, test_transform = prepare_transforms(augments)\n",
    "    train_dataset = datasets.CIFAR100(\n",
    "            data_dir, train=True, transform=train_transform, download=True)\n",
    "    test_dataset = datasets.CIFAR100(\n",
    "            data_dir, train=False, transform=test_transform, download=True)\n",
    "\n",
    "    train_loader = torch.utils.data.DataLoader(\n",
    "        dataset=train_dataset,\n",
    "        batch_size=batch_size, shuffle=shuffles[0],\n",
    "        pin_memory=True, num_workers=2)\n",
    "    test_loader = torch.utils.data.DataLoader(\n",
    "        dataset=test_dataset,\n",
    "        batch_size=batch_size, shuffle=shuffles[1],\n",
    "        pin_memory=True, num_workers=2)\n",
    "\n",
    "    return train_loader, test_loader"
   ]
  },
  {
   "cell_type": "code",
   "execution_count": 7,
   "metadata": {
    "execution": {
     "iopub.execute_input": "2023-06-18T13:54:28.475679Z",
     "iopub.status.busy": "2023-06-18T13:54:28.475489Z",
     "iopub.status.idle": "2023-06-18T13:54:28.499645Z",
     "shell.execute_reply": "2023-06-18T13:54:28.498852Z",
     "shell.execute_reply.started": "2023-06-18T13:54:28.475659Z"
    },
    "id": "03GK7Vs-QuE0"
   },
   "outputs": [
    {
     "name": "stdout",
     "output_type": "stream",
     "text": [
      "cuda\n"
     ]
    }
   ],
   "source": [
    "device = 'cuda' if torch.cuda.is_available() else 'cpu'\n",
    "print(device)"
   ]
  },
  {
   "cell_type": "code",
   "execution_count": 8,
   "metadata": {
    "execution": {
     "iopub.execute_input": "2023-06-18T13:54:28.502988Z",
     "iopub.status.busy": "2023-06-18T13:54:28.502757Z",
     "iopub.status.idle": "2023-06-18T13:54:30.978127Z",
     "shell.execute_reply": "2023-06-18T13:54:30.977541Z",
     "shell.execute_reply.started": "2023-06-18T13:54:28.502960Z"
    }
   },
   "outputs": [
    {
     "name": "stdout",
     "output_type": "stream",
     "text": [
      "Files already downloaded and verified\n",
      "Files already downloaded and verified\n"
     ]
    }
   ],
   "source": [
    "train_loader,test_loader = get_loaders(shuffles=[False,False])"
   ]
  },
  {
   "cell_type": "code",
   "execution_count": 9,
   "metadata": {
    "execution": {
     "iopub.execute_input": "2023-06-18T13:54:30.981671Z",
     "iopub.status.busy": "2023-06-18T13:54:30.981347Z",
     "iopub.status.idle": "2023-06-18T13:54:32.384439Z",
     "shell.execute_reply": "2023-06-18T13:54:32.383690Z",
     "shell.execute_reply.started": "2023-06-18T13:54:30.981620Z"
    }
   },
   "outputs": [],
   "source": [
    "model_for_weights = model_for_weights.to(device)"
   ]
  },
  {
   "cell_type": "code",
   "execution_count": 10,
   "metadata": {
    "execution": {
     "iopub.execute_input": "2023-06-18T13:54:32.388161Z",
     "iopub.status.busy": "2023-06-18T13:54:32.387990Z",
     "iopub.status.idle": "2023-06-18T13:54:40.695700Z",
     "shell.execute_reply": "2023-06-18T13:54:40.695157Z",
     "shell.execute_reply.started": "2023-06-18T13:54:32.388161Z"
    }
   },
   "outputs": [
    {
     "name": "stderr",
     "output_type": "stream",
     "text": [
      "100%|██████████| 1563/1563 [00:08<00:00, 188.35it/s]\n"
     ]
    }
   ],
   "source": [
    "loss_function = nn.CrossEntropyLoss(reduction='none')\n",
    "loss_per_object = []\n",
    "with torch.no_grad():\n",
    "  for x,y in  tqdm(train_loader):\n",
    "      x, y = x.to(device), y.to(device)\n",
    "      preds = model_for_weights(x)\n",
    "      loss = loss_function(preds,y)\n",
    "      loss_per_object.append(loss)\n",
    "\n",
    "loss_per_object = torch.hstack(loss_per_object)"
   ]
  },
  {
   "cell_type": "code",
   "execution_count": 11,
   "metadata": {
    "execution": {
     "iopub.execute_input": "2023-06-18T13:54:40.698581Z",
     "iopub.status.busy": "2023-06-18T13:54:40.698299Z",
     "iopub.status.idle": "2023-06-18T13:54:40.702680Z",
     "shell.execute_reply": "2023-06-18T13:54:40.702257Z",
     "shell.execute_reply.started": "2023-06-18T13:54:40.698560Z"
    }
   },
   "outputs": [
    {
     "data": {
      "text/plain": [
       "torch.Size([50000])"
      ]
     },
     "execution_count": 11,
     "metadata": {},
     "output_type": "execute_result"
    }
   ],
   "source": [
    "loss_per_object.shape"
   ]
  },
  {
   "cell_type": "markdown",
   "metadata": {},
   "source": [
    "Make dict to save loss history on test_data for different curriclum modes"
   ]
  },
  {
   "cell_type": "code",
   "execution_count": 12,
   "metadata": {
    "execution": {
     "iopub.execute_input": "2023-06-18T13:54:40.705014Z",
     "iopub.status.busy": "2023-06-18T13:54:40.704515Z",
     "iopub.status.idle": "2023-06-18T13:54:40.707459Z",
     "shell.execute_reply": "2023-06-18T13:54:40.707091Z",
     "shell.execute_reply.started": "2023-06-18T13:54:40.704996Z"
    },
    "id": "_yadGxTR5aUK"
   },
   "outputs": [],
   "source": [
    "N_EPOCHS = 10\n",
    "losses_train_history = {'random':[],'hard first':[],'easy first':[],'mixed':[]}\n",
    "losses_val_history = {'random':[],'hard first':[],'easy first':[],'mixed':[]}"
   ]
  },
  {
   "cell_type": "markdown",
   "metadata": {
    "id": "wTzd-6xp55KN"
   },
   "source": [
    "1)Random"
   ]
  },
  {
   "cell_type": "code",
   "execution_count": 13,
   "metadata": {
    "execution": {
     "iopub.execute_input": "2023-06-18T13:54:40.709710Z",
     "iopub.status.busy": "2023-06-18T13:54:40.709260Z",
     "iopub.status.idle": "2023-06-18T13:54:41.051648Z",
     "shell.execute_reply": "2023-06-18T13:54:41.051084Z",
     "shell.execute_reply.started": "2023-06-18T13:54:40.709694Z"
    },
    "id": "IYZlLhGDR3Yo"
   },
   "outputs": [
    {
     "name": "stderr",
     "output_type": "stream",
     "text": [
      "Downloading: \"https://download.pytorch.org/models/resnet18-f37072fd.pth\" to /root/.cache/torch/hub/checkpoints/resnet18-f37072fd.pth\n"
     ]
    },
    {
     "data": {
      "application/vnd.jupyter.widget-view+json": {
       "model_id": "00a58cef06d0487e8c6ca92ca1acaee5",
       "version_major": 2,
       "version_minor": 0
      },
      "text/plain": [
       "  0%|          | 0.00/44.7M [00:00<?, ?B/s]"
      ]
     },
     "metadata": {},
     "output_type": "display_data"
    }
   ],
   "source": [
    "from torchvision.models import resnet18\n",
    "\n",
    "model = resnet18(weights='DEFAULT')\n",
    "model.fc = nn.Linear(512,100)"
   ]
  },
  {
   "cell_type": "code",
   "execution_count": 14,
   "metadata": {
    "colab": {
     "base_uri": "https://localhost:8080/"
    },
    "execution": {
     "iopub.execute_input": "2023-06-18T13:54:41.053006Z",
     "iopub.status.busy": "2023-06-18T13:54:41.052446Z",
     "iopub.status.idle": "2023-06-18T13:54:42.830652Z",
     "shell.execute_reply": "2023-06-18T13:54:42.829819Z",
     "shell.execute_reply.started": "2023-06-18T13:54:41.052987Z"
    },
    "id": "UU2Ug8hBTgsA",
    "outputId": "a2cad5b5-6d61-410a-8a45-766b700c8abb"
   },
   "outputs": [
    {
     "name": "stdout",
     "output_type": "stream",
     "text": [
      "Files already downloaded and verified\n",
      "Files already downloaded and verified\n"
     ]
    }
   ],
   "source": [
    "train_loader,test_loader = get_loaders()"
   ]
  },
  {
   "cell_type": "code",
   "execution_count": 15,
   "metadata": {
    "colab": {
     "base_uri": "https://localhost:8080/"
    },
    "execution": {
     "iopub.execute_input": "2023-06-18T13:54:42.831934Z",
     "iopub.status.busy": "2023-06-18T13:54:42.831718Z",
     "iopub.status.idle": "2023-06-18T13:54:42.847849Z",
     "shell.execute_reply": "2023-06-18T13:54:42.847095Z",
     "shell.execute_reply.started": "2023-06-18T13:54:42.831915Z"
    },
    "id": "OsQdljiNUR8K",
    "outputId": "743902f0-e875-4d96-a98e-6a8f14f8d23b"
   },
   "outputs": [
    {
     "name": "stdout",
     "output_type": "stream",
     "text": [
      "Model is on device: cuda\n"
     ]
    }
   ],
   "source": [
    "optimizer = torch.optim.Adam(model.parameters(),lr=1e-4)\n",
    "loss_function = nn.CrossEntropyLoss()\n",
    "model.to(device)\n",
    "print(f'Model is on device: {device}')"
   ]
  },
  {
   "cell_type": "code",
   "execution_count": 16,
   "metadata": {
    "colab": {
     "base_uri": "https://localhost:8080/"
    },
    "execution": {
     "iopub.execute_input": "2023-06-18T13:54:42.849899Z",
     "iopub.status.busy": "2023-06-18T13:54:42.849190Z",
     "iopub.status.idle": "2023-06-18T13:54:43.292485Z",
     "shell.execute_reply": "2023-06-18T13:54:43.291458Z",
     "shell.execute_reply.started": "2023-06-18T13:54:42.849870Z"
    },
    "id": "4HyKRmYWVpTA",
    "outputId": "4493ff37-dc37-4fea-bbae-28fbe4ab4c71"
   },
   "outputs": [
    {
     "name": "stdout",
     "output_type": "stream",
     "text": [
      "torch.Size([32, 3, 32, 32]) torch.Size([32])\n",
      "torch.Size([32, 100])\n"
     ]
    },
    {
     "data": {
      "text/plain": [
       "tensor(5.0416, device='cuda:0', grad_fn=<NllLossBackward0>)"
      ]
     },
     "execution_count": 16,
     "metadata": {},
     "output_type": "execute_result"
    }
   ],
   "source": [
    "for x,y in train_loader:\n",
    "  print(x.shape,y.shape)\n",
    "  break\n",
    "\n",
    "x = x.to(device)\n",
    "output = model(x)\n",
    "print(output.shape)\n",
    "\n",
    "y = y.to(device)\n",
    "loss = loss_function(output,y)\n",
    "loss"
   ]
  },
  {
   "cell_type": "code",
   "execution_count": 17,
   "metadata": {
    "colab": {
     "base_uri": "https://localhost:8080/"
    },
    "execution": {
     "iopub.execute_input": "2023-06-18T13:54:43.294100Z",
     "iopub.status.busy": "2023-06-18T13:54:43.293839Z",
     "iopub.status.idle": "2023-06-18T13:58:41.822814Z",
     "shell.execute_reply": "2023-06-18T13:58:41.822127Z",
     "shell.execute_reply.started": "2023-06-18T13:54:43.294075Z"
    },
    "id": "61FsZFjXT-k-",
    "outputId": "c2829e18-fdee-4091-f383-66b515f70286"
   },
   "outputs": [
    {
     "name": "stderr",
     "output_type": "stream",
     "text": [
      "100%|██████████| 1563/1563 [00:23<00:00, 65.20it/s]\n",
      "100%|██████████| 313/313 [00:01<00:00, 250.52it/s]\n"
     ]
    },
    {
     "name": "stdout",
     "output_type": "stream",
     "text": [
      "epoch 0: train loss:2.8231565952301025 val loss:2.0315730571746826\n"
     ]
    },
    {
     "name": "stderr",
     "output_type": "stream",
     "text": [
      "100%|██████████| 1563/1563 [00:22<00:00, 69.82it/s]\n",
      "100%|██████████| 313/313 [00:01<00:00, 249.18it/s]\n"
     ]
    },
    {
     "name": "stdout",
     "output_type": "stream",
     "text": [
      "epoch 1: train loss:1.9778093099594116 val loss:1.8031129837036133\n"
     ]
    },
    {
     "name": "stderr",
     "output_type": "stream",
     "text": [
      "100%|██████████| 1563/1563 [00:22<00:00, 69.85it/s]\n",
      "100%|██████████| 313/313 [00:01<00:00, 238.45it/s]\n"
     ]
    },
    {
     "name": "stdout",
     "output_type": "stream",
     "text": [
      "epoch 2: train loss:1.692697286605835 val loss:1.676113486289978\n"
     ]
    },
    {
     "name": "stderr",
     "output_type": "stream",
     "text": [
      "100%|██████████| 1563/1563 [00:23<00:00, 67.78it/s]\n",
      "100%|██████████| 313/313 [00:01<00:00, 208.97it/s]\n"
     ]
    },
    {
     "name": "stdout",
     "output_type": "stream",
     "text": [
      "epoch 3: train loss:1.4851351976394653 val loss:1.6240078210830688\n"
     ]
    },
    {
     "name": "stderr",
     "output_type": "stream",
     "text": [
      "100%|██████████| 1563/1563 [00:23<00:00, 66.59it/s]\n",
      "100%|██████████| 313/313 [00:01<00:00, 201.86it/s]\n"
     ]
    },
    {
     "name": "stdout",
     "output_type": "stream",
     "text": [
      "epoch 4: train loss:1.3275532722473145 val loss:1.5865141153335571\n"
     ]
    },
    {
     "name": "stderr",
     "output_type": "stream",
     "text": [
      "100%|██████████| 1563/1563 [00:23<00:00, 65.27it/s]\n",
      "100%|██████████| 313/313 [00:01<00:00, 199.57it/s]\n"
     ]
    },
    {
     "name": "stdout",
     "output_type": "stream",
     "text": [
      "epoch 5: train loss:1.1910167932510376 val loss:1.5779637098312378\n"
     ]
    },
    {
     "name": "stderr",
     "output_type": "stream",
     "text": [
      "100%|██████████| 1563/1563 [00:20<00:00, 74.50it/s]\n",
      "100%|██████████| 313/313 [00:01<00:00, 210.08it/s]\n"
     ]
    },
    {
     "name": "stdout",
     "output_type": "stream",
     "text": [
      "epoch 6: train loss:1.0800920724868774 val loss:1.5721746683120728\n"
     ]
    },
    {
     "name": "stderr",
     "output_type": "stream",
     "text": [
      "100%|██████████| 1563/1563 [00:21<00:00, 72.07it/s]\n",
      "100%|██████████| 313/313 [00:01<00:00, 249.56it/s]\n"
     ]
    },
    {
     "name": "stdout",
     "output_type": "stream",
     "text": [
      "epoch 7: train loss:0.9807401299476624 val loss:1.5997682809829712\n"
     ]
    },
    {
     "name": "stderr",
     "output_type": "stream",
     "text": [
      "100%|██████████| 1563/1563 [00:21<00:00, 73.24it/s]\n",
      "100%|██████████| 313/313 [00:01<00:00, 249.27it/s]\n"
     ]
    },
    {
     "name": "stdout",
     "output_type": "stream",
     "text": [
      "epoch 8: train loss:0.895101010799408 val loss:1.595463752746582\n"
     ]
    },
    {
     "name": "stderr",
     "output_type": "stream",
     "text": [
      "100%|██████████| 1563/1563 [00:21<00:00, 72.66it/s]\n",
      "100%|██████████| 313/313 [00:01<00:00, 243.72it/s]"
     ]
    },
    {
     "name": "stdout",
     "output_type": "stream",
     "text": [
      "epoch 9: train loss:0.8186473846435547 val loss:1.6339954137802124\n"
     ]
    },
    {
     "name": "stderr",
     "output_type": "stream",
     "text": [
      "\n"
     ]
    }
   ],
   "source": [
    "n_epochs = N_EPOCHS\n",
    "\n",
    "for i in range(n_epochs):\n",
    "  model.train()\n",
    "  train_loss = 0\n",
    "  for x,y in tqdm(train_loader):\n",
    "    optimizer.zero_grad()\n",
    "    x, y = x.to(device), y.to(device)\n",
    "    preds = model(x)\n",
    "    loss = loss_function(preds,y)\n",
    "    train_loss += loss\n",
    "    loss.backward()\n",
    "    optimizer.step()\n",
    "\n",
    "  model.eval()\n",
    "  val_loss = 0\n",
    "  with torch.no_grad():\n",
    "    for x,y in  tqdm(test_loader):\n",
    "      x, y = x.to(device), y.to(device)\n",
    "      preds = model(x)\n",
    "      loss = loss_function(preds,y)\n",
    "      val_loss += loss    \n",
    "  \n",
    "  train_len = len(train_loader)\n",
    "  val_len = len(test_loader)\n",
    "  print(f'epoch {i}: train loss:{train_loss / train_len } val loss:{val_loss / val_len }')\n",
    "  losses_train_history['random'].append(train_loss / train_len)\n",
    "  losses_val_history['random'].append(val_loss / val_len)"
   ]
  },
  {
   "cell_type": "code",
   "execution_count": 18,
   "metadata": {
    "colab": {
     "base_uri": "https://localhost:8080/"
    },
    "execution": {
     "iopub.execute_input": "2023-06-18T13:58:41.824044Z",
     "iopub.status.busy": "2023-06-18T13:58:41.823837Z",
     "iopub.status.idle": "2023-06-18T13:58:47.909372Z",
     "shell.execute_reply": "2023-06-18T13:58:47.908583Z",
     "shell.execute_reply.started": "2023-06-18T13:58:41.824025Z"
    },
    "id": "41l_VAnbdAYI",
    "outputId": "2dd0b10b-2981-41c9-e0ad-4da7e5f0bae5"
   },
   "outputs": [
    {
     "data": {
      "text/plain": [
       "tensor(0.8718, device='cuda:0')"
      ]
     },
     "execution_count": 18,
     "metadata": {},
     "output_type": "execute_result"
    }
   ],
   "source": [
    "val_acc = 0\n",
    "model.eval()\n",
    "for x,y in train_loader:\n",
    "  x,y = x.to(device), y.to(device)\n",
    "  logits = model(x)\n",
    "  preds = logits.max(1)[1]\n",
    "  val_acc += (y == preds).sum()\n",
    "\n",
    "val_acc / len(train_loader) / 32"
   ]
  },
  {
   "cell_type": "code",
   "execution_count": 19,
   "metadata": {
    "execution": {
     "iopub.execute_input": "2023-06-18T13:58:47.911202Z",
     "iopub.status.busy": "2023-06-18T13:58:47.910592Z",
     "iopub.status.idle": "2023-06-18T13:58:47.916724Z",
     "shell.execute_reply": "2023-06-18T13:58:47.915984Z",
     "shell.execute_reply.started": "2023-06-18T13:58:47.911131Z"
    },
    "id": "ZOqoilk1oAXz"
   },
   "outputs": [],
   "source": [
    "def get_loaders_weighted(weights,data_dir='cifar-100', batch_size=32, augments=[True, False], shuffles=[False, False]):\n",
    "    train_transform, test_transform = prepare_transforms(augments)\n",
    "    train_dataset = datasets.CIFAR100(\n",
    "            data_dir, train=True, transform=train_transform, download=True)\n",
    "    test_dataset = datasets.CIFAR100(\n",
    "            data_dir, train=False, transform=test_transform, download=True)\n",
    "\n",
    "    sampler = torch.utils.data.sampler.WeightedRandomSampler(weights, len(weights),replacement=False)                     \n",
    " \n",
    "    train_loader = torch.utils.data.DataLoader(\n",
    "        dataset=train_dataset,\n",
    "        batch_size=batch_size, sampler = sampler,\n",
    "        pin_memory=True, num_workers=2)\n",
    "    test_loader = torch.utils.data.DataLoader(\n",
    "        dataset=test_dataset,\n",
    "        batch_size=batch_size, shuffle=shuffles[1],\n",
    "        pin_memory=True, num_workers=2)\n",
    "    \n",
    "    return train_loader, test_loader"
   ]
  },
  {
   "cell_type": "markdown",
   "metadata": {
    "id": "_akJAueX6pW7"
   },
   "source": [
    "2)hard first"
   ]
  },
  {
   "cell_type": "code",
   "execution_count": 39,
   "metadata": {
    "colab": {
     "base_uri": "https://localhost:8080/"
    },
    "execution": {
     "iopub.execute_input": "2023-06-18T14:38:35.890522Z",
     "iopub.status.busy": "2023-06-18T14:38:35.889823Z",
     "iopub.status.idle": "2023-06-18T14:38:36.076922Z",
     "shell.execute_reply": "2023-06-18T14:38:36.075024Z",
     "shell.execute_reply.started": "2023-06-18T14:38:35.890495Z"
    },
    "id": "OX8zfZppows8",
    "outputId": "f3feccae-df0b-410b-c418-6442481d7396"
   },
   "outputs": [
    {
     "name": "stdout",
     "output_type": "stream",
     "text": [
      "Model is on device: cuda\n"
     ]
    }
   ],
   "source": [
    "model_transfer = resnet18(weights='DEFAULT')\n",
    "model_transfer.fc = nn.Linear(512,100)\n",
    "optimizer = torch.optim.Adam(model_transfer.parameters(),lr=1e-4)\n",
    "loss_function = nn.CrossEntropyLoss()\n",
    "model_transfer.to(device)\n",
    "print(f'Model is on device: {device}')"
   ]
  },
  {
   "cell_type": "code",
   "execution_count": 40,
   "metadata": {
    "colab": {
     "base_uri": "https://localhost:8080/"
    },
    "execution": {
     "iopub.execute_input": "2023-06-18T14:38:39.262589Z",
     "iopub.status.busy": "2023-06-18T14:38:39.262250Z",
     "iopub.status.idle": "2023-06-18T14:43:15.032088Z",
     "shell.execute_reply": "2023-06-18T14:43:15.031064Z",
     "shell.execute_reply.started": "2023-06-18T14:38:39.262566Z"
    },
    "id": "zh1Sj-vEo8y5",
    "outputId": "f9dbfacc-752d-4986-9364-6aa61dc281e1"
   },
   "outputs": [
    {
     "name": "stdout",
     "output_type": "stream",
     "text": [
      "Files already downloaded and verified\n",
      "Files already downloaded and verified\n"
     ]
    },
    {
     "name": "stderr",
     "output_type": "stream",
     "text": [
      "100%|██████████| 1563/1563 [00:23<00:00, 65.33it/s]\n",
      "100%|██████████| 313/313 [00:01<00:00, 183.62it/s]\n"
     ]
    },
    {
     "name": "stdout",
     "output_type": "stream",
     "text": [
      "epoch 0: train loss:2.830085515975952 val loss:2.052398920059204\n",
      "Files already downloaded and verified\n",
      "Files already downloaded and verified\n"
     ]
    },
    {
     "name": "stderr",
     "output_type": "stream",
     "text": [
      "100%|██████████| 1563/1563 [00:24<00:00, 64.97it/s]\n",
      "100%|██████████| 313/313 [00:01<00:00, 186.28it/s]\n"
     ]
    },
    {
     "name": "stdout",
     "output_type": "stream",
     "text": [
      "epoch 1: train loss:1.9896706342697144 val loss:1.7817739248275757\n",
      "Files already downloaded and verified\n",
      "Files already downloaded and verified\n"
     ]
    },
    {
     "name": "stderr",
     "output_type": "stream",
     "text": [
      "100%|██████████| 1563/1563 [00:23<00:00, 65.23it/s]\n",
      "100%|██████████| 313/313 [00:01<00:00, 199.74it/s]\n"
     ]
    },
    {
     "name": "stdout",
     "output_type": "stream",
     "text": [
      "epoch 2: train loss:1.6891833543777466 val loss:1.6690539121627808\n",
      "Files already downloaded and verified\n",
      "Files already downloaded and verified\n"
     ]
    },
    {
     "name": "stderr",
     "output_type": "stream",
     "text": [
      "100%|██████████| 1563/1563 [00:24<00:00, 63.81it/s]\n",
      "100%|██████████| 313/313 [00:01<00:00, 169.68it/s]\n"
     ]
    },
    {
     "name": "stdout",
     "output_type": "stream",
     "text": [
      "epoch 3: train loss:1.482007622718811 val loss:1.611411452293396\n",
      "Files already downloaded and verified\n",
      "Files already downloaded and verified\n"
     ]
    },
    {
     "name": "stderr",
     "output_type": "stream",
     "text": [
      "100%|██████████| 1563/1563 [00:23<00:00, 65.41it/s]\n",
      "100%|██████████| 313/313 [00:01<00:00, 170.60it/s]\n"
     ]
    },
    {
     "name": "stdout",
     "output_type": "stream",
     "text": [
      "epoch 4: train loss:1.3319915533065796 val loss:1.5940520763397217\n",
      "Files already downloaded and verified\n",
      "Files already downloaded and verified\n"
     ]
    },
    {
     "name": "stderr",
     "output_type": "stream",
     "text": [
      "100%|██████████| 1563/1563 [00:24<00:00, 64.13it/s]\n",
      "100%|██████████| 313/313 [00:01<00:00, 203.25it/s]\n"
     ]
    },
    {
     "name": "stdout",
     "output_type": "stream",
     "text": [
      "epoch 5: train loss:1.1926288604736328 val loss:1.567513108253479\n",
      "Files already downloaded and verified\n",
      "Files already downloaded and verified\n"
     ]
    },
    {
     "name": "stderr",
     "output_type": "stream",
     "text": [
      "100%|██████████| 1563/1563 [00:23<00:00, 65.30it/s]\n",
      "100%|██████████| 313/313 [00:01<00:00, 175.66it/s]\n"
     ]
    },
    {
     "name": "stdout",
     "output_type": "stream",
     "text": [
      "epoch 6: train loss:1.0755095481872559 val loss:1.5931569337844849\n",
      "Files already downloaded and verified\n",
      "Files already downloaded and verified\n"
     ]
    },
    {
     "name": "stderr",
     "output_type": "stream",
     "text": [
      "100%|██████████| 1563/1563 [00:24<00:00, 64.75it/s]\n",
      "100%|██████████| 313/313 [00:01<00:00, 189.71it/s]\n"
     ]
    },
    {
     "name": "stdout",
     "output_type": "stream",
     "text": [
      "epoch 7: train loss:0.9745663404464722 val loss:1.605812907218933\n",
      "Files already downloaded and verified\n",
      "Files already downloaded and verified\n"
     ]
    },
    {
     "name": "stderr",
     "output_type": "stream",
     "text": [
      "100%|██████████| 1563/1563 [00:23<00:00, 65.85it/s]\n",
      "100%|██████████| 313/313 [00:02<00:00, 154.83it/s]\n"
     ]
    },
    {
     "name": "stdout",
     "output_type": "stream",
     "text": [
      "epoch 8: train loss:0.8782082200050354 val loss:1.5953381061553955\n",
      "Files already downloaded and verified\n",
      "Files already downloaded and verified\n"
     ]
    },
    {
     "name": "stderr",
     "output_type": "stream",
     "text": [
      "100%|██████████| 1563/1563 [00:24<00:00, 63.87it/s]\n",
      "100%|██████████| 313/313 [00:01<00:00, 198.88it/s]"
     ]
    },
    {
     "name": "stdout",
     "output_type": "stream",
     "text": [
      "epoch 9: train loss:0.8146014213562012 val loss:1.6452523469924927\n"
     ]
    },
    {
     "name": "stderr",
     "output_type": "stream",
     "text": [
      "\n"
     ]
    }
   ],
   "source": [
    "n_epochs = N_EPOCHS\n",
    "\n",
    "for i in range(n_epochs):\n",
    "  if i < n_epochs//2:\n",
    "    weights = 1. / (loss_per_object + 1.0)**(-0.5) \n",
    "  else:\n",
    "    weigths = np.array([1]*len(loss_per_object))\n",
    "  train_loader,test_loader = get_loaders_weighted(weights)\n",
    "  model_transfer.train()\n",
    "  train_loss = 0\n",
    "  for x,y in tqdm(train_loader):\n",
    "    optimizer.zero_grad()\n",
    "    x, y = x.to(device), y.to(device)\n",
    "    preds = model_transfer(x)\n",
    "    loss = loss_function(preds,y)\n",
    "    train_loss += loss\n",
    "    loss.backward()\n",
    "    optimizer.step()\n",
    "\n",
    "  model_transfer.eval()\n",
    "  val_loss = 0\n",
    "  with torch.no_grad():\n",
    "    for x,y in  tqdm(test_loader):\n",
    "      x, y = x.to(device), y.to(device)\n",
    "      preds = model_transfer(x)\n",
    "      loss = loss_function(preds,y)\n",
    "      val_loss += loss    \n",
    "  \n",
    "  train_len = len(train_loader)\n",
    "  val_len = len(test_loader)\n",
    "  print(f'epoch {i}: train loss:{train_loss / train_len } val loss:{val_loss / val_len }')\n",
    "\n",
    "  losses_train_history['hard first'].append(train_loss / train_len)\n",
    "  losses_val_history['hard first'].append(val_loss / val_len)"
   ]
  },
  {
   "cell_type": "markdown",
   "metadata": {
    "id": "hLy_OUfgEeEV"
   },
   "source": [
    "3)easy first"
   ]
  },
  {
   "cell_type": "code",
   "execution_count": 41,
   "metadata": {
    "colab": {
     "base_uri": "https://localhost:8080/"
    },
    "execution": {
     "iopub.execute_input": "2023-06-18T14:44:00.884050Z",
     "iopub.status.busy": "2023-06-18T14:44:00.883687Z",
     "iopub.status.idle": "2023-06-18T14:44:01.080612Z",
     "shell.execute_reply": "2023-06-18T14:44:01.079910Z",
     "shell.execute_reply.started": "2023-06-18T14:44:00.884025Z"
    },
    "id": "1hVkZZzF68YO",
    "outputId": "e3b14444-9eb4-4ced-d946-152917012ab2"
   },
   "outputs": [
    {
     "name": "stdout",
     "output_type": "stream",
     "text": [
      "Model is on device: cuda\n"
     ]
    }
   ],
   "source": [
    "model_transfer = resnet18(weights='DEFAULT')\n",
    "model_transfer.fc = nn.Linear(512,100)\n",
    "optimizer = torch.optim.Adam(model_transfer.parameters(),lr=1e-4)\n",
    "loss_function = nn.CrossEntropyLoss()\n",
    "model_transfer.to(device)\n",
    "print(f'Model is on device: {device}')"
   ]
  },
  {
   "cell_type": "code",
   "execution_count": 42,
   "metadata": {
    "colab": {
     "base_uri": "https://localhost:8080/"
    },
    "execution": {
     "iopub.execute_input": "2023-06-18T14:44:06.666831Z",
     "iopub.status.busy": "2023-06-18T14:44:06.666515Z",
     "iopub.status.idle": "2023-06-18T14:48:47.264824Z",
     "shell.execute_reply": "2023-06-18T14:48:47.263992Z",
     "shell.execute_reply.started": "2023-06-18T14:44:06.666809Z"
    },
    "id": "UzhN0fg87FjX",
    "outputId": "75086755-cc87-4842-b5b8-af1376b36244"
   },
   "outputs": [
    {
     "name": "stdout",
     "output_type": "stream",
     "text": [
      "Files already downloaded and verified\n",
      "Files already downloaded and verified\n"
     ]
    },
    {
     "name": "stderr",
     "output_type": "stream",
     "text": [
      "100%|██████████| 1563/1563 [00:24<00:00, 64.88it/s]\n",
      "100%|██████████| 313/313 [00:01<00:00, 175.41it/s]\n"
     ]
    },
    {
     "name": "stdout",
     "output_type": "stream",
     "text": [
      "epoch 0: train loss:2.8291640281677246 val loss:2.0643603801727295\n",
      "Files already downloaded and verified\n",
      "Files already downloaded and verified\n"
     ]
    },
    {
     "name": "stderr",
     "output_type": "stream",
     "text": [
      "100%|██████████| 1563/1563 [00:23<00:00, 65.47it/s]\n",
      "100%|██████████| 313/313 [00:01<00:00, 189.13it/s]\n"
     ]
    },
    {
     "name": "stdout",
     "output_type": "stream",
     "text": [
      "epoch 1: train loss:1.9835877418518066 val loss:1.8004648685455322\n",
      "Files already downloaded and verified\n",
      "Files already downloaded and verified\n"
     ]
    },
    {
     "name": "stderr",
     "output_type": "stream",
     "text": [
      "100%|██████████| 1563/1563 [00:23<00:00, 67.32it/s]\n",
      "100%|██████████| 313/313 [00:01<00:00, 170.94it/s]\n"
     ]
    },
    {
     "name": "stdout",
     "output_type": "stream",
     "text": [
      "epoch 2: train loss:1.6850022077560425 val loss:1.6989859342575073\n",
      "Files already downloaded and verified\n",
      "Files already downloaded and verified\n"
     ]
    },
    {
     "name": "stderr",
     "output_type": "stream",
     "text": [
      "100%|██████████| 1563/1563 [00:24<00:00, 63.79it/s]\n",
      "100%|██████████| 313/313 [00:01<00:00, 163.11it/s]\n"
     ]
    },
    {
     "name": "stdout",
     "output_type": "stream",
     "text": [
      "epoch 3: train loss:1.4762849807739258 val loss:1.6377122402191162\n",
      "Files already downloaded and verified\n",
      "Files already downloaded and verified\n"
     ]
    },
    {
     "name": "stderr",
     "output_type": "stream",
     "text": [
      "100%|██████████| 1563/1563 [00:24<00:00, 64.04it/s]\n",
      "100%|██████████| 313/313 [00:01<00:00, 169.72it/s]\n"
     ]
    },
    {
     "name": "stdout",
     "output_type": "stream",
     "text": [
      "epoch 4: train loss:1.3301262855529785 val loss:1.5959500074386597\n",
      "Files already downloaded and verified\n",
      "Files already downloaded and verified\n"
     ]
    },
    {
     "name": "stderr",
     "output_type": "stream",
     "text": [
      "100%|██████████| 1563/1563 [00:25<00:00, 61.55it/s]\n",
      "100%|██████████| 313/313 [00:02<00:00, 152.48it/s]\n"
     ]
    },
    {
     "name": "stdout",
     "output_type": "stream",
     "text": [
      "epoch 5: train loss:1.2034261226654053 val loss:1.5885084867477417\n",
      "Files already downloaded and verified\n",
      "Files already downloaded and verified\n"
     ]
    },
    {
     "name": "stderr",
     "output_type": "stream",
     "text": [
      "100%|██████████| 1563/1563 [00:25<00:00, 61.98it/s]\n",
      "100%|██████████| 313/313 [00:01<00:00, 185.41it/s]\n"
     ]
    },
    {
     "name": "stdout",
     "output_type": "stream",
     "text": [
      "epoch 6: train loss:1.0814833641052246 val loss:1.5778783559799194\n",
      "Files already downloaded and verified\n",
      "Files already downloaded and verified\n"
     ]
    },
    {
     "name": "stderr",
     "output_type": "stream",
     "text": [
      "100%|██████████| 1563/1563 [00:24<00:00, 64.75it/s]\n",
      "100%|██████████| 313/313 [00:01<00:00, 183.38it/s]\n"
     ]
    },
    {
     "name": "stdout",
     "output_type": "stream",
     "text": [
      "epoch 7: train loss:0.9825467467308044 val loss:1.6075732707977295\n",
      "Files already downloaded and verified\n",
      "Files already downloaded and verified\n"
     ]
    },
    {
     "name": "stderr",
     "output_type": "stream",
     "text": [
      "100%|██████████| 1563/1563 [00:24<00:00, 63.90it/s]\n",
      "100%|██████████| 313/313 [00:01<00:00, 169.11it/s]\n"
     ]
    },
    {
     "name": "stdout",
     "output_type": "stream",
     "text": [
      "epoch 8: train loss:0.8915889859199524 val loss:1.6214981079101562\n",
      "Files already downloaded and verified\n",
      "Files already downloaded and verified\n"
     ]
    },
    {
     "name": "stderr",
     "output_type": "stream",
     "text": [
      "100%|██████████| 1563/1563 [00:25<00:00, 62.10it/s]\n",
      "100%|██████████| 313/313 [00:01<00:00, 163.57it/s]"
     ]
    },
    {
     "name": "stdout",
     "output_type": "stream",
     "text": [
      "epoch 9: train loss:0.8087875843048096 val loss:1.6081514358520508\n"
     ]
    },
    {
     "name": "stderr",
     "output_type": "stream",
     "text": [
      "\n"
     ]
    }
   ],
   "source": [
    "n_epochs = N_EPOCHS\n",
    "\n",
    "for i in range(n_epochs):\n",
    "  if i < n_epochs//2:\n",
    "    weights = 1. / (loss_per_object + 1.0)**(0.5) \n",
    "  else:\n",
    "    weigths = np.array([1]*len(loss_per_object))\n",
    "  train_loader,test_loader = get_loaders_weighted(weights)\n",
    "  model_transfer.train()\n",
    "  train_loss = 0\n",
    "  for x,y in tqdm(train_loader):\n",
    "    optimizer.zero_grad()\n",
    "    x, y = x.to(device), y.to(device)\n",
    "    preds = model_transfer(x)\n",
    "    loss = loss_function(preds,y)\n",
    "    train_loss += loss\n",
    "    loss.backward()\n",
    "    optimizer.step()\n",
    "\n",
    "  model_transfer.eval()\n",
    "  val_loss = 0\n",
    "  with torch.no_grad():\n",
    "    for x,y in  tqdm(test_loader):\n",
    "      x, y = x.to(device), y.to(device)\n",
    "      preds = model_transfer(x)\n",
    "      loss = loss_function(preds,y)\n",
    "      val_loss += loss    \n",
    "  \n",
    "  train_len = len(train_loader)\n",
    "  val_len = len(test_loader)\n",
    "  print(f'epoch {i}: train loss:{train_loss / train_len } val loss:{val_loss / val_len }')\n",
    "\n",
    "  losses_train_history['easy first'].append(train_loss / train_len)\n",
    "  losses_val_history['easy first'].append(val_loss / val_len)"
   ]
  },
  {
   "cell_type": "code",
   "execution_count": 24,
   "metadata": {
    "execution": {
     "iopub.execute_input": "2023-06-18T14:08:09.060281Z",
     "iopub.status.busy": "2023-06-18T14:08:09.059512Z",
     "iopub.status.idle": "2023-06-18T14:08:09.062983Z",
     "shell.execute_reply": "2023-06-18T14:08:09.062629Z",
     "shell.execute_reply.started": "2023-06-18T14:08:09.060256Z"
    },
    "id": "PwJO4Kg_DWBc"
   },
   "outputs": [],
   "source": [
    "def tensor_list_to_list(list_of_tensors):\n",
    "  return [t.item() for t in list_of_tensors]"
   ]
  },
  {
   "cell_type": "markdown",
   "metadata": {},
   "source": [
    "4)mixed"
   ]
  },
  {
   "cell_type": "code",
   "execution_count": 25,
   "metadata": {
    "execution": {
     "iopub.execute_input": "2023-06-18T14:08:09.065711Z",
     "iopub.status.busy": "2023-06-18T14:08:09.065137Z",
     "iopub.status.idle": "2023-06-18T14:08:09.285122Z",
     "shell.execute_reply": "2023-06-18T14:08:09.284591Z",
     "shell.execute_reply.started": "2023-06-18T14:08:09.065686Z"
    },
    "id": "gqsv1MPd13Gt"
   },
   "outputs": [
    {
     "name": "stdout",
     "output_type": "stream",
     "text": [
      "Model is on device: cuda\n"
     ]
    }
   ],
   "source": [
    "model_transfer = resnet18(weights='DEFAULT')\n",
    "model_transfer.fc = nn.Linear(512,100)\n",
    "optimizer = torch.optim.Adam(model_transfer.parameters(),lr=1e-4)\n",
    "loss_function = nn.CrossEntropyLoss()\n",
    "model_transfer.to(device)\n",
    "print(f'Model is on device: {device}')"
   ]
  },
  {
   "cell_type": "code",
   "execution_count": 26,
   "metadata": {
    "colab": {
     "base_uri": "https://localhost:8080/"
    },
    "execution": {
     "iopub.execute_input": "2023-06-18T14:08:09.287514Z",
     "iopub.status.busy": "2023-06-18T14:08:09.287353Z",
     "iopub.status.idle": "2023-06-18T14:12:55.015389Z",
     "shell.execute_reply": "2023-06-18T14:12:55.014490Z",
     "shell.execute_reply.started": "2023-06-18T14:08:09.287498Z"
    },
    "id": "VA6wzQWD2aa6",
    "outputId": "7c4c8c2b-542b-4961-8dca-d9728e63a34e"
   },
   "outputs": [
    {
     "name": "stdout",
     "output_type": "stream",
     "text": [
      "Files already downloaded and verified\n",
      "Files already downloaded and verified\n"
     ]
    },
    {
     "name": "stderr",
     "output_type": "stream",
     "text": [
      "100%|██████████| 1563/1563 [00:25<00:00, 61.71it/s]\n",
      "100%|██████████| 313/313 [00:01<00:00, 182.93it/s]\n"
     ]
    },
    {
     "name": "stdout",
     "output_type": "stream",
     "text": [
      "epoch 0: train loss:2.8116934299468994 val loss:2.0582101345062256\n",
      "Files already downloaded and verified\n",
      "Files already downloaded and verified\n"
     ]
    },
    {
     "name": "stderr",
     "output_type": "stream",
     "text": [
      "100%|██████████| 1563/1563 [00:25<00:00, 60.32it/s]\n",
      "100%|██████████| 313/313 [00:01<00:00, 181.70it/s]\n"
     ]
    },
    {
     "name": "stdout",
     "output_type": "stream",
     "text": [
      "epoch 1: train loss:1.9870362281799316 val loss:1.7966511249542236\n",
      "Files already downloaded and verified\n",
      "Files already downloaded and verified\n"
     ]
    },
    {
     "name": "stderr",
     "output_type": "stream",
     "text": [
      "100%|██████████| 1563/1563 [00:25<00:00, 62.13it/s]\n",
      "100%|██████████| 313/313 [00:01<00:00, 180.24it/s]\n"
     ]
    },
    {
     "name": "stdout",
     "output_type": "stream",
     "text": [
      "epoch 2: train loss:1.6958006620407104 val loss:1.6859112977981567\n",
      "Files already downloaded and verified\n",
      "Files already downloaded and verified\n"
     ]
    },
    {
     "name": "stderr",
     "output_type": "stream",
     "text": [
      "100%|██████████| 1563/1563 [00:23<00:00, 66.03it/s]\n",
      "100%|██████████| 313/313 [00:01<00:00, 208.42it/s]\n"
     ]
    },
    {
     "name": "stdout",
     "output_type": "stream",
     "text": [
      "epoch 3: train loss:1.4925051927566528 val loss:1.6255803108215332\n",
      "Files already downloaded and verified\n",
      "Files already downloaded and verified\n"
     ]
    },
    {
     "name": "stderr",
     "output_type": "stream",
     "text": [
      "100%|██████████| 1563/1563 [00:25<00:00, 61.87it/s]\n",
      "100%|██████████| 313/313 [00:01<00:00, 174.95it/s]\n"
     ]
    },
    {
     "name": "stdout",
     "output_type": "stream",
     "text": [
      "epoch 4: train loss:1.327811360359192 val loss:1.61823308467865\n",
      "Files already downloaded and verified\n",
      "Files already downloaded and verified\n"
     ]
    },
    {
     "name": "stderr",
     "output_type": "stream",
     "text": [
      "100%|██████████| 1563/1563 [00:24<00:00, 64.59it/s]\n",
      "100%|██████████| 313/313 [00:01<00:00, 178.76it/s]\n"
     ]
    },
    {
     "name": "stdout",
     "output_type": "stream",
     "text": [
      "epoch 5: train loss:1.1936204433441162 val loss:1.6058640480041504\n",
      "Files already downloaded and verified\n",
      "Files already downloaded and verified\n"
     ]
    },
    {
     "name": "stderr",
     "output_type": "stream",
     "text": [
      "100%|██████████| 1563/1563 [00:24<00:00, 62.68it/s]\n",
      "100%|██████████| 313/313 [00:01<00:00, 162.32it/s]\n"
     ]
    },
    {
     "name": "stdout",
     "output_type": "stream",
     "text": [
      "epoch 6: train loss:1.0813908576965332 val loss:1.6033766269683838\n",
      "Files already downloaded and verified\n",
      "Files already downloaded and verified\n"
     ]
    },
    {
     "name": "stderr",
     "output_type": "stream",
     "text": [
      "100%|██████████| 1563/1563 [00:25<00:00, 60.45it/s]\n",
      "100%|██████████| 313/313 [00:01<00:00, 179.20it/s]\n"
     ]
    },
    {
     "name": "stdout",
     "output_type": "stream",
     "text": [
      "epoch 7: train loss:0.986199676990509 val loss:1.6182966232299805\n",
      "Files already downloaded and verified\n",
      "Files already downloaded and verified\n"
     ]
    },
    {
     "name": "stderr",
     "output_type": "stream",
     "text": [
      "100%|██████████| 1563/1563 [00:24<00:00, 62.58it/s]\n",
      "100%|██████████| 313/313 [00:01<00:00, 166.81it/s]\n"
     ]
    },
    {
     "name": "stdout",
     "output_type": "stream",
     "text": [
      "epoch 8: train loss:0.8975801467895508 val loss:1.6167174577713013\n",
      "Files already downloaded and verified\n",
      "Files already downloaded and verified\n"
     ]
    },
    {
     "name": "stderr",
     "output_type": "stream",
     "text": [
      "100%|██████████| 1563/1563 [00:25<00:00, 60.66it/s]\n",
      "100%|██████████| 313/313 [00:01<00:00, 191.93it/s]"
     ]
    },
    {
     "name": "stdout",
     "output_type": "stream",
     "text": [
      "epoch 9: train loss:0.8100751638412476 val loss:1.6215028762817383\n"
     ]
    },
    {
     "name": "stderr",
     "output_type": "stream",
     "text": [
      "\n"
     ]
    }
   ],
   "source": [
    "n_epochs = N_EPOCHS\n",
    "\n",
    "for i in range(n_epochs):\n",
    "  weights = 1. / (loss_per_object + 1.0)**((n_epochs//2 - i) / 6)\n",
    "  train_loader,test_loader = get_loaders_weighted(weights)\n",
    "  model_transfer.train()\n",
    "  train_loss = 0\n",
    "  for x,y in tqdm(train_loader):\n",
    "    optimizer.zero_grad()\n",
    "    x, y = x.to(device), y.to(device)\n",
    "    preds = model_transfer(x)\n",
    "    loss = loss_function(preds,y)\n",
    "    train_loss += loss\n",
    "    loss.backward()\n",
    "    optimizer.step()\n",
    "\n",
    "  model_transfer.eval()\n",
    "  val_loss = 0\n",
    "  with torch.no_grad():\n",
    "    for x,y in  tqdm(test_loader):\n",
    "      x, y = x.to(device), y.to(device)\n",
    "      preds = model_transfer(x)\n",
    "      loss = loss_function(preds,y)\n",
    "      val_loss += loss    \n",
    "  \n",
    "  train_len = len(train_loader)\n",
    "  val_len = len(test_loader)\n",
    "  print(f'epoch {i}: train loss:{train_loss / train_len } val loss:{val_loss / val_len }')\n",
    "\n",
    "  losses_train_history['mixed'].append(train_loss / train_len)\n",
    "  losses_val_history['mixed'].append(val_loss / val_len)"
   ]
  },
  {
   "cell_type": "code",
   "execution_count": 46,
   "metadata": {
    "execution": {
     "iopub.execute_input": "2023-06-18T14:52:29.941630Z",
     "iopub.status.busy": "2023-06-18T14:52:29.940996Z",
     "iopub.status.idle": "2023-06-18T14:52:30.297570Z",
     "shell.execute_reply": "2023-06-18T14:52:30.296980Z",
     "shell.execute_reply.started": "2023-06-18T14:52:29.941602Z"
    },
    "id": "SMBK2LdQ138P"
   },
   "outputs": [
    {
     "data": {
      "image/png": "[encoded data removed]",
      "text/plain": [
       "<Figure size 900x400 with 2 Axes>"
      ]
     },
     "metadata": {},
     "output_type": "display_data"
    }
   ],
   "source": [
    "fig,axes = plt.subplots(1,2,figsize=(9,4))\n",
    "for key,value in losses_train_history.items():\n",
    "  axes[0].plot(range(n_epochs),tensor_list_to_list(value)[-10:],label=str(key))\n",
    "axes[0].set_title('Train Loss')\n",
    "for key,value in losses_val_history.items():\n",
    "  axes[1].plot(range(n_epochs),tensor_list_to_list(value)[-10:],label=str(key))\n",
    "axes[1].set_title('Test Loss')\n",
    "for ax in axes:\n",
    "    ax.legend()\n",
    "    ax.set_xlabel('epoch')\n",
    "    ax.set_ylabel('loss')\n",
    "\n",
    "plt.savefig('4schemes_tr0.5.png')"
   ]
  },
  {
   "cell_type": "code",
   "execution_count": 37,
   "metadata": {
    "execution": {
     "iopub.execute_input": "2023-06-18T14:24:06.113853Z",
     "iopub.status.busy": "2023-06-18T14:24:06.113290Z",
     "iopub.status.idle": "2023-06-18T14:24:06.391470Z",
     "shell.execute_reply": "2023-06-18T14:24:06.390940Z",
     "shell.execute_reply.started": "2023-06-18T14:24:06.113827Z"
    }
   },
   "outputs": [
    {
     "data": {
      "image/png": "[encoded data removed]",
      "text/plain": [
       "<Figure size 640x480 with 1 Axes>"
      ]
     },
     "metadata": {},
     "output_type": "display_data"
    }
   ],
   "source": [
    "num_samples = 50000\n",
    "on_curr_weights = 1. / (loss_per_object + 1.0)**(1.1) \n",
    "anti_curr_weights = 1. / (loss_per_object + 1.0)**(-1.1) \n",
    "plt.plot(range(num_samples),on_curr_weights.cpu().numpy(),label='on-curriculum',c='green')\n",
    "plt.plot(range(num_samples),anti_curr_weights.cpu().numpy(),label='anti-curriculum')\n",
    "plt.xlabel('sample index')\n",
    "plt.ylabel('weight')\n",
    "plt.legend()\n",
    "plt.savefig('sample weights.png')"
   ]
  }
 ],
 "metadata": {
  "accelerator": "GPU",
  "colab": {
   "gpuType": "T4",
   "provenance": []
  },
  "kernelspec": {
   "display_name": "Python 3 (ipykernel)",
   "language": "python",
   "name": "python3"
  },
  "language_info": {
   "codemirror_mode": {
    "name": "ipython",
    "version": 3
   },
   "file_extension": ".py",
   "mimetype": "text/x-python",
   "name": "python",
   "nbconvert_exporter": "python",
   "pygments_lexer": "ipython3",
   "version": "3.9.16"
  }
 },
 "nbformat": 4,
 "nbformat_minor": 4
}
