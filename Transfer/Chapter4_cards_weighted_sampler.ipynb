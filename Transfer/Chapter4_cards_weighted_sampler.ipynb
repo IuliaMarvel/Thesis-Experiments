{
 "cells": [
  {
   "cell_type": "markdown",
   "metadata": {
    "id": "U4N4ZWC9M6Zr"
   },
   "source": [
    "Взять CIFAR100 и обучить resnet18 с нуля на нем\n",
    "\n",
    "Определить легкие и тяжелые объекты по лоссам итоговой модели\n",
    "\n",
    "Взять другую модель и обучить её для CIFAR100  двумя способами:\n",
    "\n",
    "1)объекты в рандомном порядке n эпох\n",
    "\n",
    "2)чем больше номер эпохи чем больше вероятность выбрать сложный объект \n",
    "\n",
    "(да,распределение на индексах:вероятность выбрать объект сначала тем меньше,тем он сложнее,по ходу обучения распределение выходит на равномерное)"
   ]
  },
  {
   "cell_type": "markdown",
   "metadata": {},
   "source": [
    "#1\n",
    "Load vgg16_bn model pretrained on CIFAR100 and get losses for train_data with it"
   ]
  },
  {
   "cell_type": "code",
   "execution_count": 1,
   "metadata": {
    "execution": {
     "iopub.execute_input": "2023-06-22T15:40:55.671443Z",
     "iopub.status.busy": "2023-06-22T15:40:55.671151Z",
     "iopub.status.idle": "2023-06-22T15:40:57.462332Z",
     "shell.execute_reply": "2023-06-22T15:40:57.461582Z",
     "shell.execute_reply.started": "2023-06-22T15:40:55.671421Z"
    }
   },
   "outputs": [
    {
     "name": "stderr",
     "output_type": "stream",
     "text": [
      "Downloading: \"https://download.pytorch.org/models/resnet18-f37072fd.pth\" to /root/.cache/torch/hub/checkpoints/resnet18-f37072fd.pth\n"
     ]
    },
    {
     "data": {
      "application/vnd.jupyter.widget-view+json": {
       "model_id": "a78628e42f474f68adcbffd0b0bbf40e",
       "version_major": 2,
       "version_minor": 0
      },
      "text/plain": [
       "  0%|          | 0.00/44.7M [00:00<?, ?B/s]"
      ]
     },
     "metadata": {},
     "output_type": "display_data"
    }
   ],
   "source": [
    "import torch\n",
    "import torch.nn as nn\n",
    "from torchvision import transforms,datasets\n",
    "from torchvision.models import resnet18\n",
    "import random\n",
    "import numpy as np\n",
    "import torch\n",
    "import torch.nn as nn\n",
    "import torch.nn.functional as F\n",
    "import os\n",
    "import pickle\n",
    "from torchvision import datasets, transforms\n",
    "from tqdm import tqdm\n",
    "from copy import deepcopy\n",
    "from collections import OrderedDict\n",
    "import matplotlib.pyplot as plt\n",
    "\n",
    "\n",
    "from tqdm import tqdm\n",
    "\n",
    "def set_seed(seed):\n",
    "    random.seed(seed)\n",
    "    np.random.seed(seed)\n",
    "\n",
    "    torch.manual_seed(seed)\n",
    "    torch.cuda.manual_seed_all(seed)\n",
    "\n",
    "set_seed(42)\n",
    "\n",
    "num_classes = 53\n",
    "model_for_weights = resnet18(weights='DEFAULT')\n",
    "model_for_weights.fc = nn.Linear(512,num_classes)"
   ]
  },
  {
   "cell_type": "code",
   "execution_count": 2,
   "metadata": {
    "execution": {
     "iopub.execute_input": "2023-06-22T15:40:57.464041Z",
     "iopub.status.busy": "2023-06-22T15:40:57.463753Z",
     "iopub.status.idle": "2023-06-22T15:40:57.596943Z",
     "shell.execute_reply": "2023-06-22T15:40:57.596268Z",
     "shell.execute_reply.started": "2023-06-22T15:40:57.464020Z"
    }
   },
   "outputs": [
    {
     "name": "stdout",
     "output_type": "stream",
     "text": [
      "6099\n"
     ]
    },
    {
     "data": {
      "text/plain": [
       "'cuda'"
      ]
     },
     "execution_count": 2,
     "metadata": {},
     "output_type": "execute_result"
    }
   ],
   "source": [
    "data_mean = (0.5071, 0.4865, 0.4409)\n",
    "data_std = (0.2673, 0.2564, 0.2762)\n",
    "transformation = transforms.Compose([\n",
    "    # transforms.RandomHorizontalFlip(0.5),\n",
    "    # transforms.RandomVerticalFlip(0.3),\n",
    "    transforms.Resize((64,64)),\n",
    "    transforms.ToTensor(),\n",
    "    transforms.Normalize(mean=[0.5, 0.5, 0.5], std=[0.25, .25, 0.25])\n",
    "])\n",
    "\n",
    "full_dataset = datasets.ImageFolder(\n",
    "    root='/notebooks/train',\n",
    "    transform=transformation\n",
    ")\n",
    "train_len = int(len(full_dataset)*0.8)\n",
    "test_len = len(full_dataset) - train_len\n",
    "train_dataset, test_dataset = torch.utils.data.random_split(full_dataset,[train_len,test_len])\n",
    "\n",
    "print(len(train_dataset))\n",
    "\n",
    "train_loader = torch.utils.data.DataLoader(\n",
    "    train_dataset,\n",
    "    batch_size=32,\n",
    "    num_workers=0,\n",
    "    shuffle=True\n",
    ")\n",
    "test_loader = torch.utils.data.DataLoader(\n",
    "    test_dataset,\n",
    "    batch_size=32,\n",
    "    num_workers=0,\n",
    "    shuffle=True\n",
    ")\n",
    "\n",
    "device = 'cuda' if torch.cuda.is_available() else 'cpu'\n",
    "n_epochs = 10\n",
    "device"
   ]
  },
  {
   "cell_type": "code",
   "execution_count": 3,
   "metadata": {
    "execution": {
     "iopub.execute_input": "2023-06-22T15:40:57.600075Z",
     "iopub.status.busy": "2023-06-22T15:40:57.599901Z",
     "iopub.status.idle": "2023-06-22T15:42:59.785851Z",
     "shell.execute_reply": "2023-06-22T15:42:59.785424Z",
     "shell.execute_reply.started": "2023-06-22T15:40:57.600059Z"
    }
   },
   "outputs": [
    {
     "name": "stderr",
     "output_type": "stream",
     "text": [
      "100%|██████████| 191/191 [00:29<00:00,  6.37it/s]\n",
      "100%|██████████| 48/48 [00:05<00:00,  9.35it/s]\n"
     ]
    },
    {
     "name": "stdout",
     "output_type": "stream",
     "text": [
      "epoch 0: train loss:2.0740137100219727 val loss:1.4044101238250732 val acc:0.6128472089767456\n"
     ]
    },
    {
     "name": "stderr",
     "output_type": "stream",
     "text": [
      "100%|██████████| 191/191 [00:07<00:00, 23.92it/s]\n",
      "100%|██████████| 48/48 [00:01<00:00, 33.18it/s]\n"
     ]
    },
    {
     "name": "stdout",
     "output_type": "stream",
     "text": [
      "epoch 1: train loss:1.1016823053359985 val loss:1.0904648303985596 val acc:0.7023190259933472\n"
     ]
    },
    {
     "name": "stderr",
     "output_type": "stream",
     "text": [
      "100%|██████████| 191/191 [00:07<00:00, 24.36it/s]\n",
      "100%|██████████| 48/48 [00:01<00:00, 32.06it/s]\n"
     ]
    },
    {
     "name": "stdout",
     "output_type": "stream",
     "text": [
      "epoch 2: train loss:0.7484479546546936 val loss:0.9982576370239258 val acc:0.7115575671195984\n"
     ]
    },
    {
     "name": "stderr",
     "output_type": "stream",
     "text": [
      "100%|██████████| 191/191 [00:07<00:00, 24.11it/s]\n",
      "100%|██████████| 48/48 [00:01<00:00, 29.94it/s]\n"
     ]
    },
    {
     "name": "stdout",
     "output_type": "stream",
     "text": [
      "epoch 3: train loss:0.5439008474349976 val loss:0.9811404943466187 val acc:0.7381882667541504\n"
     ]
    },
    {
     "name": "stderr",
     "output_type": "stream",
     "text": [
      "100%|██████████| 191/191 [00:07<00:00, 23.88it/s]\n",
      "100%|██████████| 48/48 [00:01<00:00, 31.42it/s]\n"
     ]
    },
    {
     "name": "stdout",
     "output_type": "stream",
     "text": [
      "epoch 4: train loss:0.37449443340301514 val loss:1.054944396018982 val acc:0.748604953289032\n"
     ]
    },
    {
     "name": "stderr",
     "output_type": "stream",
     "text": [
      "100%|██████████| 191/191 [00:08<00:00, 23.51it/s]\n",
      "100%|██████████| 48/48 [00:01<00:00, 31.37it/s]\n"
     ]
    },
    {
     "name": "stdout",
     "output_type": "stream",
     "text": [
      "epoch 5: train loss:0.2938919961452484 val loss:1.0573453903198242 val acc:0.7561074495315552\n"
     ]
    },
    {
     "name": "stderr",
     "output_type": "stream",
     "text": [
      "100%|██████████| 191/191 [00:08<00:00, 23.26it/s]\n",
      "100%|██████████| 48/48 [00:01<00:00, 31.85it/s]\n"
     ]
    },
    {
     "name": "stdout",
     "output_type": "stream",
     "text": [
      "epoch 6: train loss:0.23418578505516052 val loss:1.0940985679626465 val acc:0.7576885223388672\n"
     ]
    },
    {
     "name": "stderr",
     "output_type": "stream",
     "text": [
      "100%|██████████| 191/191 [00:07<00:00, 24.01it/s]\n",
      "100%|██████████| 48/48 [00:01<00:00, 31.51it/s]\n"
     ]
    },
    {
     "name": "stdout",
     "output_type": "stream",
     "text": [
      "epoch 7: train loss:0.21198393404483795 val loss:1.1557509899139404 val acc:0.7639509439468384\n"
     ]
    },
    {
     "name": "stderr",
     "output_type": "stream",
     "text": [
      "100%|██████████| 191/191 [00:08<00:00, 23.74it/s]\n",
      "100%|██████████| 48/48 [00:01<00:00, 30.87it/s]\n"
     ]
    },
    {
     "name": "stdout",
     "output_type": "stream",
     "text": [
      "epoch 8: train loss:0.16362732648849487 val loss:1.075825572013855 val acc:0.7704613208770752\n"
     ]
    },
    {
     "name": "stderr",
     "output_type": "stream",
     "text": [
      "100%|██████████| 191/191 [00:07<00:00, 24.16it/s]\n",
      "100%|██████████| 48/48 [00:01<00:00, 31.83it/s]"
     ]
    },
    {
     "name": "stdout",
     "output_type": "stream",
     "text": [
      "epoch 9: train loss:0.13248519599437714 val loss:1.1193825006484985 val acc:0.7645399570465088\n"
     ]
    },
    {
     "name": "stderr",
     "output_type": "stream",
     "text": [
      "\n"
     ]
    }
   ],
   "source": [
    "from tqdm import tqdm\n",
    "optimizer = torch.optim.Adam(model_for_weights.parameters(),lr=5e-4)\n",
    "model_for_weights = model_for_weights.to(device)\n",
    "loss_function = nn.CrossEntropyLoss()\n",
    "\n",
    "for i in range(n_epochs):\n",
    "  model_for_weights.train()\n",
    "  train_loss = 0\n",
    "  for x,y in tqdm(train_loader):\n",
    "    optimizer.zero_grad()\n",
    "    x, y = x.to(device), y.to(device)\n",
    "    preds = model_for_weights(x)\n",
    "    loss = loss_function(preds,y)\n",
    "    train_loss += loss\n",
    "    loss.backward()\n",
    "    optimizer.step()\n",
    "\n",
    "  model_for_weights.eval()\n",
    "  val_loss = 0\n",
    "  val_acc = 0\n",
    "  with torch.no_grad():\n",
    "    for x,y in  tqdm(test_loader):\n",
    "      x, y = x.to(device), y.to(device)\n",
    "      logits = model_for_weights(x)\n",
    "      preds = logits.max(dim=1)[1]\n",
    "      val_acc += torch.mean((preds == y).float())\n",
    "      loss = loss_function(logits,y)\n",
    "      val_loss += loss    \n",
    "\n",
    "  \n",
    "  train_len = len(train_loader)\n",
    "  val_len = len(test_loader)\n",
    "  \n",
    "  print(f'epoch {i}: train loss:{train_loss / train_len } val loss:{val_loss / val_len } val acc:{val_acc / val_len }')"
   ]
  },
  {
   "cell_type": "code",
   "execution_count": null,
   "metadata": {
    "id": "WvIYiUJ5N4Yl"
   },
   "outputs": [],
   "source": []
  },
  {
   "cell_type": "code",
   "execution_count": 4,
   "metadata": {
    "execution": {
     "iopub.execute_input": "2023-06-22T15:42:59.788270Z",
     "iopub.status.busy": "2023-06-22T15:42:59.787760Z",
     "iopub.status.idle": "2023-06-22T15:42:59.791651Z",
     "shell.execute_reply": "2023-06-22T15:42:59.791271Z",
     "shell.execute_reply.started": "2023-06-22T15:42:59.788249Z"
    },
    "id": "F_3OQNVqRM3e"
   },
   "outputs": [],
   "source": [
    "def prepare_transforms(augments=[True, False]):\n",
    "    data_mean = (0.5071, 0.4865, 0.4409)\n",
    "    data_std = (0.2673, 0.2564, 0.2762)\n",
    "    # types of transform: with augmentation and without\n",
    "    transform_augmented = transforms.Compose([\n",
    "        #transforms.RandomCrop(32, padding=4),\n",
    "        transforms.RandomHorizontalFlip(),\n",
    "        transforms.ToTensor(),\n",
    "        transforms.Normalize(data_mean, data_std)])\n",
    "    transform_clean = transforms.Compose([\n",
    "        transforms.ToTensor(),\n",
    "        transforms.Normalize(data_mean, data_std)])\n",
    "    # choose transform according func params\n",
    "    train_transform = transform_augmented if augments[0] else transform_clean\n",
    "    test_transform = transform_augmented if augments[1] else transform_clean\n",
    "\n",
    "    return train_transform, test_transform"
   ]
  },
  {
   "cell_type": "code",
   "execution_count": 5,
   "metadata": {
    "execution": {
     "iopub.execute_input": "2023-06-22T15:42:59.794349Z",
     "iopub.status.busy": "2023-06-22T15:42:59.793938Z",
     "iopub.status.idle": "2023-06-22T15:42:59.797938Z",
     "shell.execute_reply": "2023-06-22T15:42:59.797553Z",
     "shell.execute_reply.started": "2023-06-22T15:42:59.794332Z"
    },
    "id": "7aRGX3ssN6dT"
   },
   "outputs": [],
   "source": [
    "def get_loaders(batch_size=32, augments=[True, False], shuffles=[True, False]):\n",
    "    full_dataset = datasets.ImageFolder(\n",
    "        root='/notebooks/train',\n",
    "        transform=transformation\n",
    "    )\n",
    "    train_len = int(len(full_dataset)*0.8)\n",
    "    test_len = len(full_dataset) - train_len\n",
    "    train_dataset, test_dataset = torch.utils.data.random_split(full_dataset,[train_len,test_len])\n",
    "    train_loader = torch.utils.data.DataLoader(\n",
    "        dataset=train_dataset,\n",
    "        batch_size=batch_size, shuffle=shuffles[0],\n",
    "        pin_memory=True, num_workers=2)\n",
    "    test_loader = torch.utils.data.DataLoader(\n",
    "        dataset=test_dataset,\n",
    "        batch_size=batch_size, shuffle=shuffles[1],\n",
    "        pin_memory=True, num_workers=2)\n",
    "\n",
    "    return train_loader, test_loader"
   ]
  },
  {
   "cell_type": "code",
   "execution_count": 6,
   "metadata": {
    "execution": {
     "iopub.execute_input": "2023-06-22T15:42:59.800193Z",
     "iopub.status.busy": "2023-06-22T15:42:59.799605Z",
     "iopub.status.idle": "2023-06-22T15:42:59.802785Z",
     "shell.execute_reply": "2023-06-22T15:42:59.802384Z",
     "shell.execute_reply.started": "2023-06-22T15:42:59.800176Z"
    },
    "id": "03GK7Vs-QuE0"
   },
   "outputs": [
    {
     "name": "stdout",
     "output_type": "stream",
     "text": [
      "cuda\n"
     ]
    }
   ],
   "source": [
    "device = 'cuda' if torch.cuda.is_available() else 'cpu'\n",
    "print(device)"
   ]
  },
  {
   "cell_type": "code",
   "execution_count": 7,
   "metadata": {
    "execution": {
     "iopub.execute_input": "2023-06-22T15:42:59.805136Z",
     "iopub.status.busy": "2023-06-22T15:42:59.804913Z",
     "iopub.status.idle": "2023-06-22T15:42:59.887083Z",
     "shell.execute_reply": "2023-06-22T15:42:59.886389Z",
     "shell.execute_reply.started": "2023-06-22T15:42:59.805118Z"
    }
   },
   "outputs": [],
   "source": [
    "train_loader,test_loader = get_loaders(shuffles=[False,False])"
   ]
  },
  {
   "cell_type": "code",
   "execution_count": 8,
   "metadata": {
    "execution": {
     "iopub.execute_input": "2023-06-22T15:42:59.890515Z",
     "iopub.status.busy": "2023-06-22T15:42:59.890336Z",
     "iopub.status.idle": "2023-06-22T15:42:59.895307Z",
     "shell.execute_reply": "2023-06-22T15:42:59.894743Z",
     "shell.execute_reply.started": "2023-06-22T15:42:59.890498Z"
    }
   },
   "outputs": [],
   "source": [
    "model_for_weights = model_for_weights.to(device)"
   ]
  },
  {
   "cell_type": "code",
   "execution_count": 9,
   "metadata": {
    "execution": {
     "iopub.execute_input": "2023-06-22T15:42:59.899454Z",
     "iopub.status.busy": "2023-06-22T15:42:59.899003Z",
     "iopub.status.idle": "2023-06-22T15:43:01.777177Z",
     "shell.execute_reply": "2023-06-22T15:43:01.776568Z",
     "shell.execute_reply.started": "2023-06-22T15:42:59.899433Z"
    }
   },
   "outputs": [
    {
     "name": "stderr",
     "output_type": "stream",
     "text": [
      "100%|██████████| 48/48 [00:00<00:00, 50.01it/s]\n",
      "100%|██████████| 48/48 [00:00<00:00, 52.89it/s]"
     ]
    },
    {
     "name": "stdout",
     "output_type": "stream",
     "text": [
      "[(5, 0.6153846153846154), (21, 0.7), (38, 0.7666666666666667), (31, 0.7837837837837838), (29, 0.7857142857142857), (14, 0.8518518518518519), (17, 0.8571428571428571), (48, 0.8571428571428571), (7, 0.875), (47, 0.88), (40, 0.8823529411764706), (4, 0.9), (45, 0.9090909090909091), (33, 0.9130434782608695), (49, 0.9130434782608695), (1, 0.9166666666666666), (16, 0.918918918918919), (51, 0.918918918918919), (22, 0.92), (23, 0.9310344827586207), (19, 0.9428571428571428), (42, 0.9428571428571428), (9, 0.9523809523809523), (50, 0.9565217391304348), (46, 0.9583333333333334), (26, 0.96), (8, 0.9666666666666667), (44, 0.967741935483871), (25, 0.96875), (35, 0.9696969696969697), (18, 0.9705882352941176), (30, 0.9714285714285714), (32, 0.9714285714285714), (41, 0.9736842105263158), (36, 0.975), (3, 0.975609756097561), (11, 0.9777777777777777), (0, 1.0), (2, 1.0), (6, 1.0), (10, 1.0), (12, 1.0), (13, 1.0), (15, 1.0), (20, 1.0), (24, 1.0), (27, 1.0), (28, 1.0), (34, 1.0), (37, 1.0), (39, 1.0), (43, 1.0), (52, 1.0)]\n"
     ]
    },
    {
     "name": "stderr",
     "output_type": "stream",
     "text": [
      "\n"
     ]
    }
   ],
   "source": [
    "# num_classes = 100\n",
    "\n",
    "class_count = dict(zip(range(num_classes),[0]*(num_classes)))\n",
    "for _,y in tqdm(test_loader):\n",
    "    for label in y:\n",
    "        class_count[label.item()] += 1\n",
    "\n",
    "# class_count\n",
    "\n",
    "class_acc = dict(zip(range((num_classes)),[0]*(num_classes)))\n",
    "\n",
    "for x,y in tqdm(test_loader):\n",
    "    x,y = x.to(device), y.to(device)\n",
    "    logits = model_for_weights(x)\n",
    "    preds = logits.max(1)[1]\n",
    "    for (predicted,target) in zip(preds,y):\n",
    "      if predicted == target:\n",
    "        class_acc[target.item()] += 1\n",
    "\n",
    "for key in class_acc.keys():\n",
    "  class_acc[key] /= class_count[key]\n",
    "\n",
    "sorted_by_acc = sorted(class_acc.items(),key=lambda x:x[1])\n",
    "print(sorted_by_acc)"
   ]
  },
  {
   "cell_type": "code",
   "execution_count": null,
   "metadata": {},
   "outputs": [],
   "source": []
  },
  {
   "cell_type": "code",
   "execution_count": 10,
   "metadata": {
    "execution": {
     "iopub.execute_input": "2023-06-22T15:43:01.779717Z",
     "iopub.status.busy": "2023-06-22T15:43:01.779562Z",
     "iopub.status.idle": "2023-06-22T15:43:05.077246Z",
     "shell.execute_reply": "2023-06-22T15:43:05.076548Z",
     "shell.execute_reply.started": "2023-06-22T15:43:01.779696Z"
    }
   },
   "outputs": [
    {
     "name": "stderr",
     "output_type": "stream",
     "text": [
      "100%|██████████| 191/191 [00:03<00:00, 58.05it/s]\n"
     ]
    }
   ],
   "source": [
    "acc_on_sample_class = []\n",
    "with torch.no_grad():\n",
    "  for x,y in  tqdm(train_loader):\n",
    "      for label in y:\n",
    "            acc_on_sample_class.append(class_acc[label.item()])\n",
    "\n",
    "# np.unique(acc_on_sample_class,return_counts=True)\n",
    "acc_on_sample_class = np.array(acc_on_sample_class)"
   ]
  },
  {
   "cell_type": "markdown",
   "metadata": {},
   "source": [
    "Make dict to save loss history on test_data for different curriclum modes"
   ]
  },
  {
   "cell_type": "code",
   "execution_count": 11,
   "metadata": {
    "execution": {
     "iopub.execute_input": "2023-06-22T15:43:05.080309Z",
     "iopub.status.busy": "2023-06-22T15:43:05.080147Z",
     "iopub.status.idle": "2023-06-22T15:43:05.084403Z",
     "shell.execute_reply": "2023-06-22T15:43:05.083834Z",
     "shell.execute_reply.started": "2023-06-22T15:43:05.080297Z"
    },
    "id": "_yadGxTR5aUK"
   },
   "outputs": [],
   "source": [
    "losses_train_history = {'random':[],'hard first':[],'easy first':[],'mixed':[]}\n",
    "losses_val_history = {'random':[],'hard first':[],'easy first':[],'mixed':[]}\n",
    "acc_val_history = {'random':[],'hard first':[],'easy first':[],'mixed':[]}"
   ]
  },
  {
   "cell_type": "markdown",
   "metadata": {
    "id": "wTzd-6xp55KN"
   },
   "source": [
    "1)Random"
   ]
  },
  {
   "cell_type": "code",
   "execution_count": 12,
   "metadata": {
    "execution": {
     "iopub.execute_input": "2023-06-22T15:43:05.086797Z",
     "iopub.status.busy": "2023-06-22T15:43:05.086659Z",
     "iopub.status.idle": "2023-06-22T15:43:05.265522Z",
     "shell.execute_reply": "2023-06-22T15:43:05.264760Z",
     "shell.execute_reply.started": "2023-06-22T15:43:05.086797Z"
    },
    "id": "IYZlLhGDR3Yo"
   },
   "outputs": [],
   "source": [
    "from torchvision.models import resnet18\n",
    "\n",
    "model = resnet18(weights='DEFAULT')\n",
    "model.fc = nn.Linear(512,num_classes)"
   ]
  },
  {
   "cell_type": "code",
   "execution_count": 13,
   "metadata": {
    "colab": {
     "base_uri": "https://localhost:8080/"
    },
    "execution": {
     "iopub.execute_input": "2023-06-22T15:43:05.268269Z",
     "iopub.status.busy": "2023-06-22T15:43:05.268118Z",
     "iopub.status.idle": "2023-06-22T15:43:05.291897Z",
     "shell.execute_reply": "2023-06-22T15:43:05.291151Z",
     "shell.execute_reply.started": "2023-06-22T15:43:05.268254Z"
    },
    "id": "UU2Ug8hBTgsA",
    "outputId": "a2cad5b5-6d61-410a-8a45-766b700c8abb"
   },
   "outputs": [],
   "source": [
    "train_loader,test_loader = get_loaders()"
   ]
  },
  {
   "cell_type": "code",
   "execution_count": 14,
   "metadata": {
    "colab": {
     "base_uri": "https://localhost:8080/"
    },
    "execution": {
     "iopub.execute_input": "2023-06-22T15:43:05.293080Z",
     "iopub.status.busy": "2023-06-22T15:43:05.292905Z",
     "iopub.status.idle": "2023-06-22T15:43:05.308576Z",
     "shell.execute_reply": "2023-06-22T15:43:05.307626Z",
     "shell.execute_reply.started": "2023-06-22T15:43:05.293065Z"
    },
    "id": "OsQdljiNUR8K",
    "outputId": "743902f0-e875-4d96-a98e-6a8f14f8d23b"
   },
   "outputs": [
    {
     "name": "stdout",
     "output_type": "stream",
     "text": [
      "Model is on device: cuda\n"
     ]
    }
   ],
   "source": [
    "optimizer = torch.optim.Adam(model.parameters(),lr=5e-4)\n",
    "loss_function = nn.CrossEntropyLoss()\n",
    "model.to(device)\n",
    "print(f'Model is on device: {device}')"
   ]
  },
  {
   "cell_type": "code",
   "execution_count": 15,
   "metadata": {
    "colab": {
     "base_uri": "https://localhost:8080/"
    },
    "execution": {
     "iopub.execute_input": "2023-06-22T15:43:05.309590Z",
     "iopub.status.busy": "2023-06-22T15:43:05.309410Z",
     "iopub.status.idle": "2023-06-22T15:43:05.631443Z",
     "shell.execute_reply": "2023-06-22T15:43:05.630693Z",
     "shell.execute_reply.started": "2023-06-22T15:43:05.309573Z"
    },
    "id": "4HyKRmYWVpTA",
    "outputId": "4493ff37-dc37-4fea-bbae-28fbe4ab4c71"
   },
   "outputs": [
    {
     "name": "stdout",
     "output_type": "stream",
     "text": [
      "torch.Size([32, 3, 64, 64]) torch.Size([32])\n",
      "torch.Size([32, 53])\n"
     ]
    },
    {
     "data": {
      "text/plain": [
       "tensor(4.3978, device='cuda:0', grad_fn=<NllLossBackward0>)"
      ]
     },
     "execution_count": 15,
     "metadata": {},
     "output_type": "execute_result"
    }
   ],
   "source": [
    "for x,y in train_loader:\n",
    "  print(x.shape,y.shape)\n",
    "  break\n",
    "\n",
    "x = x.to(device)\n",
    "output = model(x)\n",
    "print(output.shape)\n",
    "\n",
    "y = y.to(device)\n",
    "loss = loss_function(output,y)\n",
    "loss"
   ]
  },
  {
   "cell_type": "code",
   "execution_count": 16,
   "metadata": {
    "colab": {
     "base_uri": "https://localhost:8080/"
    },
    "execution": {
     "iopub.execute_input": "2023-06-22T15:43:05.633162Z",
     "iopub.status.busy": "2023-06-22T15:43:05.632514Z",
     "iopub.status.idle": "2023-06-22T15:43:49.340042Z",
     "shell.execute_reply": "2023-06-22T15:43:49.339362Z",
     "shell.execute_reply.started": "2023-06-22T15:43:05.633134Z"
    },
    "id": "61FsZFjXT-k-",
    "outputId": "c2829e18-fdee-4091-f383-66b515f70286"
   },
   "outputs": [
    {
     "name": "stderr",
     "output_type": "stream",
     "text": [
      "100%|██████████| 191/191 [00:03<00:00, 53.46it/s]\n",
      "100%|██████████| 48/48 [00:01<00:00, 41.43it/s]\n"
     ]
    },
    {
     "name": "stdout",
     "output_type": "stream",
     "text": [
      "epoch 0: train loss:2.0339808464050293 val loss:1.3545608520507812 val acc:0.6254960298538208\n"
     ]
    },
    {
     "name": "stderr",
     "output_type": "stream",
     "text": [
      "100%|██████████| 191/191 [00:03<00:00, 57.48it/s]\n",
      "100%|██████████| 48/48 [00:01<00:00, 47.48it/s]\n"
     ]
    },
    {
     "name": "stdout",
     "output_type": "stream",
     "text": [
      "epoch 1: train loss:1.0662600994110107 val loss:1.0974488258361816 val acc:0.6906312704086304\n"
     ]
    },
    {
     "name": "stderr",
     "output_type": "stream",
     "text": [
      "100%|██████████| 191/191 [00:03<00:00, 54.58it/s]\n",
      "100%|██████████| 48/48 [00:01<00:00, 47.82it/s]\n"
     ]
    },
    {
     "name": "stdout",
     "output_type": "stream",
     "text": [
      "epoch 2: train loss:0.7473480701446533 val loss:1.0336490869522095 val acc:0.7202691435813904\n"
     ]
    },
    {
     "name": "stderr",
     "output_type": "stream",
     "text": [
      "100%|██████████| 191/191 [00:03<00:00, 58.36it/s]\n",
      "100%|██████████| 48/48 [00:00<00:00, 51.01it/s]\n"
     ]
    },
    {
     "name": "stdout",
     "output_type": "stream",
     "text": [
      "epoch 3: train loss:0.5262752175331116 val loss:0.9961415529251099 val acc:0.7297247648239136\n"
     ]
    },
    {
     "name": "stderr",
     "output_type": "stream",
     "text": [
      "100%|██████████| 191/191 [00:03<00:00, 55.44it/s]\n",
      "100%|██████████| 48/48 [00:01<00:00, 46.84it/s]\n"
     ]
    },
    {
     "name": "stdout",
     "output_type": "stream",
     "text": [
      "epoch 4: train loss:0.4011530876159668 val loss:0.9803200960159302 val acc:0.7541543245315552\n"
     ]
    },
    {
     "name": "stderr",
     "output_type": "stream",
     "text": [
      "100%|██████████| 191/191 [00:03<00:00, 55.82it/s]\n",
      "100%|██████████| 48/48 [00:00<00:00, 48.39it/s]\n"
     ]
    },
    {
     "name": "stdout",
     "output_type": "stream",
     "text": [
      "epoch 5: train loss:0.28006571531295776 val loss:1.0669375658035278 val acc:0.760664701461792\n"
     ]
    },
    {
     "name": "stderr",
     "output_type": "stream",
     "text": [
      "100%|██████████| 191/191 [00:03<00:00, 59.62it/s]\n",
      "100%|██████████| 48/48 [00:01<00:00, 46.59it/s]\n"
     ]
    },
    {
     "name": "stdout",
     "output_type": "stream",
     "text": [
      "epoch 6: train loss:0.25003916025161743 val loss:1.1314003467559814 val acc:0.7346230745315552\n"
     ]
    },
    {
     "name": "stderr",
     "output_type": "stream",
     "text": [
      "100%|██████████| 191/191 [00:03<00:00, 58.55it/s]\n",
      "100%|██████████| 48/48 [00:01<00:00, 46.93it/s]\n"
     ]
    },
    {
     "name": "stdout",
     "output_type": "stream",
     "text": [
      "epoch 7: train loss:0.21143142879009247 val loss:1.115282416343689 val acc:0.7613157629966736\n"
     ]
    },
    {
     "name": "stderr",
     "output_type": "stream",
     "text": [
      "100%|██████████| 191/191 [00:03<00:00, 60.47it/s]\n",
      "100%|██████████| 48/48 [00:00<00:00, 48.55it/s]\n"
     ]
    },
    {
     "name": "stdout",
     "output_type": "stream",
     "text": [
      "epoch 8: train loss:0.1503748744726181 val loss:1.0490808486938477 val acc:0.7649120092391968\n"
     ]
    },
    {
     "name": "stderr",
     "output_type": "stream",
     "text": [
      "100%|██████████| 191/191 [00:03<00:00, 57.81it/s]\n",
      "100%|██████████| 48/48 [00:00<00:00, 49.01it/s]"
     ]
    },
    {
     "name": "stdout",
     "output_type": "stream",
     "text": [
      "epoch 9: train loss:0.13026612997055054 val loss:1.0120179653167725 val acc:0.7724144458770752\n"
     ]
    },
    {
     "name": "stderr",
     "output_type": "stream",
     "text": [
      "\n"
     ]
    }
   ],
   "source": [
    "# n_epochs = N_EPOCHS\n",
    "\n",
    "for i in range(n_epochs):\n",
    "  model.train()\n",
    "  train_loss = 0\n",
    "  for x,y in tqdm(train_loader):\n",
    "    optimizer.zero_grad()\n",
    "    x, y = x.to(device), y.to(device)\n",
    "    preds = model(x)\n",
    "    loss = loss_function(preds,y)\n",
    "    train_loss += loss\n",
    "    loss.backward()\n",
    "    optimizer.step()\n",
    "\n",
    "  model.eval()\n",
    "  val_loss = 0\n",
    "  val_acc = 0\n",
    "  with torch.no_grad():\n",
    "    for x,y in  tqdm(test_loader):\n",
    "      x, y = x.to(device), y.to(device)\n",
    "      logits = model(x)\n",
    "      preds = logits.max(dim=1)[1]\n",
    "      val_acc += torch.mean((preds == y).float())\n",
    "      loss = loss_function(logits,y)\n",
    "      val_loss += loss    \n",
    "\n",
    "  \n",
    "  train_len = len(train_loader)\n",
    "  val_len = len(test_loader)\n",
    "  \n",
    "  print(f'epoch {i}: train loss:{train_loss / train_len } val loss:{val_loss / val_len } val acc:{val_acc / val_len }')\n",
    "\n",
    "  losses_train_history['random'].append(train_loss / train_len)\n",
    "  losses_val_history['random'].append(val_loss / val_len)\n",
    "  acc_val_history['random'].append(val_acc / val_len)"
   ]
  },
  {
   "cell_type": "code",
   "execution_count": 17,
   "metadata": {
    "execution": {
     "iopub.execute_input": "2023-06-22T15:43:49.341456Z",
     "iopub.status.busy": "2023-06-22T15:43:49.340995Z",
     "iopub.status.idle": "2023-06-22T15:43:49.345906Z",
     "shell.execute_reply": "2023-06-22T15:43:49.345413Z",
     "shell.execute_reply.started": "2023-06-22T15:43:49.341435Z"
    },
    "id": "ZOqoilk1oAXz"
   },
   "outputs": [],
   "source": [
    "def get_loaders_weighted(weights,data_dir='cifar-100', batch_size=32, augments=[True, False], shuffles=[False, False]):\n",
    "    full_dataset = datasets.ImageFolder(\n",
    "        root='/notebooks/train',\n",
    "        transform=transformation\n",
    "    )\n",
    "    train_len = int(len(full_dataset)*0.8)\n",
    "    test_len = len(full_dataset) - train_len\n",
    "    train_dataset, test_dataset = torch.utils.data.random_split(full_dataset,[train_len,test_len])\n",
    "\n",
    "    sampler = torch.utils.data.sampler.WeightedRandomSampler(weights, len(weights),replacement=False)                     \n",
    " \n",
    "    train_loader = torch.utils.data.DataLoader(\n",
    "        dataset=train_dataset,\n",
    "        batch_size=batch_size, sampler = sampler,\n",
    "        pin_memory=True, num_workers=2)\n",
    "    test_loader = torch.utils.data.DataLoader(\n",
    "        dataset=test_dataset,\n",
    "        batch_size=batch_size, shuffle=shuffles[1],\n",
    "        pin_memory=True, num_workers=2)\n",
    "    \n",
    "    return train_loader, test_loader"
   ]
  },
  {
   "cell_type": "markdown",
   "metadata": {
    "id": "_akJAueX6pW7"
   },
   "source": [
    "2)hard first"
   ]
  },
  {
   "cell_type": "code",
   "execution_count": 18,
   "metadata": {
    "colab": {
     "base_uri": "https://localhost:8080/"
    },
    "execution": {
     "iopub.execute_input": "2023-06-22T15:43:49.346660Z",
     "iopub.status.busy": "2023-06-22T15:43:49.346506Z",
     "iopub.status.idle": "2023-06-22T15:43:49.509483Z",
     "shell.execute_reply": "2023-06-22T15:43:49.508924Z",
     "shell.execute_reply.started": "2023-06-22T15:43:49.346646Z"
    },
    "id": "OX8zfZppows8",
    "outputId": "f3feccae-df0b-410b-c418-6442481d7396"
   },
   "outputs": [
    {
     "name": "stdout",
     "output_type": "stream",
     "text": [
      "Model is on device: cuda\n"
     ]
    }
   ],
   "source": [
    "model_transfer = resnet18(weights='DEFAULT')\n",
    "model_transfer.fc = nn.Linear(512,num_classes)\n",
    "optimizer = torch.optim.Adam(model_transfer.parameters(),lr=5e-4)\n",
    "loss_function = nn.CrossEntropyLoss()\n",
    "model_transfer.to(device)\n",
    "print(f'Model is on device: {device}')"
   ]
  },
  {
   "cell_type": "code",
   "execution_count": 19,
   "metadata": {
    "colab": {
     "base_uri": "https://localhost:8080/"
    },
    "execution": {
     "iopub.execute_input": "2023-06-22T15:43:49.510742Z",
     "iopub.status.busy": "2023-06-22T15:43:49.510562Z",
     "iopub.status.idle": "2023-06-22T15:44:34.114321Z",
     "shell.execute_reply": "2023-06-22T15:44:34.113404Z",
     "shell.execute_reply.started": "2023-06-22T15:43:49.510726Z"
    },
    "id": "zh1Sj-vEo8y5",
    "outputId": "f9dbfacc-752d-4986-9364-6aa61dc281e1"
   },
   "outputs": [
    {
     "name": "stderr",
     "output_type": "stream",
     "text": [
      "100%|██████████| 191/191 [00:03<00:00, 55.49it/s]\n",
      "100%|██████████| 48/48 [00:00<00:00, 48.75it/s]\n"
     ]
    },
    {
     "name": "stdout",
     "output_type": "stream",
     "text": [
      "epoch 0: train loss:2.068578004837036 val loss:1.368167757987976  val acc:0.6121962070465088\n"
     ]
    },
    {
     "name": "stderr",
     "output_type": "stream",
     "text": [
      "100%|██████████| 191/191 [00:03<00:00, 54.39it/s]\n",
      "100%|██████████| 48/48 [00:00<00:00, 49.05it/s]\n"
     ]
    },
    {
     "name": "stdout",
     "output_type": "stream",
     "text": [
      "epoch 1: train loss:1.1015299558639526 val loss:0.9314953088760376  val acc:0.7254464626312256\n"
     ]
    },
    {
     "name": "stderr",
     "output_type": "stream",
     "text": [
      "100%|██████████| 191/191 [00:03<00:00, 54.17it/s]\n",
      "100%|██████████| 48/48 [00:00<00:00, 49.76it/s]\n"
     ]
    },
    {
     "name": "stdout",
     "output_type": "stream",
     "text": [
      "epoch 2: train loss:0.8229163289070129 val loss:0.7647766470909119  val acc:0.7756696939468384\n"
     ]
    },
    {
     "name": "stderr",
     "output_type": "stream",
     "text": [
      "100%|██████████| 191/191 [00:03<00:00, 56.47it/s]\n",
      "100%|██████████| 48/48 [00:01<00:00, 47.07it/s]\n"
     ]
    },
    {
     "name": "stdout",
     "output_type": "stream",
     "text": [
      "epoch 3: train loss:0.6200888156890869 val loss:0.5969280004501343  val acc:0.8202505111694336\n"
     ]
    },
    {
     "name": "stderr",
     "output_type": "stream",
     "text": [
      "100%|██████████| 191/191 [00:03<00:00, 55.65it/s]\n",
      "100%|██████████| 48/48 [00:01<00:00, 44.45it/s]\n"
     ]
    },
    {
     "name": "stdout",
     "output_type": "stream",
     "text": [
      "epoch 4: train loss:0.47879356145858765 val loss:0.5152740478515625  val acc:0.8508495092391968\n"
     ]
    },
    {
     "name": "stderr",
     "output_type": "stream",
     "text": [
      "100%|██████████| 191/191 [00:03<00:00, 55.89it/s]\n",
      "100%|██████████| 48/48 [00:01<00:00, 47.83it/s]\n"
     ]
    },
    {
     "name": "stdout",
     "output_type": "stream",
     "text": [
      "epoch 5: train loss:0.3937220871448517 val loss:0.479745477437973  val acc:0.8593440055847168\n"
     ]
    },
    {
     "name": "stderr",
     "output_type": "stream",
     "text": [
      "100%|██████████| 191/191 [00:03<00:00, 57.27it/s]\n",
      "100%|██████████| 48/48 [00:00<00:00, 49.36it/s]\n"
     ]
    },
    {
     "name": "stdout",
     "output_type": "stream",
     "text": [
      "epoch 6: train loss:0.3274715840816498 val loss:0.3235640823841095  val acc:0.8983445167541504\n"
     ]
    },
    {
     "name": "stderr",
     "output_type": "stream",
     "text": [
      "100%|██████████| 191/191 [00:03<00:00, 55.45it/s]\n",
      "100%|██████████| 48/48 [00:01<00:00, 45.76it/s]\n"
     ]
    },
    {
     "name": "stdout",
     "output_type": "stream",
     "text": [
      "epoch 7: train loss:0.24310079216957092 val loss:0.20918600261211395  val acc:0.93325275182724\n"
     ]
    },
    {
     "name": "stderr",
     "output_type": "stream",
     "text": [
      "100%|██████████| 191/191 [00:03<00:00, 54.35it/s]\n",
      "100%|██████████| 48/48 [00:01<00:00, 44.78it/s]\n"
     ]
    },
    {
     "name": "stdout",
     "output_type": "stream",
     "text": [
      "epoch 8: train loss:0.22952257096767426 val loss:0.23312881588935852  val acc:0.92934650182724\n"
     ]
    },
    {
     "name": "stderr",
     "output_type": "stream",
     "text": [
      "100%|██████████| 191/191 [00:03<00:00, 58.51it/s]\n",
      "100%|██████████| 48/48 [00:00<00:00, 50.87it/s]"
     ]
    },
    {
     "name": "stdout",
     "output_type": "stream",
     "text": [
      "epoch 9: train loss:0.20452341437339783 val loss:0.19895318150520325  val acc:0.9387401342391968\n"
     ]
    },
    {
     "name": "stderr",
     "output_type": "stream",
     "text": [
      "\n"
     ]
    }
   ],
   "source": [
    "\n",
    "for i in range(n_epochs):\n",
    "  if i < n_epochs//2:\n",
    "    weights =  (1+acc_on_sample_class) ** (-2)\n",
    "  else:\n",
    "    weigths = np.array([1]*len(acc_on_sample_class))\n",
    "  train_loader,test_loader = get_loaders_weighted(weights)\n",
    "  model_transfer.train()\n",
    "  train_loss = 0\n",
    "  for x,y in tqdm(train_loader):\n",
    "    optimizer.zero_grad()\n",
    "    x, y = x.to(device), y.to(device)\n",
    "    preds = model_transfer(x)\n",
    "    loss = loss_function(preds,y)\n",
    "    train_loss += loss\n",
    "    loss.backward()\n",
    "    optimizer.step()\n",
    "\n",
    "  model_transfer.eval()\n",
    "  val_loss = 0\n",
    "  val_acc = 0\n",
    "  with torch.no_grad():\n",
    "    for x,y in  tqdm(test_loader):\n",
    "      x, y = x.to(device), y.to(device)\n",
    "      logits = model_transfer(x)\n",
    "      preds = logits.max(dim=1)[1]\n",
    "      val_acc += torch.mean((preds == y).float())\n",
    "      loss = loss_function(logits,y)\n",
    "      val_loss += loss    \n",
    "\n",
    "  \n",
    "  train_len = len(train_loader)\n",
    "  val_len = len(test_loader)\n",
    "  print(f'epoch {i}: train loss:{train_loss / train_len } val loss:{val_loss / val_len }  val acc:{val_acc / val_len }')\n",
    "\n",
    "  losses_train_history['hard first'].append(train_loss / train_len)\n",
    "  losses_val_history['hard first'].append(val_loss / val_len)\n",
    "  acc_val_history['hard first'].append(val_acc / val_len)"
   ]
  },
  {
   "cell_type": "markdown",
   "metadata": {
    "id": "hLy_OUfgEeEV"
   },
   "source": [
    "3)easy first"
   ]
  },
  {
   "cell_type": "code",
   "execution_count": 20,
   "metadata": {
    "colab": {
     "base_uri": "https://localhost:8080/"
    },
    "execution": {
     "iopub.execute_input": "2023-06-22T15:44:34.116183Z",
     "iopub.status.busy": "2023-06-22T15:44:34.115928Z",
     "iopub.status.idle": "2023-06-22T15:44:34.304172Z",
     "shell.execute_reply": "2023-06-22T15:44:34.303543Z",
     "shell.execute_reply.started": "2023-06-22T15:44:34.116183Z"
    },
    "id": "1hVkZZzF68YO",
    "outputId": "e3b14444-9eb4-4ced-d946-152917012ab2"
   },
   "outputs": [
    {
     "name": "stdout",
     "output_type": "stream",
     "text": [
      "Model is on device: cuda\n"
     ]
    }
   ],
   "source": [
    "model_transfer = resnet18(weights='DEFAULT')\n",
    "model_transfer.fc = nn.Linear(512,num_classes)\n",
    "optimizer = torch.optim.Adam(model_transfer.parameters(),lr=5e-4)\n",
    "loss_function = nn.CrossEntropyLoss()\n",
    "model_transfer.to(device)\n",
    "print(f'Model is on device: {device}')"
   ]
  },
  {
   "cell_type": "code",
   "execution_count": 21,
   "metadata": {
    "colab": {
     "base_uri": "https://localhost:8080/"
    },
    "execution": {
     "iopub.execute_input": "2023-06-22T15:44:34.307072Z",
     "iopub.status.busy": "2023-06-22T15:44:34.306533Z",
     "iopub.status.idle": "2023-06-22T15:45:19.581007Z",
     "shell.execute_reply": "2023-06-22T15:45:19.580457Z",
     "shell.execute_reply.started": "2023-06-22T15:44:34.307053Z"
    },
    "id": "UzhN0fg87FjX",
    "outputId": "75086755-cc87-4842-b5b8-af1376b36244"
   },
   "outputs": [
    {
     "name": "stderr",
     "output_type": "stream",
     "text": [
      "100%|██████████| 191/191 [00:03<00:00, 54.12it/s]\n",
      "100%|██████████| 48/48 [00:01<00:00, 44.45it/s]\n"
     ]
    },
    {
     "name": "stdout",
     "output_type": "stream",
     "text": [
      "epoch 0: train loss:2.0713953971862793 val loss:1.5729987621307373  val acc:0.5776599645614624\n"
     ]
    },
    {
     "name": "stderr",
     "output_type": "stream",
     "text": [
      "100%|██████████| 191/191 [00:03<00:00, 55.79it/s]\n",
      "100%|██████████| 48/48 [00:01<00:00, 47.27it/s]\n"
     ]
    },
    {
     "name": "stdout",
     "output_type": "stream",
     "text": [
      "epoch 1: train loss:1.0924783945083618 val loss:0.986974835395813  val acc:0.717354953289032\n"
     ]
    },
    {
     "name": "stderr",
     "output_type": "stream",
     "text": [
      "100%|██████████| 191/191 [00:03<00:00, 54.99it/s]\n",
      "100%|██████████| 48/48 [00:01<00:00, 47.22it/s]\n"
     ]
    },
    {
     "name": "stdout",
     "output_type": "stream",
     "text": [
      "epoch 2: train loss:0.7871131896972656 val loss:0.8027693629264832  val acc:0.76298987865448\n"
     ]
    },
    {
     "name": "stderr",
     "output_type": "stream",
     "text": [
      "100%|██████████| 191/191 [00:03<00:00, 49.87it/s]\n",
      "100%|██████████| 48/48 [00:00<00:00, 49.08it/s]\n"
     ]
    },
    {
     "name": "stdout",
     "output_type": "stream",
     "text": [
      "epoch 3: train loss:0.6309688687324524 val loss:0.5810555219650269  val acc:0.8293651342391968\n"
     ]
    },
    {
     "name": "stderr",
     "output_type": "stream",
     "text": [
      "100%|██████████| 191/191 [00:03<00:00, 53.99it/s]\n",
      "100%|██████████| 48/48 [00:01<00:00, 47.78it/s]\n"
     ]
    },
    {
     "name": "stdout",
     "output_type": "stream",
     "text": [
      "epoch 4: train loss:0.4465095102787018 val loss:0.4491668939590454  val acc:0.8701016902923584\n"
     ]
    },
    {
     "name": "stderr",
     "output_type": "stream",
     "text": [
      "100%|██████████| 191/191 [00:03<00:00, 54.35it/s]\n",
      "100%|██████████| 48/48 [00:00<00:00, 50.30it/s]\n"
     ]
    },
    {
     "name": "stdout",
     "output_type": "stream",
     "text": [
      "epoch 5: train loss:0.3599247634410858 val loss:0.4172102212905884  val acc:0.8745970129966736\n"
     ]
    },
    {
     "name": "stderr",
     "output_type": "stream",
     "text": [
      "100%|██████████| 191/191 [00:03<00:00, 57.08it/s]\n",
      "100%|██████████| 48/48 [00:00<00:00, 48.39it/s]\n"
     ]
    },
    {
     "name": "stdout",
     "output_type": "stream",
     "text": [
      "epoch 6: train loss:0.28964537382125854 val loss:0.27055245637893677  val acc:0.9237971305847168\n"
     ]
    },
    {
     "name": "stderr",
     "output_type": "stream",
     "text": [
      "100%|██████████| 191/191 [00:03<00:00, 54.94it/s]\n",
      "100%|██████████| 48/48 [00:00<00:00, 50.82it/s]\n"
     ]
    },
    {
     "name": "stdout",
     "output_type": "stream",
     "text": [
      "epoch 7: train loss:0.24568980932235718 val loss:0.24416504800319672  val acc:0.9342138171195984\n"
     ]
    },
    {
     "name": "stderr",
     "output_type": "stream",
     "text": [
      "100%|██████████| 191/191 [00:03<00:00, 52.49it/s]\n",
      "100%|██████████| 48/48 [00:00<00:00, 49.05it/s]\n"
     ]
    },
    {
     "name": "stdout",
     "output_type": "stream",
     "text": [
      "epoch 8: train loss:0.20758549869060516 val loss:0.19470016658306122  val acc:0.9374690055847168\n"
     ]
    },
    {
     "name": "stderr",
     "output_type": "stream",
     "text": [
      "100%|██████████| 191/191 [00:03<00:00, 57.39it/s]\n",
      "100%|██████████| 48/48 [00:00<00:00, 51.02it/s]"
     ]
    },
    {
     "name": "stdout",
     "output_type": "stream",
     "text": [
      "epoch 9: train loss:0.2071676254272461 val loss:0.23276309669017792  val acc:0.9267423152923584\n"
     ]
    },
    {
     "name": "stderr",
     "output_type": "stream",
     "text": [
      "\n"
     ]
    }
   ],
   "source": [
    "for i in range(n_epochs):\n",
    "  if i < n_epochs//2:\n",
    "    weights =  (1+acc_on_sample_class) ** (2)\n",
    "  else:\n",
    "    weigths = np.array([1]*len(acc_on_sample_class))\n",
    "  train_loader,test_loader = get_loaders_weighted(weights)\n",
    "  model_transfer.train()\n",
    "  train_loss = 0\n",
    "  for x,y in tqdm(train_loader):\n",
    "    optimizer.zero_grad()\n",
    "    x, y = x.to(device), y.to(device)\n",
    "    preds = model_transfer(x)\n",
    "    loss = loss_function(preds,y)\n",
    "    train_loss += loss\n",
    "    loss.backward()\n",
    "    optimizer.step()\n",
    "\n",
    "  model_transfer.eval()\n",
    "  val_loss = 0\n",
    "  val_acc = 0\n",
    "  with torch.no_grad():\n",
    "    for x,y in  tqdm(test_loader):\n",
    "      x, y = x.to(device), y.to(device)\n",
    "      logits = model_transfer(x)\n",
    "      preds = logits.max(dim=1)[1]\n",
    "      val_acc += torch.mean((preds == y).float())\n",
    "      loss = loss_function(logits,y)\n",
    "      val_loss += loss    \n",
    "\n",
    "  \n",
    "  train_len = len(train_loader)\n",
    "  val_len = len(test_loader)\n",
    "  print(f'epoch {i}: train loss:{train_loss / train_len } val loss:{val_loss / val_len }  val acc:{val_acc / val_len }')\n",
    "\n",
    "  losses_train_history['easy first'].append(train_loss / train_len)\n",
    "  losses_val_history['easy first'].append(val_loss / val_len)\n",
    "  acc_val_history['easy first'].append(val_acc / val_len)"
   ]
  },
  {
   "cell_type": "code",
   "execution_count": 22,
   "metadata": {
    "execution": {
     "iopub.execute_input": "2023-06-22T15:45:19.584570Z",
     "iopub.status.busy": "2023-06-22T15:45:19.583940Z",
     "iopub.status.idle": "2023-06-22T15:45:19.588970Z",
     "shell.execute_reply": "2023-06-22T15:45:19.588155Z",
     "shell.execute_reply.started": "2023-06-22T15:45:19.584544Z"
    },
    "id": "PwJO4Kg_DWBc"
   },
   "outputs": [],
   "source": [
    "def tensor_list_to_list(list_of_tensors):\n",
    "  return [t.item() for t in list_of_tensors]"
   ]
  },
  {
   "cell_type": "markdown",
   "metadata": {},
   "source": [
    "4)mixed"
   ]
  },
  {
   "cell_type": "code",
   "execution_count": 23,
   "metadata": {
    "execution": {
     "iopub.execute_input": "2023-06-22T15:45:19.589890Z",
     "iopub.status.busy": "2023-06-22T15:45:19.589718Z",
     "iopub.status.idle": "2023-06-22T15:45:19.763705Z",
     "shell.execute_reply": "2023-06-22T15:45:19.763147Z",
     "shell.execute_reply.started": "2023-06-22T15:45:19.589875Z"
    },
    "id": "gqsv1MPd13Gt"
   },
   "outputs": [
    {
     "name": "stdout",
     "output_type": "stream",
     "text": [
      "Model is on device: cuda\n"
     ]
    }
   ],
   "source": [
    "model_transfer = resnet18(weights='DEFAULT')\n",
    "model_transfer.fc = nn.Linear(512,num_classes)\n",
    "optimizer = torch.optim.Adam(model_transfer.parameters(),lr=5e-4)\n",
    "loss_function = nn.CrossEntropyLoss()\n",
    "model_transfer.to(device)\n",
    "print(f'Model is on device: {device}')"
   ]
  },
  {
   "cell_type": "code",
   "execution_count": 24,
   "metadata": {
    "colab": {
     "base_uri": "https://localhost:8080/"
    },
    "execution": {
     "iopub.execute_input": "2023-06-22T15:45:19.764609Z",
     "iopub.status.busy": "2023-06-22T15:45:19.764440Z",
     "iopub.status.idle": "2023-06-22T15:46:03.786974Z",
     "shell.execute_reply": "2023-06-22T15:46:03.786344Z",
     "shell.execute_reply.started": "2023-06-22T15:45:19.764594Z"
    },
    "id": "VA6wzQWD2aa6",
    "outputId": "7c4c8c2b-542b-4961-8dca-d9728e63a34e"
   },
   "outputs": [
    {
     "name": "stderr",
     "output_type": "stream",
     "text": [
      "100%|██████████| 191/191 [00:03<00:00, 59.40it/s]\n",
      "100%|██████████| 48/48 [00:01<00:00, 46.64it/s]\n"
     ]
    },
    {
     "name": "stdout",
     "output_type": "stream",
     "text": [
      "epoch 0: train loss:2.081382989883423 val loss:1.4255380630493164  val acc:0.5984933376312256\n"
     ]
    },
    {
     "name": "stderr",
     "output_type": "stream",
     "text": [
      "100%|██████████| 191/191 [00:03<00:00, 55.88it/s]\n",
      "100%|██████████| 48/48 [00:00<00:00, 48.82it/s]\n"
     ]
    },
    {
     "name": "stdout",
     "output_type": "stream",
     "text": [
      "epoch 1: train loss:1.2038837671279907 val loss:0.9826819896697998  val acc:0.7229043245315552\n"
     ]
    },
    {
     "name": "stderr",
     "output_type": "stream",
     "text": [
      "100%|██████████| 191/191 [00:03<00:00, 57.11it/s]\n",
      "100%|██████████| 48/48 [00:00<00:00, 48.48it/s]\n"
     ]
    },
    {
     "name": "stdout",
     "output_type": "stream",
     "text": [
      "epoch 2: train loss:0.8537231683731079 val loss:0.8664390444755554  val acc:0.7356151342391968\n"
     ]
    },
    {
     "name": "stderr",
     "output_type": "stream",
     "text": [
      "100%|██████████| 191/191 [00:03<00:00, 56.22it/s]\n",
      "100%|██████████| 48/48 [00:00<00:00, 48.04it/s]\n"
     ]
    },
    {
     "name": "stdout",
     "output_type": "stream",
     "text": [
      "epoch 3: train loss:0.6580421328544617 val loss:0.6479876637458801  val acc:0.8108259439468384\n"
     ]
    },
    {
     "name": "stderr",
     "output_type": "stream",
     "text": [
      "100%|██████████| 191/191 [00:03<00:00, 56.38it/s]\n",
      "100%|██████████| 48/48 [00:01<00:00, 44.64it/s]\n"
     ]
    },
    {
     "name": "stdout",
     "output_type": "stream",
     "text": [
      "epoch 4: train loss:0.5095081329345703 val loss:0.5337403416633606  val acc:0.8289930820465088\n"
     ]
    },
    {
     "name": "stderr",
     "output_type": "stream",
     "text": [
      "100%|██████████| 191/191 [00:03<00:00, 53.91it/s]\n",
      "100%|██████████| 48/48 [00:00<00:00, 48.08it/s]\n"
     ]
    },
    {
     "name": "stdout",
     "output_type": "stream",
     "text": [
      "epoch 5: train loss:0.40600910782814026 val loss:0.41473454236984253  val acc:0.8746280074119568\n"
     ]
    },
    {
     "name": "stderr",
     "output_type": "stream",
     "text": [
      "100%|██████████| 191/191 [00:03<00:00, 58.05it/s]\n",
      "100%|██████████| 48/48 [00:01<00:00, 46.31it/s]\n"
     ]
    },
    {
     "name": "stdout",
     "output_type": "stream",
     "text": [
      "epoch 6: train loss:0.2994728982448578 val loss:0.2909367084503174  val acc:0.9081721305847168\n"
     ]
    },
    {
     "name": "stderr",
     "output_type": "stream",
     "text": [
      "100%|██████████| 191/191 [00:03<00:00, 55.59it/s]\n",
      "100%|██████████| 48/48 [00:01<00:00, 47.46it/s]\n"
     ]
    },
    {
     "name": "stdout",
     "output_type": "stream",
     "text": [
      "epoch 7: train loss:0.27273881435394287 val loss:0.2806590795516968  val acc:0.90786212682724\n"
     ]
    },
    {
     "name": "stderr",
     "output_type": "stream",
     "text": [
      "100%|██████████| 191/191 [00:03<00:00, 55.08it/s]\n",
      "100%|██████████| 48/48 [00:00<00:00, 51.01it/s]\n"
     ]
    },
    {
     "name": "stdout",
     "output_type": "stream",
     "text": [
      "epoch 8: train loss:0.24368543922901154 val loss:0.16808682680130005  val acc:0.9495288133621216\n"
     ]
    },
    {
     "name": "stderr",
     "output_type": "stream",
     "text": [
      "100%|██████████| 191/191 [00:03<00:00, 59.36it/s]\n",
      "100%|██████████| 48/48 [00:00<00:00, 48.61it/s]"
     ]
    },
    {
     "name": "stdout",
     "output_type": "stream",
     "text": [
      "epoch 9: train loss:0.1927078813314438 val loss:0.19011321663856506  val acc:0.94921875\n"
     ]
    },
    {
     "name": "stderr",
     "output_type": "stream",
     "text": [
      "\n"
     ]
    }
   ],
   "source": [
    "\n",
    "for i in range(n_epochs):\n",
    "  weights = 1. / ( acc_on_sample_class + 1.0)**((n_epochs//2 - i) / 10)\n",
    "  train_loader,test_loader = get_loaders_weighted(weights)\n",
    "  model_transfer.train()\n",
    "  train_loss = 0\n",
    "  for x,y in tqdm(train_loader):\n",
    "    optimizer.zero_grad()\n",
    "    x, y = x.to(device), y.to(device)\n",
    "    preds = model_transfer(x)\n",
    "    loss = loss_function(preds,y)\n",
    "    train_loss += loss\n",
    "    loss.backward()\n",
    "    optimizer.step()\n",
    "\n",
    "  model_transfer.eval()\n",
    "  val_loss = 0\n",
    "  val_acc = 0\n",
    "  with torch.no_grad():\n",
    "    for x,y in  tqdm(test_loader):\n",
    "      x, y = x.to(device), y.to(device)\n",
    "      logits = model_transfer(x)\n",
    "      preds = logits.max(dim=1)[1]\n",
    "      val_acc += torch.mean((preds == y).float())\n",
    "      loss = loss_function(logits,y)\n",
    "      val_loss += loss    \n",
    "\n",
    "  \n",
    "  train_len = len(train_loader)\n",
    "  val_len = len(test_loader)\n",
    "  print(f'epoch {i}: train loss:{train_loss / train_len } val loss:{val_loss / val_len }  val acc:{val_acc / val_len }')\n",
    "\n",
    "  losses_train_history['mixed'].append(train_loss / train_len)\n",
    "  losses_val_history['mixed'].append(val_loss / val_len)\n",
    "  acc_val_history['mixed'].append(val_acc / val_len)"
   ]
  },
  {
   "cell_type": "code",
   "execution_count": 25,
   "metadata": {
    "execution": {
     "iopub.execute_input": "2023-06-22T15:46:03.788480Z",
     "iopub.status.busy": "2023-06-22T15:46:03.787988Z",
     "iopub.status.idle": "2023-06-22T15:46:04.647573Z",
     "shell.execute_reply": "2023-06-22T15:46:04.646745Z",
     "shell.execute_reply.started": "2023-06-22T15:46:03.788458Z"
    }
   },
   "outputs": [
    {
     "data": {
      "image/png": "[encoded data removed]",
      "text/plain": [
       "<Figure size 1400x400 with 3 Axes>"
      ]
     },
     "metadata": {},
     "output_type": "display_data"
    }
   ],
   "source": [
    "def tensor_to_list(t):\n",
    "    return [el.item() for el in t][:12]\n",
    "\n",
    "fig,axes = plt.subplots(1,3,figsize=(14,4),constrained_layout=True)\n",
    "\n",
    "for mode in acc_val_history.keys():\n",
    "    axes[2].plot(range(n_epochs), tensor_to_list(acc_val_history[mode]),label=mode)\n",
    "    axes[2].legend()\n",
    "    axes[2].set_xticks(range(n_epochs))\n",
    "\n",
    "axes[2].set_title('Test Accuracy')\n",
    "\n",
    "\n",
    "for mode in losses_val_history.keys():\n",
    "    axes[1].plot(range(n_epochs), tensor_to_list(losses_val_history[mode]),label=mode)\n",
    "\n",
    "axes[1].set_title('Test Loss')\n",
    "axes[1].legend()\n",
    "axes[1].set_xticks(range(n_epochs))\n",
    "\n",
    "for index,ax in enumerate(axes):\n",
    "    ax.set_xlabel('epoch')\n",
    "    ax.set_ylabel('loss' if index < 2 else 'accuracy')\n",
    "\n",
    "for mode in losses_train_history.keys():\n",
    "    axes[0].plot(range(n_epochs), tensor_to_list(losses_train_history[mode]),label=mode)\n",
    "\n",
    "axes[0].set_title('Train Loss')\n",
    "axes[0].legend()\n",
    "axes[0].set_xticks(range(n_epochs))\n",
    "\n",
    "plt.savefig('cifar100_tr_cl_metrics.png')\n"
   ]
  },
  {
   "cell_type": "code",
   "execution_count": 28,
   "metadata": {
    "execution": {
     "iopub.execute_input": "2023-06-22T15:47:22.544052Z",
     "iopub.status.busy": "2023-06-22T15:47:22.543440Z",
     "iopub.status.idle": "2023-06-22T15:47:22.669026Z",
     "shell.execute_reply": "2023-06-22T15:47:22.668224Z",
     "shell.execute_reply.started": "2023-06-22T15:47:22.544030Z"
    }
   },
   "outputs": [
    {
     "name": "stdout",
     "output_type": "stream",
     "text": [
      "6099\n"
     ]
    },
    {
     "ename": "ValueError",
     "evalue": "x and y must have same first dimension, but have shapes (50000,) and (6099,)",
     "output_type": "error",
     "traceback": [
      "\u001b[0;31m---------------------------------------------------------------------------\u001b[0m",
      "\u001b[0;31mValueError\u001b[0m                                Traceback (most recent call last)",
      "Cell \u001b[0;32mIn [28], line 5\u001b[0m\n\u001b[1;32m      3\u001b[0m on_curr_weights \u001b[38;5;241m=\u001b[39m \u001b[38;5;241m1.\u001b[39m \u001b[38;5;241m/\u001b[39m (acc_on_sample_class \u001b[38;5;241m+\u001b[39m \u001b[38;5;241m1.0\u001b[39m)\u001b[38;5;241m*\u001b[39m\u001b[38;5;241m*\u001b[39m(\u001b[38;5;241m2\u001b[39m) \n\u001b[1;32m      4\u001b[0m anti_curr_weights \u001b[38;5;241m=\u001b[39m \u001b[38;5;241m1.\u001b[39m \u001b[38;5;241m/\u001b[39m (acc_on_sample_class \u001b[38;5;241m+\u001b[39m \u001b[38;5;241m1.0\u001b[39m)\u001b[38;5;241m*\u001b[39m\u001b[38;5;241m*\u001b[39m(\u001b[38;5;241m-\u001b[39m\u001b[38;5;241m2\u001b[39m) \n\u001b[0;32m----> 5\u001b[0m \u001b[43mplt\u001b[49m\u001b[38;5;241;43m.\u001b[39;49m\u001b[43mplot\u001b[49m\u001b[43m(\u001b[49m\u001b[38;5;28;43mrange\u001b[39;49m\u001b[43m(\u001b[49m\u001b[43mnum_samples\u001b[49m\u001b[43m)\u001b[49m\u001b[43m,\u001b[49m\u001b[43mon_curr_weights\u001b[49m\u001b[43m,\u001b[49m\u001b[43mlabel\u001b[49m\u001b[38;5;241;43m=\u001b[39;49m\u001b[38;5;124;43m'\u001b[39;49m\u001b[38;5;124;43mon-curriculum\u001b[39;49m\u001b[38;5;124;43m'\u001b[39;49m\u001b[43m,\u001b[49m\u001b[43mc\u001b[49m\u001b[38;5;241;43m=\u001b[39;49m\u001b[38;5;124;43m'\u001b[39;49m\u001b[38;5;124;43mgreen\u001b[39;49m\u001b[38;5;124;43m'\u001b[39;49m\u001b[43m)\u001b[49m\n\u001b[1;32m      6\u001b[0m plt\u001b[38;5;241m.\u001b[39mplot(\u001b[38;5;28mrange\u001b[39m(num_samples),anti_curr_weights,label\u001b[38;5;241m=\u001b[39m\u001b[38;5;124m'\u001b[39m\u001b[38;5;124manti-curriculum\u001b[39m\u001b[38;5;124m'\u001b[39m)\n\u001b[1;32m      7\u001b[0m plt\u001b[38;5;241m.\u001b[39mxlabel(\u001b[38;5;124m'\u001b[39m\u001b[38;5;124msample index\u001b[39m\u001b[38;5;124m'\u001b[39m)\n",
      "File \u001b[0;32m/usr/local/lib/python3.9/dist-packages/matplotlib/pyplot.py:2730\u001b[0m, in \u001b[0;36mplot\u001b[0;34m(scalex, scaley, data, *args, **kwargs)\u001b[0m\n\u001b[1;32m   2728\u001b[0m \u001b[38;5;129m@_copy_docstring_and_deprecators\u001b[39m(Axes\u001b[38;5;241m.\u001b[39mplot)\n\u001b[1;32m   2729\u001b[0m \u001b[38;5;28;01mdef\u001b[39;00m \u001b[38;5;21mplot\u001b[39m(\u001b[38;5;241m*\u001b[39margs, scalex\u001b[38;5;241m=\u001b[39m\u001b[38;5;28;01mTrue\u001b[39;00m, scaley\u001b[38;5;241m=\u001b[39m\u001b[38;5;28;01mTrue\u001b[39;00m, data\u001b[38;5;241m=\u001b[39m\u001b[38;5;28;01mNone\u001b[39;00m, \u001b[38;5;241m*\u001b[39m\u001b[38;5;241m*\u001b[39mkwargs):\n\u001b[0;32m-> 2730\u001b[0m     \u001b[38;5;28;01mreturn\u001b[39;00m \u001b[43mgca\u001b[49m\u001b[43m(\u001b[49m\u001b[43m)\u001b[49m\u001b[38;5;241;43m.\u001b[39;49m\u001b[43mplot\u001b[49m\u001b[43m(\u001b[49m\n\u001b[1;32m   2731\u001b[0m \u001b[43m        \u001b[49m\u001b[38;5;241;43m*\u001b[39;49m\u001b[43margs\u001b[49m\u001b[43m,\u001b[49m\u001b[43m \u001b[49m\u001b[43mscalex\u001b[49m\u001b[38;5;241;43m=\u001b[39;49m\u001b[43mscalex\u001b[49m\u001b[43m,\u001b[49m\u001b[43m \u001b[49m\u001b[43mscaley\u001b[49m\u001b[38;5;241;43m=\u001b[39;49m\u001b[43mscaley\u001b[49m\u001b[43m,\u001b[49m\n\u001b[1;32m   2732\u001b[0m \u001b[43m        \u001b[49m\u001b[38;5;241;43m*\u001b[39;49m\u001b[38;5;241;43m*\u001b[39;49m\u001b[43m(\u001b[49m\u001b[43m{\u001b[49m\u001b[38;5;124;43m\"\u001b[39;49m\u001b[38;5;124;43mdata\u001b[39;49m\u001b[38;5;124;43m\"\u001b[39;49m\u001b[43m:\u001b[49m\u001b[43m \u001b[49m\u001b[43mdata\u001b[49m\u001b[43m}\u001b[49m\u001b[43m \u001b[49m\u001b[38;5;28;43;01mif\u001b[39;49;00m\u001b[43m \u001b[49m\u001b[43mdata\u001b[49m\u001b[43m \u001b[49m\u001b[38;5;129;43;01mis\u001b[39;49;00m\u001b[43m \u001b[49m\u001b[38;5;129;43;01mnot\u001b[39;49;00m\u001b[43m \u001b[49m\u001b[38;5;28;43;01mNone\u001b[39;49;00m\u001b[43m \u001b[49m\u001b[38;5;28;43;01melse\u001b[39;49;00m\u001b[43m \u001b[49m\u001b[43m{\u001b[49m\u001b[43m}\u001b[49m\u001b[43m)\u001b[49m\u001b[43m,\u001b[49m\u001b[43m \u001b[49m\u001b[38;5;241;43m*\u001b[39;49m\u001b[38;5;241;43m*\u001b[39;49m\u001b[43mkwargs\u001b[49m\u001b[43m)\u001b[49m\n",
      "File \u001b[0;32m/usr/local/lib/python3.9/dist-packages/matplotlib/axes/_axes.py:1662\u001b[0m, in \u001b[0;36mAxes.plot\u001b[0;34m(self, scalex, scaley, data, *args, **kwargs)\u001b[0m\n\u001b[1;32m   1419\u001b[0m \u001b[38;5;250m\u001b[39m\u001b[38;5;124;03m\"\"\"\u001b[39;00m\n\u001b[1;32m   1420\u001b[0m \u001b[38;5;124;03mPlot y versus x as lines and/or markers.\u001b[39;00m\n\u001b[1;32m   1421\u001b[0m \n\u001b[0;32m   (...)\u001b[0m\n\u001b[1;32m   1659\u001b[0m \u001b[38;5;124;03m(``'green'``) or hex strings (``'#008000'``).\u001b[39;00m\n\u001b[1;32m   1660\u001b[0m \u001b[38;5;124;03m\"\"\"\u001b[39;00m\n\u001b[1;32m   1661\u001b[0m kwargs \u001b[38;5;241m=\u001b[39m cbook\u001b[38;5;241m.\u001b[39mnormalize_kwargs(kwargs, mlines\u001b[38;5;241m.\u001b[39mLine2D)\n\u001b[0;32m-> 1662\u001b[0m lines \u001b[38;5;241m=\u001b[39m [\u001b[38;5;241m*\u001b[39m\u001b[38;5;28mself\u001b[39m\u001b[38;5;241m.\u001b[39m_get_lines(\u001b[38;5;241m*\u001b[39margs, data\u001b[38;5;241m=\u001b[39mdata, \u001b[38;5;241m*\u001b[39m\u001b[38;5;241m*\u001b[39mkwargs)]\n\u001b[1;32m   1663\u001b[0m \u001b[38;5;28;01mfor\u001b[39;00m line \u001b[38;5;129;01min\u001b[39;00m lines:\n\u001b[1;32m   1664\u001b[0m     \u001b[38;5;28mself\u001b[39m\u001b[38;5;241m.\u001b[39madd_line(line)\n",
      "File \u001b[0;32m/usr/local/lib/python3.9/dist-packages/matplotlib/axes/_base.py:311\u001b[0m, in \u001b[0;36m_process_plot_var_args.__call__\u001b[0;34m(self, data, *args, **kwargs)\u001b[0m\n\u001b[1;32m    309\u001b[0m     this \u001b[38;5;241m+\u001b[39m\u001b[38;5;241m=\u001b[39m args[\u001b[38;5;241m0\u001b[39m],\n\u001b[1;32m    310\u001b[0m     args \u001b[38;5;241m=\u001b[39m args[\u001b[38;5;241m1\u001b[39m:]\n\u001b[0;32m--> 311\u001b[0m \u001b[38;5;28;01myield from\u001b[39;00m \u001b[38;5;28;43mself\u001b[39;49m\u001b[38;5;241;43m.\u001b[39;49m\u001b[43m_plot_args\u001b[49m\u001b[43m(\u001b[49m\n\u001b[1;32m    312\u001b[0m \u001b[43m    \u001b[49m\u001b[43mthis\u001b[49m\u001b[43m,\u001b[49m\u001b[43m \u001b[49m\u001b[43mkwargs\u001b[49m\u001b[43m,\u001b[49m\u001b[43m \u001b[49m\u001b[43mambiguous_fmt_datakey\u001b[49m\u001b[38;5;241;43m=\u001b[39;49m\u001b[43mambiguous_fmt_datakey\u001b[49m\u001b[43m)\u001b[49m\n",
      "File \u001b[0;32m/usr/local/lib/python3.9/dist-packages/matplotlib/axes/_base.py:504\u001b[0m, in \u001b[0;36m_process_plot_var_args._plot_args\u001b[0;34m(self, tup, kwargs, return_kwargs, ambiguous_fmt_datakey)\u001b[0m\n\u001b[1;32m    501\u001b[0m     \u001b[38;5;28mself\u001b[39m\u001b[38;5;241m.\u001b[39maxes\u001b[38;5;241m.\u001b[39myaxis\u001b[38;5;241m.\u001b[39mupdate_units(y)\n\u001b[1;32m    503\u001b[0m \u001b[38;5;28;01mif\u001b[39;00m x\u001b[38;5;241m.\u001b[39mshape[\u001b[38;5;241m0\u001b[39m] \u001b[38;5;241m!=\u001b[39m y\u001b[38;5;241m.\u001b[39mshape[\u001b[38;5;241m0\u001b[39m]:\n\u001b[0;32m--> 504\u001b[0m     \u001b[38;5;28;01mraise\u001b[39;00m \u001b[38;5;167;01mValueError\u001b[39;00m(\u001b[38;5;124mf\u001b[39m\u001b[38;5;124m\"\u001b[39m\u001b[38;5;124mx and y must have same first dimension, but \u001b[39m\u001b[38;5;124m\"\u001b[39m\n\u001b[1;32m    505\u001b[0m                      \u001b[38;5;124mf\u001b[39m\u001b[38;5;124m\"\u001b[39m\u001b[38;5;124mhave shapes \u001b[39m\u001b[38;5;132;01m{\u001b[39;00mx\u001b[38;5;241m.\u001b[39mshape\u001b[38;5;132;01m}\u001b[39;00m\u001b[38;5;124m and \u001b[39m\u001b[38;5;132;01m{\u001b[39;00my\u001b[38;5;241m.\u001b[39mshape\u001b[38;5;132;01m}\u001b[39;00m\u001b[38;5;124m\"\u001b[39m)\n\u001b[1;32m    506\u001b[0m \u001b[38;5;28;01mif\u001b[39;00m x\u001b[38;5;241m.\u001b[39mndim \u001b[38;5;241m>\u001b[39m \u001b[38;5;241m2\u001b[39m \u001b[38;5;129;01mor\u001b[39;00m y\u001b[38;5;241m.\u001b[39mndim \u001b[38;5;241m>\u001b[39m \u001b[38;5;241m2\u001b[39m:\n\u001b[1;32m    507\u001b[0m     \u001b[38;5;28;01mraise\u001b[39;00m \u001b[38;5;167;01mValueError\u001b[39;00m(\u001b[38;5;124mf\u001b[39m\u001b[38;5;124m\"\u001b[39m\u001b[38;5;124mx and y can be no greater than 2D, but have \u001b[39m\u001b[38;5;124m\"\u001b[39m\n\u001b[1;32m    508\u001b[0m                      \u001b[38;5;124mf\u001b[39m\u001b[38;5;124m\"\u001b[39m\u001b[38;5;124mshapes \u001b[39m\u001b[38;5;132;01m{\u001b[39;00mx\u001b[38;5;241m.\u001b[39mshape\u001b[38;5;132;01m}\u001b[39;00m\u001b[38;5;124m and \u001b[39m\u001b[38;5;132;01m{\u001b[39;00my\u001b[38;5;241m.\u001b[39mshape\u001b[38;5;132;01m}\u001b[39;00m\u001b[38;5;124m\"\u001b[39m)\n",
      "\u001b[0;31mValueError\u001b[0m: x and y must have same first dimension, but have shapes (50000,) and (6099,)"
     ]
    },
    {
     "data": {
      "image/png": "[encoded data removed]",
      "text/plain": [
       "<Figure size 640x480 with 1 Axes>"
      ]
     },
     "metadata": {},
     "output_type": "display_data"
    }
   ],
   "source": [
    "num_samples = 60\n",
    "print(len(acc_on_sample_class))\n",
    "on_curr_weights = 1. / (acc_on_sample_class + 1.0)**(2) \n",
    "anti_curr_weights = 1. / (acc_on_sample_class + 1.0)**(-2) \n",
    "plt.plot(range(num_samples),on_curr_weights,label='on-curriculum',c='green')\n",
    "plt.plot(range(num_samples),anti_curr_weights,label='anti-curriculum')\n",
    "plt.xlabel('sample index')\n",
    "plt.ylabel('weight')\n",
    "plt.legend()\n",
    "plt.savefig('sample weights.png')"
   ]
  }
 ],
 "metadata": {
  "accelerator": "GPU",
  "colab": {
   "gpuType": "T4",
   "provenance": []
  },
  "kernelspec": {
   "display_name": "Python 3 (ipykernel)",
   "language": "python",
   "name": "python3"
  },
  "language_info": {
   "codemirror_mode": {
    "name": "ipython",
    "version": 3
   },
   "file_extension": ".py",
   "mimetype": "text/x-python",
   "name": "python",
   "nbconvert_exporter": "python",
   "pygments_lexer": "ipython3",
   "version": "3.9.16"
  }
 },
 "nbformat": 4,
 "nbformat_minor": 4
}
