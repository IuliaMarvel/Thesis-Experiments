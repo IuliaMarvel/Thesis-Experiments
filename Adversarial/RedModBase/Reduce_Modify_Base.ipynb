{
 "cells": [
  {
   "cell_type": "code",
   "execution_count": 1,
   "metadata": {
    "execution": {
     "iopub.execute_input": "2023-06-17T12:04:24.508818Z",
     "iopub.status.busy": "2023-06-17T12:04:24.508137Z",
     "iopub.status.idle": "2023-06-17T12:04:24.525871Z",
     "shell.execute_reply": "2023-06-17T12:04:24.525270Z",
     "shell.execute_reply.started": "2023-06-17T12:04:24.508790Z"
    }
   },
   "outputs": [],
   "source": [
    "%reload_ext autoreload\n",
    "%autoreload 2"
   ]
  },
  {
   "cell_type": "code",
   "execution_count": 2,
   "metadata": {
    "execution": {
     "iopub.execute_input": "2023-06-17T12:04:24.527212Z",
     "iopub.status.busy": "2023-06-17T12:04:24.526993Z",
     "iopub.status.idle": "2023-06-17T12:04:25.697236Z",
     "shell.execute_reply": "2023-06-17T12:04:25.696451Z",
     "shell.execute_reply.started": "2023-06-17T12:04:24.527192Z"
    }
   },
   "outputs": [],
   "source": [
    "import random\n",
    "import numpy as np\n",
    "import torch\n",
    "import torch.nn as nn\n",
    "import torch.nn.functional as F\n",
    "import os\n",
    "import pickle\n",
    "from torchvision import datasets, transforms\n",
    "from tqdm import tqdm\n",
    "from copy import deepcopy\n",
    "from collections import OrderedDict\n",
    "import matplotlib.pyplot as plt\n",
    "\n",
    "\n",
    "from utils import set_seed,get_device,get_loaders,clamp,get_label,get_loader,prepare_transforms,get_train_loader\n",
    "from network import PreActResNet18\n",
    "from train_utils import attack_pgd,evaluate_pgd,evaluate_standard,train_val_cycle"
   ]
  },
  {
   "cell_type": "code",
   "execution_count": 3,
   "metadata": {
    "execution": {
     "iopub.execute_input": "2023-06-17T12:04:25.698938Z",
     "iopub.status.busy": "2023-06-17T12:04:25.698586Z",
     "iopub.status.idle": "2023-06-17T12:04:25.722822Z",
     "shell.execute_reply": "2023-06-17T12:04:25.722217Z",
     "shell.execute_reply.started": "2023-06-17T12:04:25.698907Z"
    }
   },
   "outputs": [],
   "source": [
    "set_seed(42)"
   ]
  },
  {
   "cell_type": "code",
   "execution_count": 4,
   "metadata": {
    "execution": {
     "iopub.execute_input": "2023-06-17T12:04:25.724532Z",
     "iopub.status.busy": "2023-06-17T12:04:25.724316Z",
     "iopub.status.idle": "2023-06-17T12:04:25.764874Z",
     "shell.execute_reply": "2023-06-17T12:04:25.764243Z",
     "shell.execute_reply.started": "2023-06-17T12:04:25.724512Z"
    }
   },
   "outputs": [
    {
     "data": {
      "text/plain": [
       "'cuda'"
      ]
     },
     "execution_count": 4,
     "metadata": {},
     "output_type": "execute_result"
    }
   ],
   "source": [
    "device = get_device()\n",
    "device"
   ]
  },
  {
   "cell_type": "code",
   "execution_count": 5,
   "metadata": {
    "execution": {
     "iopub.execute_input": "2023-06-17T12:04:25.766055Z",
     "iopub.status.busy": "2023-06-17T12:04:25.765858Z",
     "iopub.status.idle": "2023-06-17T12:04:27.182364Z",
     "shell.execute_reply": "2023-06-17T12:04:27.181717Z",
     "shell.execute_reply.started": "2023-06-17T12:04:25.766043Z"
    }
   },
   "outputs": [
    {
     "name": "stdout",
     "output_type": "stream",
     "text": [
      "\n"
     ]
    }
   ],
   "source": [
    "model = PreActResNet18(num_classes=100).to(device)\n",
    "\n",
    "print()"
   ]
  },
  {
   "cell_type": "code",
   "execution_count": 6,
   "metadata": {
    "execution": {
     "iopub.execute_input": "2023-06-17T12:04:27.183494Z",
     "iopub.status.busy": "2023-06-17T12:04:27.183304Z",
     "iopub.status.idle": "2023-06-17T12:04:27.204021Z",
     "shell.execute_reply": "2023-06-17T12:04:27.203377Z",
     "shell.execute_reply.started": "2023-06-17T12:04:27.183473Z"
    }
   },
   "outputs": [],
   "source": [
    "weight_decay = 5e-4\n",
    "epsilon = 8\n",
    "batch_size = 32\n",
    "alpha = 2\n",
    "loss_weight = 0.3\n",
    "fgsm_step = 1\n",
    "delta_init = 'random'\n",
    "\n",
    "data_mean = (0.5071, 0.4865, 0.4409)\n",
    "data_std = (0.2673, 0.2564, 0.2762)\n",
    "\n",
    "mu = torch.tensor(data_mean).view(3, 1, 1).to(device)\n",
    "std = torch.tensor(data_std).view(3, 1, 1).to(device)\n",
    "upper_limit = ((1 - mu) / std)\n",
    "lower_limit = ((0 - mu) / std)\n",
    "epsilon = (epsilon / 255.) / std\n",
    "alpha = (alpha / 255.) / std\n",
    "\n",
    "if delta_init == 'previous':\n",
    "    delta = torch.zeros(batch_size, 3, 32, 32).to(device)\n",
    "\n",
    "prev_robust_acc = 0."
   ]
  },
  {
   "cell_type": "code",
   "execution_count": 7,
   "metadata": {
    "execution": {
     "iopub.execute_input": "2023-06-17T12:04:27.205418Z",
     "iopub.status.busy": "2023-06-17T12:04:27.205186Z",
     "iopub.status.idle": "2023-06-17T12:04:27.224194Z",
     "shell.execute_reply": "2023-06-17T12:04:27.223506Z",
     "shell.execute_reply.started": "2023-06-17T12:04:27.205400Z"
    }
   },
   "outputs": [],
   "source": [
    "epochs = 20\n",
    "\n",
    "acc_train_history = []\n",
    "acc_pgd_val_history = []\n",
    "acc_st_val_history = []"
   ]
  },
  {
   "cell_type": "code",
   "execution_count": 8,
   "metadata": {
    "execution": {
     "iopub.execute_input": "2023-06-17T12:04:27.225682Z",
     "iopub.status.busy": "2023-06-17T12:04:27.225473Z",
     "iopub.status.idle": "2023-06-17T12:04:27.245228Z",
     "shell.execute_reply": "2023-06-17T12:04:27.244501Z",
     "shell.execute_reply.started": "2023-06-17T12:04:27.225662Z"
    }
   },
   "outputs": [],
   "source": [
    "data_cases = ['base','reduce_easy','add_hard','add_random','reduce_random']\n",
    "values = [[],[],[],[]]\n",
    "history = dict(zip(data_cases,values))"
   ]
  },
  {
   "cell_type": "code",
   "execution_count": 9,
   "metadata": {
    "execution": {
     "iopub.execute_input": "2023-06-17T12:04:31.473358Z",
     "iopub.status.busy": "2023-06-17T12:04:31.473062Z",
     "iopub.status.idle": "2023-06-17T12:04:31.494065Z",
     "shell.execute_reply": "2023-06-17T12:04:31.493331Z",
     "shell.execute_reply.started": "2023-06-17T12:04:31.473347Z"
    }
   },
   "outputs": [],
   "source": [
    "hard_classes = [13,35,55,72,96,10,44,65,74,4]\n",
    "easy_classes = [8,9,20,87,94,21,41,39,53,68]"
   ]
  },
  {
   "cell_type": "markdown",
   "metadata": {},
   "source": [
    "BASE case (data without modification)"
   ]
  },
  {
   "cell_type": "code",
   "execution_count": 14,
   "metadata": {
    "execution": {
     "iopub.execute_input": "2023-06-17T12:05:08.994104Z",
     "iopub.status.busy": "2023-06-17T12:05:08.993449Z",
     "iopub.status.idle": "2023-06-17T12:05:10.690140Z",
     "shell.execute_reply": "2023-06-17T12:05:10.689431Z",
     "shell.execute_reply.started": "2023-06-17T12:05:08.994077Z"
    }
   },
   "outputs": [
    {
     "name": "stdout",
     "output_type": "stream",
     "text": [
      "Files already downloaded and verified\n",
      "Files already downloaded and verified\n"
     ]
    }
   ],
   "source": [
    "train_loader, test_loader = get_loaders(augments=[False,False])\n",
    "model = PreActResNet18(num_classes=100).to(device)\n",
    "model.train()\n",
    "optimizer = torch.optim.Adam(model.parameters(),lr=3e-4,weight_decay=weight_decay)\n",
    "scaler = torch.cuda.amp.GradScaler()"
   ]
  },
  {
   "cell_type": "code",
   "execution_count": 22,
   "metadata": {
    "execution": {
     "iopub.execute_input": "2023-06-17T10:58:47.934095Z",
     "iopub.status.busy": "2023-06-17T10:58:47.933860Z",
     "iopub.status.idle": "2023-06-17T11:46:31.496624Z",
     "shell.execute_reply": "2023-06-17T11:46:31.495549Z",
     "shell.execute_reply.started": "2023-06-17T10:58:47.934074Z"
    }
   },
   "outputs": [
    {
     "name": "stderr",
     "output_type": "stream",
     "text": [
      "  0%|          | 0/20 [00:00<?, ?it/s]"
     ]
    },
    {
     "name": "stdout",
     "output_type": "stream",
     "text": [
      "epoch started\n",
      "training...\n",
      "Evaluate on attacs\n"
     ]
    },
    {
     "name": "stderr",
     "output_type": "stream",
     "text": [
      "train acc: 0.149 test st_acc: 0.2089 test at_acc: 0.2068:   5%|▌         | 1/20 [02:19<44:19, 139.99s/it]"
     ]
    },
    {
     "name": "stdout",
     "output_type": "stream",
     "text": [
      "Evaluate on clear\n",
      "epoch started\n",
      "training...\n",
      "Evaluate on attacs\n"
     ]
    },
    {
     "name": "stderr",
     "output_type": "stream",
     "text": [
      "train acc: 0.305 test st_acc: 0.3329 test at_acc: 0.3271:  10%|█         | 2/20 [04:40<42:09, 140.55s/it]"
     ]
    },
    {
     "name": "stdout",
     "output_type": "stream",
     "text": [
      "Evaluate on clear\n",
      "epoch started\n",
      "training...\n",
      "Evaluate on attacs\n"
     ]
    },
    {
     "name": "stderr",
     "output_type": "stream",
     "text": [
      "train acc: 0.413 test st_acc: 0.4312 test at_acc: 0.4228:  15%|█▌        | 3/20 [07:01<39:48, 140.48s/it]"
     ]
    },
    {
     "name": "stdout",
     "output_type": "stream",
     "text": [
      "Evaluate on clear\n",
      "epoch started\n",
      "training...\n",
      "Evaluate on attacs\n"
     ]
    },
    {
     "name": "stderr",
     "output_type": "stream",
     "text": [
      "train acc: 0.496 test st_acc: 0.4873 test at_acc: 0.4753:  20%|██        | 4/20 [09:21<37:24, 140.29s/it]"
     ]
    },
    {
     "name": "stdout",
     "output_type": "stream",
     "text": [
      "Evaluate on clear\n",
      "epoch started\n",
      "training...\n",
      "Evaluate on attacs\n"
     ]
    },
    {
     "name": "stderr",
     "output_type": "stream",
     "text": [
      "train acc: 0.552 test st_acc: 0.5165 test at_acc: 0.5053:  25%|██▌       | 5/20 [11:41<35:03, 140.21s/it]"
     ]
    },
    {
     "name": "stdout",
     "output_type": "stream",
     "text": [
      "Evaluate on clear\n",
      "epoch started\n",
      "training...\n",
      "Evaluate on attacs\n"
     ]
    },
    {
     "name": "stderr",
     "output_type": "stream",
     "text": [
      "train acc: 0.602 test st_acc: 0.535 test at_acc: 0.5217:  30%|███       | 6/20 [14:01<32:41, 140.09s/it] "
     ]
    },
    {
     "name": "stdout",
     "output_type": "stream",
     "text": [
      "Evaluate on clear\n",
      "epoch started\n",
      "training...\n",
      "Evaluate on attacs\n"
     ]
    },
    {
     "name": "stderr",
     "output_type": "stream",
     "text": [
      "train acc: 0.644 test st_acc: 0.5488 test at_acc: 0.5346:  35%|███▌      | 7/20 [16:21<30:20, 140.06s/it]"
     ]
    },
    {
     "name": "stdout",
     "output_type": "stream",
     "text": [
      "Evaluate on clear\n",
      "epoch started\n",
      "training...\n",
      "Evaluate on attacs\n"
     ]
    },
    {
     "name": "stderr",
     "output_type": "stream",
     "text": [
      "train acc: 0.692 test st_acc: 0.5518 test at_acc: 0.5342:  40%|████      | 8/20 [18:41<28:02, 140.23s/it]"
     ]
    },
    {
     "name": "stdout",
     "output_type": "stream",
     "text": [
      "Evaluate on clear\n",
      "epoch started\n",
      "training...\n",
      "Evaluate on attacs\n"
     ]
    },
    {
     "name": "stderr",
     "output_type": "stream",
     "text": [
      "train acc: 0.731 test st_acc: 0.5546 test at_acc: 0.5361:  45%|████▌     | 9/20 [21:02<25:42, 140.23s/it]"
     ]
    },
    {
     "name": "stdout",
     "output_type": "stream",
     "text": [
      "Evaluate on clear\n",
      "epoch started\n",
      "training...\n",
      "Evaluate on attacs\n"
     ]
    },
    {
     "name": "stderr",
     "output_type": "stream",
     "text": [
      "train acc: 0.769 test st_acc: 0.5564 test at_acc: 0.5359:  50%|█████     | 10/20 [23:22<23:22, 140.21s/it]"
     ]
    },
    {
     "name": "stdout",
     "output_type": "stream",
     "text": [
      "Evaluate on clear\n",
      "epoch started\n",
      "training...\n",
      "Evaluate on attacs\n"
     ]
    },
    {
     "name": "stderr",
     "output_type": "stream",
     "text": [
      "train acc: 0.806 test st_acc: 0.5467 test at_acc: 0.5254:  55%|█████▌    | 11/20 [25:45<21:10, 141.17s/it]"
     ]
    },
    {
     "name": "stdout",
     "output_type": "stream",
     "text": [
      "Evaluate on clear\n",
      "epoch started\n",
      "training...\n",
      "Evaluate on attacs\n"
     ]
    },
    {
     "name": "stderr",
     "output_type": "stream",
     "text": [
      "train acc: 0.837 test st_acc: 0.5418 test at_acc: 0.5202:  60%|██████    | 12/20 [28:11<18:59, 142.47s/it]"
     ]
    },
    {
     "name": "stdout",
     "output_type": "stream",
     "text": [
      "Evaluate on clear\n",
      "epoch started\n",
      "training...\n",
      "Evaluate on attacs\n"
     ]
    },
    {
     "name": "stderr",
     "output_type": "stream",
     "text": [
      "train acc: 0.857 test st_acc: 0.5507 test at_acc: 0.5268:  65%|██████▌   | 13/20 [30:36<16:44, 143.50s/it]"
     ]
    },
    {
     "name": "stdout",
     "output_type": "stream",
     "text": [
      "Evaluate on clear\n",
      "epoch started\n",
      "training...\n",
      "Evaluate on attacs\n"
     ]
    },
    {
     "name": "stderr",
     "output_type": "stream",
     "text": [
      "train acc: 0.883 test st_acc: 0.5369 test at_acc: 0.5125:  70%|███████   | 14/20 [33:02<14:25, 144.27s/it]"
     ]
    },
    {
     "name": "stdout",
     "output_type": "stream",
     "text": [
      "Evaluate on clear\n",
      "epoch started\n",
      "training...\n",
      "Evaluate on attacs\n"
     ]
    },
    {
     "name": "stderr",
     "output_type": "stream",
     "text": [
      "train acc: 0.894 test st_acc: 0.5472 test at_acc: 0.5212:  75%|███████▌  | 15/20 [35:29<12:05, 145.10s/it]"
     ]
    },
    {
     "name": "stdout",
     "output_type": "stream",
     "text": [
      "Evaluate on clear\n",
      "epoch started\n",
      "training...\n",
      "Evaluate on attacs\n"
     ]
    },
    {
     "name": "stderr",
     "output_type": "stream",
     "text": [
      "train acc: 0.91 test st_acc: 0.5391 test at_acc: 0.5138:  80%|████████  | 16/20 [37:56<09:42, 145.65s/it] "
     ]
    },
    {
     "name": "stdout",
     "output_type": "stream",
     "text": [
      "Evaluate on clear\n",
      "epoch started\n",
      "training...\n",
      "Evaluate on attacs\n"
     ]
    },
    {
     "name": "stderr",
     "output_type": "stream",
     "text": [
      "train acc: 0.916 test st_acc: 0.5298 test at_acc: 0.4995:  85%|████████▌ | 17/20 [40:23<07:17, 145.99s/it]"
     ]
    },
    {
     "name": "stdout",
     "output_type": "stream",
     "text": [
      "Evaluate on clear\n",
      "epoch started\n",
      "training...\n",
      "Evaluate on attacs\n"
     ]
    },
    {
     "name": "stderr",
     "output_type": "stream",
     "text": [
      "train acc: 0.924 test st_acc: 0.5243 test at_acc: 0.4964:  90%|█████████ | 18/20 [42:50<04:52, 146.23s/it]"
     ]
    },
    {
     "name": "stdout",
     "output_type": "stream",
     "text": [
      "Evaluate on clear\n",
      "epoch started\n",
      "training...\n",
      "Evaluate on attacs\n"
     ]
    },
    {
     "name": "stderr",
     "output_type": "stream",
     "text": [
      "train acc: 0.931 test st_acc: 0.5301 test at_acc: 0.5012:  95%|█████████▌| 19/20 [45:16<02:26, 146.31s/it]"
     ]
    },
    {
     "name": "stdout",
     "output_type": "stream",
     "text": [
      "Evaluate on clear\n",
      "epoch started\n",
      "training...\n",
      "Evaluate on attacs\n"
     ]
    },
    {
     "name": "stderr",
     "output_type": "stream",
     "text": [
      "train acc: 0.937 test st_acc: 0.5253 test at_acc: 0.4969: 100%|██████████| 20/20 [47:43<00:00, 143.18s/it]"
     ]
    },
    {
     "name": "stdout",
     "output_type": "stream",
     "text": [
      "Evaluate on clear\n"
     ]
    },
    {
     "name": "stderr",
     "output_type": "stream",
     "text": [
      "\n"
     ]
    }
   ],
   "source": [
    "history['base'] = train_val_cycle(model,train_loader,test_loader,optimizer,scaler,epochs,device,delta_init,epsilon,alpha)"
   ]
  },
  {
   "cell_type": "code",
   "execution_count": 28,
   "metadata": {
    "execution": {
     "iopub.execute_input": "2023-06-17T12:58:28.609652Z",
     "iopub.status.busy": "2023-06-17T12:58:28.608846Z",
     "iopub.status.idle": "2023-06-17T12:58:28.633638Z",
     "shell.execute_reply": "2023-06-17T12:58:28.632941Z",
     "shell.execute_reply.started": "2023-06-17T12:58:28.609624Z"
    }
   },
   "outputs": [],
   "source": [
    "import numpy as np\n",
    "\n",
    "\n",
    "# Load\n",
    "history_base = np.load('history_base.npy',allow_pickle='TRUE').item()['base']\n",
    "history_easy = np.load('history1.npy',allow_pickle='TRUE').item()['reduce_easy']"
   ]
  },
  {
   "cell_type": "code",
   "execution_count": 32,
   "metadata": {
    "execution": {
     "iopub.execute_input": "2023-06-17T12:59:20.306536Z",
     "iopub.status.busy": "2023-06-17T12:59:20.305810Z",
     "iopub.status.idle": "2023-06-17T12:59:20.477774Z",
     "shell.execute_reply": "2023-06-17T12:59:20.477096Z",
     "shell.execute_reply.started": "2023-06-17T12:59:20.306508Z"
    }
   },
   "outputs": [
    {
     "data": {
      "text/plain": [
       "<matplotlib.legend.Legend at 0x7f2ca855d070>"
      ]
     },
     "execution_count": 32,
     "metadata": {},
     "output_type": "execute_result"
    },
    {
     "data": {
      "image/png": "[encoded data removed]",
      "text/plain": [
       "<Figure size 640x480 with 1 Axes>"
      ]
     },
     "metadata": {},
     "output_type": "display_data"
    }
   ],
   "source": [
    "for key,value in history_easy.items():\n",
    "    plt.plot(range(epochs),value,label=str(key)+' easy')\n",
    "\n",
    "for key,value in history_base.items():\n",
    "    plt.plot(range(epochs),value,label=str(key)+' base')\n",
    "    \n",
    "plt.legend()"
   ]
  },
  {
   "cell_type": "markdown",
   "metadata": {},
   "source": [
    "Reduce easy classes"
   ]
  },
  {
   "cell_type": "code",
   "execution_count": 78,
   "metadata": {
    "execution": {
     "iopub.execute_input": "2023-06-17T14:05:33.609228Z",
     "iopub.status.busy": "2023-06-17T14:05:33.608902Z",
     "iopub.status.idle": "2023-06-17T14:05:33.698505Z",
     "shell.execute_reply": "2023-06-17T14:05:33.697821Z",
     "shell.execute_reply.started": "2023-06-17T14:05:33.609201Z"
    }
   },
   "outputs": [],
   "source": [
    "model = PreActResNet18(num_classes=100).to(device)\n",
    "model.train()\n",
    "optimizer = torch.optim.Adam(model.parameters(),lr=3e-4,weight_decay=weight_decay)\n",
    "scaler = torch.cuda.amp.GradScaler()"
   ]
  },
  {
   "cell_type": "code",
   "execution_count": 79,
   "metadata": {
    "execution": {
     "iopub.execute_input": "2023-06-17T14:05:33.699888Z",
     "iopub.status.busy": "2023-06-17T14:05:33.699663Z",
     "iopub.status.idle": "2023-06-17T14:05:33.720836Z",
     "shell.execute_reply": "2023-06-17T14:05:33.720194Z",
     "shell.execute_reply.started": "2023-06-17T14:05:33.699868Z"
    }
   },
   "outputs": [
    {
     "data": {
      "text/plain": [
       "[25, 88, 59, 40, 28, 14, 44, 64, 88, 70]"
      ]
     },
     "execution_count": 79,
     "metadata": {},
     "output_type": "execute_result"
    }
   ],
   "source": [
    "random_classes = list(np.random.randint(0,100,10))\n",
    "random_classes"
   ]
  },
  {
   "cell_type": "code",
   "execution_count": 80,
   "metadata": {
    "execution": {
     "iopub.execute_input": "2023-06-17T14:05:33.791025Z",
     "iopub.status.busy": "2023-06-17T14:05:33.790761Z",
     "iopub.status.idle": "2023-06-17T14:05:35.566980Z",
     "shell.execute_reply": "2023-06-17T14:05:35.566423Z",
     "shell.execute_reply.started": "2023-06-17T14:05:33.791016Z"
    }
   },
   "outputs": [
    {
     "name": "stdout",
     "output_type": "stream",
     "text": [
      "Files already downloaded and verified\n",
      "Files already downloaded and verified\n"
     ]
    },
    {
     "data": {
      "text/plain": [
       "(47750, 32, 32, 3)"
      ]
     },
     "execution_count": 80,
     "metadata": {},
     "output_type": "execute_result"
    }
   ],
   "source": [
    "#we need new train_loader\n",
    "data_dir='cifar-100'\n",
    "train_transform, test_transform = prepare_transforms(augments=[False,False])\n",
    "\n",
    "train_dataset = datasets.CIFAR100(data_dir, train=True, transform=train_transform, download=True)\n",
    "test_dataset = datasets.CIFAR100(data_dir, train=False, transform=test_transform, download=True)\n",
    "X_all,y_all = train_dataset.data, torch.LongTensor(train_dataset.targets)\n",
    "\n",
    "X_all_sampled, y_all_sampled = [], []\n",
    "\n",
    "for c in torch.unique(y_all):\n",
    "    X_all_c, y_all_c = X_all[y_all==c], y_all[y_all==c]\n",
    "\n",
    "    num_samples = len(X_all_c)\n",
    "    sampled_indices = torch.randperm(num_samples)[:num_samples// (1 + int(c in random_classes))] #change to easy/random\n",
    "    X_all_sampled.append(X_all_c[sampled_indices])\n",
    "    y_all_sampled.append(y_all_c[sampled_indices]) \n",
    "    \n",
    "X_all_sampled = np.concatenate(X_all_sampled, axis=0)\n",
    "y_all_sampled = list(torch.cat(y_all_sampled, dim=0).numpy())\n",
    "\n",
    "X_all_sampled.shape"
   ]
  },
  {
   "cell_type": "code",
   "execution_count": 81,
   "metadata": {
    "execution": {
     "iopub.execute_input": "2023-06-17T14:05:35.568796Z",
     "iopub.status.busy": "2023-06-17T14:05:35.568334Z",
     "iopub.status.idle": "2023-06-17T14:05:36.584327Z",
     "shell.execute_reply": "2023-06-17T14:05:36.583689Z",
     "shell.execute_reply.started": "2023-06-17T14:05:35.568765Z"
    }
   },
   "outputs": [
    {
     "name": "stdout",
     "output_type": "stream",
     "text": [
      "Files already downloaded and verified\n"
     ]
    }
   ],
   "source": [
    "train_loader = get_train_loader(data_dir, X_all_sampled, y_all_sampled,\n",
    "                    batch_size, augment=False, shuffle=True)"
   ]
  },
  {
   "cell_type": "code",
   "execution_count": 82,
   "metadata": {
    "execution": {
     "iopub.execute_input": "2023-06-17T14:05:36.585304Z",
     "iopub.status.busy": "2023-06-17T14:05:36.585103Z",
     "iopub.status.idle": "2023-06-17T14:41:08.501399Z",
     "shell.execute_reply": "2023-06-17T14:41:08.500620Z",
     "shell.execute_reply.started": "2023-06-17T14:05:36.585284Z"
    }
   },
   "outputs": [
    {
     "name": "stderr",
     "output_type": "stream",
     "text": [
      "  0%|          | 0/20 [00:00<?, ?it/s]"
     ]
    },
    {
     "name": "stdout",
     "output_type": "stream",
     "text": [
      "epoch started\n",
      "training...\n",
      "Evaluate on attacs\n"
     ]
    },
    {
     "name": "stderr",
     "output_type": "stream",
     "text": [
      "train acc: 0.147 test st_acc: 0.2125 test at_acc: 0.2105:   5%|▌         | 1/20 [01:45<33:29, 105.75s/it]"
     ]
    },
    {
     "name": "stdout",
     "output_type": "stream",
     "text": [
      "Evaluate on clear\n",
      "epoch started\n",
      "training...\n",
      "Evaluate on attacs\n"
     ]
    },
    {
     "name": "stderr",
     "output_type": "stream",
     "text": [
      "train acc: 0.29 test st_acc: 0.3102 test at_acc: 0.3056:  10%|█         | 2/20 [03:32<31:56, 106.45s/it] "
     ]
    },
    {
     "name": "stdout",
     "output_type": "stream",
     "text": [
      "Evaluate on clear\n",
      "epoch started\n",
      "training...\n",
      "Evaluate on attacs\n"
     ]
    },
    {
     "name": "stderr",
     "output_type": "stream",
     "text": [
      "train acc: 0.394 test st_acc: 0.3821 test at_acc: 0.374:  15%|█▌        | 3/20 [05:19<30:15, 106.77s/it]"
     ]
    },
    {
     "name": "stdout",
     "output_type": "stream",
     "text": [
      "Evaluate on clear\n",
      "epoch started\n",
      "training...\n",
      "Evaluate on attacs\n"
     ]
    },
    {
     "name": "stderr",
     "output_type": "stream",
     "text": [
      "train acc: 0.468 test st_acc: 0.4297 test at_acc: 0.4203:  20%|██        | 4/20 [07:06<28:28, 106.79s/it]"
     ]
    },
    {
     "name": "stdout",
     "output_type": "stream",
     "text": [
      "Evaluate on clear\n",
      "epoch started\n",
      "training...\n",
      "Evaluate on attacs\n"
     ]
    },
    {
     "name": "stderr",
     "output_type": "stream",
     "text": [
      "train acc: 0.535 test st_acc: 0.4786 test at_acc: 0.4694:  25%|██▌       | 5/20 [08:53<26:43, 106.89s/it]"
     ]
    },
    {
     "name": "stdout",
     "output_type": "stream",
     "text": [
      "Evaluate on clear\n",
      "epoch started\n",
      "training...\n",
      "Evaluate on attacs\n"
     ]
    },
    {
     "name": "stderr",
     "output_type": "stream",
     "text": [
      "train acc: 0.586 test st_acc: 0.5001 test at_acc: 0.488:  30%|███       | 6/20 [10:40<24:56, 106.86s/it] "
     ]
    },
    {
     "name": "stdout",
     "output_type": "stream",
     "text": [
      "Evaluate on clear\n",
      "epoch started\n",
      "training...\n",
      "Evaluate on attacs\n"
     ]
    },
    {
     "name": "stderr",
     "output_type": "stream",
     "text": [
      "train acc: 0.633 test st_acc: 0.5103 test at_acc: 0.498:  35%|███▌      | 7/20 [12:26<23:05, 106.59s/it]"
     ]
    },
    {
     "name": "stdout",
     "output_type": "stream",
     "text": [
      "Evaluate on clear\n",
      "epoch started\n",
      "training...\n",
      "Evaluate on attacs\n"
     ]
    },
    {
     "name": "stderr",
     "output_type": "stream",
     "text": [
      "train acc: 0.678 test st_acc: 0.5254 test at_acc: 0.5107:  40%|████      | 8/20 [14:13<21:19, 106.64s/it]"
     ]
    },
    {
     "name": "stdout",
     "output_type": "stream",
     "text": [
      "Evaluate on clear\n",
      "epoch started\n",
      "training...\n",
      "Evaluate on attacs\n"
     ]
    },
    {
     "name": "stderr",
     "output_type": "stream",
     "text": [
      "train acc: 0.725 test st_acc: 0.5275 test at_acc: 0.5116:  45%|████▌     | 9/20 [16:00<19:33, 106.66s/it]"
     ]
    },
    {
     "name": "stdout",
     "output_type": "stream",
     "text": [
      "Evaluate on clear\n",
      "epoch started\n",
      "training...\n",
      "Evaluate on attacs\n"
     ]
    },
    {
     "name": "stderr",
     "output_type": "stream",
     "text": [
      "train acc: 0.865 test st_acc: 0.527 test at_acc: 0.5042:  65%|██████▌   | 13/20 [23:06<12:26, 106.65s/it]"
     ]
    },
    {
     "name": "stdout",
     "output_type": "stream",
     "text": [
      "Evaluate on clear\n",
      "epoch started\n",
      "training...\n",
      "Evaluate on attacs\n"
     ]
    },
    {
     "name": "stderr",
     "output_type": "stream",
     "text": [
      "train acc: 0.889 test st_acc: 0.5199 test at_acc: 0.498:  70%|███████   | 14/20 [24:52<10:39, 106.55s/it]"
     ]
    },
    {
     "name": "stdout",
     "output_type": "stream",
     "text": [
      "Evaluate on clear\n",
      "epoch started\n",
      "training...\n",
      "Evaluate on attacs\n"
     ]
    },
    {
     "name": "stderr",
     "output_type": "stream",
     "text": [
      "train acc: 0.904 test st_acc: 0.5142 test at_acc: 0.4885:  75%|███████▌  | 15/20 [26:39<08:53, 106.63s/it]"
     ]
    },
    {
     "name": "stdout",
     "output_type": "stream",
     "text": [
      "Evaluate on clear\n",
      "epoch started\n",
      "training...\n",
      "Evaluate on attacs\n"
     ]
    },
    {
     "name": "stderr",
     "output_type": "stream",
     "text": [
      "train acc: 0.918 test st_acc: 0.5079 test at_acc: 0.4831:  80%|████████  | 16/20 [28:26<07:06, 106.63s/it]"
     ]
    },
    {
     "name": "stdout",
     "output_type": "stream",
     "text": [
      "Evaluate on clear\n",
      "epoch started\n",
      "training...\n",
      "Evaluate on attacs\n"
     ]
    },
    {
     "name": "stderr",
     "output_type": "stream",
     "text": [
      "train acc: 0.929 test st_acc: 0.5109 test at_acc: 0.4858:  85%|████████▌ | 17/20 [30:12<05:19, 106.57s/it]"
     ]
    },
    {
     "name": "stdout",
     "output_type": "stream",
     "text": [
      "Evaluate on clear\n",
      "epoch started\n",
      "training...\n",
      "Evaluate on attacs\n"
     ]
    },
    {
     "name": "stderr",
     "output_type": "stream",
     "text": [
      "train acc: 0.935 test st_acc: 0.5176 test at_acc: 0.4923:  90%|█████████ | 18/20 [31:59<03:33, 106.61s/it]"
     ]
    },
    {
     "name": "stdout",
     "output_type": "stream",
     "text": [
      "Evaluate on clear\n",
      "epoch started\n",
      "training...\n",
      "Evaluate on attacs\n"
     ]
    },
    {
     "name": "stderr",
     "output_type": "stream",
     "text": [
      "train acc: 0.944 test st_acc: 0.5009 test at_acc: 0.4748:  95%|█████████▌| 19/20 [33:45<01:46, 106.55s/it]"
     ]
    },
    {
     "name": "stdout",
     "output_type": "stream",
     "text": [
      "Evaluate on clear\n",
      "epoch started\n",
      "training...\n",
      "Evaluate on attacs\n"
     ]
    },
    {
     "name": "stderr",
     "output_type": "stream",
     "text": [
      "train acc: 0.947 test st_acc: 0.5044 test at_acc: 0.4825: 100%|██████████| 20/20 [35:31<00:00, 106.59s/it]"
     ]
    },
    {
     "name": "stdout",
     "output_type": "stream",
     "text": [
      "Evaluate on clear\n"
     ]
    },
    {
     "name": "stderr",
     "output_type": "stream",
     "text": [
      "\n"
     ]
    }
   ],
   "source": [
    "history['reduce_random'] = train_val_cycle(model,train_loader,test_loader,optimizer,scaler,epochs,device,delta_init,epsilon,alpha)"
   ]
  },
  {
   "cell_type": "code",
   "execution_count": 83,
   "metadata": {
    "execution": {
     "iopub.execute_input": "2023-06-17T14:41:08.503024Z",
     "iopub.status.busy": "2023-06-17T14:41:08.502369Z",
     "iopub.status.idle": "2023-06-17T14:41:08.739749Z",
     "shell.execute_reply": "2023-06-17T14:41:08.739074Z",
     "shell.execute_reply.started": "2023-06-17T14:41:08.502995Z"
    }
   },
   "outputs": [],
   "source": [
    "np.save('history_reduce_random.npy', history) "
   ]
  },
  {
   "cell_type": "markdown",
   "metadata": {},
   "source": [
    "add hard samples"
   ]
  },
  {
   "cell_type": "code",
   "execution_count": 84,
   "metadata": {
    "execution": {
     "iopub.execute_input": "2023-06-17T14:41:08.742207Z",
     "iopub.status.busy": "2023-06-17T14:41:08.741587Z",
     "iopub.status.idle": "2023-06-17T14:41:09.043519Z",
     "shell.execute_reply": "2023-06-17T14:41:09.042845Z",
     "shell.execute_reply.started": "2023-06-17T14:41:08.742179Z"
    }
   },
   "outputs": [
    {
     "data": {
      "text/plain": [
       "(52250, 32, 32, 3)"
      ]
     },
     "execution_count": 84,
     "metadata": {},
     "output_type": "execute_result"
    }
   ],
   "source": [
    "X_all_sampled, y_all_sampled = [], []\n",
    "\n",
    "for c in torch.unique(y_all):\n",
    "    X_all_c, y_all_c = X_all[y_all==c], y_all[y_all==c]\n",
    "\n",
    "    num_samples = len(X_all_c)\n",
    "    sampled_indices = torch.randperm(num_samples)\n",
    "    if c in random_classes: #change to hard/random\n",
    "        sampled_indices = torch.hstack([sampled_indices,torch.randperm(num_samples)[:num_samples//2]])\n",
    "    X_all_sampled.append(X_all_c[sampled_indices])\n",
    "    y_all_sampled.append(y_all_c[sampled_indices]) \n",
    "    \n",
    "X_all_sampled = np.concatenate(X_all_sampled, axis=0)\n",
    "y_all_sampled = list(torch.cat(y_all_sampled, dim=0).numpy())\n",
    "\n",
    "X_all_sampled.shape"
   ]
  },
  {
   "cell_type": "code",
   "execution_count": null,
   "metadata": {
    "execution": {
     "iopub.execute_input": "2023-06-17T14:41:09.049539Z",
     "iopub.status.busy": "2023-06-17T14:41:09.049319Z",
     "iopub.status.idle": "2023-06-17T14:41:10.047107Z"
    }
   },
   "outputs": [
    {
     "name": "stdout",
     "output_type": "stream",
     "text": [
      "Files already downloaded and verified\n"
     ]
    }
   ],
   "source": [
    "train_loader = get_train_loader(data_dir, X_all_sampled, y_all_sampled,\n",
    "                    batch_size, augment=False, shuffle=True)"
   ]
  },
  {
   "cell_type": "code",
   "execution_count": null,
   "metadata": {
    "execution": {
     "iopub.execute_input": "2023-06-17T14:41:10.048484Z",
     "iopub.status.busy": "2023-06-17T14:41:10.048263Z",
     "iopub.status.idle": "2023-06-17T14:41:10.134638Z"
    }
   },
   "outputs": [],
   "source": [
    "model = PreActResNet18(num_classes=100).to(device)\n",
    "model.train()\n",
    "optimizer = torch.optim.Adam(model.parameters(),lr=3e-4,weight_decay=weight_decay)\n",
    "scaler = torch.cuda.amp.GradScaler()"
   ]
  },
  {
   "cell_type": "code",
   "execution_count": null,
   "metadata": {
    "execution": {
     "iopub.execute_input": "2023-06-17T14:41:10.135692Z",
     "iopub.status.busy": "2023-06-17T14:41:10.135496Z",
     "iopub.status.idle": "2023-06-17T15:19:06.418020Z"
    }
   },
   "outputs": [
    {
     "name": "stderr",
     "output_type": "stream",
     "text": [
      "  0%|          | 0/20 [00:00<?, ?it/s]"
     ]
    },
    {
     "name": "stdout",
     "output_type": "stream",
     "text": [
      "epoch started\n",
      "training...\n",
      "Evaluate on attacs\n"
     ]
    },
    {
     "name": "stderr",
     "output_type": "stream",
     "text": [
      "train acc: 0.151 test st_acc: 0.219 test at_acc: 0.2162:   5%|▌         | 1/20 [01:54<36:13, 114.40s/it]"
     ]
    },
    {
     "name": "stdout",
     "output_type": "stream",
     "text": [
      "Evaluate on clear\n",
      "epoch started\n",
      "training...\n",
      "Evaluate on attacs\n"
     ]
    },
    {
     "name": "stderr",
     "output_type": "stream",
     "text": [
      "train acc: 0.305 test st_acc: 0.3289 test at_acc: 0.3242:  10%|█         | 2/20 [03:48<34:16, 114.26s/it]"
     ]
    },
    {
     "name": "stdout",
     "output_type": "stream",
     "text": [
      "Evaluate on clear\n",
      "epoch started\n",
      "training...\n",
      "Evaluate on attacs\n"
     ]
    },
    {
     "name": "stderr",
     "output_type": "stream",
     "text": [
      "train acc: 0.413 test st_acc: 0.4477 test at_acc: 0.4397:  15%|█▌        | 3/20 [05:42<32:18, 114.06s/it]"
     ]
    },
    {
     "name": "stdout",
     "output_type": "stream",
     "text": [
      "Evaluate on clear\n",
      "epoch started\n",
      "training...\n",
      "Evaluate on attacs\n"
     ]
    },
    {
     "name": "stderr",
     "output_type": "stream",
     "text": [
      "train acc: 0.499 test st_acc: 0.4822 test at_acc: 0.4725:  20%|██        | 4/20 [07:35<30:21, 113.84s/it]"
     ]
    },
    {
     "name": "stdout",
     "output_type": "stream",
     "text": [
      "Evaluate on clear\n",
      "epoch started\n",
      "training...\n",
      "Evaluate on attacs\n"
     ]
    },
    {
     "name": "stderr",
     "output_type": "stream",
     "text": [
      "train acc: 0.557 test st_acc: 0.5011 test at_acc: 0.4911:  25%|██▌       | 5/20 [09:29<28:27, 113.84s/it]"
     ]
    },
    {
     "name": "stdout",
     "output_type": "stream",
     "text": [
      "Evaluate on clear\n",
      "epoch started\n",
      "training...\n",
      "Evaluate on attacs\n"
     ]
    },
    {
     "name": "stderr",
     "output_type": "stream",
     "text": [
      "train acc: 0.612 test st_acc: 0.5302 test at_acc: 0.5157:  30%|███       | 6/20 [11:23<26:32, 113.76s/it]"
     ]
    },
    {
     "name": "stdout",
     "output_type": "stream",
     "text": [
      "Evaluate on clear\n",
      "epoch started\n",
      "training...\n",
      "Evaluate on attacs\n"
     ]
    },
    {
     "name": "stderr",
     "output_type": "stream",
     "text": [
      "train acc: 0.659 test st_acc: 0.5433 test at_acc: 0.5294:  35%|███▌      | 7/20 [13:16<24:37, 113.62s/it]"
     ]
    },
    {
     "name": "stdout",
     "output_type": "stream",
     "text": [
      "Evaluate on clear\n",
      "epoch started\n",
      "training...\n",
      "Evaluate on attacs\n"
     ]
    },
    {
     "name": "stderr",
     "output_type": "stream",
     "text": [
      "train acc: 0.707 test st_acc: 0.547 test at_acc: 0.5306:  40%|████      | 8/20 [15:10<22:42, 113.56s/it] "
     ]
    },
    {
     "name": "stdout",
     "output_type": "stream",
     "text": [
      "Evaluate on clear\n",
      "epoch started\n",
      "training...\n",
      "Evaluate on attacs\n"
     ]
    },
    {
     "name": "stderr",
     "output_type": "stream",
     "text": [
      "train acc: 0.747 test st_acc: 0.5472 test at_acc: 0.5307:  45%|████▌     | 9/20 [17:04<20:50, 113.70s/it]"
     ]
    },
    {
     "name": "stdout",
     "output_type": "stream",
     "text": [
      "Evaluate on clear\n",
      "epoch started\n",
      "training...\n",
      "Evaluate on attacs\n"
     ]
    },
    {
     "name": "stderr",
     "output_type": "stream",
     "text": [
      "train acc: 0.787 test st_acc: 0.5453 test at_acc: 0.5262:  50%|█████     | 10/20 [18:58<18:57, 113.77s/it]"
     ]
    },
    {
     "name": "stdout",
     "output_type": "stream",
     "text": [
      "Evaluate on clear\n",
      "epoch started\n",
      "training...\n",
      "Evaluate on attacs\n"
     ]
    },
    {
     "name": "stderr",
     "output_type": "stream",
     "text": [
      "train acc: 0.823 test st_acc: 0.5375 test at_acc: 0.516:  55%|█████▌    | 11/20 [20:52<17:05, 113.94s/it] "
     ]
    },
    {
     "name": "stdout",
     "output_type": "stream",
     "text": [
      "Evaluate on clear\n",
      "epoch started\n",
      "training...\n",
      "Evaluate on attacs\n"
     ]
    },
    {
     "name": "stderr",
     "output_type": "stream",
     "text": [
      "train acc: 0.847 test st_acc: 0.5307 test at_acc: 0.5093:  60%|██████    | 12/20 [22:46<15:11, 113.91s/it]"
     ]
    },
    {
     "name": "stdout",
     "output_type": "stream",
     "text": [
      "Evaluate on clear\n",
      "epoch started\n",
      "training...\n",
      "Evaluate on attacs\n"
     ]
    },
    {
     "name": "stderr",
     "output_type": "stream",
     "text": [
      "train acc: 0.87 test st_acc: 0.5344 test at_acc: 0.5097:  65%|██████▌   | 13/20 [24:39<13:17, 113.88s/it] "
     ]
    },
    {
     "name": "stdout",
     "output_type": "stream",
     "text": [
      "Evaluate on clear\n",
      "epoch started\n",
      "training...\n",
      "Evaluate on attacs\n"
     ]
    },
    {
     "name": "stderr",
     "output_type": "stream",
     "text": [
      "train acc: 0.889 test st_acc: 0.5199 test at_acc: 0.4958:  70%|███████   | 14/20 [26:33<11:21, 113.63s/it]"
     ]
    },
    {
     "name": "stdout",
     "output_type": "stream",
     "text": [
      "Evaluate on clear\n",
      "epoch started\n",
      "training...\n",
      "Evaluate on attacs\n"
     ]
    },
    {
     "name": "stderr",
     "output_type": "stream",
     "text": [
      "train acc: 0.902 test st_acc: 0.5409 test at_acc: 0.52:  75%|███████▌  | 15/20 [28:26<09:27, 113.47s/it]  "
     ]
    },
    {
     "name": "stdout",
     "output_type": "stream",
     "text": [
      "Evaluate on clear\n",
      "epoch started\n",
      "training...\n",
      "Evaluate on attacs\n"
     ]
    },
    {
     "name": "stderr",
     "output_type": "stream",
     "text": [
      "train acc: 0.913 test st_acc: 0.5391 test at_acc: 0.5144:  80%|████████  | 16/20 [30:19<07:33, 113.31s/it]"
     ]
    },
    {
     "name": "stdout",
     "output_type": "stream",
     "text": [
      "Evaluate on clear\n",
      "epoch started\n",
      "training...\n",
      "Evaluate on attacs\n"
     ]
    },
    {
     "name": "stderr",
     "output_type": "stream",
     "text": [
      "train acc: 0.923 test st_acc: 0.5214 test at_acc: 0.4964:  85%|████████▌ | 17/20 [32:12<05:39, 113.23s/it]"
     ]
    },
    {
     "name": "stdout",
     "output_type": "stream",
     "text": [
      "Evaluate on clear\n",
      "epoch started\n",
      "training...\n",
      "Evaluate on attacs\n"
     ]
    },
    {
     "name": "stderr",
     "output_type": "stream",
     "text": [
      "train acc: 0.927 test st_acc: 0.5298 test at_acc: 0.5035:  90%|█████████ | 18/20 [34:05<03:46, 113.42s/it]"
     ]
    },
    {
     "name": "stdout",
     "output_type": "stream",
     "text": [
      "Evaluate on clear\n",
      "epoch started\n",
      "training...\n",
      "Evaluate on attacs\n"
     ]
    },
    {
     "name": "stderr",
     "output_type": "stream",
     "text": [
      "train acc: 0.937 test st_acc: 0.529 test at_acc: 0.5032:  95%|█████████▌| 19/20 [36:02<01:54, 114.29s/it] "
     ]
    },
    {
     "name": "stdout",
     "output_type": "stream",
     "text": [
      "Evaluate on clear\n",
      "epoch started\n",
      "training...\n",
      "Evaluate on attacs\n"
     ]
    },
    {
     "name": "stderr",
     "output_type": "stream",
     "text": [
      "train acc: 0.939 test st_acc: 0.5286 test at_acc: 0.5016: 100%|██████████| 20/20 [37:56<00:00, 113.81s/it]"
     ]
    },
    {
     "name": "stdout",
     "output_type": "stream",
     "text": [
      "Evaluate on clear\n"
     ]
    },
    {
     "name": "stderr",
     "output_type": "stream",
     "text": [
      "\n"
     ]
    }
   ],
   "source": [
    "history['add_random'] = train_val_cycle(model,train_loader,test_loader,optimizer,scaler,epochs,device,delta_init,epsilon,alpha)"
   ]
  },
  {
   "cell_type": "code",
   "execution_count": null,
   "metadata": {
    "execution": {
     "iopub.execute_input": "2023-06-17T15:19:06.419224Z",
     "iopub.status.busy": "2023-06-17T15:19:06.419016Z",
     "iopub.status.idle": "2023-06-17T15:19:06.445843Z"
    }
   },
   "outputs": [],
   "source": [
    "np.save('history_add_random.npy', history) "
   ]
  }
 ],
 "metadata": {
  "kernelspec": {
   "display_name": "Python 3 (ipykernel)",
   "language": "python",
   "name": "python3"
  },
  "language_info": {
   "codemirror_mode": {
    "name": "ipython",
    "version": 3
   },
   "file_extension": ".py",
   "mimetype": "text/x-python",
   "name": "python",
   "nbconvert_exporter": "python",
   "pygments_lexer": "ipython3",
   "version": "3.9.16"
  }
 },
 "nbformat": 4,
 "nbformat_minor": 4
}
