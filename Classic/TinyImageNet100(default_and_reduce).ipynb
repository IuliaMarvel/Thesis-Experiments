{
 "cells": [
  {
   "cell_type": "markdown",
   "metadata": {
    "id": "c1JeiDtJO_ec"
   },
   "source": [
    "1)взять претрейн resnet18 и поменять последний слой\n",
    "\n",
    "2)тренить на обычном TIN\n",
    "\n",
    "3)по резам из 2) найти легкие и сложные классы\n",
    "\n",
    "4)уменьшить трейн\n",
    "\n",
    "5)ещё раз тренить\n",
    "\n",
    "6)сравнить резы 2) и 5)"
   ]
  },
  {
   "cell_type": "markdown",
   "metadata": {
    "id": "-dYEZkdePfD2"
   },
   "source": [
    "# Download data"
   ]
  },
  {
   "cell_type": "code",
   "execution_count": 31,
   "metadata": {
    "execution": {
     "iopub.execute_input": "2023-06-20T16:23:14.074109Z",
     "iopub.status.busy": "2023-06-20T16:23:14.073272Z",
     "iopub.status.idle": "2023-06-20T16:23:14.077584Z",
     "shell.execute_reply": "2023-06-20T16:23:14.076702Z",
     "shell.execute_reply.started": "2023-06-20T16:23:14.074064Z"
    }
   },
   "outputs": [],
   "source": [
    "# !pip install kaggle"
   ]
  },
  {
   "cell_type": "code",
   "execution_count": 32,
   "metadata": {
    "colab": {
     "base_uri": "https://localhost:8080/"
    },
    "execution": {
     "iopub.execute_input": "2023-06-20T16:23:14.080408Z",
     "iopub.status.busy": "2023-06-20T16:23:14.080067Z",
     "iopub.status.idle": "2023-06-20T16:23:14.085911Z",
     "shell.execute_reply": "2023-06-20T16:23:14.084807Z",
     "shell.execute_reply.started": "2023-06-20T16:23:14.080386Z"
    },
    "id": "gumCgzw_ukVO",
    "outputId": "8dcc19ba-9f9e-44c0-c7f6-fbfee1c7f076"
   },
   "outputs": [],
   "source": [
    "from pathlib import Path\n",
    "import json\n",
    "import os\n",
    "import torch\n",
    "from torchvision import datasets, transforms\n",
    "import random\n",
    "import numpy as np\n",
    "import torch\n",
    "from tqdm import tqdm\n",
    "\n",
    "# your api key\n",
    "# api_key = {\"username\":\"spacehitchhiker\",\"key\":\"c698b877d42f3f853d0a599e6263d8a8\"}\n",
    "\n",
    "# # uses pathlib Path\n",
    "# kaggle_path = Path('/root/.kaggle')\n",
    "# os.makedirs(kaggle_path, exist_ok=True)\n",
    "\n",
    "# # opens file and dumps python dict to json object\n",
    "# with open (kaggle_path/'kaggle.json', 'w') as handl:\n",
    "#     json.dump(api_key,handl)\n",
    "\n",
    "# os.chmod(kaggle_path/'kaggle.json', 600)\n",
    "\n",
    "# !kaggle datasets download -d akash2sharma/tiny-imagenet --force\n",
    "\n",
    "# !unzip -qq tiny-imagenet.zip"
   ]
  },
  {
   "cell_type": "code",
   "execution_count": 33,
   "metadata": {
    "execution": {
     "iopub.execute_input": "2023-06-20T16:23:14.087129Z",
     "iopub.status.busy": "2023-06-20T16:23:14.086893Z",
     "iopub.status.idle": "2023-06-20T16:23:15.842493Z",
     "shell.execute_reply": "2023-06-20T16:23:15.841700Z",
     "shell.execute_reply.started": "2023-06-20T16:23:14.087108Z"
    },
    "id": "E7SXy_dNvh5j"
   },
   "outputs": [],
   "source": [
    "data_mean = (0.5071, 0.4865, 0.4409)\n",
    "data_std = (0.2673, 0.2564, 0.2762)\n",
    "transformation = transforms.Compose([\n",
    "    # transforms.RandomHorizontalFlip(0.5),\n",
    "    # transforms.RandomVerticalFlip(0.3),\n",
    "    transforms.ToTensor(),\n",
    "    transforms.Normalize(mean=[0.5, 0.5, 0.5], std=[0.25, .25, 0.25])\n",
    "])\n",
    "\n",
    "full_dataset = datasets.ImageFolder(\n",
    "    root='Experiments/tiny-imagenet-200/train',\n",
    "    transform=transformation\n",
    ")"
   ]
  },
  {
   "cell_type": "code",
   "execution_count": 34,
   "metadata": {
    "execution": {
     "iopub.execute_input": "2023-06-20T16:23:15.844575Z",
     "iopub.status.busy": "2023-06-20T16:23:15.844209Z",
     "iopub.status.idle": "2023-06-20T16:23:15.865747Z",
     "shell.execute_reply": "2023-06-20T16:23:15.864918Z",
     "shell.execute_reply.started": "2023-06-20T16:23:15.844539Z"
    },
    "id": "qS1UTh7GyeBR"
   },
   "outputs": [
    {
     "data": {
      "text/plain": [
       "70000"
      ]
     },
     "execution_count": 34,
     "metadata": {},
     "output_type": "execute_result"
    }
   ],
   "source": [
    "train_len = int(len(full_dataset)*0.7)\n",
    "test_len = len(full_dataset) - train_len\n",
    "train_dataset, test_dataset = torch.utils.data.random_split(full_dataset,[train_len,test_len])\n",
    "len(train_dataset)"
   ]
  },
  {
   "cell_type": "code",
   "execution_count": 35,
   "metadata": {
    "execution": {
     "iopub.execute_input": "2023-06-20T16:23:15.868743Z",
     "iopub.status.busy": "2023-06-20T16:23:15.867922Z",
     "iopub.status.idle": "2023-06-20T16:23:15.873286Z",
     "shell.execute_reply": "2023-06-20T16:23:15.872264Z",
     "shell.execute_reply.started": "2023-06-20T16:23:15.868715Z"
    },
    "id": "06zB-73PGquB"
   },
   "outputs": [],
   "source": [
    "train_loader = torch.utils.data.DataLoader(\n",
    "    train_dataset,\n",
    "    batch_size=32,\n",
    "    num_workers=0,\n",
    "    shuffle=True\n",
    ")\n",
    "test_loader = torch.utils.data.DataLoader(\n",
    "    test_dataset,\n",
    "    batch_size=32,\n",
    "    num_workers=0,\n",
    "    shuffle=True\n",
    ")"
   ]
  },
  {
   "cell_type": "code",
   "execution_count": 36,
   "metadata": {
    "execution": {
     "iopub.execute_input": "2023-06-20T16:23:15.874949Z",
     "iopub.status.busy": "2023-06-20T16:23:15.874675Z",
     "iopub.status.idle": "2023-06-20T16:23:15.880972Z",
     "shell.execute_reply": "2023-06-20T16:23:15.879847Z",
     "shell.execute_reply.started": "2023-06-20T16:23:15.874926Z"
    },
    "id": "46K1d3oHIj27"
   },
   "outputs": [
    {
     "data": {
      "text/plain": [
       "'cuda'"
      ]
     },
     "execution_count": 36,
     "metadata": {},
     "output_type": "execute_result"
    }
   ],
   "source": [
    "device = 'cuda' if torch.cuda.is_available() else 'cpu'\n",
    "device"
   ]
  },
  {
   "cell_type": "code",
   "execution_count": 37,
   "metadata": {
    "execution": {
     "iopub.execute_input": "2023-06-20T16:23:15.882271Z",
     "iopub.status.busy": "2023-06-20T16:23:15.881981Z",
     "iopub.status.idle": "2023-06-20T16:23:15.887455Z",
     "shell.execute_reply": "2023-06-20T16:23:15.886365Z",
     "shell.execute_reply.started": "2023-06-20T16:23:15.882244Z"
    },
    "id": "sHp2crLdc9YU"
   },
   "outputs": [],
   "source": [
    "n_epochs = 10\n",
    "\n",
    "def set_seed(seed):\n",
    "    random.seed(seed)\n",
    "    np.random.seed(seed)\n",
    "\n",
    "    torch.manual_seed(seed)\n",
    "    torch.cuda.manual_seed_all(seed)\n",
    "    \n",
    "set_seed(42)"
   ]
  },
  {
   "cell_type": "code",
   "execution_count": 38,
   "metadata": {
    "execution": {
     "iopub.execute_input": "2023-06-20T16:23:15.888905Z",
     "iopub.status.busy": "2023-06-20T16:23:15.888646Z",
     "iopub.status.idle": "2023-06-20T16:23:16.068009Z",
     "shell.execute_reply": "2023-06-20T16:23:16.067371Z",
     "shell.execute_reply.started": "2023-06-20T16:23:15.888883Z"
    }
   },
   "outputs": [
    {
     "data": {
      "text/plain": [
       "102600"
      ]
     },
     "execution_count": 38,
     "metadata": {},
     "output_type": "execute_result"
    }
   ],
   "source": [
    "import torchvision\n",
    "import torch.nn as nn\n",
    "\n",
    "model = torchvision.models.resnet18(weights='IMAGENET1K_V1')\n",
    "model.fc = nn.Linear(512,200)\n",
    "model = model.to(device)\n",
    "# optimizer = torch.optim.Adam(model.fc.parameters(),lr=5e-4)\n",
    "# scheduler = torch.optim.lr_scheduler.ExponentialLR(optimizer, gamma=0.95)\n",
    "optimizer = torch.optim.SGD(model.fc.parameters(), lr=0.01, momentum=0.9)\n",
    "scheduler = torch.optim.lr_scheduler.CyclicLR(optimizer, base_lr=0.01, max_lr=0.1)\n",
    "\n",
    "\n",
    "loss_function = nn.CrossEntropyLoss()\n",
    "def count_parameters(model):\n",
    "    return sum(p.numel() for p in model.parameters() if p.requires_grad)\n",
    "\n",
    "for p in model.parameters():\n",
    "    p.requires_grad = False\n",
    "    \n",
    "for p in model.fc.parameters():\n",
    "    p.requires_grad = True\n",
    "\n",
    "count_parameters(model)"
   ]
  },
  {
   "cell_type": "code",
   "execution_count": 39,
   "metadata": {
    "execution": {
     "iopub.execute_input": "2023-06-20T16:23:16.069261Z",
     "iopub.status.busy": "2023-06-20T16:23:16.069069Z",
     "iopub.status.idle": "2023-06-20T16:23:16.085916Z",
     "shell.execute_reply": "2023-06-20T16:23:16.085002Z",
     "shell.execute_reply.started": "2023-06-20T16:23:16.069244Z"
    },
    "id": "0O0xnhru_vK5"
   },
   "outputs": [],
   "source": [
    "def train_test_cycle(model,train_loader,test_loader,optimizer,scheduler,loss_function,device,n_epochs=10,print_losses=False):\n",
    "  losses_history = { 'train': [], 'test': [] }\n",
    "  val_acc_history = []\n",
    "  train_len = len(train_loader)\n",
    "  val_len = len(test_loader)\n",
    "  for i in range(n_epochs):\n",
    "    model.train()\n",
    "    train_loss = 0\n",
    "    for x,y in tqdm(train_loader):\n",
    "      optimizer.zero_grad()\n",
    "      x, y = x.to(device), y.to(device)\n",
    "      preds = model(x)\n",
    "      loss = loss_function(preds,y)\n",
    "      train_loss += loss\n",
    "      loss.backward()\n",
    "      optimizer.step()\n",
    "    # scheduler.step()\n",
    "\n",
    "    model.eval()\n",
    "    val_loss = 0\n",
    "    val_acc = 0\n",
    "    with torch.no_grad():\n",
    "      for x,y in  tqdm(test_loader):\n",
    "         x, y = x.to(device), y.to(device)\n",
    "         logits = model(x)\n",
    "         preds = logits.max(dim=1)[1]\n",
    "         val_acc += torch.mean((preds == y).float())\n",
    "         loss = loss_function(logits,y)\n",
    "         val_loss += loss\n",
    "\n",
    "    train_loss = train_loss / train_len\n",
    "    val_loss = val_loss / val_len\n",
    "    val_acc = val_acc / val_len\n",
    "    losses_history['train'].append(train_loss)\n",
    "    losses_history['test'].append(val_loss)\n",
    "    val_acc_history.append(val_acc) # 32 - batch size\n",
    "\n",
    "    if print_losses:\n",
    "      print(f'epoch {i}: train loss:{train_loss} val loss:{val_loss} val acc:{val_acc}')\n",
    "\n",
    "  return model,losses_history,val_acc_history"
   ]
  },
  {
   "cell_type": "code",
   "execution_count": 40,
   "metadata": {
    "execution": {
     "iopub.execute_input": "2023-06-20T16:23:16.087438Z",
     "iopub.status.busy": "2023-06-20T16:23:16.087162Z",
     "iopub.status.idle": "2023-06-20T17:09:20.485497Z",
     "shell.execute_reply": "2023-06-20T17:09:20.484982Z",
     "shell.execute_reply.started": "2023-06-20T16:23:16.087413Z"
    },
    "id": "uSQSizhaOx28"
   },
   "outputs": [
    {
     "name": "stderr",
     "output_type": "stream",
     "text": [
      "100%|██████████| 2188/2188 [03:17<00:00, 11.08it/s]\n",
      "100%|██████████| 938/938 [01:11<00:00, 13.16it/s]\n"
     ]
    },
    {
     "name": "stdout",
     "output_type": "stream",
     "text": [
      "epoch 0: train loss:3.887544631958008 val loss:3.814448833465576 val acc:0.27808502316474915\n"
     ]
    },
    {
     "name": "stderr",
     "output_type": "stream",
     "text": [
      "100%|██████████| 2188/2188 [03:17<00:00, 11.09it/s]\n",
      "100%|██████████| 938/938 [01:10<00:00, 13.34it/s]\n"
     ]
    },
    {
     "name": "stdout",
     "output_type": "stream",
     "text": [
      "epoch 1: train loss:3.605647563934326 val loss:3.8037309646606445 val acc:0.28814631700515747\n"
     ]
    },
    {
     "name": "stderr",
     "output_type": "stream",
     "text": [
      "100%|██████████| 2188/2188 [03:32<00:00, 10.28it/s]\n",
      "100%|██████████| 938/938 [01:12<00:00, 12.94it/s]\n"
     ]
    },
    {
     "name": "stdout",
     "output_type": "stream",
     "text": [
      "epoch 2: train loss:3.5287256240844727 val loss:3.9094910621643066 val acc:0.2842150926589966\n"
     ]
    },
    {
     "name": "stderr",
     "output_type": "stream",
     "text": [
      "100%|██████████| 2188/2188 [03:40<00:00,  9.90it/s]\n",
      "100%|██████████| 938/938 [01:23<00:00, 11.28it/s]\n"
     ]
    },
    {
     "name": "stdout",
     "output_type": "stream",
     "text": [
      "epoch 3: train loss:3.500267267227173 val loss:3.917275905609131 val acc:0.29027852416038513\n"
     ]
    },
    {
     "name": "stderr",
     "output_type": "stream",
     "text": [
      "100%|██████████| 2188/2188 [02:50<00:00, 12.81it/s]\n",
      "100%|██████████| 938/938 [01:30<00:00, 10.37it/s]\n"
     ]
    },
    {
     "name": "stdout",
     "output_type": "stream",
     "text": [
      "epoch 4: train loss:3.4772884845733643 val loss:4.042745590209961 val acc:0.28008395433425903\n"
     ]
    },
    {
     "name": "stderr",
     "output_type": "stream",
     "text": [
      "100%|██████████| 2188/2188 [03:14<00:00, 11.26it/s]\n",
      "100%|██████████| 938/938 [01:16<00:00, 12.32it/s]\n"
     ]
    },
    {
     "name": "stdout",
     "output_type": "stream",
     "text": [
      "epoch 5: train loss:3.469439744949341 val loss:4.01155948638916 val acc:0.2941431403160095\n"
     ]
    },
    {
     "name": "stderr",
     "output_type": "stream",
     "text": [
      "100%|██████████| 2188/2188 [02:54<00:00, 12.51it/s]\n",
      "100%|██████████| 938/938 [01:40<00:00,  9.35it/s]\n"
     ]
    },
    {
     "name": "stdout",
     "output_type": "stream",
     "text": [
      "epoch 6: train loss:3.4784719944000244 val loss:4.073680400848389 val acc:0.2841484546661377\n"
     ]
    },
    {
     "name": "stderr",
     "output_type": "stream",
     "text": [
      "100%|██████████| 2188/2188 [03:18<00:00, 11.03it/s]\n",
      "100%|██████████| 938/938 [01:35<00:00,  9.85it/s]\n"
     ]
    },
    {
     "name": "stdout",
     "output_type": "stream",
     "text": [
      "epoch 7: train loss:3.464904308319092 val loss:4.118938446044922 val acc:0.2843816578388214\n"
     ]
    },
    {
     "name": "stderr",
     "output_type": "stream",
     "text": [
      "100%|██████████| 2188/2188 [03:07<00:00, 11.66it/s]\n",
      "100%|██████████| 938/938 [01:29<00:00, 10.51it/s]\n"
     ]
    },
    {
     "name": "stdout",
     "output_type": "stream",
     "text": [
      "epoch 8: train loss:3.4738056659698486 val loss:4.15089225769043 val acc:0.28091683983802795\n"
     ]
    },
    {
     "name": "stderr",
     "output_type": "stream",
     "text": [
      "100%|██████████| 2188/2188 [02:55<00:00, 12.45it/s]\n",
      "100%|██████████| 938/938 [01:25<00:00, 11.00it/s]"
     ]
    },
    {
     "name": "stdout",
     "output_type": "stream",
     "text": [
      "epoch 9: train loss:3.4701426029205322 val loss:4.020843982696533 val acc:0.2933768630027771\n"
     ]
    },
    {
     "name": "stderr",
     "output_type": "stream",
     "text": [
      "\n"
     ]
    }
   ],
   "source": [
    "model,losses_history_full,val_acc_history_full =train_test_cycle(model,train_loader,test_loader,\n",
    "                                                                 optimizer,scheduler,loss_function,\n",
    "                                                                 device,n_epochs=n_epochs,print_losses=True)"
   ]
  },
  {
   "cell_type": "code",
   "execution_count": 41,
   "metadata": {
    "execution": {
     "iopub.execute_input": "2023-06-20T17:09:20.486400Z",
     "iopub.status.busy": "2023-06-20T17:09:20.486170Z",
     "iopub.status.idle": "2023-06-20T17:09:20.507324Z",
     "shell.execute_reply": "2023-06-20T17:09:20.506870Z",
     "shell.execute_reply.started": "2023-06-20T17:09:20.486377Z"
    }
   },
   "outputs": [
    {
     "name": "stdout",
     "output_type": "stream",
     "text": [
      "{'train': [tensor(3.8875, device='cuda:0', grad_fn=<DivBackward0>), tensor(3.6056, device='cuda:0', grad_fn=<DivBackward0>), tensor(3.5287, device='cuda:0', grad_fn=<DivBackward0>), tensor(3.5003, device='cuda:0', grad_fn=<DivBackward0>), tensor(3.4773, device='cuda:0', grad_fn=<DivBackward0>), tensor(3.4694, device='cuda:0', grad_fn=<DivBackward0>), tensor(3.4785, device='cuda:0', grad_fn=<DivBackward0>), tensor(3.4649, device='cuda:0', grad_fn=<DivBackward0>), tensor(3.4738, device='cuda:0', grad_fn=<DivBackward0>), tensor(3.4701, device='cuda:0', grad_fn=<DivBackward0>)], 'test': [tensor(3.8144, device='cuda:0'), tensor(3.8037, device='cuda:0'), tensor(3.9095, device='cuda:0'), tensor(3.9173, device='cuda:0'), tensor(4.0427, device='cuda:0'), tensor(4.0116, device='cuda:0'), tensor(4.0737, device='cuda:0'), tensor(4.1189, device='cuda:0'), tensor(4.1509, device='cuda:0'), tensor(4.0208, device='cuda:0')]}\n",
      "[tensor(0.2781, device='cuda:0'), tensor(0.2881, device='cuda:0'), tensor(0.2842, device='cuda:0'), tensor(0.2903, device='cuda:0'), tensor(0.2801, device='cuda:0'), tensor(0.2941, device='cuda:0'), tensor(0.2841, device='cuda:0'), tensor(0.2844, device='cuda:0'), tensor(0.2809, device='cuda:0'), tensor(0.2934, device='cuda:0')]\n"
     ]
    }
   ],
   "source": [
    "print(losses_history_full)\n",
    "print(val_acc_history_full)"
   ]
  },
  {
   "cell_type": "markdown",
   "metadata": {
    "id": "KWq2nRyyWcwz"
   },
   "source": [
    "#Find easy classes"
   ]
  },
  {
   "cell_type": "code",
   "execution_count": 42,
   "metadata": {
    "execution": {
     "iopub.execute_input": "2023-06-20T17:09:20.508104Z",
     "iopub.status.busy": "2023-06-20T17:09:20.507950Z",
     "iopub.status.idle": "2023-06-20T17:09:29.438254Z",
     "shell.execute_reply": "2023-06-20T17:09:29.437648Z",
     "shell.execute_reply.started": "2023-06-20T17:09:20.508089Z"
    },
    "id": "HiigcQIkUHkU"
   },
   "outputs": [
    {
     "name": "stderr",
     "output_type": "stream",
     "text": [
      "100%|██████████| 30000/30000 [00:08<00:00, 3361.51it/s]\n"
     ]
    }
   ],
   "source": [
    "class_count = dict(zip(range(200),[0]*200))\n",
    "for _,y in tqdm(test_dataset):\n",
    "  class_count[y] += 1\n",
    "\n",
    "# class_count"
   ]
  },
  {
   "cell_type": "code",
   "execution_count": 43,
   "metadata": {
    "execution": {
     "iopub.execute_input": "2023-06-20T17:09:29.439275Z",
     "iopub.status.busy": "2023-06-20T17:09:29.439084Z",
     "iopub.status.idle": "2023-06-20T17:09:29.442520Z",
     "shell.execute_reply": "2023-06-20T17:09:29.441937Z",
     "shell.execute_reply.started": "2023-06-20T17:09:29.439225Z"
    },
    "id": "nUmhK_4VUeEK"
   },
   "outputs": [],
   "source": [
    "class_acc = dict(zip(range(200),[0]*200))"
   ]
  },
  {
   "cell_type": "code",
   "execution_count": 44,
   "metadata": {
    "execution": {
     "iopub.execute_input": "2023-06-20T17:09:29.445053Z",
     "iopub.status.busy": "2023-06-20T17:09:29.444870Z",
     "iopub.status.idle": "2023-06-20T17:09:42.929491Z",
     "shell.execute_reply": "2023-06-20T17:09:42.928691Z",
     "shell.execute_reply.started": "2023-06-20T17:09:29.445036Z"
    },
    "id": "pbOWyEhjUGvK"
   },
   "outputs": [
    {
     "name": "stderr",
     "output_type": "stream",
     "text": [
      "100%|██████████| 938/938 [00:13<00:00, 69.59it/s]\n"
     ]
    }
   ],
   "source": [
    "for x,y in tqdm(test_loader):\n",
    "    x,y = x.to(device), y.to(device)\n",
    "    logits = model(x)\n",
    "    preds = logits.max(1)[1]\n",
    "    for (predicted,target) in zip(preds,y):\n",
    "      if predicted == target:\n",
    "        class_acc[target.item()] += 1\n",
    "\n",
    "for key in class_acc.keys():\n",
    "  class_acc[key] /= class_count[key]"
   ]
  },
  {
   "cell_type": "code",
   "execution_count": 45,
   "metadata": {
    "execution": {
     "iopub.execute_input": "2023-06-20T17:09:42.930407Z",
     "iopub.status.busy": "2023-06-20T17:09:42.930239Z",
     "iopub.status.idle": "2023-06-20T17:09:42.933763Z",
     "shell.execute_reply": "2023-06-20T17:09:42.933199Z",
     "shell.execute_reply.started": "2023-06-20T17:09:42.930392Z"
    },
    "id": "1a_J1PG9VlkD"
   },
   "outputs": [],
   "source": [
    "sorted_by_acc = sorted(class_acc.items(),key=lambda x:x[1])\n",
    "\n",
    "easy_classes = [item[0] for item in sorted_by_acc[-20:]]\n",
    "# easy_classes"
   ]
  },
  {
   "cell_type": "markdown",
   "metadata": {
    "id": "goWoWSK5Wgyp"
   },
   "source": [
    "# Construct smaller dataset"
   ]
  },
  {
   "cell_type": "code",
   "execution_count": 46,
   "metadata": {
    "execution": {
     "iopub.execute_input": "2023-06-20T17:09:42.934544Z",
     "iopub.status.busy": "2023-06-20T17:09:42.934383Z",
     "iopub.status.idle": "2023-06-20T17:09:42.937777Z",
     "shell.execute_reply": "2023-06-20T17:09:42.937240Z",
     "shell.execute_reply.started": "2023-06-20T17:09:42.934529Z"
    },
    "id": "wprjGg4NWUEf"
   },
   "outputs": [],
   "source": [
    "reduced_classes = easy_classes\n",
    "for reduced_class in reduced_classes:\n",
    "  class_count[reduced_class]  = int(class_count[reduced_class] *  0.7)"
   ]
  },
  {
   "cell_type": "code",
   "execution_count": 47,
   "metadata": {
    "execution": {
     "iopub.execute_input": "2023-06-20T17:09:42.938574Z",
     "iopub.status.busy": "2023-06-20T17:09:42.938426Z",
     "iopub.status.idle": "2023-06-20T17:12:20.557572Z",
     "shell.execute_reply": "2023-06-20T17:12:20.557034Z",
     "shell.execute_reply.started": "2023-06-20T17:09:42.938560Z"
    },
    "id": "h4o0ybfZWr9w"
   },
   "outputs": [
    {
     "name": "stderr",
     "output_type": "stream",
     "text": [
      "100%|██████████| 70000/70000 [02:37<00:00, 444.13it/s]\n"
     ]
    },
    {
     "data": {
      "text/plain": [
       "65080"
      ]
     },
     "execution_count": 47,
     "metadata": {},
     "output_type": "execute_result"
    }
   ],
   "source": [
    "reduced_dataset = []\n",
    "for sample in tqdm(train_dataset):\n",
    "  if sample[1] in reduced_classes:\n",
    "    if class_count[sample[1]]:\n",
    "      class_count[sample[1]] -= 1\n",
    "      reduced_dataset.append(sample)\n",
    "  else:\n",
    "    reduced_dataset.append(sample)\n",
    "\n",
    "len(reduced_dataset)"
   ]
  },
  {
   "cell_type": "code",
   "execution_count": 48,
   "metadata": {
    "execution": {
     "iopub.execute_input": "2023-06-20T17:12:20.558739Z",
     "iopub.status.busy": "2023-06-20T17:12:20.558529Z",
     "iopub.status.idle": "2023-06-20T17:12:20.561949Z",
     "shell.execute_reply": "2023-06-20T17:12:20.561321Z",
     "shell.execute_reply.started": "2023-06-20T17:12:20.558692Z"
    },
    "id": "zZ5BxFbUXVbF"
   },
   "outputs": [],
   "source": [
    "reduced_train_loader = torch.utils.data.DataLoader(\n",
    "    reduced_dataset,\n",
    "    batch_size=32,\n",
    "    num_workers=0,\n",
    "    shuffle=True\n",
    ")"
   ]
  },
  {
   "cell_type": "code",
   "execution_count": 49,
   "metadata": {
    "execution": {
     "iopub.execute_input": "2023-06-20T17:12:20.562978Z",
     "iopub.status.busy": "2023-06-20T17:12:20.562769Z",
     "iopub.status.idle": "2023-06-20T17:12:20.756526Z",
     "shell.execute_reply": "2023-06-20T17:12:20.756037Z",
     "shell.execute_reply.started": "2023-06-20T17:12:20.562978Z"
    },
    "id": "EJOsDXbAYRn5"
   },
   "outputs": [
    {
     "data": {
      "text/plain": [
       "102600"
      ]
     },
     "execution_count": 49,
     "metadata": {},
     "output_type": "execute_result"
    }
   ],
   "source": [
    "model = torchvision.models.resnet18(weights='IMAGENET1K_V1')\n",
    "model.fc = nn.Linear(512,200)\n",
    "model = model.to(device)\n",
    "# optimizer = torch.optim.Adam(model.fc.parameters(),lr=5e-4)\n",
    "# scheduler = torch.optim.lr_scheduler.ExponentialLR(optimizer, gamma=0.95)\n",
    "optimizer = torch.optim.SGD(model.fc.parameters(), lr=0.01, momentum=0.9)\n",
    "scheduler = torch.optim.lr_scheduler.CyclicLR(optimizer, base_lr=0.01, max_lr=0.1)\n",
    "\n",
    "\n",
    "loss_function = nn.CrossEntropyLoss()\n",
    "def count_parameters(model):\n",
    "    return sum(p.numel() for p in model.parameters() if p.requires_grad)\n",
    "\n",
    "for p in model.parameters():\n",
    "    p.requires_grad = False\n",
    "    \n",
    "for p in model.fc.parameters():\n",
    "    p.requires_grad = True\n",
    "\n",
    "count_parameters(model)"
   ]
  },
  {
   "cell_type": "code",
   "execution_count": 51,
   "metadata": {
    "execution": {
     "iopub.execute_input": "2023-06-20T17:28:59.908762Z",
     "iopub.status.busy": "2023-06-20T17:28:59.908470Z",
     "iopub.status.idle": "2023-06-20T17:34:37.043672Z",
     "shell.execute_reply": "2023-06-20T17:34:37.042870Z",
     "shell.execute_reply.started": "2023-06-20T17:28:59.908736Z"
    },
    "id": "eZM9HCemYesJ"
   },
   "outputs": [
    {
     "name": "stderr",
     "output_type": "stream",
     "text": [
      "100%|██████████| 2034/2034 [00:10<00:00, 202.13it/s]\n",
      "100%|██████████| 938/938 [01:52<00:00,  8.34it/s]\n"
     ]
    },
    {
     "name": "stdout",
     "output_type": "stream",
     "text": [
      "epoch 0: train loss:3.9693377017974854 val loss:3.815134286880493 val acc:0.2707555890083313\n"
     ]
    },
    {
     "name": "stderr",
     "output_type": "stream",
     "text": [
      "100%|██████████| 2034/2034 [00:10<00:00, 190.72it/s]\n",
      "100%|██████████| 938/938 [00:13<00:00, 68.03it/s]\n"
     ]
    },
    {
     "name": "stdout",
     "output_type": "stream",
     "text": [
      "epoch 1: train loss:3.6496918201446533 val loss:3.8246796131134033 val acc:0.2861473858356476\n"
     ]
    },
    {
     "name": "stderr",
     "output_type": "stream",
     "text": [
      "100%|██████████| 2034/2034 [00:11<00:00, 184.76it/s]\n",
      "100%|██████████| 938/938 [00:14<00:00, 64.96it/s]\n"
     ]
    },
    {
     "name": "stdout",
     "output_type": "stream",
     "text": [
      "epoch 2: train loss:3.582444906234741 val loss:3.902116537094116 val acc:0.2825160026550293\n"
     ]
    },
    {
     "name": "stderr",
     "output_type": "stream",
     "text": [
      "100%|██████████| 2034/2034 [00:09<00:00, 209.63it/s]\n",
      "100%|██████████| 938/938 [00:13<00:00, 69.09it/s]\n"
     ]
    },
    {
     "name": "stdout",
     "output_type": "stream",
     "text": [
      "epoch 3: train loss:3.558182716369629 val loss:3.943065643310547 val acc:0.2835487723350525\n"
     ]
    },
    {
     "name": "stderr",
     "output_type": "stream",
     "text": [
      "100%|██████████| 2034/2034 [00:09<00:00, 213.40it/s]\n",
      "100%|██████████| 938/938 [00:13<00:00, 69.62it/s]\n"
     ]
    },
    {
     "name": "stdout",
     "output_type": "stream",
     "text": [
      "epoch 4: train loss:3.5370655059814453 val loss:3.9655725955963135 val acc:0.2817164361476898\n"
     ]
    },
    {
     "name": "stderr",
     "output_type": "stream",
     "text": [
      "100%|██████████| 2034/2034 [00:09<00:00, 207.24it/s]\n",
      "100%|██████████| 938/938 [00:14<00:00, 67.00it/s]\n"
     ]
    },
    {
     "name": "stdout",
     "output_type": "stream",
     "text": [
      "epoch 5: train loss:3.5218069553375244 val loss:4.001603603363037 val acc:0.2822827994823456\n"
     ]
    },
    {
     "name": "stderr",
     "output_type": "stream",
     "text": [
      "100%|██████████| 2034/2034 [00:09<00:00, 218.68it/s]\n",
      "100%|██████████| 938/938 [00:13<00:00, 68.65it/s]\n"
     ]
    },
    {
     "name": "stdout",
     "output_type": "stream",
     "text": [
      "epoch 6: train loss:3.5370378494262695 val loss:4.1130876541137695 val acc:0.27658581733703613\n"
     ]
    },
    {
     "name": "stderr",
     "output_type": "stream",
     "text": [
      "100%|██████████| 2034/2034 [00:09<00:00, 224.66it/s]\n",
      "100%|██████████| 938/938 [00:14<00:00, 63.88it/s]\n"
     ]
    },
    {
     "name": "stdout",
     "output_type": "stream",
     "text": [
      "epoch 7: train loss:3.5161983966827393 val loss:4.081319808959961 val acc:0.2828824818134308\n"
     ]
    },
    {
     "name": "stderr",
     "output_type": "stream",
     "text": [
      "100%|██████████| 2034/2034 [00:09<00:00, 208.44it/s]\n",
      "100%|██████████| 938/938 [00:13<00:00, 68.57it/s]\n"
     ]
    },
    {
     "name": "stdout",
     "output_type": "stream",
     "text": [
      "epoch 8: train loss:3.505563497543335 val loss:4.168128490447998 val acc:0.2799840271472931\n"
     ]
    },
    {
     "name": "stderr",
     "output_type": "stream",
     "text": [
      "100%|██████████| 2034/2034 [00:10<00:00, 191.81it/s]\n",
      "100%|██████████| 938/938 [00:13<00:00, 67.92it/s]"
     ]
    },
    {
     "name": "stdout",
     "output_type": "stream",
     "text": [
      "epoch 9: train loss:3.5016818046569824 val loss:4.139607906341553 val acc:0.28164979815483093\n"
     ]
    },
    {
     "name": "stderr",
     "output_type": "stream",
     "text": [
      "\n"
     ]
    }
   ],
   "source": [
    "model2,losses_history_reduce,val_acc_history_reduce =train_test_cycle(model,reduced_train_loader,\n",
    "                                                                      test_loader,optimizer,scheduler,\n",
    "                                                                      loss_function,device,n_epochs=n_epochs,print_losses=True)\n"
   ]
  },
  {
   "cell_type": "code",
   "execution_count": 52,
   "metadata": {
    "execution": {
     "iopub.execute_input": "2023-06-20T17:34:37.044988Z",
     "iopub.status.busy": "2023-06-20T17:34:37.044797Z",
     "iopub.status.idle": "2023-06-20T17:34:37.058380Z",
     "shell.execute_reply": "2023-06-20T17:34:37.057720Z",
     "shell.execute_reply.started": "2023-06-20T17:34:37.044972Z"
    }
   },
   "outputs": [
    {
     "name": "stdout",
     "output_type": "stream",
     "text": [
      "{'train': [tensor(3.9693, device='cuda:0', grad_fn=<DivBackward0>), tensor(3.6497, device='cuda:0', grad_fn=<DivBackward0>), tensor(3.5824, device='cuda:0', grad_fn=<DivBackward0>), tensor(3.5582, device='cuda:0', grad_fn=<DivBackward0>), tensor(3.5371, device='cuda:0', grad_fn=<DivBackward0>), tensor(3.5218, device='cuda:0', grad_fn=<DivBackward0>), tensor(3.5370, device='cuda:0', grad_fn=<DivBackward0>), tensor(3.5162, device='cuda:0', grad_fn=<DivBackward0>), tensor(3.5056, device='cuda:0', grad_fn=<DivBackward0>), tensor(3.5017, device='cuda:0', grad_fn=<DivBackward0>)], 'test': [tensor(3.8151, device='cuda:0'), tensor(3.8247, device='cuda:0'), tensor(3.9021, device='cuda:0'), tensor(3.9431, device='cuda:0'), tensor(3.9656, device='cuda:0'), tensor(4.0016, device='cuda:0'), tensor(4.1131, device='cuda:0'), tensor(4.0813, device='cuda:0'), tensor(4.1681, device='cuda:0'), tensor(4.1396, device='cuda:0')]}\n",
      "[tensor(0.2708, device='cuda:0'), tensor(0.2861, device='cuda:0'), tensor(0.2825, device='cuda:0'), tensor(0.2835, device='cuda:0'), tensor(0.2817, device='cuda:0'), tensor(0.2823, device='cuda:0'), tensor(0.2766, device='cuda:0'), tensor(0.2829, device='cuda:0'), tensor(0.2800, device='cuda:0'), tensor(0.2816, device='cuda:0')]\n"
     ]
    }
   ],
   "source": [
    "print(losses_history_reduce)\n",
    "print(val_acc_history_reduce)"
   ]
  },
  {
   "cell_type": "code",
   "execution_count": 58,
   "metadata": {
    "execution": {
     "iopub.execute_input": "2023-06-20T17:41:39.541928Z",
     "iopub.status.busy": "2023-06-20T17:41:39.541398Z",
     "iopub.status.idle": "2023-06-20T17:41:39.545277Z",
     "shell.execute_reply": "2023-06-20T17:41:39.544653Z",
     "shell.execute_reply.started": "2023-06-20T17:41:39.541906Z"
    }
   },
   "outputs": [],
   "source": [
    "def tensor_to_list(t):\n",
    "    return [el.item() for el in t]"
   ]
  },
  {
   "cell_type": "code",
   "execution_count": 62,
   "metadata": {
    "execution": {
     "iopub.execute_input": "2023-06-20T17:44:28.109372Z",
     "iopub.status.busy": "2023-06-20T17:44:28.109074Z",
     "iopub.status.idle": "2023-06-20T17:44:28.487900Z",
     "shell.execute_reply": "2023-06-20T17:44:28.487264Z",
     "shell.execute_reply.started": "2023-06-20T17:44:28.109349Z"
    },
    "id": "qCa5gIe7Z33w"
   },
   "outputs": [
    {
     "data": {
      "image/png": "[encoded data removed]",
      "text/plain": [
       "<Figure size 900x400 with 3 Axes>"
      ]
     },
     "metadata": {},
     "output_type": "display_data"
    }
   ],
   "source": [
    "import matplotlib.pyplot as plt\n",
    "fig,axes = plt.subplots(1,3,figsize=(9,4))\n",
    "\n",
    "axes[0].plot(range(n_epochs), tensor_to_list(losses_history_full['train']),label='default')\n",
    "axes[0].plot(range(n_epochs), tensor_to_list(losses_history_reduce['train']),label='reduce')\n",
    "axes[0].set_title('Train Loss')\n",
    "\n",
    "axes[1].plot(range(n_epochs), tensor_to_list(losses_history_full['test']),label='default')\n",
    "axes[1].plot(range(n_epochs), tensor_to_list(losses_history_reduce['test']),label='reduce')\n",
    "axes[1].set_title('Test Loss')\n",
    "\n",
    "\n",
    "axes[2].plot(range(n_epochs), tensor_to_list(val_acc_history_full),label='default')\n",
    "axes[2].plot(range(n_epochs), tensor_to_list(val_acc_history_reduce),label='reduce')\n",
    "axes[2].set_title('Test Accuracy')\n",
    "\n",
    "for index,ax in enumerate(axes):\n",
    "  ax.set_xlabel('epoch')\n",
    "  y_label = 'loss' if index < 2 else 'accuracy'\n",
    "  ax.set_ylabel(y_label)\n",
    "  ax.legend()\n",
    "  ax.set_xticks(range(n_epochs))"
   ]
  }
 ],
 "metadata": {
  "accelerator": "GPU",
  "colab": {
   "gpuType": "T4",
   "provenance": []
  },
  "kernelspec": {
   "display_name": "Python 3 (ipykernel)",
   "language": "python",
   "name": "python3"
  },
  "language_info": {
   "codemirror_mode": {
    "name": "ipython",
    "version": 3
   },
   "file_extension": ".py",
   "mimetype": "text/x-python",
   "name": "python",
   "nbconvert_exporter": "python",
   "pygments_lexer": "ipython3",
   "version": "3.9.16"
  }
 },
 "nbformat": 4,
 "nbformat_minor": 4
}
