{
 "cells": [
  {
   "cell_type": "markdown",
   "metadata": {
    "id": "a2T0DuO1PW8G"
   },
   "source": [
    "1)взять CIFAR100 \n",
    "\n",
    "2)обучить с нуля resnet18\n",
    "\n",
    "3.1)выделить 10 легких и 10 тяжелых классов\n",
    "\n",
    "3.2)менять долю их представителей в выборке и следить за общим качеством на валидации\n",
    "\n",
    "4.1)для каждого объекта посчитать его лосс (в итоговой модели)\n",
    "\n",
    "4.2)менять их долю (убрать первые 5% самых легких,10% и т.д.) и следить за общим качеством на валидации\n",
    "\n",
    "5)повторить 1)-4) для TinyImageNet"
   ]
  },
  {
   "cell_type": "code",
   "execution_count": 2,
   "metadata": {
    "execution": {
     "iopub.execute_input": "2023-06-18T15:21:22.397932Z",
     "iopub.status.busy": "2023-06-18T15:21:22.397454Z",
     "iopub.status.idle": "2023-06-18T15:21:23.501128Z",
     "shell.execute_reply": "2023-06-18T15:21:23.500406Z",
     "shell.execute_reply.started": "2023-06-18T15:21:22.397912Z"
    },
    "id": "wNAv17ngG-Hu",
    "tags": []
   },
   "outputs": [],
   "source": [
    "import random\n",
    "import numpy as np\n",
    "import torch\n",
    "import torch.nn as nn\n",
    "import torch.nn.functional as F\n",
    "import os\n",
    "import pickle\n",
    "from torchvision import datasets, transforms\n",
    "from tqdm import tqdm\n",
    "from copy import deepcopy\n",
    "from collections import OrderedDict\n",
    "import matplotlib.pyplot as plt\n",
    "\n",
    "def set_seed(seed):\n",
    "    random.seed(seed)\n",
    "    np.random.seed(seed)\n",
    "\n",
    "    torch.manual_seed(seed)\n",
    "    torch.cuda.manual_seed_all(seed)\n",
    "\n",
    "from tqdm import tqdm"
   ]
  },
  {
   "cell_type": "code",
   "execution_count": 3,
   "metadata": {
    "execution": {
     "iopub.execute_input": "2023-06-18T15:21:23.502654Z",
     "iopub.status.busy": "2023-06-18T15:21:23.502312Z",
     "iopub.status.idle": "2023-06-18T15:21:23.507228Z",
     "shell.execute_reply": "2023-06-18T15:21:23.506464Z",
     "shell.execute_reply.started": "2023-06-18T15:21:23.502635Z"
    },
    "id": "aJRQOg2ISy10",
    "tags": []
   },
   "outputs": [],
   "source": [
    "set_seed(1000)"
   ]
  },
  {
   "cell_type": "code",
   "execution_count": 4,
   "metadata": {
    "execution": {
     "iopub.execute_input": "2023-06-18T15:21:23.508210Z",
     "iopub.status.busy": "2023-06-18T15:21:23.508041Z",
     "iopub.status.idle": "2023-06-18T15:21:23.512692Z",
     "shell.execute_reply": "2023-06-18T15:21:23.511792Z",
     "shell.execute_reply.started": "2023-06-18T15:21:23.508210Z"
    },
    "id": "lLZy5nECS4eH",
    "tags": []
   },
   "outputs": [],
   "source": [
    "def prepare_transforms(augments=[True, False]):\n",
    "    data_mean = (0.5071, 0.4865, 0.4409)\n",
    "    data_std = (0.2673, 0.2564, 0.2762)\n",
    "    # types of transform: with augmentation and without\n",
    "    transform_augmented = transforms.Compose([\n",
    "        #transforms.RandomCrop(32, padding=4),\n",
    "        transforms.RandomHorizontalFlip(),\n",
    "        transforms.ToTensor(),\n",
    "        transforms.Normalize(data_mean, data_std)])\n",
    "    transform_clean = transforms.Compose([\n",
    "        transforms.ToTensor(),\n",
    "        transforms.Normalize(data_mean, data_std)])\n",
    "    # choose transform according func params\n",
    "    train_transform = transform_augmented if augments[0] else transform_clean\n",
    "    test_transform = transform_augmented if augments[1] else transform_clean\n",
    "\n",
    "    return train_transform, test_transform"
   ]
  },
  {
   "cell_type": "code",
   "execution_count": 5,
   "metadata": {
    "execution": {
     "iopub.execute_input": "2023-06-18T15:21:23.514111Z",
     "iopub.status.busy": "2023-06-18T15:21:23.513587Z",
     "iopub.status.idle": "2023-06-18T15:21:23.519290Z",
     "shell.execute_reply": "2023-06-18T15:21:23.518182Z",
     "shell.execute_reply.started": "2023-06-18T15:21:23.514092Z"
    },
    "id": "dh2DcX0HS6XB",
    "tags": []
   },
   "outputs": [],
   "source": [
    "def get_loaders(data_dir='cifar-100', batch_size=32, augments=[True, False], shuffles=[False, False]):\n",
    "    train_transform, test_transform = prepare_transforms(augments)\n",
    "    train_dataset = datasets.CIFAR100(\n",
    "            data_dir, train=True, transform=train_transform, download=True)\n",
    "    test_dataset = datasets.CIFAR100(\n",
    "            data_dir, train=False, transform=test_transform, download=True)\n",
    "\n",
    "    train_loader = torch.utils.data.DataLoader(\n",
    "        dataset=train_dataset,\n",
    "        batch_size=batch_size, shuffle=shuffles[0],\n",
    "        pin_memory=True, num_workers=2)\n",
    "    test_loader = torch.utils.data.DataLoader(\n",
    "        dataset=test_dataset,\n",
    "        batch_size=batch_size, shuffle=shuffles[1],\n",
    "        pin_memory=True, num_workers=2)\n",
    "\n",
    "    return train_loader, test_loader"
   ]
  },
  {
   "cell_type": "code",
   "execution_count": 6,
   "metadata": {
    "colab": {
     "base_uri": "https://localhost:8080/",
     "height": 36
    },
    "execution": {
     "iopub.execute_input": "2023-06-18T15:21:23.521944Z",
     "iopub.status.busy": "2023-06-18T15:21:23.521678Z",
     "iopub.status.idle": "2023-06-18T15:21:23.531895Z",
     "shell.execute_reply": "2023-06-18T15:21:23.531125Z",
     "shell.execute_reply.started": "2023-06-18T15:21:23.521925Z"
    },
    "id": "BZWFccjJTBvj",
    "outputId": "0685e0ef-ccfa-4446-e863-e2db556e05cf",
    "tags": []
   },
   "outputs": [
    {
     "data": {
      "text/plain": [
       "'cuda'"
      ]
     },
     "execution_count": 6,
     "metadata": {},
     "output_type": "execute_result"
    }
   ],
   "source": [
    "device = 'cuda' if torch.cuda.is_available() else 'cpu'\n",
    "device"
   ]
  },
  {
   "cell_type": "code",
   "execution_count": 7,
   "metadata": {
    "colab": {
     "base_uri": "https://localhost:8080/"
    },
    "execution": {
     "iopub.execute_input": "2023-06-18T15:21:23.533084Z",
     "iopub.status.busy": "2023-06-18T15:21:23.532863Z",
     "iopub.status.idle": "2023-06-18T15:21:25.193589Z",
     "shell.execute_reply": "2023-06-18T15:21:25.193074Z",
     "shell.execute_reply.started": "2023-06-18T15:21:23.533066Z"
    },
    "id": "9JgTRYaxTznu",
    "outputId": "06464122-98d5-43ef-e6a6-eef151c6b651",
    "tags": []
   },
   "outputs": [
    {
     "name": "stdout",
     "output_type": "stream",
     "text": [
      "Files already downloaded and verified\n",
      "Files already downloaded and verified\n"
     ]
    }
   ],
   "source": [
    "train_loader,test_loader = get_loaders()"
   ]
  },
  {
   "cell_type": "code",
   "execution_count": 8,
   "metadata": {
    "colab": {
     "base_uri": "https://localhost:8080/"
    },
    "execution": {
     "iopub.execute_input": "2023-06-18T15:21:25.194379Z",
     "iopub.status.busy": "2023-06-18T15:21:25.194216Z",
     "iopub.status.idle": "2023-06-18T15:21:26.408578Z",
     "shell.execute_reply": "2023-06-18T15:21:26.408051Z",
     "shell.execute_reply.started": "2023-06-18T15:21:25.194364Z"
    },
    "id": "79fd2wIBUAMi",
    "outputId": "4117895d-a187-4027-a81d-ee6584164022",
    "tags": []
   },
   "outputs": [
    {
     "name": "stdout",
     "output_type": "stream",
     "text": [
      "Model is on device: cuda\n"
     ]
    }
   ],
   "source": [
    "from torchvision.models import resnet18\n",
    "\n",
    "model = resnet18()\n",
    "model.fc = nn.Linear(512,100)\n",
    "optimizer = torch.optim.SGD(model.parameters(),lr=0.02)\n",
    "scheduler = torch.optim.lr_scheduler.ExponentialLR(optimizer, gamma=0.9)\n",
    "\n",
    "loss_function = nn.CrossEntropyLoss()\n",
    "model.to(device)\n",
    "print(f'Model is on device: {device}')"
   ]
  },
  {
   "cell_type": "code",
   "execution_count": 9,
   "metadata": {
    "execution": {
     "iopub.execute_input": "2023-06-18T15:21:26.409545Z",
     "iopub.status.busy": "2023-06-18T15:21:26.409318Z",
     "iopub.status.idle": "2023-06-18T15:21:26.415115Z",
     "shell.execute_reply": "2023-06-18T15:21:26.414535Z",
     "shell.execute_reply.started": "2023-06-18T15:21:26.409521Z"
    },
    "id": "JH-vExG8h4gW",
    "tags": []
   },
   "outputs": [],
   "source": [
    "def train_test_cycle(model,train_loader,test_loader,optimizer,scheduler,loss_function,n_epochs=10,print_losses=False):\n",
    "  losses_history = { 'train': [], 'test': [] }\n",
    "  train_len = len(train_loader)\n",
    "  val_len = len(test_loader)\n",
    "  for i in range(n_epochs):\n",
    "    model.train()\n",
    "    train_loss = 0\n",
    "    for x,y in tqdm(train_loader):\n",
    "      optimizer.zero_grad()\n",
    "      x, y = x.to(device), y.to(device)\n",
    "      preds = model(x)\n",
    "      loss = loss_function(preds,y)\n",
    "      train_loss += loss\n",
    "      loss.backward()\n",
    "      optimizer.step()\n",
    "    scheduler.step()\n",
    "    \n",
    "    model.eval()\n",
    "    val_loss = 0\n",
    "    with torch.no_grad():\n",
    "      for x,y in  tqdm(test_loader):\n",
    "         x, y = x.to(device), y.to(device)\n",
    "         preds = model(x)\n",
    "         loss = loss_function(preds,y)\n",
    "         val_loss += loss    \n",
    "    \n",
    "    losses_history['train'].append(train_loss / train_len)\n",
    "    losses_history['test'].append(val_loss / val_len)\n",
    "\n",
    "    if print_losses:\n",
    "      print(f'epoch {i}: train loss:{train_loss / train_len } val loss:{val_loss / val_len }')\n",
    "   \n",
    "  return model,losses_history"
   ]
  },
  {
   "cell_type": "code",
   "execution_count": 10,
   "metadata": {
    "colab": {
     "base_uri": "https://localhost:8080/"
    },
    "execution": {
     "iopub.execute_input": "2023-06-18T15:21:26.416023Z",
     "iopub.status.busy": "2023-06-18T15:21:26.415862Z",
     "iopub.status.idle": "2023-06-18T15:22:58.965002Z",
     "shell.execute_reply": "2023-06-18T15:22:58.964272Z",
     "shell.execute_reply.started": "2023-06-18T15:21:26.416008Z"
    },
    "id": "dnIrp1b-jO1A",
    "outputId": "44671b2b-fd0e-4ea3-f54c-930c665d92d2",
    "tags": []
   },
   "outputs": [
    {
     "name": "stderr",
     "output_type": "stream",
     "text": [
      "100%|██████████| 1563/1563 [00:19<00:00, 79.54it/s] \n",
      "100%|██████████| 313/313 [00:01<00:00, 249.00it/s]\n",
      "100%|██████████| 1563/1563 [00:16<00:00, 93.43it/s] \n",
      "100%|██████████| 313/313 [00:01<00:00, 249.33it/s]\n",
      "100%|██████████| 1563/1563 [00:16<00:00, 96.81it/s] \n",
      "100%|██████████| 313/313 [00:01<00:00, 212.30it/s]\n",
      "100%|██████████| 1563/1563 [00:16<00:00, 93.70it/s] \n",
      "100%|██████████| 313/313 [00:01<00:00, 255.42it/s]\n",
      "100%|██████████| 1563/1563 [00:16<00:00, 93.03it/s] \n",
      "100%|██████████| 313/313 [00:01<00:00, 240.44it/s]\n"
     ]
    }
   ],
   "source": [
    "model,losses_history = train_test_cycle(model,train_loader,test_loader,optimizer,scheduler,loss_function,n_epochs=5)"
   ]
  },
  {
   "cell_type": "code",
   "execution_count": 11,
   "metadata": {
    "execution": {
     "iopub.execute_input": "2023-06-18T15:22:58.966245Z",
     "iopub.status.busy": "2023-06-18T15:22:58.965900Z",
     "iopub.status.idle": "2023-06-18T15:22:59.034070Z",
     "shell.execute_reply": "2023-06-18T15:22:59.033333Z",
     "shell.execute_reply.started": "2023-06-18T15:22:58.966220Z"
    },
    "id": "cj5p_aJ64VTM"
   },
   "outputs": [],
   "source": [
    "torch.save(model.state_dict(), 'model_for_losses.pth')"
   ]
  },
  {
   "cell_type": "code",
   "execution_count": 12,
   "metadata": {
    "colab": {
     "base_uri": "https://localhost:8080/"
    },
    "execution": {
     "iopub.execute_input": "2023-06-18T15:22:59.034982Z",
     "iopub.status.busy": "2023-06-18T15:22:59.034815Z",
     "iopub.status.idle": "2023-06-18T15:23:00.352118Z",
     "shell.execute_reply": "2023-06-18T15:23:00.351461Z",
     "shell.execute_reply.started": "2023-06-18T15:22:59.034967Z"
    },
    "id": "jBPtHLYwVMx0",
    "outputId": "013b9357-f69f-429f-e51b-6727855c43e3"
   },
   "outputs": [
    {
     "data": {
      "text/plain": [
       "tensor(0.3770, device='cuda:0')"
      ]
     },
     "execution_count": 12,
     "metadata": {},
     "output_type": "execute_result"
    }
   ],
   "source": [
    "val_acc = 0\n",
    "model.eval()\n",
    "with torch.no_grad():\n",
    "  for x,y in test_loader:\n",
    "    x,y = x.to(device), y.to(device)\n",
    "    logits = model(x)\n",
    "    preds = logits.max(1)[1]\n",
    "    val_acc += (y == preds).sum()\n",
    "\n",
    "val_acc / len(test_loader) / 32"
   ]
  },
  {
   "cell_type": "code",
   "execution_count": 13,
   "metadata": {
    "execution": {
     "iopub.execute_input": "2023-06-18T15:23:00.353652Z",
     "iopub.status.busy": "2023-06-18T15:23:00.353444Z",
     "iopub.status.idle": "2023-06-18T15:23:00.356858Z",
     "shell.execute_reply": "2023-06-18T15:23:00.356324Z",
     "shell.execute_reply.started": "2023-06-18T15:23:00.353642Z"
    },
    "id": "dOrnM1YAcfDd"
   },
   "outputs": [],
   "source": [
    "class_acc_train = {i: 0 for i in range(100)}\n",
    "class_acc_test = {i: 0 for i in range(100)}"
   ]
  },
  {
   "cell_type": "code",
   "execution_count": 14,
   "metadata": {
    "execution": {
     "iopub.execute_input": "2023-06-18T15:23:00.357856Z",
     "iopub.status.busy": "2023-06-18T15:23:00.357684Z",
     "iopub.status.idle": "2023-06-18T15:23:09.334468Z",
     "shell.execute_reply": "2023-06-18T15:23:09.333607Z",
     "shell.execute_reply.started": "2023-06-18T15:23:00.357856Z"
    },
    "id": "uh2kEAcscSBs"
   },
   "outputs": [],
   "source": [
    "for x,y in train_loader:\n",
    "    x,y = x.to(device), y.to(device)\n",
    "    logits = model(x)\n",
    "    preds = logits.max(1)[1]\n",
    "    for (predicted,target) in zip(preds,y):\n",
    "      if predicted == target:\n",
    "        class_acc_train[target.item()] += 1. / 500 \n",
    "\n",
    "for x,y in test_loader:\n",
    "    x,y = x.to(device), y.to(device)\n",
    "    logits = model(x)\n",
    "    preds = logits.max(1)[1]\n",
    "    for (predicted,target) in zip(preds,y):\n",
    "      if predicted == target:\n",
    "        class_acc_test[target.item()] += 1. / 100"
   ]
  },
  {
   "cell_type": "code",
   "execution_count": 15,
   "metadata": {
    "colab": {
     "base_uri": "https://localhost:8080/",
     "height": 311
    },
    "execution": {
     "iopub.execute_input": "2023-06-18T15:23:09.337592Z",
     "iopub.status.busy": "2023-06-18T15:23:09.337093Z",
     "iopub.status.idle": "2023-06-18T15:23:09.459348Z",
     "shell.execute_reply": "2023-06-18T15:23:09.458785Z",
     "shell.execute_reply.started": "2023-06-18T15:23:09.337568Z"
    },
    "id": "xNbGtt-ldWf-",
    "outputId": "e65b73c8-3dc5-4aed-a14c-7bb070b836eb"
   },
   "outputs": [
    {
     "data": {
      "image/png": "[encoded data removed]",
      "text/plain": [
       "<Figure size 500x300 with 1 Axes>"
      ]
     },
     "metadata": {},
     "output_type": "display_data"
    }
   ],
   "source": [
    "from pylab import rcParams\n",
    "rcParams['figure.figsize'] = 5, 3\n",
    "\n",
    "def plot_dict(dict_of_values,label):\n",
    "  x_s = dict_of_values.keys()\n",
    "  y_s = dict_of_values.values()\n",
    "  plt.plot(x_s,y_s,label=label)\n",
    "  plt.xlabel('class label')\n",
    "  plt.ylabel('accuracy')\n",
    "  plt.legend()\n",
    "\n",
    "plot_dict(class_acc_train,label='train')\n",
    "plot_dict(class_acc_test,label='test')"
   ]
  },
  {
   "cell_type": "code",
   "execution_count": 16,
   "metadata": {
    "colab": {
     "base_uri": "https://localhost:8080/"
    },
    "execution": {
     "iopub.execute_input": "2023-06-18T15:23:09.460862Z",
     "iopub.status.busy": "2023-06-18T15:23:09.460489Z",
     "iopub.status.idle": "2023-06-18T15:23:09.467675Z",
     "shell.execute_reply": "2023-06-18T15:23:09.467041Z",
     "shell.execute_reply.started": "2023-06-18T15:23:09.460836Z"
    },
    "id": "Yv0nLpiCf42h",
    "outputId": "17e3fea5-9575-4659-a123-3b870dc00015"
   },
   "outputs": [
    {
     "name": "stdout",
     "output_type": "stream",
     "text": [
      "hard labels and their acc [(55, 0.05), (72, 0.06), (46, 0.08), (92, 0.09), (66, 0.11), (78, 0.11), (38, 0.15), (42, 0.16), (64, 0.17), (93, 0.17)]\n",
      "--------------------\n",
      "easy labels and their acc [(24, 0.62), (53, 0.65), (68, 0.67), (82, 0.69), (60, 0.72), (94, 0.72), (71, 0.76), (20, 0.77), (76, 0.77), (75, 0.78)]\n"
     ]
    }
   ],
   "source": [
    "sorted_by_test_acc = sorted(class_acc_test.items(),key=lambda x:x[1])\n",
    "\n",
    "print('hard labels and their acc',[(i,round(j,3)) for (i,j) in sorted_by_test_acc[:10]])\n",
    "print('-'*20)\n",
    "print('easy labels and their acc',[(i,round(j,3)) for (i,j) in sorted_by_test_acc[-10:]])"
   ]
  },
  {
   "cell_type": "code",
   "execution_count": 17,
   "metadata": {
    "execution": {
     "iopub.execute_input": "2023-06-18T15:23:09.469032Z",
     "iopub.status.busy": "2023-06-18T15:23:09.468510Z",
     "iopub.status.idle": "2023-06-18T15:23:09.471926Z",
     "shell.execute_reply": "2023-06-18T15:23:09.471298Z",
     "shell.execute_reply.started": "2023-06-18T15:23:09.468989Z"
    },
    "id": "vldQgSCmmF6l"
   },
   "outputs": [],
   "source": [
    "hard_classes = [label for (label,acc) in sorted_by_test_acc[ :20] ]\n",
    "easy_classes = [label for (label,acc) in sorted_by_test_acc[-20:] ]"
   ]
  },
  {
   "cell_type": "code",
   "execution_count": 18,
   "metadata": {
    "execution": {
     "iopub.execute_input": "2023-06-18T15:23:09.472591Z",
     "iopub.status.busy": "2023-06-18T15:23:09.472446Z",
     "iopub.status.idle": "2023-06-18T15:23:09.478506Z",
     "shell.execute_reply": "2023-06-18T15:23:09.477846Z",
     "shell.execute_reply.started": "2023-06-18T15:23:09.472577Z"
    },
    "id": "JehistOImdXw"
   },
   "outputs": [],
   "source": [
    "def get_train_loader(data_dir,mode,fraction,batch_size, augment=True, shuffle=True, args=None):\n",
    "    '''\n",
    "    mode = 'easy' or 'hard' -> what type of label we exclude\n",
    "    fraction -> how many samples we exclude (and remains (1-fraction)*100% )\n",
    "    '''\n",
    "    train_transform, test_transform = prepare_transforms(augments=[augment,False])\n",
    "    data_dir = 'cifar-100'\n",
    "    train_dataset = datasets.CIFAR100(data_dir, train=True, transform=train_transform, download=True)\n",
    "    X_all,y_all = train_dataset.data, torch.LongTensor(train_dataset.targets)\n",
    "\n",
    "    X_all_sampled, y_all_sampled = [], []\n",
    "    classes_of_interest = easy_classes if mode == 'easy' else hard_classes\n",
    "\n",
    "    for c in torch.unique(y_all):\n",
    "        X_all_c, y_all_c = X_all[y_all==c], y_all[y_all==c]\n",
    "        num_samples = len(X_all_c)\n",
    "        last_index = int(num_samples*(1-fraction*int(c in classes_of_interest)))\n",
    "        num_samples = len(X_all_c)\n",
    "        sampled_indices = torch.randperm(num_samples)[:last_index]\n",
    "        X_all_sampled.append(X_all_c[sampled_indices])\n",
    "        y_all_sampled.append(y_all_c[sampled_indices]) \n",
    "        \n",
    "    X_all_sampled = np.concatenate(X_all_sampled, axis=0)\n",
    "    y_all_sampled = list(torch.cat(y_all_sampled, dim=0).numpy())\n",
    "\n",
    "    train_dataset.data = X_all_sampled\n",
    "    train_dataset.targets = y_all_sampled\n",
    "\n",
    "    train_loader = torch.utils.data.DataLoader(\n",
    "        dataset=train_dataset,\n",
    "        batch_size=batch_size, shuffle=shuffle,\n",
    "        pin_memory=True, num_workers=2,\n",
    "    )\n",
    "    return train_loader"
   ]
  },
  {
   "cell_type": "code",
   "execution_count": 19,
   "metadata": {
    "colab": {
     "base_uri": "https://localhost:8080/"
    },
    "execution": {
     "iopub.execute_input": "2023-06-18T15:23:09.479296Z",
     "iopub.status.busy": "2023-06-18T15:23:09.479146Z",
     "iopub.status.idle": "2023-06-18T15:23:10.767811Z",
     "shell.execute_reply": "2023-06-18T15:23:10.766932Z",
     "shell.execute_reply.started": "2023-06-18T15:23:09.479283Z"
    },
    "id": "zZDGu4MRmkBR",
    "outputId": "80924f5e-e536-44d4-9790-32bde9a2bedc"
   },
   "outputs": [
    {
     "name": "stdout",
     "output_type": "stream",
     "text": [
      "Files already downloaded and verified\n"
     ]
    }
   ],
   "source": [
    "data_dir = 'cifar-100'\n",
    "train_loader = get_train_loader(data_dir,mode='hard',fraction=0.1,\n",
    "                    batch_size=32, augment=False, shuffle=True)"
   ]
  },
  {
   "cell_type": "code",
   "execution_count": 20,
   "metadata": {
    "colab": {
     "base_uri": "https://localhost:8080/"
    },
    "execution": {
     "iopub.execute_input": "2023-06-18T15:23:10.768939Z",
     "iopub.status.busy": "2023-06-18T15:23:10.768698Z",
     "iopub.status.idle": "2023-06-18T15:23:16.043194Z",
     "shell.execute_reply": "2023-06-18T15:23:16.042409Z",
     "shell.execute_reply.started": "2023-06-18T15:23:10.768913Z"
    },
    "id": "zFy_CyuYnBLc",
    "outputId": "f443fb96-4766-459a-da82-db392ce5ad31"
   },
   "outputs": [
    {
     "data": {
      "text/plain": [
       "49000"
      ]
     },
     "execution_count": 20,
     "metadata": {},
     "output_type": "execute_result"
    }
   ],
   "source": [
    "length = 0\n",
    "for x,_ in train_loader:\n",
    "  length += len(x)\n",
    "\n",
    "length"
   ]
  },
  {
   "cell_type": "code",
   "execution_count": 21,
   "metadata": {
    "execution": {
     "iopub.execute_input": "2023-06-18T15:23:16.044571Z",
     "iopub.status.busy": "2023-06-18T15:23:16.044286Z",
     "iopub.status.idle": "2023-06-18T15:23:16.048756Z",
     "shell.execute_reply": "2023-06-18T15:23:16.048006Z",
     "shell.execute_reply.started": "2023-06-18T15:23:16.044546Z"
    }
   },
   "outputs": [],
   "source": [
    "N_EPOCHS = 10"
   ]
  },
  {
   "cell_type": "code",
   "execution_count": 22,
   "metadata": {
    "execution": {
     "iopub.execute_input": "2023-06-18T15:23:16.050264Z",
     "iopub.status.busy": "2023-06-18T15:23:16.050027Z",
     "iopub.status.idle": "2023-06-18T15:23:16.054854Z",
     "shell.execute_reply": "2023-06-18T15:23:16.054170Z",
     "shell.execute_reply.started": "2023-06-18T15:23:16.050243Z"
    },
    "id": "SQuQIJvDuE8h"
   },
   "outputs": [],
   "source": [
    "def compute_val_acc(model,val_loader):\n",
    "  val_acc = 0\n",
    "  model.eval()\n",
    "  with torch.no_grad():\n",
    "    for x,y in test_loader:\n",
    "      x,y = x.to(device), y.to(device)\n",
    "      logits = model(x)\n",
    "      preds = logits.max(1)[1]\n",
    "      val_acc += (y == preds).sum() / len(y)\n",
    "\n",
    "  return val_acc / len(test_loader) "
   ]
  },
  {
   "cell_type": "code",
   "execution_count": 23,
   "metadata": {
    "colab": {
     "base_uri": "https://localhost:8080/",
     "height": 246
    },
    "execution": {
     "iopub.execute_input": "2023-06-18T15:23:16.056329Z",
     "iopub.status.busy": "2023-06-18T15:23:16.055903Z",
     "iopub.status.idle": "2023-06-18T16:02:48.391055Z",
     "shell.execute_reply": "2023-06-18T16:02:48.390301Z",
     "shell.execute_reply.started": "2023-06-18T15:23:16.056308Z"
    },
    "id": "9G1ZcSA3uipf",
    "outputId": "eb91dd3b-f4ef-4a4b-ebd6-20f2cb10aa70",
    "tags": []
   },
   "outputs": [
    {
     "name": "stdout",
     "output_type": "stream",
     "text": [
      "Files already downloaded and verified\n"
     ]
    },
    {
     "name": "stderr",
     "output_type": "stream",
     "text": [
      "100%|██████████| 1563/1563 [00:24<00:00, 64.49it/s]\n",
      "100%|██████████| 313/313 [00:01<00:00, 212.66it/s]\n",
      "100%|██████████| 1563/1563 [00:24<00:00, 64.90it/s]\n",
      "100%|██████████| 313/313 [00:01<00:00, 205.13it/s]\n",
      "100%|██████████| 1563/1563 [00:23<00:00, 66.10it/s]\n",
      "100%|██████████| 313/313 [00:01<00:00, 213.91it/s]\n",
      "100%|██████████| 1563/1563 [00:23<00:00, 66.86it/s]\n",
      "100%|██████████| 313/313 [00:01<00:00, 230.49it/s]\n",
      "100%|██████████| 1563/1563 [00:23<00:00, 67.75it/s]\n",
      "100%|██████████| 313/313 [00:01<00:00, 240.34it/s]\n",
      "100%|██████████| 1563/1563 [00:22<00:00, 68.83it/s]\n",
      "100%|██████████| 313/313 [00:01<00:00, 241.21it/s]\n",
      "100%|██████████| 1563/1563 [00:22<00:00, 69.27it/s]\n",
      "100%|██████████| 313/313 [00:01<00:00, 210.92it/s]\n",
      "100%|██████████| 1563/1563 [00:23<00:00, 66.56it/s]\n",
      "100%|██████████| 313/313 [00:01<00:00, 242.27it/s]\n",
      "100%|██████████| 1563/1563 [00:22<00:00, 68.06it/s]\n",
      "100%|██████████| 313/313 [00:01<00:00, 202.33it/s]\n",
      "100%|██████████| 1563/1563 [00:22<00:00, 68.67it/s]\n",
      "100%|██████████| 313/313 [00:01<00:00, 205.29it/s]\n"
     ]
    },
    {
     "name": "stdout",
     "output_type": "stream",
     "text": [
      "Files already downloaded and verified\n"
     ]
    },
    {
     "name": "stderr",
     "output_type": "stream",
     "text": [
      "100%|██████████| 1563/1563 [00:23<00:00, 66.73it/s]\n",
      "100%|██████████| 313/313 [00:01<00:00, 229.09it/s]\n",
      "100%|██████████| 1563/1563 [00:23<00:00, 66.86it/s]\n",
      "100%|██████████| 313/313 [00:01<00:00, 219.41it/s]\n",
      "100%|██████████| 1563/1563 [00:22<00:00, 68.97it/s]\n",
      "100%|██████████| 313/313 [00:01<00:00, 209.89it/s]\n",
      "100%|██████████| 1563/1563 [00:23<00:00, 65.22it/s]\n",
      "100%|██████████| 313/313 [00:01<00:00, 237.42it/s]\n",
      "100%|██████████| 1563/1563 [00:24<00:00, 64.18it/s]\n",
      "100%|██████████| 313/313 [00:01<00:00, 198.22it/s]\n",
      "100%|██████████| 1563/1563 [00:23<00:00, 66.72it/s]\n",
      "100%|██████████| 313/313 [00:01<00:00, 197.65it/s]\n",
      "100%|██████████| 1563/1563 [00:24<00:00, 65.00it/s]\n",
      "100%|██████████| 313/313 [00:01<00:00, 226.95it/s]\n",
      "100%|██████████| 1563/1563 [00:23<00:00, 65.98it/s]\n",
      "100%|██████████| 313/313 [00:01<00:00, 202.85it/s]\n",
      "100%|██████████| 1563/1563 [00:23<00:00, 67.14it/s]\n",
      "100%|██████████| 313/313 [00:01<00:00, 194.13it/s]\n",
      "100%|██████████| 1563/1563 [00:23<00:00, 66.35it/s]\n",
      "100%|██████████| 313/313 [00:01<00:00, 219.69it/s]\n"
     ]
    },
    {
     "name": "stdout",
     "output_type": "stream",
     "text": [
      "Files already downloaded and verified\n"
     ]
    },
    {
     "name": "stderr",
     "output_type": "stream",
     "text": [
      "100%|██████████| 1500/1500 [00:22<00:00, 65.47it/s]\n",
      "100%|██████████| 313/313 [00:01<00:00, 189.71it/s]\n",
      "100%|██████████| 1500/1500 [00:23<00:00, 64.94it/s]\n",
      "100%|██████████| 313/313 [00:01<00:00, 218.19it/s]\n",
      "100%|██████████| 1500/1500 [00:21<00:00, 68.34it/s]\n",
      "100%|██████████| 313/313 [00:01<00:00, 193.94it/s]\n",
      "100%|██████████| 1500/1500 [00:21<00:00, 68.19it/s]\n",
      "100%|██████████| 313/313 [00:01<00:00, 189.19it/s]\n",
      "100%|██████████| 1500/1500 [00:21<00:00, 69.22it/s]\n",
      "100%|██████████| 313/313 [00:01<00:00, 220.90it/s]\n",
      "100%|██████████| 1500/1500 [00:22<00:00, 66.75it/s]\n",
      "100%|██████████| 313/313 [00:01<00:00, 193.49it/s]\n",
      "100%|██████████| 1500/1500 [00:23<00:00, 64.33it/s]\n",
      "100%|██████████| 313/313 [00:01<00:00, 181.84it/s]\n",
      "100%|██████████| 1500/1500 [00:22<00:00, 66.76it/s]\n",
      "100%|██████████| 313/313 [00:01<00:00, 186.46it/s]\n",
      "100%|██████████| 1500/1500 [00:22<00:00, 67.62it/s]\n",
      "100%|██████████| 313/313 [00:01<00:00, 207.48it/s]\n",
      "100%|██████████| 1500/1500 [00:22<00:00, 67.96it/s]\n",
      "100%|██████████| 313/313 [00:01<00:00, 191.67it/s]\n"
     ]
    },
    {
     "name": "stdout",
     "output_type": "stream",
     "text": [
      "Files already downloaded and verified\n"
     ]
    },
    {
     "name": "stderr",
     "output_type": "stream",
     "text": [
      "100%|██████████| 1500/1500 [00:23<00:00, 64.93it/s]\n",
      "100%|██████████| 313/313 [00:01<00:00, 197.83it/s]\n",
      "100%|██████████| 1500/1500 [00:23<00:00, 64.73it/s]\n",
      "100%|██████████| 313/313 [00:01<00:00, 213.58it/s]\n",
      "100%|██████████| 1500/1500 [00:21<00:00, 69.31it/s]\n",
      "100%|██████████| 313/313 [00:01<00:00, 191.19it/s]\n",
      "100%|██████████| 1500/1500 [00:23<00:00, 64.22it/s]\n",
      "100%|██████████| 313/313 [00:01<00:00, 214.73it/s]\n",
      "100%|██████████| 1500/1500 [00:22<00:00, 67.43it/s]\n",
      "100%|██████████| 313/313 [00:01<00:00, 217.26it/s]\n",
      "100%|██████████| 1500/1500 [00:22<00:00, 66.19it/s]\n",
      "100%|██████████| 313/313 [00:01<00:00, 194.85it/s]\n",
      "100%|██████████| 1500/1500 [00:22<00:00, 66.75it/s]\n",
      "100%|██████████| 313/313 [00:01<00:00, 203.61it/s]\n",
      "100%|██████████| 1500/1500 [00:22<00:00, 67.61it/s]\n",
      "100%|██████████| 313/313 [00:01<00:00, 217.40it/s]\n",
      "100%|██████████| 1500/1500 [00:22<00:00, 67.55it/s]\n",
      "100%|██████████| 313/313 [00:01<00:00, 192.64it/s]\n",
      "100%|██████████| 1500/1500 [00:22<00:00, 65.90it/s]\n",
      "100%|██████████| 313/313 [00:01<00:00, 187.77it/s]\n"
     ]
    },
    {
     "name": "stdout",
     "output_type": "stream",
     "text": [
      "Files already downloaded and verified\n"
     ]
    },
    {
     "name": "stderr",
     "output_type": "stream",
     "text": [
      "100%|██████████| 1438/1438 [00:22<00:00, 62.92it/s]\n",
      "100%|██████████| 313/313 [00:01<00:00, 175.46it/s]\n",
      "100%|██████████| 1438/1438 [00:22<00:00, 64.15it/s]\n",
      "100%|██████████| 313/313 [00:01<00:00, 178.02it/s]\n",
      "100%|██████████| 1438/1438 [00:22<00:00, 63.79it/s]\n",
      "100%|██████████| 313/313 [00:01<00:00, 185.69it/s]\n",
      "100%|██████████| 1438/1438 [00:22<00:00, 65.11it/s]\n",
      "100%|██████████| 313/313 [00:01<00:00, 216.07it/s]\n",
      "100%|██████████| 1438/1438 [00:21<00:00, 67.44it/s]\n",
      "100%|██████████| 313/313 [00:01<00:00, 193.00it/s]\n",
      "100%|██████████| 1438/1438 [00:21<00:00, 66.67it/s]\n",
      "100%|██████████| 313/313 [00:01<00:00, 179.65it/s]\n",
      "100%|██████████| 1438/1438 [00:21<00:00, 66.04it/s]\n",
      "100%|██████████| 313/313 [00:01<00:00, 165.61it/s]\n",
      "100%|██████████| 1438/1438 [00:21<00:00, 65.53it/s]\n",
      "100%|██████████| 313/313 [00:01<00:00, 213.59it/s]\n",
      "100%|██████████| 1438/1438 [00:22<00:00, 64.43it/s]\n",
      "100%|██████████| 313/313 [00:01<00:00, 173.42it/s]\n",
      "100%|██████████| 1438/1438 [00:21<00:00, 65.47it/s]\n",
      "100%|██████████| 313/313 [00:01<00:00, 216.26it/s]\n"
     ]
    },
    {
     "name": "stdout",
     "output_type": "stream",
     "text": [
      "Files already downloaded and verified\n"
     ]
    },
    {
     "name": "stderr",
     "output_type": "stream",
     "text": [
      "100%|██████████| 1438/1438 [00:22<00:00, 64.43it/s]\n",
      "100%|██████████| 313/313 [00:01<00:00, 171.73it/s]\n",
      "100%|██████████| 1438/1438 [00:22<00:00, 64.43it/s]\n",
      "100%|██████████| 313/313 [00:01<00:00, 192.82it/s]\n",
      "100%|██████████| 1438/1438 [00:22<00:00, 64.20it/s]\n",
      "100%|██████████| 313/313 [00:01<00:00, 210.43it/s]\n",
      "100%|██████████| 1438/1438 [00:21<00:00, 65.74it/s]\n",
      "100%|██████████| 313/313 [00:01<00:00, 192.67it/s]\n",
      "100%|██████████| 1438/1438 [00:22<00:00, 65.03it/s]\n",
      "100%|██████████| 313/313 [00:01<00:00, 165.66it/s]\n",
      "100%|██████████| 1438/1438 [00:21<00:00, 65.41it/s]\n",
      "100%|██████████| 313/313 [00:01<00:00, 170.36it/s]\n",
      "100%|██████████| 1438/1438 [00:22<00:00, 65.33it/s]\n",
      "100%|██████████| 313/313 [00:01<00:00, 193.53it/s]\n",
      "100%|██████████| 1438/1438 [00:21<00:00, 65.44it/s]\n",
      "100%|██████████| 313/313 [00:01<00:00, 165.41it/s]\n",
      "100%|██████████| 1438/1438 [00:21<00:00, 65.88it/s]\n",
      "100%|██████████| 313/313 [00:02<00:00, 156.13it/s]\n",
      "100%|██████████| 1438/1438 [00:22<00:00, 64.22it/s]\n",
      "100%|██████████| 313/313 [00:01<00:00, 184.05it/s]\n"
     ]
    },
    {
     "name": "stdout",
     "output_type": "stream",
     "text": [
      "Files already downloaded and verified\n"
     ]
    },
    {
     "name": "stderr",
     "output_type": "stream",
     "text": [
      "100%|██████████| 1375/1375 [00:21<00:00, 63.78it/s]\n",
      "100%|██████████| 313/313 [00:01<00:00, 168.09it/s]\n",
      "100%|██████████| 1375/1375 [00:22<00:00, 61.95it/s]\n",
      "100%|██████████| 313/313 [00:01<00:00, 180.74it/s]\n",
      "100%|██████████| 1375/1375 [00:21<00:00, 63.26it/s]\n",
      "100%|██████████| 313/313 [00:01<00:00, 168.95it/s]\n",
      "100%|██████████| 1375/1375 [00:20<00:00, 67.38it/s]\n",
      "100%|██████████| 313/313 [00:01<00:00, 175.10it/s]\n",
      "100%|██████████| 1375/1375 [00:20<00:00, 67.61it/s]\n",
      "100%|██████████| 313/313 [00:01<00:00, 194.39it/s]\n",
      "100%|██████████| 1375/1375 [00:21<00:00, 64.81it/s]\n",
      "100%|██████████| 313/313 [00:01<00:00, 189.34it/s]\n",
      "100%|██████████| 1375/1375 [00:20<00:00, 67.31it/s]\n",
      "100%|██████████| 313/313 [00:01<00:00, 164.62it/s]\n",
      "100%|██████████| 1375/1375 [00:21<00:00, 65.27it/s]\n",
      "100%|██████████| 313/313 [00:01<00:00, 185.37it/s]\n",
      "100%|██████████| 1375/1375 [00:20<00:00, 66.17it/s]\n",
      "100%|██████████| 313/313 [00:01<00:00, 195.12it/s]\n",
      "100%|██████████| 1375/1375 [00:20<00:00, 65.98it/s]\n",
      "100%|██████████| 313/313 [00:01<00:00, 197.74it/s]\n"
     ]
    },
    {
     "name": "stdout",
     "output_type": "stream",
     "text": [
      "Files already downloaded and verified\n"
     ]
    },
    {
     "name": "stderr",
     "output_type": "stream",
     "text": [
      "100%|██████████| 1375/1375 [00:20<00:00, 65.86it/s]\n",
      "100%|██████████| 313/313 [00:01<00:00, 187.88it/s]\n",
      "100%|██████████| 1375/1375 [00:20<00:00, 67.87it/s]\n",
      "100%|██████████| 313/313 [00:01<00:00, 196.14it/s]\n",
      "100%|██████████| 1375/1375 [00:20<00:00, 66.74it/s]\n",
      "100%|██████████| 313/313 [00:01<00:00, 175.41it/s]\n",
      "100%|██████████| 1375/1375 [00:20<00:00, 67.37it/s]\n",
      "100%|██████████| 313/313 [00:01<00:00, 166.16it/s]\n",
      "100%|██████████| 1375/1375 [00:21<00:00, 64.79it/s]\n",
      "100%|██████████| 313/313 [00:02<00:00, 151.58it/s]\n",
      "100%|██████████| 1375/1375 [00:21<00:00, 64.83it/s]\n",
      "100%|██████████| 313/313 [00:02<00:00, 156.12it/s]\n",
      "100%|██████████| 1375/1375 [00:20<00:00, 66.01it/s]\n",
      "100%|██████████| 313/313 [00:01<00:00, 193.60it/s]\n",
      "100%|██████████| 1375/1375 [00:20<00:00, 68.48it/s]\n",
      "100%|██████████| 313/313 [00:01<00:00, 177.02it/s]\n",
      "100%|██████████| 1375/1375 [00:21<00:00, 65.46it/s]\n",
      "100%|██████████| 313/313 [00:01<00:00, 177.60it/s]\n",
      "100%|██████████| 1375/1375 [00:21<00:00, 64.39it/s]\n",
      "100%|██████████| 313/313 [00:01<00:00, 175.61it/s]\n"
     ]
    },
    {
     "name": "stdout",
     "output_type": "stream",
     "text": [
      "Files already downloaded and verified\n"
     ]
    },
    {
     "name": "stderr",
     "output_type": "stream",
     "text": [
      "100%|██████████| 1312/1312 [00:20<00:00, 64.52it/s]\n",
      "100%|██████████| 313/313 [00:01<00:00, 182.76it/s]\n",
      "100%|██████████| 1312/1312 [00:20<00:00, 63.09it/s]\n",
      "100%|██████████| 313/313 [00:01<00:00, 156.68it/s]\n",
      "100%|██████████| 1312/1312 [00:20<00:00, 64.82it/s]\n",
      "100%|██████████| 313/313 [00:01<00:00, 171.71it/s]\n",
      "100%|██████████| 1312/1312 [00:20<00:00, 64.61it/s]\n",
      "100%|██████████| 313/313 [00:02<00:00, 153.28it/s]\n",
      "100%|██████████| 1312/1312 [00:19<00:00, 66.76it/s]\n",
      "100%|██████████| 313/313 [00:01<00:00, 163.04it/s]\n",
      "100%|██████████| 1312/1312 [00:20<00:00, 63.63it/s]\n",
      "100%|██████████| 313/313 [00:01<00:00, 169.94it/s]\n",
      "100%|██████████| 1312/1312 [00:20<00:00, 65.29it/s]\n",
      "100%|██████████| 313/313 [00:01<00:00, 165.04it/s]\n",
      "100%|██████████| 1312/1312 [00:20<00:00, 65.55it/s]\n",
      "100%|██████████| 313/313 [00:02<00:00, 155.39it/s]\n",
      "100%|██████████| 1312/1312 [00:20<00:00, 62.76it/s]\n",
      "100%|██████████| 313/313 [00:01<00:00, 162.71it/s]\n",
      "100%|██████████| 1312/1312 [00:20<00:00, 65.06it/s]\n",
      "100%|██████████| 313/313 [00:01<00:00, 159.78it/s]\n"
     ]
    },
    {
     "name": "stdout",
     "output_type": "stream",
     "text": [
      "Files already downloaded and verified\n"
     ]
    },
    {
     "name": "stderr",
     "output_type": "stream",
     "text": [
      "100%|██████████| 1312/1312 [00:21<00:00, 61.52it/s]\n",
      "100%|██████████| 313/313 [00:01<00:00, 169.42it/s]\n",
      "100%|██████████| 1312/1312 [00:20<00:00, 63.51it/s]\n",
      "100%|██████████| 313/313 [00:01<00:00, 174.07it/s]\n",
      "100%|██████████| 1312/1312 [00:20<00:00, 64.66it/s]\n",
      "100%|██████████| 313/313 [00:02<00:00, 130.57it/s]\n",
      "100%|██████████| 1312/1312 [00:20<00:00, 63.45it/s]\n",
      "100%|██████████| 313/313 [00:01<00:00, 164.06it/s]\n",
      "100%|██████████| 1312/1312 [00:19<00:00, 65.80it/s]\n",
      "100%|██████████| 313/313 [00:01<00:00, 185.45it/s]\n",
      "100%|██████████| 1312/1312 [00:19<00:00, 65.63it/s]\n",
      "100%|██████████| 313/313 [00:01<00:00, 170.05it/s]\n",
      "100%|██████████| 1312/1312 [00:21<00:00, 61.17it/s]\n",
      "100%|██████████| 313/313 [00:01<00:00, 179.82it/s]\n",
      "100%|██████████| 1312/1312 [00:20<00:00, 64.61it/s]\n",
      "100%|██████████| 313/313 [00:01<00:00, 161.39it/s]\n",
      "100%|██████████| 1312/1312 [00:20<00:00, 64.33it/s]\n",
      "100%|██████████| 313/313 [00:01<00:00, 160.18it/s]\n",
      "100%|██████████| 1312/1312 [00:20<00:00, 64.31it/s]\n",
      "100%|██████████| 313/313 [00:01<00:00, 169.64it/s]\n"
     ]
    }
   ],
   "source": [
    "modes = ['easy', 'hard']\n",
    "modes_history = {'easy':{},'hard':{}}\n",
    "fractions = [0,0.2,0.4,0.6,0.8]\n",
    "\n",
    "for fraction in fractions:\n",
    "  for mode in modes:\n",
    "    reduced_train_loader = get_train_loader(data_dir,mode=mode,fraction=fraction,batch_size=32)\n",
    "    model = resnet18()\n",
    "    model.fc = nn.Linear(512,100)\n",
    "    model = model.to(device)\n",
    "    optimizer = torch.optim.Adam(model.parameters(),lr=3e-4)\n",
    "    scheduler = torch.optim.lr_scheduler.ExponentialLR(optimizer, gamma=0.95)\n",
    "    model,losses = train_test_cycle(model,reduced_train_loader,test_loader,optimizer,scheduler,loss_function,n_epochs=N_EPOCHS)\n",
    "    modes_history[mode][fraction] = losses"
   ]
  },
  {
   "cell_type": "code",
   "execution_count": 25,
   "metadata": {
    "execution": {
     "iopub.execute_input": "2023-06-18T16:02:53.834705Z",
     "iopub.status.busy": "2023-06-18T16:02:53.834002Z",
     "iopub.status.idle": "2023-06-18T16:02:53.838019Z",
     "shell.execute_reply": "2023-06-18T16:02:53.837289Z",
     "shell.execute_reply.started": "2023-06-18T16:02:53.834656Z"
    }
   },
   "outputs": [],
   "source": [
    "def tensor_list_to_list(list_of_tensors):\n",
    "  return [t.item() for t in list_of_tensors]"
   ]
  },
  {
   "cell_type": "code",
   "execution_count": 26,
   "metadata": {
    "execution": {
     "iopub.execute_input": "2023-06-18T16:02:58.524993Z",
     "iopub.status.busy": "2023-06-18T16:02:58.524345Z",
     "iopub.status.idle": "2023-06-18T16:02:58.853690Z",
     "shell.execute_reply": "2023-06-18T16:02:58.852968Z",
     "shell.execute_reply.started": "2023-06-18T16:02:58.524964Z"
    }
   },
   "outputs": [
    {
     "data": {
      "image/png": "[encoded data removed]",
      "text/plain": [
       "<Figure size 900x400 with 2 Axes>"
      ]
     },
     "metadata": {},
     "output_type": "display_data"
    }
   ],
   "source": [
    "fig,axes = plt.subplots(1,2,figsize=(9, 4))\n",
    "for fraction in fractions:\n",
    "    axes[0].plot(range(N_EPOCHS),tensor_list_to_list(modes_history['easy'][fraction]['test']),label=str(fraction))\n",
    "    axes[1].plot(range(N_EPOCHS),tensor_list_to_list(modes_history['hard'][fraction]['test']),label=str(fraction))\n",
    "axes[0].legend()\n",
    "axes[1].legend()\n",
    "axes[0].set_title('Reducing easy classes')\n",
    "axes[1].set_title('Reducing hard classes')\n",
    "for ax in axes:\n",
    "    ax.legend()\n",
    "    ax.set_xlabel('epoch')\n",
    "    ax.set_ylabel('loss')\n",
    "    \n",
    "axes[0].set_xticks([i for i in range(N_EPOCHS)]) \n",
    "axes[1].set_xticks([i for i in range(N_EPOCHS)])\n",
    "fig.show()"
   ]
  },
  {
   "cell_type": "code",
   "execution_count": 25,
   "metadata": {
    "execution": {
     "iopub.execute_input": "2023-06-12T06:31:31.685547Z",
     "iopub.status.busy": "2023-06-12T06:31:31.685360Z",
     "iopub.status.idle": "2023-06-12T06:31:33.360952Z",
     "shell.execute_reply": "2023-06-12T06:31:33.360279Z",
     "shell.execute_reply.started": "2023-06-12T06:31:31.685530Z"
    }
   },
   "outputs": [
    {
     "name": "stdout",
     "output_type": "stream",
     "text": [
      "Files already downloaded and verified\n",
      "Files already downloaded and verified\n"
     ]
    }
   ],
   "source": [
    "train_loader,test_loader = get_loaders()"
   ]
  },
  {
   "cell_type": "code",
   "execution_count": 26,
   "metadata": {
    "execution": {
     "iopub.execute_input": "2023-06-12T06:31:33.362023Z",
     "iopub.status.busy": "2023-06-12T06:31:33.361786Z",
     "iopub.status.idle": "2023-06-12T06:31:39.432050Z",
     "shell.execute_reply": "2023-06-12T06:31:39.431370Z",
     "shell.execute_reply.started": "2023-06-12T06:31:33.362002Z"
    }
   },
   "outputs": [
    {
     "data": {
      "text/plain": [
       "torch.Size([50000])"
      ]
     },
     "execution_count": 26,
     "metadata": {},
     "output_type": "execute_result"
    }
   ],
   "source": [
    "train_losses = []\n",
    "loss_function = nn.CrossEntropyLoss(reduction='none')\n",
    "losses = []\n",
    "with torch.no_grad():\n",
    "  for x,y in train_loader:\n",
    "    x,y = x.to(device), y.to(device)\n",
    "    logits = model(x)\n",
    "    batch_loss = loss_function(logits,y)\n",
    "    losses.append(batch_loss)\n",
    "\n",
    "loss_per_object = torch.hstack(losses)\n",
    "loss_per_object.shape"
   ]
  },
  {
   "cell_type": "code",
   "execution_count": 27,
   "metadata": {
    "execution": {
     "iopub.execute_input": "2023-06-12T06:31:39.433241Z",
     "iopub.status.busy": "2023-06-12T06:31:39.433039Z",
     "iopub.status.idle": "2023-06-12T06:31:39.846407Z",
     "shell.execute_reply": "2023-06-12T06:31:39.845593Z",
     "shell.execute_reply.started": "2023-06-12T06:31:39.433220Z"
    }
   },
   "outputs": [
    {
     "data": {
      "text/plain": [
       "array([31330, 42315, 10468,  2747,  1747, 25807, 40136, 30730, 35212,\n",
       "       27548])"
      ]
     },
     "execution_count": 27,
     "metadata": {},
     "output_type": "execute_result"
    }
   ],
   "source": [
    "indexes = np.argsort(tensor_list_to_list(loss_per_object))\n",
    "indexes[:10]\n",
    "#indexes show to sort train_data in ascending order\n",
    "#so we can now sort our data "
   ]
  },
  {
   "cell_type": "code",
   "execution_count": 28,
   "metadata": {
    "execution": {
     "iopub.execute_input": "2023-06-12T06:31:39.849436Z",
     "iopub.status.busy": "2023-06-12T06:31:39.849255Z",
     "iopub.status.idle": "2023-06-12T06:31:39.855113Z",
     "shell.execute_reply": "2023-06-12T06:31:39.854404Z",
     "shell.execute_reply.started": "2023-06-12T06:31:39.849420Z"
    },
    "id": "K0_odiXYymT0"
   },
   "outputs": [],
   "source": [
    "def get_reduced_loader(data_dir,mode,fraction,batch_size,augment=True, shuffle=True, args=None):\n",
    "    '''\n",
    "    mode = 'easy' or 'hard' -> what type of label we exclude\n",
    "    fraction -> how many samples we exclude (and remains (1-fraction)*100% )\n",
    "    the difference between this function and get_train_loader is in following:\n",
    "    here we don't care about class labels,only about losses itself\n",
    "    '''\n",
    "    train_transform, test_transform = prepare_transforms(augments=[augment,False])\n",
    "    data_dir = 'cifar-100'\n",
    "    train_dataset = datasets.CIFAR100(data_dir, train=True, transform=train_transform, download=True)\n",
    "    X_all,y_all = train_dataset.data, torch.LongTensor(train_dataset.targets)\n",
    "    X_all_sampled = X_all[indexes]\n",
    "    y_all_sampled = y_all[indexes]\n",
    "    data_len = len(y_all)\n",
    "    if mode == 'easy':\n",
    "        train_dataset.data = X_all_sampled[int(fraction*data_len) :]\n",
    "        train_dataset.targets = y_all_sampled[int(fraction*data_len) :]\n",
    "    if mode == 'hard':\n",
    "        train_dataset.data = X_all_sampled[: int((1-fraction)*data_len)]\n",
    "        train_dataset.targets = y_all_sampled[: int((1-fraction)*data_len)]\n",
    "\n",
    "    train_loader = torch.utils.data.DataLoader(\n",
    "        dataset=train_dataset,\n",
    "        batch_size=batch_size, shuffle=shuffle,\n",
    "        pin_memory=True, num_workers=2,\n",
    "    )\n",
    "    return train_loader"
   ]
  },
  {
   "cell_type": "code",
   "execution_count": 29,
   "metadata": {
    "execution": {
     "iopub.execute_input": "2023-06-12T06:31:39.856176Z",
     "iopub.status.busy": "2023-06-12T06:31:39.856016Z",
     "iopub.status.idle": "2023-06-12T06:31:40.915689Z",
     "shell.execute_reply": "2023-06-12T06:31:40.915158Z",
     "shell.execute_reply.started": "2023-06-12T06:31:39.856162Z"
    }
   },
   "outputs": [
    {
     "name": "stdout",
     "output_type": "stream",
     "text": [
      "Files already downloaded and verified\n"
     ]
    }
   ],
   "source": [
    "train_loader = get_reduced_loader(data_dir,mode='easy',fraction=0.1,batch_size=32)"
   ]
  },
  {
   "cell_type": "code",
   "execution_count": 30,
   "metadata": {
    "execution": {
     "iopub.execute_input": "2023-06-12T06:31:40.917040Z",
     "iopub.status.busy": "2023-06-12T06:31:40.916380Z",
     "iopub.status.idle": "2023-06-12T06:31:46.603423Z",
     "shell.execute_reply": "2023-06-12T06:31:46.602912Z",
     "shell.execute_reply.started": "2023-06-12T06:31:40.917020Z"
    }
   },
   "outputs": [
    {
     "data": {
      "text/plain": [
       "45000"
      ]
     },
     "execution_count": 30,
     "metadata": {},
     "output_type": "execute_result"
    }
   ],
   "source": [
    "length = 0\n",
    "for _,y in train_loader:\n",
    "    length += len(y)\n",
    "\n",
    "length"
   ]
  },
  {
   "cell_type": "code",
   "execution_count": 31,
   "metadata": {
    "execution": {
     "iopub.execute_input": "2023-06-12T06:31:46.604274Z",
     "iopub.status.busy": "2023-06-12T06:31:46.604099Z",
     "iopub.status.idle": "2023-06-12T06:31:46.607709Z",
     "shell.execute_reply": "2023-06-12T06:31:46.607284Z",
     "shell.execute_reply.started": "2023-06-12T06:31:46.604254Z"
    }
   },
   "outputs": [],
   "source": [
    "loss_function = nn.CrossEntropyLoss()"
   ]
  },
  {
   "cell_type": "code",
   "execution_count": 32,
   "metadata": {
    "execution": {
     "iopub.execute_input": "2023-06-12T06:31:46.608564Z",
     "iopub.status.busy": "2023-06-12T06:31:46.608387Z",
     "iopub.status.idle": "2023-06-12T07:08:56.946009Z",
     "shell.execute_reply": "2023-06-12T07:08:56.945114Z",
     "shell.execute_reply.started": "2023-06-12T06:31:46.608549Z"
    }
   },
   "outputs": [
    {
     "name": "stdout",
     "output_type": "stream",
     "text": [
      "Files already downloaded and verified\n"
     ]
    },
    {
     "name": "stderr",
     "output_type": "stream",
     "text": [
      "100%|██████████| 1563/1563 [00:23<00:00, 66.13it/s]\n",
      "100%|██████████| 313/313 [00:02<00:00, 138.41it/s]\n",
      "100%|██████████| 1563/1563 [00:23<00:00, 65.47it/s]\n",
      "100%|██████████| 313/313 [00:01<00:00, 157.05it/s]\n",
      "100%|██████████| 1563/1563 [00:23<00:00, 65.98it/s]\n",
      "100%|██████████| 313/313 [00:01<00:00, 173.58it/s]\n",
      "100%|██████████| 1563/1563 [00:23<00:00, 65.25it/s]\n",
      "100%|██████████| 313/313 [00:01<00:00, 173.27it/s]\n",
      "100%|██████████| 1563/1563 [00:23<00:00, 65.56it/s]\n",
      "100%|██████████| 313/313 [00:02<00:00, 148.30it/s]\n",
      "100%|██████████| 1563/1563 [00:24<00:00, 63.82it/s]\n",
      "100%|██████████| 313/313 [00:01<00:00, 158.25it/s]\n",
      "100%|██████████| 1563/1563 [00:24<00:00, 63.31it/s]\n",
      "100%|██████████| 313/313 [00:02<00:00, 137.50it/s]\n",
      "100%|██████████| 1563/1563 [00:24<00:00, 64.56it/s]\n",
      "100%|██████████| 313/313 [00:01<00:00, 159.17it/s]\n",
      "100%|██████████| 1563/1563 [00:24<00:00, 64.16it/s]\n",
      "100%|██████████| 313/313 [00:02<00:00, 147.86it/s]\n",
      "100%|██████████| 1563/1563 [00:23<00:00, 65.50it/s]\n",
      "100%|██████████| 313/313 [00:01<00:00, 172.42it/s]\n"
     ]
    },
    {
     "name": "stdout",
     "output_type": "stream",
     "text": [
      "Files already downloaded and verified\n"
     ]
    },
    {
     "name": "stderr",
     "output_type": "stream",
     "text": [
      "100%|██████████| 1563/1563 [00:25<00:00, 62.41it/s]\n",
      "100%|██████████| 313/313 [00:01<00:00, 161.36it/s]\n",
      "100%|██████████| 1563/1563 [00:24<00:00, 63.06it/s]\n",
      "100%|██████████| 313/313 [00:02<00:00, 142.25it/s]\n",
      "100%|██████████| 1563/1563 [00:25<00:00, 62.14it/s]IOPub message rate exceeded.\n",
      "The Jupyter server will temporarily stop sending output\n",
      "to the client in order to avoid crashing it.\n",
      "To change this limit, set the config variable\n",
      "`--ServerApp.iopub_msg_rate_limit`.\n",
      "\n",
      "Current values:\n",
      "ServerApp.iopub_msg_rate_limit=1000.0 (msgs/sec)\n",
      "ServerApp.rate_limit_window=3.0 (secs)\n",
      "\n",
      "100%|██████████| 313/313 [00:02<00:00, 137.35it/s]\n",
      "100%|██████████| 938/938 [00:14<00:00, 63.13it/s]\n",
      "100%|██████████| 313/313 [00:02<00:00, 128.44it/s]\n",
      "100%|██████████| 938/938 [00:15<00:00, 59.63it/s]\n",
      "100%|██████████| 313/313 [00:01<00:00, 159.94it/s]\n",
      "100%|██████████| 938/938 [00:15<00:00, 61.07it/s]\n",
      "100%|██████████| 313/313 [00:02<00:00, 149.50it/s]\n",
      "100%|██████████| 938/938 [00:15<00:00, 62.11it/s]\n",
      "100%|██████████| 313/313 [00:02<00:00, 138.27it/s]\n",
      "100%|██████████| 938/938 [00:14<00:00, 63.64it/s]\n",
      "100%|██████████| 313/313 [00:01<00:00, 159.96it/s]\n",
      "100%|██████████| 938/938 [00:15<00:00, 59.78it/s]\n",
      "100%|██████████| 313/313 [00:02<00:00, 130.10it/s]\n",
      "100%|██████████| 938/938 [00:15<00:00, 61.69it/s]\n",
      "100%|██████████| 313/313 [00:02<00:00, 129.76it/s]\n"
     ]
    },
    {
     "name": "stdout",
     "output_type": "stream",
     "text": [
      "Files already downloaded and verified\n"
     ]
    },
    {
     "name": "stderr",
     "output_type": "stream",
     "text": [
      "100%|██████████| 938/938 [00:15<00:00, 60.93it/s]\n",
      "100%|██████████| 313/313 [00:02<00:00, 146.55it/s]\n",
      "100%|██████████| 938/938 [00:15<00:00, 59.11it/s]\n",
      "100%|██████████| 313/313 [00:02<00:00, 136.15it/s]\n",
      "100%|██████████| 938/938 [00:15<00:00, 60.77it/s]\n",
      "100%|██████████| 313/313 [00:02<00:00, 129.11it/s]\n",
      "100%|██████████| 938/938 [00:15<00:00, 60.42it/s]\n",
      "100%|██████████| 313/313 [00:02<00:00, 128.12it/s]\n",
      "100%|██████████| 938/938 [00:15<00:00, 60.51it/s]\n",
      "100%|██████████| 313/313 [00:02<00:00, 142.54it/s]\n",
      "100%|██████████| 938/938 [00:15<00:00, 62.35it/s]\n",
      "100%|██████████| 313/313 [00:02<00:00, 149.93it/s]\n",
      "100%|██████████| 938/938 [00:15<00:00, 61.09it/s]\n",
      "100%|██████████| 313/313 [00:02<00:00, 149.79it/s]\n",
      "100%|██████████| 938/938 [00:15<00:00, 60.51it/s]\n",
      "100%|██████████| 313/313 [00:02<00:00, 138.69it/s]\n",
      "100%|██████████| 938/938 [00:14<00:00, 63.39it/s]\n",
      "100%|██████████| 313/313 [00:01<00:00, 159.15it/s]\n",
      "100%|██████████| 938/938 [00:15<00:00, 59.74it/s]\n",
      "100%|██████████| 313/313 [00:02<00:00, 131.79it/s]\n"
     ]
    }
   ],
   "source": [
    "modes = ['easy', 'hard']\n",
    "modes_history = {'easy':{},'hard':{}}\n",
    "fractions = [0,0.1,0.2,0.3,0.4]\n",
    "\n",
    "for fraction in fractions:\n",
    "  for mode in modes:\n",
    "    reduced_train_loader = get_reduced_loader(data_dir,mode=mode,fraction=fraction,batch_size=32)\n",
    "    model = resnet18()\n",
    "    model.fc = nn.Linear(512,100)\n",
    "    model = model.to(device)\n",
    "    optimizer = torch.optim.Adam(model.parameters(),lr=3e-4)\n",
    "    scheduler = torch.optim.lr_scheduler.ExponentialLR(optimizer, gamma=0.95)\n",
    "    model,losses = train_test_cycle(model,reduced_train_loader,test_loader,optimizer,scheduler,loss_function,n_epochs=N_EPOCHS)\n",
    "    modes_history[mode][fraction] = losses"
   ]
  },
  {
   "cell_type": "code",
   "execution_count": 33,
   "metadata": {
    "execution": {
     "iopub.execute_input": "2023-06-12T07:08:56.947999Z",
     "iopub.status.busy": "2023-06-12T07:08:56.947216Z",
     "iopub.status.idle": "2023-06-12T07:08:57.377621Z",
     "shell.execute_reply": "2023-06-12T07:08:57.376868Z",
     "shell.execute_reply.started": "2023-06-12T07:08:56.947940Z"
    }
   },
   "outputs": [
    {
     "data": {
      "image/png": "[encoded data removed]",
      "text/plain": [
       "<Figure size 900x400 with 2 Axes>"
      ]
     },
     "metadata": {},
     "output_type": "display_data"
    }
   ],
   "source": [
    "fig,axes = plt.subplots(1,2,figsize=(9,4))\n",
    "for fraction in fractions:\n",
    "    axes[0].plot(range(N_EPOCHS),tensor_list_to_list(modes_history['easy'][fraction]['test']),label=str(fraction))\n",
    "    axes[1].plot(range(N_EPOCHS),tensor_list_to_list(modes_history['hard'][fraction]['test']),label=str(fraction))\n",
    "axes[0].legend()\n",
    "axes[1].legend()\n",
    "axes[0].set_title('Reducing easy samples')\n",
    "axes[1].set_title('Reducing hard samples')\n",
    "for ax in axes:\n",
    "    ax.legend()\n",
    "    ax.set_xlabel('epoch')\n",
    "    ax.set_ylabel('loss')\n",
    "    \n",
    "axes[0].set_xticks([i for i in range(N_EPOCHS)]) \n",
    "axes[1].set_xticks([i for i in range(N_EPOCHS)])\n",
    "fig.show()"
   ]
  }
 ],
 "metadata": {
  "accelerator": "GPU",
  "colab": {
   "gpuType": "T4",
   "provenance": []
  },
  "kernelspec": {
   "display_name": "Python 3 (ipykernel)",
   "language": "python",
   "name": "python3"
  },
  "language_info": {
   "codemirror_mode": {
    "name": "ipython",
    "version": 3
   },
   "file_extension": ".py",
   "mimetype": "text/x-python",
   "name": "python",
   "nbconvert_exporter": "python",
   "pygments_lexer": "ipython3",
   "version": "3.9.16"
  }
 },
 "nbformat": 4,
 "nbformat_minor": 4
}
