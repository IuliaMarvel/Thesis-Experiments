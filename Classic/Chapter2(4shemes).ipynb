{
 "cells": [
  {
   "cell_type": "markdown",
   "metadata": {
    "id": "U4N4ZWC9M6Zr"
   },
   "source": [
    "Взять CIFAR100 и обучить resnet18 с нуля на нем\n",
    "\n",
    "Определить легкие и тяжелые объекты по лоссам итоговой модели\n",
    "\n",
    "Взять другую модель и обучить её для CIFAR100  двумя способами:\n",
    "\n",
    "1)объекты в рандомном порядке n эпох\n",
    "\n",
    "2)чем больше номер эпохи чем больше вероятность выбрать сложный объект \n",
    "\n",
    "(да,распределение на индексах:вероятность выбрать объект сначала тем меньше,тем он сложнее,по ходу обучения распределение выходит на равномерное)"
   ]
  },
  {
   "cell_type": "code",
   "execution_count": 4,
   "metadata": {
    "execution": {
     "iopub.execute_input": "2023-06-11T15:13:37.622632Z",
     "iopub.status.busy": "2023-06-11T15:13:37.621942Z",
     "iopub.status.idle": "2023-06-11T15:13:37.633321Z",
     "shell.execute_reply": "2023-06-11T15:13:37.631689Z",
     "shell.execute_reply.started": "2023-06-11T15:13:37.622589Z"
    },
    "id": "he72z2pNMx6M"
   },
   "outputs": [],
   "source": [
    "import random\n",
    "import numpy as np\n",
    "import torch\n",
    "import torch.nn as nn\n",
    "import torch.nn.functional as F\n",
    "import os\n",
    "import pickle\n",
    "from torchvision import datasets, transforms\n",
    "from tqdm import tqdm\n",
    "from copy import deepcopy\n",
    "from collections import OrderedDict\n",
    "import matplotlib.pyplot as plt\n",
    "\n",
    "def set_seed(seed):\n",
    "    random.seed(seed)\n",
    "    np.random.seed(seed)\n",
    "\n",
    "    torch.manual_seed(seed)\n",
    "    torch.cuda.manual_seed_all(seed)\n",
    "\n",
    "from tqdm import tqdm"
   ]
  },
  {
   "cell_type": "code",
   "execution_count": 5,
   "metadata": {
    "execution": {
     "iopub.execute_input": "2023-06-11T15:13:37.635803Z",
     "iopub.status.busy": "2023-06-11T15:13:37.635466Z",
     "iopub.status.idle": "2023-06-11T15:13:37.647350Z",
     "shell.execute_reply": "2023-06-11T15:13:37.645234Z",
     "shell.execute_reply.started": "2023-06-11T15:13:37.635774Z"
    },
    "id": "WvIYiUJ5N4Yl"
   },
   "outputs": [],
   "source": [
    "set_seed(42)"
   ]
  },
  {
   "cell_type": "code",
   "execution_count": 6,
   "metadata": {
    "execution": {
     "iopub.execute_input": "2023-06-11T15:13:37.649529Z",
     "iopub.status.busy": "2023-06-11T15:13:37.649048Z",
     "iopub.status.idle": "2023-06-11T15:13:37.660865Z",
     "shell.execute_reply": "2023-06-11T15:13:37.658734Z",
     "shell.execute_reply.started": "2023-06-11T15:13:37.649484Z"
    },
    "id": "F_3OQNVqRM3e"
   },
   "outputs": [],
   "source": [
    "def prepare_transforms(augments=[True, False]):\n",
    "    data_mean = (0.5071, 0.4865, 0.4409)\n",
    "    data_std = (0.2673, 0.2564, 0.2762)\n",
    "    # types of transform: with augmentation and without\n",
    "    transform_augmented = transforms.Compose([\n",
    "        #transforms.RandomCrop(32, padding=4),\n",
    "        transforms.RandomHorizontalFlip(),\n",
    "        transforms.ToTensor(),\n",
    "        transforms.Normalize(data_mean, data_std)])\n",
    "    transform_clean = transforms.Compose([\n",
    "        transforms.ToTensor(),\n",
    "        transforms.Normalize(data_mean, data_std)])\n",
    "    # choose transform according func params\n",
    "    train_transform = transform_augmented if augments[0] else transform_clean\n",
    "    test_transform = transform_augmented if augments[1] else transform_clean\n",
    "\n",
    "    return train_transform, test_transform"
   ]
  },
  {
   "cell_type": "code",
   "execution_count": 7,
   "metadata": {
    "execution": {
     "iopub.execute_input": "2023-06-11T15:13:37.662888Z",
     "iopub.status.busy": "2023-06-11T15:13:37.662518Z",
     "iopub.status.idle": "2023-06-11T15:13:37.671266Z",
     "shell.execute_reply": "2023-06-11T15:13:37.670012Z",
     "shell.execute_reply.started": "2023-06-11T15:13:37.662850Z"
    },
    "id": "7aRGX3ssN6dT"
   },
   "outputs": [],
   "source": [
    "def get_loaders(data_dir='cifar-100', batch_size=32, augments=[True, False], shuffles=[True, False]):\n",
    "    train_transform, test_transform = prepare_transforms(augments)\n",
    "    train_dataset = datasets.CIFAR100(\n",
    "            data_dir, train=True, transform=train_transform, download=True)\n",
    "    test_dataset = datasets.CIFAR100(\n",
    "            data_dir, train=False, transform=test_transform, download=True)\n",
    "\n",
    "    train_loader = torch.utils.data.DataLoader(\n",
    "        dataset=train_dataset,\n",
    "        batch_size=batch_size, shuffle=shuffles[0],\n",
    "        pin_memory=True, num_workers=2)\n",
    "    test_loader = torch.utils.data.DataLoader(\n",
    "        dataset=test_dataset,\n",
    "        batch_size=batch_size, shuffle=shuffles[1],\n",
    "        pin_memory=True, num_workers=2)\n",
    "\n",
    "    return train_loader, test_loader"
   ]
  },
  {
   "cell_type": "code",
   "execution_count": 8,
   "metadata": {
    "execution": {
     "iopub.execute_input": "2023-06-11T15:13:37.674625Z",
     "iopub.status.busy": "2023-06-11T15:13:37.674190Z",
     "iopub.status.idle": "2023-06-11T15:13:37.712492Z",
     "shell.execute_reply": "2023-06-11T15:13:37.711439Z",
     "shell.execute_reply.started": "2023-06-11T15:13:37.674595Z"
    },
    "id": "03GK7Vs-QuE0"
   },
   "outputs": [],
   "source": [
    "device = 'cuda' if torch.cuda.is_available() else 'cpu'\n",
    "device\n",
    "N_EPOCHS = 20"
   ]
  },
  {
   "cell_type": "code",
   "execution_count": 9,
   "metadata": {
    "execution": {
     "iopub.execute_input": "2023-06-11T15:13:37.714187Z",
     "iopub.status.busy": "2023-06-11T15:13:37.713827Z",
     "iopub.status.idle": "2023-06-11T15:13:37.720770Z",
     "shell.execute_reply": "2023-06-11T15:13:37.719175Z",
     "shell.execute_reply.started": "2023-06-11T15:13:37.714158Z"
    },
    "id": "_yadGxTR5aUK"
   },
   "outputs": [],
   "source": [
    "losses_train_history = {'random':[],'hard first':[],'easy first':[]}\n",
    "losses_val_history = {'random':[],'hard first':[],'easy first':[]}"
   ]
  },
  {
   "cell_type": "markdown",
   "metadata": {
    "id": "wTzd-6xp55KN"
   },
   "source": [
    "1)Random"
   ]
  },
  {
   "cell_type": "code",
   "execution_count": 10,
   "metadata": {
    "execution": {
     "iopub.execute_input": "2023-06-11T15:13:37.723183Z",
     "iopub.status.busy": "2023-06-11T15:13:37.722709Z",
     "iopub.status.idle": "2023-06-11T15:13:37.978222Z",
     "shell.execute_reply": "2023-06-11T15:13:37.976522Z",
     "shell.execute_reply.started": "2023-06-11T15:13:37.723142Z"
    },
    "id": "IYZlLhGDR3Yo"
   },
   "outputs": [],
   "source": [
    "from torchvision.models import resnet18\n",
    "\n",
    "model = resnet18()#weights='DEFAULT')\n",
    "model.fc = nn.Linear(512,100)"
   ]
  },
  {
   "cell_type": "code",
   "execution_count": 11,
   "metadata": {
    "colab": {
     "base_uri": "https://localhost:8080/"
    },
    "execution": {
     "iopub.execute_input": "2023-06-11T15:13:37.980305Z",
     "iopub.status.busy": "2023-06-11T15:13:37.979878Z",
     "iopub.status.idle": "2023-06-11T15:13:42.185990Z",
     "shell.execute_reply": "2023-06-11T15:13:42.184958Z",
     "shell.execute_reply.started": "2023-06-11T15:13:37.980274Z"
    },
    "id": "UU2Ug8hBTgsA",
    "outputId": "a2cad5b5-6d61-410a-8a45-766b700c8abb"
   },
   "outputs": [
    {
     "name": "stdout",
     "output_type": "stream",
     "text": [
      "Files already downloaded and verified\n",
      "Files already downloaded and verified\n"
     ]
    }
   ],
   "source": [
    "train_loader,test_loader = get_loaders()"
   ]
  },
  {
   "cell_type": "code",
   "execution_count": 12,
   "metadata": {
    "colab": {
     "base_uri": "https://localhost:8080/"
    },
    "execution": {
     "iopub.execute_input": "2023-06-11T15:13:42.188501Z",
     "iopub.status.busy": "2023-06-11T15:13:42.188053Z",
     "iopub.status.idle": "2023-06-11T15:13:44.116861Z",
     "shell.execute_reply": "2023-06-11T15:13:44.114820Z",
     "shell.execute_reply.started": "2023-06-11T15:13:42.188458Z"
    },
    "id": "OsQdljiNUR8K",
    "outputId": "743902f0-e875-4d96-a98e-6a8f14f8d23b"
   },
   "outputs": [
    {
     "name": "stdout",
     "output_type": "stream",
     "text": [
      "Model is on device: cuda\n"
     ]
    }
   ],
   "source": [
    "optimizer = torch.optim.Adam(model.parameters(),lr=3e-4)\n",
    "loss_function = nn.CrossEntropyLoss()\n",
    "model.to(device)\n",
    "print(f'Model is on device: {device}')"
   ]
  },
  {
   "cell_type": "code",
   "execution_count": 13,
   "metadata": {
    "colab": {
     "base_uri": "https://localhost:8080/"
    },
    "execution": {
     "iopub.execute_input": "2023-06-11T15:13:44.118395Z",
     "iopub.status.busy": "2023-06-11T15:13:44.118287Z",
     "iopub.status.idle": "2023-06-11T15:13:48.113497Z",
     "shell.execute_reply": "2023-06-11T15:13:48.112552Z",
     "shell.execute_reply.started": "2023-06-11T15:13:44.118355Z"
    },
    "id": "4HyKRmYWVpTA",
    "outputId": "4493ff37-dc37-4fea-bbae-28fbe4ab4c71"
   },
   "outputs": [
    {
     "name": "stdout",
     "output_type": "stream",
     "text": [
      "torch.Size([32, 3, 32, 32]) torch.Size([32])\n",
      "torch.Size([32, 100])\n"
     ]
    },
    {
     "data": {
      "text/plain": [
       "tensor(4.8125, device='cuda:0', grad_fn=<NllLossBackward0>)"
      ]
     },
     "execution_count": 13,
     "metadata": {},
     "output_type": "execute_result"
    }
   ],
   "source": [
    "for x,y in train_loader:\n",
    "  print(x.shape,y.shape)\n",
    "  break\n",
    "\n",
    "x = x.to(device)\n",
    "output = model(x)\n",
    "print(output.shape)\n",
    "\n",
    "y = y.to(device)\n",
    "loss = loss_function(output,y)\n",
    "loss"
   ]
  },
  {
   "cell_type": "code",
   "execution_count": 14,
   "metadata": {
    "colab": {
     "base_uri": "https://localhost:8080/"
    },
    "execution": {
     "iopub.execute_input": "2023-06-11T15:13:48.120228Z",
     "iopub.status.busy": "2023-06-11T15:13:48.117302Z",
     "iopub.status.idle": "2023-06-11T15:21:57.949564Z",
     "shell.execute_reply": "2023-06-11T15:21:57.944095Z",
     "shell.execute_reply.started": "2023-06-11T15:13:48.119913Z"
    },
    "id": "61FsZFjXT-k-",
    "outputId": "c2829e18-fdee-4091-f383-66b515f70286"
   },
   "outputs": [
    {
     "name": "stderr",
     "output_type": "stream",
     "text": [
      "100%|██████████| 1563/1563 [00:47<00:00, 33.24it/s]\n",
      "100%|██████████| 313/313 [00:02<00:00, 106.45it/s]\n"
     ]
    },
    {
     "name": "stdout",
     "output_type": "stream",
     "text": [
      "epoch 0: train loss:3.525108575820923 val loss:3.056511878967285\n"
     ]
    },
    {
     "name": "stderr",
     "output_type": "stream",
     "text": [
      "100%|██████████| 1563/1563 [00:45<00:00, 34.17it/s]\n",
      "100%|██████████| 313/313 [00:02<00:00, 127.40it/s]\n"
     ]
    },
    {
     "name": "stdout",
     "output_type": "stream",
     "text": [
      "epoch 1: train loss:2.841538429260254 val loss:2.608125925064087\n"
     ]
    },
    {
     "name": "stderr",
     "output_type": "stream",
     "text": [
      "100%|██████████| 1563/1563 [00:43<00:00, 35.88it/s]\n",
      "100%|██████████| 313/313 [00:02<00:00, 134.82it/s]\n"
     ]
    },
    {
     "name": "stdout",
     "output_type": "stream",
     "text": [
      "epoch 2: train loss:2.5029032230377197 val loss:2.410698890686035\n"
     ]
    },
    {
     "name": "stderr",
     "output_type": "stream",
     "text": [
      "100%|██████████| 1563/1563 [00:45<00:00, 34.43it/s]\n",
      "100%|██████████| 313/313 [00:02<00:00, 110.68it/s]\n"
     ]
    },
    {
     "name": "stdout",
     "output_type": "stream",
     "text": [
      "epoch 3: train loss:2.2639217376708984 val loss:2.330122232437134\n"
     ]
    },
    {
     "name": "stderr",
     "output_type": "stream",
     "text": [
      "100%|██████████| 1563/1563 [00:47<00:00, 33.24it/s]\n",
      "100%|██████████| 313/313 [00:02<00:00, 117.09it/s]\n"
     ]
    },
    {
     "name": "stdout",
     "output_type": "stream",
     "text": [
      "epoch 4: train loss:2.07723331451416 val loss:2.181030511856079\n"
     ]
    },
    {
     "name": "stderr",
     "output_type": "stream",
     "text": [
      "100%|██████████| 1563/1563 [00:46<00:00, 33.67it/s]\n",
      "100%|██████████| 313/313 [00:02<00:00, 115.11it/s]\n"
     ]
    },
    {
     "name": "stdout",
     "output_type": "stream",
     "text": [
      "epoch 5: train loss:1.9056427478790283 val loss:2.1538679599761963\n"
     ]
    },
    {
     "name": "stderr",
     "output_type": "stream",
     "text": [
      "100%|██████████| 1563/1563 [00:47<00:00, 32.80it/s]\n",
      "100%|██████████| 313/313 [00:03<00:00, 103.33it/s]\n"
     ]
    },
    {
     "name": "stdout",
     "output_type": "stream",
     "text": [
      "epoch 6: train loss:1.7626938819885254 val loss:2.103832960128784\n"
     ]
    },
    {
     "name": "stderr",
     "output_type": "stream",
     "text": [
      "100%|██████████| 1563/1563 [00:47<00:00, 32.71it/s]\n",
      "100%|██████████| 313/313 [00:02<00:00, 113.00it/s]\n"
     ]
    },
    {
     "name": "stdout",
     "output_type": "stream",
     "text": [
      "epoch 7: train loss:1.6115018129348755 val loss:2.0735037326812744\n"
     ]
    },
    {
     "name": "stderr",
     "output_type": "stream",
     "text": [
      "100%|██████████| 1563/1563 [00:47<00:00, 33.15it/s]\n",
      "100%|██████████| 313/313 [00:03<00:00, 93.22it/s] \n"
     ]
    },
    {
     "name": "stdout",
     "output_type": "stream",
     "text": [
      "epoch 8: train loss:1.4798939228057861 val loss:2.059455156326294\n"
     ]
    },
    {
     "name": "stderr",
     "output_type": "stream",
     "text": [
      "100%|██████████| 1563/1563 [00:43<00:00, 35.73it/s]\n",
      "100%|██████████| 313/313 [00:02<00:00, 105.06it/s]"
     ]
    },
    {
     "name": "stdout",
     "output_type": "stream",
     "text": [
      "epoch 9: train loss:1.3617616891860962 val loss:2.093381404876709\n"
     ]
    },
    {
     "name": "stderr",
     "output_type": "stream",
     "text": [
      "\n"
     ]
    }
   ],
   "source": [
    "n_epochs = N_EPOCHS\n",
    "\n",
    "for i in range(n_epochs):\n",
    "  model.train()\n",
    "  train_loss = 0\n",
    "  for x,y in tqdm(train_loader):\n",
    "    optimizer.zero_grad()\n",
    "    x, y = x.to(device), y.to(device)\n",
    "    preds = model(x)\n",
    "    loss = loss_function(preds,y)\n",
    "    train_loss += loss\n",
    "    loss.backward()\n",
    "    optimizer.step()\n",
    "\n",
    "  model.eval()\n",
    "  val_loss = 0\n",
    "  with torch.no_grad():\n",
    "    for x,y in  tqdm(test_loader):\n",
    "      x, y = x.to(device), y.to(device)\n",
    "      preds = model(x)\n",
    "      loss = loss_function(preds,y)\n",
    "      val_loss += loss    \n",
    "  \n",
    "  train_len = len(train_loader)\n",
    "  val_len = len(test_loader)\n",
    "  print(f'epoch {i}: train loss:{train_loss / train_len } val loss:{val_loss / val_len }')\n",
    "  losses_train_history['random'].append(train_loss / train_len)\n",
    "  losses_val_history['random'].append(val_loss / val_len)"
   ]
  },
  {
   "cell_type": "code",
   "execution_count": 26,
   "metadata": {
    "colab": {
     "base_uri": "https://localhost:8080/"
    },
    "execution": {
     "iopub.execute_input": "2023-06-11T15:36:31.706153Z",
     "iopub.status.busy": "2023-06-11T15:36:31.705723Z",
     "iopub.status.idle": "2023-06-11T15:36:46.633644Z",
     "shell.execute_reply": "2023-06-11T15:36:46.632561Z",
     "shell.execute_reply.started": "2023-06-11T15:36:31.706123Z"
    },
    "id": "41l_VAnbdAYI",
    "outputId": "2dd0b10b-2981-41c9-e0ad-4da7e5f0bae5"
   },
   "outputs": [
    {
     "data": {
      "text/plain": [
       "tensor(0.6898, device='cuda:0')"
      ]
     },
     "execution_count": 26,
     "metadata": {},
     "output_type": "execute_result"
    }
   ],
   "source": [
    "val_acc = 0\n",
    "model.eval()\n",
    "for x,y in train_loader:\n",
    "  x,y = x.to(device), y.to(device)\n",
    "  logits = model(x)\n",
    "  preds = logits.max(1)[1]\n",
    "  val_acc += (y == preds).sum()\n",
    "\n",
    "val_acc / len(train_loader) / 32"
   ]
  },
  {
   "cell_type": "code",
   "execution_count": 27,
   "metadata": {
    "colab": {
     "base_uri": "https://localhost:8080/"
    },
    "execution": {
     "iopub.execute_input": "2023-06-11T15:36:46.636221Z",
     "iopub.status.busy": "2023-06-11T15:36:46.635895Z",
     "iopub.status.idle": "2023-06-11T15:36:49.043491Z",
     "shell.execute_reply": "2023-06-11T15:36:49.039364Z",
     "shell.execute_reply.started": "2023-06-11T15:36:46.636188Z"
    },
    "id": "Ei2ltom-94F6",
    "outputId": "07d8bb57-7eb2-40af-bcd1-dfdc2112cb3d"
   },
   "outputs": [
    {
     "name": "stdout",
     "output_type": "stream",
     "text": [
      "Files already downloaded and verified\n",
      "Files already downloaded and verified\n"
     ]
    }
   ],
   "source": [
    "train_loader,test_loader = get_loaders(shuffles=[False,False]) #very iportant not to shuffle"
   ]
  },
  {
   "cell_type": "code",
   "execution_count": 28,
   "metadata": {
    "colab": {
     "base_uri": "https://localhost:8080/"
    },
    "execution": {
     "iopub.execute_input": "2023-06-11T15:36:49.046272Z",
     "iopub.status.busy": "2023-06-11T15:36:49.045764Z",
     "iopub.status.idle": "2023-06-11T15:37:02.923583Z",
     "shell.execute_reply": "2023-06-11T15:37:02.922286Z",
     "shell.execute_reply.started": "2023-06-11T15:36:49.046226Z"
    },
    "id": "Q63iEm-chOS8",
    "outputId": "adbef700-f781-4707-fb6d-75f439a3847a"
   },
   "outputs": [
    {
     "data": {
      "text/plain": [
       "torch.Size([50000])"
      ]
     },
     "execution_count": 28,
     "metadata": {},
     "output_type": "execute_result"
    }
   ],
   "source": [
    "loss_function = nn.CrossEntropyLoss(reduction='none')\n",
    "losses = []\n",
    "with torch.no_grad():\n",
    "  for x,y in train_loader:\n",
    "    x,y = x.to(device), y.to(device)\n",
    "    logits = model(x)\n",
    "    batch_loss = loss_function(logits,y)\n",
    "    losses.append(batch_loss)\n",
    "\n",
    "loss_per_object = torch.hstack(losses)\n",
    "loss_per_object.shape"
   ]
  },
  {
   "cell_type": "code",
   "execution_count": 29,
   "metadata": {
    "execution": {
     "iopub.execute_input": "2023-06-11T15:37:02.927146Z",
     "iopub.status.busy": "2023-06-11T15:37:02.926200Z",
     "iopub.status.idle": "2023-06-11T15:37:02.939098Z",
     "shell.execute_reply": "2023-06-11T15:37:02.937379Z",
     "shell.execute_reply.started": "2023-06-11T15:37:02.927110Z"
    },
    "id": "ZOqoilk1oAXz"
   },
   "outputs": [],
   "source": [
    "def get_loaders_weighted(weights,data_dir='cifar-100', batch_size=32, augments=[True, False], shuffles=[False, False]):\n",
    "    train_transform, test_transform = prepare_transforms(augments)\n",
    "    train_dataset = datasets.CIFAR100(\n",
    "            data_dir, train=True, transform=train_transform, download=True)\n",
    "    test_dataset = datasets.CIFAR100(\n",
    "            data_dir, train=False, transform=test_transform, download=True)\n",
    "\n",
    "    sampler = torch.utils.data.sampler.WeightedRandomSampler(\n",
    "        weights, len(weights),replacement=False)                     \n",
    " \n",
    "    train_loader = torch.utils.data.DataLoader(\n",
    "        dataset=train_dataset,\n",
    "        batch_size=batch_size, sampler = sampler,\n",
    "        pin_memory=True, num_workers=2)\n",
    "    test_loader = torch.utils.data.DataLoader(\n",
    "        dataset=test_dataset,\n",
    "        batch_size=batch_size, shuffle=shuffles[1],\n",
    "        pin_memory=True, num_workers=2)\n",
    "    \n",
    "    return train_loader, test_loader"
   ]
  },
  {
   "cell_type": "markdown",
   "metadata": {
    "id": "_akJAueX6pW7"
   },
   "source": [
    "2)hard first"
   ]
  },
  {
   "cell_type": "code",
   "execution_count": 30,
   "metadata": {
    "colab": {
     "base_uri": "https://localhost:8080/"
    },
    "execution": {
     "iopub.execute_input": "2023-06-11T15:37:02.942302Z",
     "iopub.status.busy": "2023-06-11T15:37:02.939960Z",
     "iopub.status.idle": "2023-06-11T15:37:03.203904Z",
     "shell.execute_reply": "2023-06-11T15:37:03.203904Z",
     "shell.execute_reply.started": "2023-06-11T15:37:02.942302Z"
    },
    "id": "OX8zfZppows8",
    "outputId": "f3feccae-df0b-410b-c418-6442481d7396"
   },
   "outputs": [
    {
     "name": "stdout",
     "output_type": "stream",
     "text": [
      "Model is on device: cuda\n"
     ]
    }
   ],
   "source": [
    "model_transfer = resnet18()#weights='DEFAULT')\n",
    "model_transfer.fc = nn.Linear(512,100)\n",
    "optimizer = torch.optim.Adam(model_transfer.parameters(),lr=3e-4)\n",
    "loss_function = nn.CrossEntropyLoss()\n",
    "model_transfer.to(device)\n",
    "print(f'Model is on device: {device}')"
   ]
  },
  {
   "cell_type": "code",
   "execution_count": 31,
   "metadata": {
    "colab": {
     "base_uri": "https://localhost:8080/"
    },
    "execution": {
     "iopub.execute_input": "2023-06-11T15:37:03.206302Z",
     "iopub.status.busy": "2023-06-11T15:37:03.206302Z",
     "iopub.status.idle": "2023-06-11T15:45:30.073425Z",
     "shell.execute_reply": "2023-06-11T15:45:30.066820Z",
     "shell.execute_reply.started": "2023-06-11T15:37:03.206302Z"
    },
    "id": "zh1Sj-vEo8y5",
    "outputId": "f9dbfacc-752d-4986-9364-6aa61dc281e1"
   },
   "outputs": [
    {
     "name": "stdout",
     "output_type": "stream",
     "text": [
      "Files already downloaded and verified\n",
      "Files already downloaded and verified\n"
     ]
    },
    {
     "name": "stderr",
     "output_type": "stream",
     "text": [
      "100%|██████████| 1563/1563 [00:45<00:00, 33.98it/s]\n",
      "100%|██████████| 313/313 [00:03<00:00, 100.59it/s]\n"
     ]
    },
    {
     "name": "stdout",
     "output_type": "stream",
     "text": [
      "epoch 0: train loss:3.469644784927368 val loss:3.1774532794952393\n",
      "Files already downloaded and verified\n",
      "Files already downloaded and verified\n"
     ]
    },
    {
     "name": "stderr",
     "output_type": "stream",
     "text": [
      "100%|██████████| 1563/1563 [00:46<00:00, 33.45it/s]\n",
      "100%|██████████| 313/313 [00:02<00:00, 110.14it/s]\n"
     ]
    },
    {
     "name": "stdout",
     "output_type": "stream",
     "text": [
      "epoch 1: train loss:2.797409772872925 val loss:2.7561709880828857\n",
      "Files already downloaded and verified\n",
      "Files already downloaded and verified\n"
     ]
    },
    {
     "name": "stderr",
     "output_type": "stream",
     "text": [
      "100%|██████████| 1563/1563 [00:46<00:00, 33.36it/s]\n",
      "100%|██████████| 313/313 [00:03<00:00, 101.39it/s]\n"
     ]
    },
    {
     "name": "stdout",
     "output_type": "stream",
     "text": [
      "epoch 2: train loss:2.4656014442443848 val loss:2.673265218734741\n",
      "Files already downloaded and verified\n",
      "Files already downloaded and verified\n"
     ]
    },
    {
     "name": "stderr",
     "output_type": "stream",
     "text": [
      "100%|██████████| 1563/1563 [00:41<00:00, 37.47it/s]\n",
      "100%|██████████| 313/313 [00:02<00:00, 121.30it/s]\n"
     ]
    },
    {
     "name": "stdout",
     "output_type": "stream",
     "text": [
      "epoch 3: train loss:2.2330381870269775 val loss:2.411411762237549\n",
      "Files already downloaded and verified\n",
      "Files already downloaded and verified\n"
     ]
    },
    {
     "name": "stderr",
     "output_type": "stream",
     "text": [
      "100%|██████████| 1563/1563 [00:44<00:00, 35.39it/s]\n",
      "100%|██████████| 313/313 [00:02<00:00, 106.66it/s]\n"
     ]
    },
    {
     "name": "stdout",
     "output_type": "stream",
     "text": [
      "epoch 4: train loss:2.047590970993042 val loss:2.3180055618286133\n",
      "Files already downloaded and verified\n",
      "Files already downloaded and verified\n"
     ]
    },
    {
     "name": "stderr",
     "output_type": "stream",
     "text": [
      "100%|██████████| 1563/1563 [00:47<00:00, 33.16it/s]\n",
      "100%|██████████| 313/313 [00:03<00:00, 103.32it/s]\n"
     ]
    },
    {
     "name": "stdout",
     "output_type": "stream",
     "text": [
      "epoch 5: train loss:1.8839731216430664 val loss:2.2530579566955566\n",
      "Files already downloaded and verified\n",
      "Files already downloaded and verified\n"
     ]
    },
    {
     "name": "stderr",
     "output_type": "stream",
     "text": [
      "100%|██████████| 1563/1563 [00:45<00:00, 34.70it/s]\n",
      "100%|██████████| 313/313 [00:03<00:00, 102.94it/s]\n"
     ]
    },
    {
     "name": "stdout",
     "output_type": "stream",
     "text": [
      "epoch 6: train loss:1.738297462463379 val loss:2.1855428218841553\n",
      "Files already downloaded and verified\n",
      "Files already downloaded and verified\n"
     ]
    },
    {
     "name": "stderr",
     "output_type": "stream",
     "text": [
      "100%|██████████| 1563/1563 [00:45<00:00, 34.06it/s]\n",
      "100%|██████████| 313/313 [00:02<00:00, 108.09it/s]\n"
     ]
    },
    {
     "name": "stdout",
     "output_type": "stream",
     "text": [
      "epoch 7: train loss:1.5970025062561035 val loss:2.1481287479400635\n",
      "Files already downloaded and verified\n",
      "Files already downloaded and verified\n"
     ]
    },
    {
     "name": "stderr",
     "output_type": "stream",
     "text": [
      "100%|██████████| 1563/1563 [00:42<00:00, 36.48it/s]\n",
      "100%|██████████| 313/313 [00:02<00:00, 120.94it/s]\n"
     ]
    },
    {
     "name": "stdout",
     "output_type": "stream",
     "text": [
      "epoch 8: train loss:1.4717812538146973 val loss:2.120903253555298\n",
      "Files already downloaded and verified\n",
      "Files already downloaded and verified\n"
     ]
    },
    {
     "name": "stderr",
     "output_type": "stream",
     "text": [
      "100%|██████████| 1563/1563 [00:46<00:00, 33.67it/s]\n",
      "100%|██████████| 313/313 [00:02<00:00, 111.53it/s]"
     ]
    },
    {
     "name": "stdout",
     "output_type": "stream",
     "text": [
      "epoch 9: train loss:1.3469549417495728 val loss:2.13105845451355\n"
     ]
    },
    {
     "name": "stderr",
     "output_type": "stream",
     "text": [
      "\n"
     ]
    }
   ],
   "source": [
    "n_epochs = N_EPOCHS\n",
    "\n",
    "for i in range(n_epochs):\n",
    "  weights = 1. / (loss_per_object + 1.0)**(-1.2)\n",
    "  train_loader,test_loader = get_loaders_weighted(weights)\n",
    "  model_transfer.train()\n",
    "  train_loss = 0\n",
    "  for x,y in tqdm(train_loader):\n",
    "    optimizer.zero_grad()\n",
    "    x, y = x.to(device), y.to(device)\n",
    "    preds = model_transfer(x)\n",
    "    loss = loss_function(preds,y)\n",
    "    train_loss += loss\n",
    "    loss.backward()\n",
    "    optimizer.step()\n",
    "\n",
    "  model_transfer.eval()\n",
    "  val_loss = 0\n",
    "  with torch.no_grad():\n",
    "    for x,y in  tqdm(test_loader):\n",
    "      x, y = x.to(device), y.to(device)\n",
    "      preds = model_transfer(x)\n",
    "      loss = loss_function(preds,y)\n",
    "      val_loss += loss    \n",
    "  \n",
    "  train_len = len(train_loader)\n",
    "  val_len = len(test_loader)\n",
    "  print(f'epoch {i}: train loss:{train_loss / train_len } val loss:{val_loss / val_len }')\n",
    "\n",
    "  losses_train_history['hard first'].append(train_loss / train_len)\n",
    "  losses_val_history['hard first'].append(val_loss / val_len)"
   ]
  },
  {
   "cell_type": "markdown",
   "metadata": {
    "id": "hLy_OUfgEeEV"
   },
   "source": [
    "3)easy first"
   ]
  },
  {
   "cell_type": "code",
   "execution_count": 32,
   "metadata": {
    "colab": {
     "base_uri": "https://localhost:8080/"
    },
    "execution": {
     "iopub.execute_input": "2023-06-11T15:45:30.075615Z",
     "iopub.status.busy": "2023-06-11T15:45:30.075103Z",
     "iopub.status.idle": "2023-06-11T15:45:30.336125Z",
     "shell.execute_reply": "2023-06-11T15:45:30.334876Z",
     "shell.execute_reply.started": "2023-06-11T15:45:30.075579Z"
    },
    "id": "1hVkZZzF68YO",
    "outputId": "e3b14444-9eb4-4ced-d946-152917012ab2"
   },
   "outputs": [
    {
     "name": "stdout",
     "output_type": "stream",
     "text": [
      "Model is on device: cuda\n"
     ]
    }
   ],
   "source": [
    "model_transfer = resnet18() #weights='DEFAULT')\n",
    "model_transfer.fc = nn.Linear(512,100)\n",
    "optimizer = torch.optim.Adam(model_transfer.parameters(),lr=3e-4)\n",
    "loss_function = nn.CrossEntropyLoss()\n",
    "model_transfer.to(device)\n",
    "print(f'Model is on device: {device}')"
   ]
  },
  {
   "cell_type": "code",
   "execution_count": 33,
   "metadata": {
    "colab": {
     "base_uri": "https://localhost:8080/"
    },
    "execution": {
     "iopub.execute_input": "2023-06-11T15:45:30.338027Z",
     "iopub.status.busy": "2023-06-11T15:45:30.337649Z",
     "iopub.status.idle": "2023-06-11T15:55:12.922609Z",
     "shell.execute_reply": "2023-06-11T15:55:12.920486Z",
     "shell.execute_reply.started": "2023-06-11T15:45:30.338027Z"
    },
    "id": "UzhN0fg87FjX",
    "outputId": "75086755-cc87-4842-b5b8-af1376b36244"
   },
   "outputs": [
    {
     "name": "stdout",
     "output_type": "stream",
     "text": [
      "Files already downloaded and verified\n",
      "Files already downloaded and verified\n"
     ]
    },
    {
     "name": "stderr",
     "output_type": "stream",
     "text": [
      "100%|██████████| 1563/1563 [00:48<00:00, 32.17it/s]\n",
      "100%|██████████| 313/313 [00:03<00:00, 82.06it/s]\n"
     ]
    },
    {
     "name": "stdout",
     "output_type": "stream",
     "text": [
      "epoch 0: train loss:3.5108277797698975 val loss:3.5176076889038086\n",
      "Files already downloaded and verified\n",
      "Files already downloaded and verified\n"
     ]
    },
    {
     "name": "stderr",
     "output_type": "stream",
     "text": [
      "100%|██████████| 1563/1563 [00:59<00:00, 26.42it/s]\n",
      "100%|██████████| 313/313 [00:03<00:00, 85.86it/s] \n"
     ]
    },
    {
     "name": "stdout",
     "output_type": "stream",
     "text": [
      "epoch 1: train loss:2.826592445373535 val loss:3.0732975006103516\n",
      "Files already downloaded and verified\n",
      "Files already downloaded and verified\n"
     ]
    },
    {
     "name": "stderr",
     "output_type": "stream",
     "text": [
      "100%|██████████| 1563/1563 [00:59<00:00, 26.14it/s]\n",
      "100%|██████████| 313/313 [00:03<00:00, 84.96it/s] \n"
     ]
    },
    {
     "name": "stdout",
     "output_type": "stream",
     "text": [
      "epoch 2: train loss:2.47578763961792 val loss:2.8610658645629883\n",
      "Files already downloaded and verified\n",
      "Files already downloaded and verified\n"
     ]
    },
    {
     "name": "stderr",
     "output_type": "stream",
     "text": [
      "100%|██████████| 1563/1563 [00:45<00:00, 34.63it/s]\n",
      "100%|██████████| 313/313 [00:02<00:00, 124.09it/s]\n"
     ]
    },
    {
     "name": "stdout",
     "output_type": "stream",
     "text": [
      "epoch 3: train loss:2.2391040325164795 val loss:2.7426552772521973\n",
      "Files already downloaded and verified\n",
      "Files already downloaded and verified\n"
     ]
    },
    {
     "name": "stderr",
     "output_type": "stream",
     "text": [
      "100%|██████████| 1563/1563 [00:44<00:00, 35.03it/s]\n",
      "100%|██████████| 313/313 [00:02<00:00, 119.61it/s]\n"
     ]
    },
    {
     "name": "stdout",
     "output_type": "stream",
     "text": [
      "epoch 4: train loss:2.051142692565918 val loss:2.5302577018737793\n",
      "Files already downloaded and verified\n",
      "Files already downloaded and verified\n"
     ]
    },
    {
     "name": "stderr",
     "output_type": "stream",
     "text": [
      "100%|██████████| 1563/1563 [00:47<00:00, 32.70it/s]\n",
      "100%|██████████| 313/313 [00:03<00:00, 103.85it/s]\n"
     ]
    },
    {
     "name": "stdout",
     "output_type": "stream",
     "text": [
      "epoch 5: train loss:1.878957748413086 val loss:2.393927574157715\n",
      "Files already downloaded and verified\n",
      "Files already downloaded and verified\n"
     ]
    },
    {
     "name": "stderr",
     "output_type": "stream",
     "text": [
      "100%|██████████| 1563/1563 [00:43<00:00, 35.83it/s]\n",
      "100%|██████████| 313/313 [00:02<00:00, 104.42it/s]\n"
     ]
    },
    {
     "name": "stdout",
     "output_type": "stream",
     "text": [
      "epoch 6: train loss:1.7318345308303833 val loss:2.348907470703125\n",
      "Files already downloaded and verified\n",
      "Files already downloaded and verified\n"
     ]
    },
    {
     "name": "stderr",
     "output_type": "stream",
     "text": [
      "100%|██████████| 1563/1563 [00:58<00:00, 26.94it/s]\n",
      "100%|██████████| 313/313 [00:03<00:00, 88.54it/s] \n"
     ]
    },
    {
     "name": "stdout",
     "output_type": "stream",
     "text": [
      "epoch 7: train loss:1.596484899520874 val loss:2.3378703594207764\n",
      "Files already downloaded and verified\n",
      "Files already downloaded and verified\n"
     ]
    },
    {
     "name": "stderr",
     "output_type": "stream",
     "text": [
      "100%|██████████| 1563/1563 [00:58<00:00, 26.53it/s]\n",
      "100%|██████████| 313/313 [00:03<00:00, 95.93it/s] \n"
     ]
    },
    {
     "name": "stdout",
     "output_type": "stream",
     "text": [
      "epoch 8: train loss:1.4722952842712402 val loss:2.303640604019165\n",
      "Files already downloaded and verified\n",
      "Files already downloaded and verified\n"
     ]
    },
    {
     "name": "stderr",
     "output_type": "stream",
     "text": [
      "100%|██████████| 1563/1563 [00:59<00:00, 26.37it/s]\n",
      "100%|██████████| 313/313 [00:03<00:00, 85.13it/s] "
     ]
    },
    {
     "name": "stdout",
     "output_type": "stream",
     "text": [
      "epoch 9: train loss:1.3431223630905151 val loss:2.2835686206817627\n"
     ]
    },
    {
     "name": "stderr",
     "output_type": "stream",
     "text": [
      "\n"
     ]
    }
   ],
   "source": [
    "n_epochs = N_EPOCHS\n",
    "\n",
    "for i in range(n_epochs):\n",
    "  weights = 1. / (loss_per_object + 1.0)**1.1\n",
    "  train_loader,test_loader = get_loaders_weighted(weights)\n",
    "  model_transfer.train()\n",
    "  train_loss = 0\n",
    "  for x,y in tqdm(train_loader):\n",
    "    optimizer.zero_grad()\n",
    "    x, y = x.to(device), y.to(device)\n",
    "    preds = model_transfer(x)\n",
    "    loss = loss_function(preds,y)\n",
    "    train_loss += loss\n",
    "    loss.backward()\n",
    "    optimizer.step()\n",
    "\n",
    "  model_transfer.eval()\n",
    "  val_loss = 0\n",
    "  with torch.no_grad():\n",
    "    for x,y in  tqdm(test_loader):\n",
    "      x, y = x.to(device), y.to(device)\n",
    "      preds = model_transfer(x)\n",
    "      loss = loss_function(preds,y)\n",
    "      val_loss += loss    \n",
    "  \n",
    "  train_len = len(train_loader)\n",
    "  val_len = len(test_loader)\n",
    "  print(f'epoch {i}: train loss:{train_loss / train_len } val loss:{val_loss / val_len }')\n",
    "\n",
    "  losses_train_history['easy first'].append(train_loss / train_len)\n",
    "  losses_val_history['easy first'].append(val_loss / val_len)"
   ]
  },
  {
   "cell_type": "code",
   "execution_count": 34,
   "metadata": {
    "execution": {
     "iopub.execute_input": "2023-06-11T15:55:12.928213Z",
     "iopub.status.busy": "2023-06-11T15:55:12.927765Z",
     "iopub.status.idle": "2023-06-11T15:55:12.937069Z",
     "shell.execute_reply": "2023-06-11T15:55:12.935815Z",
     "shell.execute_reply.started": "2023-06-11T15:55:12.928213Z"
    },
    "id": "PwJO4Kg_DWBc"
   },
   "outputs": [],
   "source": [
    "def tensor_list_to_list(list_of_tensors):\n",
    "  return [t.item() for t in list_of_tensors]"
   ]
  },
  {
   "cell_type": "code",
   "execution_count": 35,
   "metadata": {
    "execution": {
     "iopub.execute_input": "2023-06-11T15:55:12.941838Z",
     "iopub.status.busy": "2023-06-11T15:55:12.940780Z",
     "iopub.status.idle": "2023-06-11T15:55:13.274276Z",
     "shell.execute_reply": "2023-06-11T15:55:13.272846Z",
     "shell.execute_reply.started": "2023-06-11T15:55:12.941784Z"
    },
    "id": "gqsv1MPd13Gt"
   },
   "outputs": [
    {
     "name": "stdout",
     "output_type": "stream",
     "text": [
      "Model is on device: cuda\n"
     ]
    }
   ],
   "source": [
    "model_transfer = resnet18()#weights='DEFAULT')\n",
    "model_transfer.fc = nn.Linear(512,100)\n",
    "optimizer = torch.optim.Adam(model_transfer.parameters(),lr=3e-4)\n",
    "loss_function = nn.CrossEntropyLoss()\n",
    "model_transfer.to(device)\n",
    "print(f'Model is on device: {device}')"
   ]
  },
  {
   "cell_type": "code",
   "execution_count": 36,
   "metadata": {
    "execution": {
     "iopub.execute_input": "2023-06-11T15:55:13.281366Z",
     "iopub.status.busy": "2023-06-11T15:55:13.281002Z",
     "iopub.status.idle": "2023-06-11T15:55:13.288909Z",
     "shell.execute_reply": "2023-06-11T15:55:13.287179Z",
     "shell.execute_reply.started": "2023-06-11T15:55:13.281332Z"
    },
    "id": "Lki3R9n82l7c"
   },
   "outputs": [],
   "source": [
    "losses_train_history['mixed'] = []\n",
    "losses_val_history['mixed'] = []"
   ]
  },
  {
   "cell_type": "code",
   "execution_count": 37,
   "metadata": {
    "colab": {
     "base_uri": "https://localhost:8080/"
    },
    "execution": {
     "iopub.execute_input": "2023-06-11T15:55:13.291473Z",
     "iopub.status.busy": "2023-06-11T15:55:13.290788Z",
     "iopub.status.idle": "2023-06-11T16:06:36.139432Z",
     "shell.execute_reply": "2023-06-11T16:06:36.137807Z",
     "shell.execute_reply.started": "2023-06-11T15:55:13.291473Z"
    },
    "id": "VA6wzQWD2aa6",
    "outputId": "7c4c8c2b-542b-4961-8dca-d9728e63a34e"
   },
   "outputs": [
    {
     "name": "stdout",
     "output_type": "stream",
     "text": [
      "Files already downloaded and verified\n",
      "Files already downloaded and verified\n"
     ]
    },
    {
     "name": "stderr",
     "output_type": "stream",
     "text": [
      "100%|██████████| 1563/1563 [00:58<00:00, 26.67it/s]\n",
      "100%|██████████| 313/313 [00:03<00:00, 83.55it/s] \n"
     ]
    },
    {
     "name": "stdout",
     "output_type": "stream",
     "text": [
      "epoch 0: train loss:3.488753080368042 val loss:3.411184549331665\n",
      "Files already downloaded and verified\n",
      "Files already downloaded and verified\n"
     ]
    },
    {
     "name": "stderr",
     "output_type": "stream",
     "text": [
      "100%|██████████| 1563/1563 [00:56<00:00, 27.90it/s]\n",
      "100%|██████████| 313/313 [00:03<00:00, 78.94it/s]\n"
     ]
    },
    {
     "name": "stdout",
     "output_type": "stream",
     "text": [
      "epoch 1: train loss:2.804142713546753 val loss:2.85332989692688\n",
      "Files already downloaded and verified\n",
      "Files already downloaded and verified\n"
     ]
    },
    {
     "name": "stderr",
     "output_type": "stream",
     "text": [
      "100%|██████████| 1563/1563 [01:01<00:00, 25.29it/s]\n",
      "100%|██████████| 313/313 [00:04<00:00, 78.12it/s]\n"
     ]
    },
    {
     "name": "stdout",
     "output_type": "stream",
     "text": [
      "epoch 2: train loss:2.4683268070220947 val loss:2.571812868118286\n",
      "Files already downloaded and verified\n",
      "Files already downloaded and verified\n"
     ]
    },
    {
     "name": "stderr",
     "output_type": "stream",
     "text": [
      "100%|██████████| 1563/1563 [01:03<00:00, 24.61it/s]\n",
      "100%|██████████| 313/313 [00:03<00:00, 91.86it/s] \n"
     ]
    },
    {
     "name": "stdout",
     "output_type": "stream",
     "text": [
      "epoch 3: train loss:2.23857045173645 val loss:2.3984320163726807\n",
      "Files already downloaded and verified\n",
      "Files already downloaded and verified\n"
     ]
    },
    {
     "name": "stderr",
     "output_type": "stream",
     "text": [
      "100%|██████████| 1563/1563 [01:02<00:00, 25.15it/s]\n",
      "100%|██████████| 313/313 [00:03<00:00, 81.57it/s] \n"
     ]
    },
    {
     "name": "stdout",
     "output_type": "stream",
     "text": [
      "epoch 4: train loss:2.0439229011535645 val loss:2.1698408126831055\n",
      "Files already downloaded and verified\n",
      "Files already downloaded and verified\n"
     ]
    },
    {
     "name": "stderr",
     "output_type": "stream",
     "text": [
      "100%|██████████| 1563/1563 [01:03<00:00, 24.79it/s]\n",
      "100%|██████████| 313/313 [00:03<00:00, 79.93it/s] \n"
     ]
    },
    {
     "name": "stdout",
     "output_type": "stream",
     "text": [
      "epoch 5: train loss:1.8688855171203613 val loss:2.102870225906372\n",
      "Files already downloaded and verified\n",
      "Files already downloaded and verified\n"
     ]
    },
    {
     "name": "stderr",
     "output_type": "stream",
     "text": [
      "100%|██████████| 1563/1563 [01:02<00:00, 24.90it/s]\n",
      "100%|██████████| 313/313 [00:04<00:00, 74.62it/s]\n"
     ]
    },
    {
     "name": "stdout",
     "output_type": "stream",
     "text": [
      "epoch 6: train loss:1.7140908241271973 val loss:2.106685161590576\n",
      "Files already downloaded and verified\n",
      "Files already downloaded and verified\n"
     ]
    },
    {
     "name": "stderr",
     "output_type": "stream",
     "text": [
      "100%|██████████| 1563/1563 [01:03<00:00, 24.48it/s]\n",
      "100%|██████████| 313/313 [00:04<00:00, 75.10it/s]\n"
     ]
    },
    {
     "name": "stdout",
     "output_type": "stream",
     "text": [
      "epoch 7: train loss:1.570612907409668 val loss:2.0953376293182373\n",
      "Files already downloaded and verified\n",
      "Files already downloaded and verified\n"
     ]
    },
    {
     "name": "stderr",
     "output_type": "stream",
     "text": [
      "100%|██████████| 1563/1563 [01:02<00:00, 24.89it/s]\n",
      "100%|██████████| 313/313 [00:04<00:00, 77.92it/s] \n"
     ]
    },
    {
     "name": "stdout",
     "output_type": "stream",
     "text": [
      "epoch 8: train loss:1.4495185613632202 val loss:2.074294090270996\n",
      "Files already downloaded and verified\n",
      "Files already downloaded and verified\n"
     ]
    },
    {
     "name": "stderr",
     "output_type": "stream",
     "text": [
      "100%|██████████| 1563/1563 [01:03<00:00, 24.81it/s]\n",
      "100%|██████████| 313/313 [00:04<00:00, 77.63it/s]"
     ]
    },
    {
     "name": "stdout",
     "output_type": "stream",
     "text": [
      "epoch 9: train loss:1.3199501037597656 val loss:2.098479747772217\n"
     ]
    },
    {
     "name": "stderr",
     "output_type": "stream",
     "text": [
      "\n"
     ]
    }
   ],
   "source": [
    "n_epochs = N_EPOCHS\n",
    "\n",
    "for i in range(n_epochs):\n",
    "  weights = 1. / (loss_per_object + 1.0)**((n_epochs//2 - i) / 6)\n",
    "  train_loader,test_loader = get_loaders_weighted(weights)\n",
    "  model_transfer.train()\n",
    "  train_loss = 0\n",
    "  for x,y in tqdm(train_loader):\n",
    "    optimizer.zero_grad()\n",
    "    x, y = x.to(device), y.to(device)\n",
    "    preds = model_transfer(x)\n",
    "    loss = loss_function(preds,y)\n",
    "    train_loss += loss\n",
    "    loss.backward()\n",
    "    optimizer.step()\n",
    "\n",
    "  model_transfer.eval()\n",
    "  val_loss = 0\n",
    "  with torch.no_grad():\n",
    "    for x,y in  tqdm(test_loader):\n",
    "      x, y = x.to(device), y.to(device)\n",
    "      preds = model_transfer(x)\n",
    "      loss = loss_function(preds,y)\n",
    "      val_loss += loss    \n",
    "  \n",
    "  train_len = len(train_loader)\n",
    "  val_len = len(test_loader)\n",
    "  print(f'epoch {i}: train loss:{train_loss / train_len } val loss:{val_loss / val_len }')\n",
    "\n",
    "  losses_train_history['mixed'].append(train_loss / train_len)\n",
    "  losses_val_history['mixed'].append(val_loss / val_len)"
   ]
  },
  {
   "cell_type": "code",
   "execution_count": 51,
   "metadata": {
    "execution": {
     "iopub.execute_input": "2023-06-11T16:17:40.346447Z",
     "iopub.status.busy": "2023-06-11T16:17:40.345809Z",
     "iopub.status.idle": "2023-06-11T16:17:40.890403Z",
     "shell.execute_reply": "2023-06-11T16:17:40.889175Z",
     "shell.execute_reply.started": "2023-06-11T16:17:40.346372Z"
    },
    "id": "SMBK2LdQ138P"
   },
   "outputs": [
    {
     "data": {
      "image/png": "[encoded data removed]",
      "text/plain": [
       "<Figure size 900x400 with 2 Axes>"
      ]
     },
     "metadata": {},
     "output_type": "display_data"
    }
   ],
   "source": [
    "fig,axes = plt.subplots(1,2,figsize=(9, 4))\n",
    "fig.tight_layout(pad=5.0)\n",
    "for key,value in losses_train_history.items():\n",
    "  axes[0].plot(range(n_epochs),tensor_list_to_list(value),label=str(key))\n",
    "axes[0].set_title('Train Loss')\n",
    "for key,value in losses_val_history.items():\n",
    "  axes[1].plot(range(n_epochs),tensor_list_to_list(value),label=str(key))\n",
    "axes[1].set_title('Test Loss')\n",
    "for ax in axes:\n",
    "    ax.legend()\n",
    "    ax.set_xlabel('epoch')\n",
    "    ax.set_ylabel('loss')\n",
    "    \n",
    "axes[0].set_xticks([i for i in range(n_epochs)]) \n",
    "axes[1].set_xticks([i for i in range(n_epochs)])\n",
    "fig.show()"
   ]
  }
 ],
 "metadata": {
  "accelerator": "GPU",
  "colab": {
   "gpuType": "T4",
   "provenance": []
  },
  "kernelspec": {
   "display_name": "Python 3 (ipykernel)",
   "language": "python",
   "name": "python3"
  },
  "language_info": {
   "codemirror_mode": {
    "name": "ipython",
    "version": 3
   },
   "file_extension": ".py",
   "mimetype": "text/x-python",
   "name": "python",
   "nbconvert_exporter": "python",
   "pygments_lexer": "ipython3",
   "version": "3.9.16"
  }
 },
 "nbformat": 4,
 "nbformat_minor": 4
}
